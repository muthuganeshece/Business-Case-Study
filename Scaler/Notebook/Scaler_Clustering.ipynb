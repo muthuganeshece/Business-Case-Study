{
 "cells": [
  {
   "cell_type": "code",
   "execution_count": 1,
   "id": "9f460578",
   "metadata": {},
   "outputs": [],
   "source": []
  },
  {
   "cell_type": "code",
   "execution_count": null,
   "id": "fe6dacbd",
   "metadata": {},
   "outputs": [],
   "source": []
  },
  {
   "cell_type": "markdown",
   "id": "b79e4167",
   "metadata": {},
   "source": [
    "# Approach\n",
    "- Basic Data Analysis\n",
    "- Exploratory Data Analysis\n",
    "    - Univariate, Bivariate, Multivariate Analysis\n",
    "    - Target vs Features\n",
    "- Data Preprocessing\n",
    "- Statistical Tests\n",
    "    - Chisquare, Anova Test\n",
    "- Modeling\n",
    "- Assumptions of Linear Regression"
   ]
  },
  {
   "cell_type": "code",
   "execution_count": null,
   "id": "8838339a",
   "metadata": {},
   "outputs": [],
   "source": [
    "import numpy as np\n",
    "import pandas as pd\n",
    "import matplotlib.pyplot as plt\n",
    "import seaborn as sns\n",
    "\n",
    "import scipy.stats as stats\n",
    "\n",
    "# from sklearn.decomposition import PCA\n",
    "# from sklearn.preprocessing import StandardScaler, OneHotEncoder, RobustScaler\n",
    "# from sklearn.model_selection import train_test_split, RandomizedSearchCV\n",
    "# from sklearn.linear_model import LogisticRegression\n",
    "# from sklearn.tree import DecisionTreeClassifier\n",
    "# from sklearn.ensemble import RandomForestClassifier, GradientBoostingClassifier\n",
    "# from sklearn.metrics import confusion_matrix, ConfusionMatrixDisplay, classification_report, roc_curve, precision_recall_curve, auc\n",
    "\n",
    "# from xgboost import XGBClassifier\n",
    "bold_start = '\\033[1m'\n",
    "bold_end = '\\033[0m'"
   ]
  },
  {
   "cell_type": "code",
   "execution_count": 2,
   "id": "3f82b47c",
   "metadata": {},
   "outputs": [
    {
     "data": {
      "text/html": [
       "<div>\n",
       "<style scoped>\n",
       "    .dataframe tbody tr th:only-of-type {\n",
       "        vertical-align: middle;\n",
       "    }\n",
       "\n",
       "    .dataframe tbody tr th {\n",
       "        vertical-align: top;\n",
       "    }\n",
       "\n",
       "    .dataframe thead th {\n",
       "        text-align: right;\n",
       "    }\n",
       "</style>\n",
       "<table border=\"1\" class=\"dataframe\">\n",
       "  <thead>\n",
       "    <tr style=\"text-align: right;\">\n",
       "      <th></th>\n",
       "      <th>Unnamed: 0</th>\n",
       "      <th>company_hash</th>\n",
       "      <th>email_hash</th>\n",
       "      <th>orgyear</th>\n",
       "      <th>ctc</th>\n",
       "      <th>job_position</th>\n",
       "      <th>ctc_updated_year</th>\n",
       "    </tr>\n",
       "  </thead>\n",
       "  <tbody>\n",
       "    <tr>\n",
       "      <th>0</th>\n",
       "      <td>0</td>\n",
       "      <td>atrgxnnt xzaxv</td>\n",
       "      <td>6de0a4417d18ab14334c3f43397fc13b30c35149d70c05...</td>\n",
       "      <td>2016.0</td>\n",
       "      <td>1100000</td>\n",
       "      <td>Other</td>\n",
       "      <td>2020.0</td>\n",
       "    </tr>\n",
       "    <tr>\n",
       "      <th>1</th>\n",
       "      <td>1</td>\n",
       "      <td>qtrxvzwt xzegwgbb rxbxnta</td>\n",
       "      <td>b0aaf1ac138b53cb6e039ba2c3d6604a250d02d5145c10...</td>\n",
       "      <td>2018.0</td>\n",
       "      <td>449999</td>\n",
       "      <td>FullStack Engineer</td>\n",
       "      <td>2019.0</td>\n",
       "    </tr>\n",
       "    <tr>\n",
       "      <th>2</th>\n",
       "      <td>2</td>\n",
       "      <td>ojzwnvwnxw vx</td>\n",
       "      <td>4860c670bcd48fb96c02a4b0ae3608ae6fdd98176112e9...</td>\n",
       "      <td>2015.0</td>\n",
       "      <td>2000000</td>\n",
       "      <td>Backend Engineer</td>\n",
       "      <td>2020.0</td>\n",
       "    </tr>\n",
       "    <tr>\n",
       "      <th>3</th>\n",
       "      <td>3</td>\n",
       "      <td>ngpgutaxv</td>\n",
       "      <td>effdede7a2e7c2af664c8a31d9346385016128d66bbc58...</td>\n",
       "      <td>2017.0</td>\n",
       "      <td>700000</td>\n",
       "      <td>Backend Engineer</td>\n",
       "      <td>2019.0</td>\n",
       "    </tr>\n",
       "    <tr>\n",
       "      <th>4</th>\n",
       "      <td>4</td>\n",
       "      <td>qxen sqghu</td>\n",
       "      <td>6ff54e709262f55cb999a1c1db8436cb2055d8f79ab520...</td>\n",
       "      <td>2017.0</td>\n",
       "      <td>1400000</td>\n",
       "      <td>FullStack Engineer</td>\n",
       "      <td>2019.0</td>\n",
       "    </tr>\n",
       "  </tbody>\n",
       "</table>\n",
       "</div>"
      ],
      "text/plain": [
       "   Unnamed: 0               company_hash  \\\n",
       "0           0             atrgxnnt xzaxv   \n",
       "1           1  qtrxvzwt xzegwgbb rxbxnta   \n",
       "2           2              ojzwnvwnxw vx   \n",
       "3           3                  ngpgutaxv   \n",
       "4           4                 qxen sqghu   \n",
       "\n",
       "                                          email_hash  orgyear      ctc  \\\n",
       "0  6de0a4417d18ab14334c3f43397fc13b30c35149d70c05...   2016.0  1100000   \n",
       "1  b0aaf1ac138b53cb6e039ba2c3d6604a250d02d5145c10...   2018.0   449999   \n",
       "2  4860c670bcd48fb96c02a4b0ae3608ae6fdd98176112e9...   2015.0  2000000   \n",
       "3  effdede7a2e7c2af664c8a31d9346385016128d66bbc58...   2017.0   700000   \n",
       "4  6ff54e709262f55cb999a1c1db8436cb2055d8f79ab520...   2017.0  1400000   \n",
       "\n",
       "         job_position  ctc_updated_year  \n",
       "0               Other            2020.0  \n",
       "1  FullStack Engineer            2019.0  \n",
       "2    Backend Engineer            2020.0  \n",
       "3    Backend Engineer            2019.0  \n",
       "4  FullStack Engineer            2019.0  "
      ]
     },
     "execution_count": 2,
     "metadata": {},
     "output_type": "execute_result"
    }
   ],
   "source": [
    "raw_data = pd.read_csv(r\"F:\\Muthu_2023\\Personal\\NextStep\\DSCourse\\Scaler\\Business-Case-Study\\Scaler\\Dataset\\scaler_clustering.csv\")\n",
    "raw_data.head()"
   ]
  },
  {
   "cell_type": "markdown",
   "id": "22dedb2d",
   "metadata": {},
   "source": [
    "# Data Analysis"
   ]
  },
  {
   "cell_type": "code",
   "execution_count": 4,
   "id": "90b3187a",
   "metadata": {},
   "outputs": [
    {
     "name": "stdout",
     "output_type": "stream",
     "text": [
      "<class 'pandas.core.frame.DataFrame'>\n",
      "RangeIndex: 205843 entries, 0 to 205842\n",
      "Data columns (total 7 columns):\n",
      " #   Column            Non-Null Count   Dtype  \n",
      "---  ------            --------------   -----  \n",
      " 0   Unnamed: 0        205843 non-null  int64  \n",
      " 1   company_hash      205799 non-null  object \n",
      " 2   email_hash        205843 non-null  object \n",
      " 3   orgyear           205757 non-null  float64\n",
      " 4   ctc               205843 non-null  int64  \n",
      " 5   job_position      153281 non-null  object \n",
      " 6   ctc_updated_year  205843 non-null  float64\n",
      "dtypes: float64(2), int64(2), object(3)\n",
      "memory usage: 11.0+ MB\n"
     ]
    }
   ],
   "source": [
    "raw_data.info()"
   ]
  },
  {
   "cell_type": "code",
   "execution_count": 5,
   "id": "1d8a3082",
   "metadata": {},
   "outputs": [
    {
     "data": {
      "text/html": [
       "<div>\n",
       "<style scoped>\n",
       "    .dataframe tbody tr th:only-of-type {\n",
       "        vertical-align: middle;\n",
       "    }\n",
       "\n",
       "    .dataframe tbody tr th {\n",
       "        vertical-align: top;\n",
       "    }\n",
       "\n",
       "    .dataframe thead th {\n",
       "        text-align: right;\n",
       "    }\n",
       "</style>\n",
       "<table border=\"1\" class=\"dataframe\">\n",
       "  <thead>\n",
       "    <tr style=\"text-align: right;\">\n",
       "      <th></th>\n",
       "      <th>Unnamed: 0</th>\n",
       "      <th>orgyear</th>\n",
       "      <th>ctc</th>\n",
       "      <th>ctc_updated_year</th>\n",
       "    </tr>\n",
       "  </thead>\n",
       "  <tbody>\n",
       "    <tr>\n",
       "      <th>count</th>\n",
       "      <td>205843.000000</td>\n",
       "      <td>205757.000000</td>\n",
       "      <td>2.058430e+05</td>\n",
       "      <td>205843.000000</td>\n",
       "    </tr>\n",
       "    <tr>\n",
       "      <th>mean</th>\n",
       "      <td>103273.941786</td>\n",
       "      <td>2014.882750</td>\n",
       "      <td>2.271685e+06</td>\n",
       "      <td>2019.628231</td>\n",
       "    </tr>\n",
       "    <tr>\n",
       "      <th>std</th>\n",
       "      <td>59741.306484</td>\n",
       "      <td>63.571115</td>\n",
       "      <td>1.180091e+07</td>\n",
       "      <td>1.325104</td>\n",
       "    </tr>\n",
       "    <tr>\n",
       "      <th>min</th>\n",
       "      <td>0.000000</td>\n",
       "      <td>0.000000</td>\n",
       "      <td>2.000000e+00</td>\n",
       "      <td>2015.000000</td>\n",
       "    </tr>\n",
       "    <tr>\n",
       "      <th>25%</th>\n",
       "      <td>51518.500000</td>\n",
       "      <td>2013.000000</td>\n",
       "      <td>5.300000e+05</td>\n",
       "      <td>2019.000000</td>\n",
       "    </tr>\n",
       "    <tr>\n",
       "      <th>50%</th>\n",
       "      <td>103151.000000</td>\n",
       "      <td>2016.000000</td>\n",
       "      <td>9.500000e+05</td>\n",
       "      <td>2020.000000</td>\n",
       "    </tr>\n",
       "    <tr>\n",
       "      <th>75%</th>\n",
       "      <td>154992.500000</td>\n",
       "      <td>2018.000000</td>\n",
       "      <td>1.700000e+06</td>\n",
       "      <td>2021.000000</td>\n",
       "    </tr>\n",
       "    <tr>\n",
       "      <th>max</th>\n",
       "      <td>206922.000000</td>\n",
       "      <td>20165.000000</td>\n",
       "      <td>1.000150e+09</td>\n",
       "      <td>2021.000000</td>\n",
       "    </tr>\n",
       "  </tbody>\n",
       "</table>\n",
       "</div>"
      ],
      "text/plain": [
       "          Unnamed: 0        orgyear           ctc  ctc_updated_year\n",
       "count  205843.000000  205757.000000  2.058430e+05     205843.000000\n",
       "mean   103273.941786    2014.882750  2.271685e+06       2019.628231\n",
       "std     59741.306484      63.571115  1.180091e+07          1.325104\n",
       "min         0.000000       0.000000  2.000000e+00       2015.000000\n",
       "25%     51518.500000    2013.000000  5.300000e+05       2019.000000\n",
       "50%    103151.000000    2016.000000  9.500000e+05       2020.000000\n",
       "75%    154992.500000    2018.000000  1.700000e+06       2021.000000\n",
       "max    206922.000000   20165.000000  1.000150e+09       2021.000000"
      ]
     },
     "execution_count": 5,
     "metadata": {},
     "output_type": "execute_result"
    }
   ],
   "source": [
    "raw_data.describe()"
   ]
  },
  {
   "cell_type": "code",
   "execution_count": 6,
   "id": "be856230",
   "metadata": {},
   "outputs": [
    {
     "data": {
      "text/html": [
       "<div>\n",
       "<style scoped>\n",
       "    .dataframe tbody tr th:only-of-type {\n",
       "        vertical-align: middle;\n",
       "    }\n",
       "\n",
       "    .dataframe tbody tr th {\n",
       "        vertical-align: top;\n",
       "    }\n",
       "\n",
       "    .dataframe thead th {\n",
       "        text-align: right;\n",
       "    }\n",
       "</style>\n",
       "<table border=\"1\" class=\"dataframe\">\n",
       "  <thead>\n",
       "    <tr style=\"text-align: right;\">\n",
       "      <th></th>\n",
       "      <th>company_hash</th>\n",
       "      <th>email_hash</th>\n",
       "      <th>job_position</th>\n",
       "    </tr>\n",
       "  </thead>\n",
       "  <tbody>\n",
       "    <tr>\n",
       "      <th>count</th>\n",
       "      <td>205799</td>\n",
       "      <td>205843</td>\n",
       "      <td>153281</td>\n",
       "    </tr>\n",
       "    <tr>\n",
       "      <th>unique</th>\n",
       "      <td>37299</td>\n",
       "      <td>153443</td>\n",
       "      <td>1017</td>\n",
       "    </tr>\n",
       "    <tr>\n",
       "      <th>top</th>\n",
       "      <td>nvnv wgzohrnvzwj otqcxwto</td>\n",
       "      <td>bbace3cc586400bbc65765bc6a16b77d8913836cfc98b7...</td>\n",
       "      <td>Backend Engineer</td>\n",
       "    </tr>\n",
       "    <tr>\n",
       "      <th>freq</th>\n",
       "      <td>8337</td>\n",
       "      <td>10</td>\n",
       "      <td>43554</td>\n",
       "    </tr>\n",
       "  </tbody>\n",
       "</table>\n",
       "</div>"
      ],
      "text/plain": [
       "                     company_hash  \\\n",
       "count                      205799   \n",
       "unique                      37299   \n",
       "top     nvnv wgzohrnvzwj otqcxwto   \n",
       "freq                         8337   \n",
       "\n",
       "                                               email_hash      job_position  \n",
       "count                                              205843            153281  \n",
       "unique                                             153443              1017  \n",
       "top     bbace3cc586400bbc65765bc6a16b77d8913836cfc98b7...  Backend Engineer  \n",
       "freq                                                   10             43554  "
      ]
     },
     "execution_count": 6,
     "metadata": {},
     "output_type": "execute_result"
    }
   ],
   "source": [
    "raw_data.describe(include='object')"
   ]
  },
  {
   "cell_type": "markdown",
   "id": "61c450b6",
   "metadata": {},
   "source": [
    "## Unique Values"
   ]
  },
  {
   "cell_type": "code",
   "execution_count": 7,
   "id": "4918cdea",
   "metadata": {},
   "outputs": [
    {
     "data": {
      "text/plain": [
       "Unnamed: 0          205843\n",
       "company_hash         37299\n",
       "email_hash          153443\n",
       "orgyear                 77\n",
       "ctc                   3360\n",
       "job_position          1017\n",
       "ctc_updated_year         7\n",
       "dtype: int64"
      ]
     },
     "execution_count": 7,
     "metadata": {},
     "output_type": "execute_result"
    }
   ],
   "source": [
    "raw_data.nunique()"
   ]
  },
  {
   "cell_type": "markdown",
   "id": "3a8505bb",
   "metadata": {},
   "source": [
    "## Null Values"
   ]
  },
  {
   "cell_type": "code",
   "execution_count": 12,
   "id": "f2b0db0a",
   "metadata": {},
   "outputs": [
    {
     "name": "stdout",
     "output_type": "stream",
     "text": [
      "\u001b[1mPercentage of Null values by columns\u001b[0m\n"
     ]
    },
    {
     "data": {
      "text/plain": [
       "Unnamed: 0           0.000000\n",
       "company_hash         0.021376\n",
       "email_hash           0.000000\n",
       "orgyear              0.041779\n",
       "ctc                  0.000000\n",
       "job_position        25.534995\n",
       "ctc_updated_year     0.000000\n",
       "dtype: float64"
      ]
     },
     "execution_count": 12,
     "metadata": {},
     "output_type": "execute_result"
    }
   ],
   "source": [
    "print(bold_start + \"Percentage of Null values by columns\" + bold_end)\n",
    "(raw_data.isnull().sum()/len(raw_data))*100"
   ]
  },
  {
   "cell_type": "markdown",
   "id": "425679de",
   "metadata": {},
   "source": [
    "#### Inference:\n",
    "- Dimensionally small dataset\n",
    "- Personal details are given as hash values\n",
    "- Some errors in org year column, as the min value is 0 and no. of unique values is 77"
   ]
  },
  {
   "cell_type": "markdown",
   "id": "2104697f",
   "metadata": {},
   "source": [
    "## Transform Hash"
   ]
  },
  {
   "cell_type": "code",
   "execution_count": 13,
   "id": "89954612",
   "metadata": {},
   "outputs": [],
   "source": [
    "df = raw_data.copy()"
   ]
  },
  {
   "cell_type": "code",
   "execution_count": 183,
   "id": "b37b98e8",
   "metadata": {},
   "outputs": [],
   "source": [
    "company_hash_dict = dict(zip(df['company_hash'].unique(), np.arange(df['company_hash'].nunique())))\n",
    "df['company_hash'] = df['company_hash'].map(company_hash_dict)"
   ]
  },
  {
   "cell_type": "code",
   "execution_count": 22,
   "id": "4ff1d8bd",
   "metadata": {},
   "outputs": [],
   "source": [
    "email_hash_dict = dict(zip(df['email_hash'].unique(), np.arange(df['email_hash'].nunique())))\n",
    "df['email_hash'] = df['email_hash'].map(email_hash_dict)"
   ]
  },
  {
   "cell_type": "markdown",
   "id": "1dbb2229",
   "metadata": {},
   "source": [
    "## Remove Unnamed column"
   ]
  },
  {
   "cell_type": "code",
   "execution_count": 24,
   "id": "fcb035e2",
   "metadata": {},
   "outputs": [],
   "source": [
    "df.drop('Unnamed: 0', axis=1, inplace=True)"
   ]
  },
  {
   "cell_type": "code",
   "execution_count": null,
   "id": "bd6a5449",
   "metadata": {},
   "outputs": [],
   "source": [
    "df.head()"
   ]
  },
  {
   "cell_type": "markdown",
   "id": "78f8b0d2",
   "metadata": {},
   "source": [
    "# Exploratory Data Analysis\n",
    "- Univariate Analysis\n",
    "    - Categorical: *Frequency and Proportion Plots*\n",
    "    - Numerical: *Distribution and Box plots*\n",
    "    - *Skewness and Kurtosis*\n",
    "- Bivariate Analysis\n",
    "- Multivariate Analysis"
   ]
  },
  {
   "cell_type": "code",
   "execution_count": 25,
   "id": "5703b6cb",
   "metadata": {},
   "outputs": [],
   "source": [
    "cat_features = list(df.columns).remove('ctc')\n",
    "num_features = ['ctc']"
   ]
  },
  {
   "cell_type": "code",
   "execution_count": null,
   "id": "d43fcdc8",
   "metadata": {},
   "outputs": [],
   "source": [
    "def univariate_categoryplot(df, feature):\n",
    "    plt.figure(figsize=(12,4))   \n",
    "    if df[feature].nunique() < 10:\n",
    "        # Categorical Feature \n",
    "        plt.suptitle('Univariate Analysis of ' + feature + \": Frequency and Proportion\")\n",
    "        plt.subplot(1,2,1)\n",
    "        sns.countplot(data=df, x=feature) \n",
    "        plt.subplot(1,2,2)\n",
    "        labels = df[feature].value_counts().index\n",
    "        plt.pie(x=list(df[feature].value_counts()), labels=list(labels), autopct=\"%0.2f\")        \n",
    "        plt.show()\n",
    "    else:\n",
    "        # Numerical Feature\n",
    "        temp = df[feature].value_counts()[:10]\n",
    "        plt.suptitle('Univariate Analysis of ' + feature + \": Frequency and Proportion\")\n",
    "        plt.subplot(1,2,1)\n",
    "        sns.countplot(data=df, x=feature) \n",
    "        plt.subplot(1,2,2)\n",
    "        labels = df[feature].value_counts().index\n",
    "        plt.pie(x=list(df[feature].value_counts()), labels=list(labels), autopct=\"%0.2f\")        \n",
    "        plt.show()"
   ]
  },
  {
   "cell_type": "markdown",
   "id": "2fe6f693",
   "metadata": {},
   "source": [
    "# Data Cleaning and Transformation"
   ]
  },
  {
   "cell_type": "markdown",
   "id": "69cb3c9a",
   "metadata": {},
   "source": [
    "## Orgyear"
   ]
  },
  {
   "cell_type": "code",
   "execution_count": 42,
   "id": "19456e1d",
   "metadata": {},
   "outputs": [
    {
     "name": "stdout",
     "output_type": "stream",
     "text": [
      "[ 2016.  2018.  2015.  2017.  2019.  2020.  2012.  2013.  2003.  2006.\n",
      "  2014.  2011.  2021.  2008.  2004.  2022.  2009.  2005.  2010.  2007.\n",
      "  2000.  2002.  2023.  2001.  1981.  2031.    nan  2024.  1996.  1999.\n",
      "  2106.  1997.  1994.  1995.  1992.  1973.  1991.  1998.  1990.  1993.\n",
      "  1988.  2025.  2029.     0.   208.  1985.   209.   206.  1982.  2026.\n",
      "  1970.  2101.  1972.  2107.  1986.  1989.    91.  1987.     3.  2027.\n",
      "     2.  1976.     4.     5.  1971.  1977.  1984.    83.     1.  1979.\n",
      "  2028.  2204.    38.  1900.   201.     6. 20165.   200.]\n"
     ]
    }
   ],
   "source": [
    "np.set_printoptions(suppress=True)\n",
    "print(df['orgyear'].unique())"
   ]
  },
  {
   "cell_type": "code",
   "execution_count": 40,
   "id": "05b55d0f",
   "metadata": {},
   "outputs": [
    {
     "data": {
      "text/plain": [
       "173"
      ]
     },
     "execution_count": 40,
     "metadata": {},
     "output_type": "execute_result"
    }
   ],
   "source": [
    "df['orgyear'] = pd.to_datetime(df['orgyear'].apply(lambda x: x if x < 2025 and x>1900 else np.nan), format='%Y').dt.year"
   ]
  },
  {
   "cell_type": "markdown",
   "id": "b729ef22",
   "metadata": {},
   "source": [
    "#### Inference:\n",
    "- Many typo errors in the year column such as 0, 1, 2, 209, 91 etc.,\n",
    "- Transformed such typo errors into nan values\n",
    "- Later all nan values will be imputed"
   ]
  },
  {
   "cell_type": "markdown",
   "id": "b3b80894",
   "metadata": {},
   "source": [
    "## CTC Updated Year"
   ]
  },
  {
   "cell_type": "code",
   "execution_count": 43,
   "id": "1f95e4b2",
   "metadata": {},
   "outputs": [
    {
     "name": "stdout",
     "output_type": "stream",
     "text": [
      "[2020. 2019. 2021. 2017. 2016. 2015. 2018.]\n"
     ]
    }
   ],
   "source": [
    "np.set_printoptions(suppress=True)\n",
    "print(df['ctc_updated_year'].unique())"
   ]
  },
  {
   "cell_type": "code",
   "execution_count": 40,
   "id": "cbff9a81",
   "metadata": {},
   "outputs": [
    {
     "data": {
      "text/plain": [
       "173"
      ]
     },
     "execution_count": 40,
     "metadata": {},
     "output_type": "execute_result"
    }
   ],
   "source": [
    "df['orgyear'] = pd.to_datetime(df['orgyear'].apply(lambda x: x if x < 2025 and x>1900 else np.nan), format='%Y').dt.year"
   ]
  },
  {
   "cell_type": "markdown",
   "id": "a8e1a887",
   "metadata": {},
   "source": [
    "#### Inference:\n",
    "- Many typo errors in the year column such as 0, 1, 2, 209, 91 etc.,\n",
    "- Transformed such typo errors into nan values\n",
    "- Later all nan values will be imputed"
   ]
  },
  {
   "cell_type": "markdown",
   "id": "8b0f0a6d",
   "metadata": {},
   "source": [
    "## Job Position"
   ]
  },
  {
   "cell_type": "code",
   "execution_count": 133,
   "id": "00177a33",
   "metadata": {},
   "outputs": [
    {
     "data": {
      "text/plain": [
       "['Project engineer',\n",
       " 'Project management profession',\n",
       " 'Pune',\n",
       " 'Python Devloper',\n",
       " 'Q',\n",
       " 'QA Engineer',\n",
       " 'QA intern',\n",
       " 'QA/QC Engineer',\n",
       " 'QAE-Intern',\n",
       " 'Quality Analyst',\n",
       " 'Quality Analyst ',\n",
       " 'Quality Associate',\n",
       " 'Quality Assurance Manager',\n",
       " 'Quality Engineer',\n",
       " 'Quality Enginner',\n",
       " 'Quantitative Analyst',\n",
       " 'R & D Engineer-2',\n",
       " 'R & D engineer',\n",
       " 'R&D Engineer',\n",
       " 'RD Engineer II',\n",
       " 'RD Enginner II',\n",
       " 'RETAIL ASSCOCIATE',\n",
       " 'Radio frequency Engineer',\n",
       " 'React Native developer',\n",
       " 'Reasearch Engineer',\n",
       " 'Recovery officer',\n",
       " 'Relationship officer',\n",
       " 'Release Engineer',\n",
       " 'Reseach Analyst',\n",
       " 'Research Assistant',\n",
       " 'Research Assistant / Software Engineer',\n",
       " 'Research Engineer',\n",
       " 'Research Engineer 2',\n",
       " 'Research Engineers',\n",
       " 'Research Intern - Machine Learning',\n",
       " 'Research analyst',\n",
       " 'Researcher',\n",
       " 'Reseller',\n",
       " 'Risk Analyst',\n",
       " 'Risk Investigator',\n",
       " 'Risk model developer',\n",
       " 'S/w Engineer 2',\n",
       " 'SAP ABAP Developer',\n",
       " 'SAP C4C Functional Consultant',\n",
       " 'SAP CPQ Consultant',\n",
       " 'SAP Technical consultant',\n",
       " 'SDE - 3 ',\n",
       " 'SDE - II',\n",
       " 'SDE 1',\n",
       " 'SDE 1 ',\n",
       " 'SDE 2',\n",
       " 'SDE 3',\n",
       " 'SDE 4',\n",
       " 'SDE II',\n",
       " 'SDE Intern',\n",
       " 'SDE, Lead',\n",
       " 'SDE-1',\n",
       " 'SDE-2',\n",
       " 'SDE-3',\n",
       " 'SDE-I',\n",
       " 'SDE-II',\n",
       " 'SDE2',\n",
       " 'SDE3',\n",
       " 'SDEII',\n",
       " 'SDET',\n",
       " 'SDET - Intern',\n",
       " 'SDET 3',\n",
       " 'SDET senior',\n",
       " 'SDET-2',\n",
       " 'SE II',\n",
       " 'SE(R&D)',\n",
       " 'SENIOR MANAGER',\n",
       " 'SMTS',\n",
       " 'SOFTWARE ENG',\n",
       " 'SOFTWARE ENGINEER III',\n",
       " 'SOftware Engineer I',\n",
       " 'SQL, PLSQL Developer',\n",
       " 'SRE',\n",
       " 'Safety officer',\n",
       " 'Sales',\n",
       " 'Sales ',\n",
       " 'Sales and collection executive ',\n",
       " 'Sales manager',\n",
       " 'Sales professional',\n",
       " 'Salesforce Consultant',\n",
       " 'Salesforce Developer',\n",
       " 'Sap Abap Developer ',\n",
       " 'Scientist - C',\n",
       " 'Secretary',\n",
       " 'Security Delivery Specialist',\n",
       " 'Security Intern',\n",
       " 'Security Leadership',\n",
       " 'Security Researcher ',\n",
       " 'Security analyst ',\n",
       " 'Seleceman',\n",
       " 'Self job',\n",
       " 'Seller Support Associate',\n",
       " 'Seller support',\n",
       " 'Senior  Software Engineer',\n",
       " 'Senior Administrator',\n",
       " 'Senior Analyst',\n",
       " 'Senior Analyst Programmer',\n",
       " 'Senior Analysts',\n",
       " 'Senior Android Developer',\n",
       " 'Senior Application Engineer',\n",
       " 'Senior Applications Engineer',\n",
       " 'Senior Associate',\n",
       " 'Senior Associate ',\n",
       " 'Senior Associate - (Index Technology - Production Support)',\n",
       " 'Senior Associate Platform L1',\n",
       " 'Senior Associate Technology Level1',\n",
       " 'Senior Business Analyst',\n",
       " 'Senior Business Operations Analyst',\n",
       " 'Senior Chat Associate',\n",
       " 'Senior Consultant',\n",
       " 'Senior Data Engineer',\n",
       " 'Senior Data Scientist',\n",
       " 'Senior Database Engineer',\n",
       " 'Senior Developer',\n",
       " 'Senior Development Engineer',\n",
       " 'Senior Director of Engineering',\n",
       " 'Senior Engineer',\n",
       " 'Senior Engineer AI/ML',\n",
       " 'Senior Engineer Software',\n",
       " 'Senior Enginner',\n",
       " 'Senior Executive',\n",
       " 'Senior Front End Engineer',\n",
       " 'Senior Frontend Developer',\n",
       " 'Senior Frontend Engineer',\n",
       " 'Senior Fusion Applications Engineer',\n",
       " 'Senior Lead Analyst',\n",
       " 'Senior Manager',\n",
       " 'Senior Manager IT',\n",
       " 'Senior Manager, Online Products',\n",
       " 'Senior Member Of Technical Staff',\n",
       " 'Senior Member Of Technical Staff - R&D - Machine Learning',\n",
       " 'Senior Member Technical Staff',\n",
       " 'Senior Member of Technical Staff',\n",
       " 'Senior Mobile Applications Developer (Android/iOS)',\n",
       " 'Senior Mobile Developer',\n",
       " 'Senior Process Executive',\n",
       " 'Senior Product Development Engineer (Senior Developer)',\n",
       " 'Senior QA Engineer',\n",
       " 'Senior QA Engineer III',\n",
       " 'Senior Quantitative Analyst',\n",
       " 'Senior Quantitative Researcher',\n",
       " 'Senior Research Associate',\n",
       " 'Senior SDET',\n",
       " 'Senior Software  Development Engineer',\n",
       " 'Senior Software Consultant',\n",
       " 'Senior Software Developer',\n",
       " 'Senior Software Development Enggineer',\n",
       " 'Senior Software Development Engineer',\n",
       " 'Senior Software Development Engineer (Backend)',\n",
       " 'Senior Software Development Engineer II',\n",
       " 'Senior Software Development Engineer in Test',\n",
       " 'Senior Software Engineer (.Net Backend)',\n",
       " 'Senior Software Engineer (Backend)',\n",
       " 'Senior Software Engineer (front end)',\n",
       " 'Senior Software Engineer - Infrastructure',\n",
       " 'Senior Software Engineer 1',\n",
       " 'Senior Software Engineer lead',\n",
       " 'Senior Software Engineer, QA',\n",
       " 'Senior Software Engineering',\n",
       " 'Senior Software engineeer',\n",
       " 'Senior Sofware Engineer',\n",
       " 'Senior Solution Engineer ',\n",
       " 'Senior Staff Software Engineer',\n",
       " 'Senior System Engineer',\n",
       " 'Senior System Engineer ',\n",
       " 'Senior System Specialist',\n",
       " 'Senior Systems Engineer',\n",
       " 'Senior Systems Engineer ',\n",
       " 'Senior Tech Architect ',\n",
       " 'Senior Technical Assistant',\n",
       " 'Senior Technical Specialist ',\n",
       " 'Senior UI Enginner',\n",
       " 'Senior Web Developer',\n",
       " 'Senior Web Engineer',\n",
       " 'Senior WebMethods Developer',\n",
       " 'Senior administrator ',\n",
       " 'Senior associate',\n",
       " 'Senior consulant',\n",
       " 'Senior consultant',\n",
       " 'Senior data engineer',\n",
       " 'Senior developer',\n",
       " 'Senior devops',\n",
       " 'Senior engineer',\n",
       " 'Senior project engineer',\n",
       " 'Senior software Test Engineer',\n",
       " 'Senior software analyst',\n",
       " 'Senior software developer',\n",
       " 'Senior system engineer',\n",
       " 'Senior systems Engineer ',\n",
       " 'Senior systems engineer',\n",
       " 'Senior test engineer',\n",
       " 'SeniorSoftwareEngineer',\n",
       " 'Server Engineer',\n",
       " 'Service Delivery Specialist',\n",
       " 'ServiceNow Developer',\n",
       " 'Services IT Development Program Senior Associate ',\n",
       " 'SharePoint Developer',\n",
       " 'Shift controller',\n",
       " 'Site Reliability Engineer',\n",
       " 'Site Reliability Engineer ',\n",
       " 'Snr Analyst Programmer/Java Developer',\n",
       " 'So',\n",
       " 'Soft skill Trainer at Skill India Government project',\n",
       " 'Software',\n",
       " 'Software  Engineer',\n",
       " 'Software / web developer',\n",
       " 'Software Analyst',\n",
       " 'Software Associate',\n",
       " 'Software Consultant',\n",
       " 'Software Dev Engineer 1',\n",
       " 'Software Dev. Engineer',\n",
       " 'Software Developer (SDE-3)',\n",
       " 'Software Developer - Android',\n",
       " 'Software Developer - PL10',\n",
       " 'Software Developer - iOS',\n",
       " 'Software Developer 1',\n",
       " 'Software Developer 2',\n",
       " 'Software Developer Consultant',\n",
       " 'Software Developer I',\n",
       " 'Software Developer II',\n",
       " 'Software Developer Intern',\n",
       " 'Software Developer grade-1',\n",
       " 'Software Development Analyst',\n",
       " 'Software Development Consultant 1',\n",
       " 'Software Development Engineer - 2',\n",
       " 'Software Development Engineer - I',\n",
       " 'Software Development Engineer - II',\n",
       " 'Software Development Engineer - III',\n",
       " 'Software Development Engineer - Intern',\n",
       " 'Software Development Engineer -2 ',\n",
       " 'Software Development Engineer 1',\n",
       " 'Software Development Engineer 2',\n",
       " 'Software Development Engineer 2 ',\n",
       " 'Software Development Engineer 3',\n",
       " 'Software Development Engineer III',\n",
       " 'Software Development Engineer IV',\n",
       " 'Software Development Engineer Intern',\n",
       " 'Software Development Engineer in Test',\n",
       " 'Software Development Engineer ||',\n",
       " 'Software Development Engineering Intern',\n",
       " 'Software Development Enginner',\n",
       " 'Software Development Intern',\n",
       " 'Software Development Manager',\n",
       " 'Software Devloper',\n",
       " 'Software Eng',\n",
       " 'Software Engineer  - Programmer Analyst',\n",
       " 'Software Engineer (Android)',\n",
       " 'Software Engineer (Backend)',\n",
       " 'Software Engineer (Full Stack)',\n",
       " 'Software Engineer (Full stack)',\n",
       " 'Software Engineer (Intern)',\n",
       " 'Software Engineer - Frontend',\n",
       " 'Software Engineer - I',\n",
       " 'Software Engineer - II',\n",
       " 'Software Engineer - Operations',\n",
       " 'Software Engineer - Testing',\n",
       " 'Software Engineer 1',\n",
       " 'Software Engineer 2',\n",
       " 'Software Engineer 2 (Backend)',\n",
       " 'Software Engineer 2 (Full Stack)',\n",
       " 'Software Engineer 3',\n",
       " 'Software Engineer Android',\n",
       " 'Software Engineer Android Intern',\n",
       " 'Software Engineer Associate',\n",
       " 'Software Engineer I',\n",
       " 'Software Engineer II',\n",
       " 'Software Engineer III',\n",
       " 'Software Engineer IV',\n",
       " 'Software Engineer Intern',\n",
       " 'Software Engineer L2',\n",
       " 'Software Engineer R&D',\n",
       " 'Software Engineer Trainee(ML)',\n",
       " 'Software Engineer in Test',\n",
       " 'Software Engineer(Advanced Analytics)',\n",
       " 'Software Engineer(R&D) Intern ',\n",
       " 'Software Engineer, Associate',\n",
       " 'Software Engineering',\n",
       " 'Software Engineering - Engineer 2',\n",
       " 'Software Engineering Analyst',\n",
       " 'Software Engineering Co-Op',\n",
       " 'Software Engineering Contractor',\n",
       " 'Software Engineering Intern',\n",
       " 'Software Engineering Lead',\n",
       " 'Software Enginner',\n",
       " 'Software Enginnering Specialist',\n",
       " 'Software Prod & Plat Eng Analyst',\n",
       " 'Software QA Engineer',\n",
       " 'Software Test Engineer',\n",
       " 'Software consultant',\n",
       " 'Software developer (Data engineer)',\n",
       " 'Software developer (automation)',\n",
       " 'Software developer/Application Developer',\n",
       " 'Software development ',\n",
       " 'Software development engineer 1 ',\n",
       " 'Software development engineer 2',\n",
       " 'Software development specialist',\n",
       " 'Software engineer - 2',\n",
       " 'Software engineer 3',\n",
       " 'Software engineer III ( sde2) ',\n",
       " 'Software engineer analyst ',\n",
       " 'Software qa',\n",
       " 'Softwear engineer',\n",
       " 'Solution Architect - Apprentice',\n",
       " 'Solution Architect Cloud and Infra',\n",
       " 'Solution Engineer',\n",
       " 'Solution Integration Consultant I',\n",
       " 'Solutions Architect',\n",
       " 'Solutions Designer',\n",
       " 'Solutions Specialist',\n",
       " \"Some data entry operator like some copy's write.type and upload\",\n",
       " 'Some random title',\n",
       " 'Specialist',\n",
       " 'Specialist Programmer',\n",
       " 'Specialist Programmer (PP)',\n",
       " 'Sps Associate',\n",
       " 'Sr HR Executive',\n",
       " 'Sr Lead Engineer',\n",
       " 'Sr Software Engg - Android',\n",
       " 'Sr Software Engineer',\n",
       " 'Sr Solution Architect',\n",
       " 'Sr Technical Architect',\n",
       " 'Sr consultant',\n",
       " 'Sr representative ',\n",
       " 'Sr software engg',\n",
       " 'Sr software engineer ',\n",
       " 'Sr.',\n",
       " 'Sr. Associate PLatform L2',\n",
       " 'Sr. EXECUTIVE ',\n",
       " 'Sr. MIS Executive',\n",
       " 'Sr. Operation Executive',\n",
       " 'Sr. Product Engineer',\n",
       " 'Sr. Software Engineer',\n",
       " 'Sr. Software Engineer(Android)',\n",
       " 'Sr. Technical Architect',\n",
       " 'Sr. iOS Engineer',\n",
       " 'Sr. iOS developer',\n",
       " 'Sr. technical manager',\n",
       " 'Staff Consultant',\n",
       " 'Staff Developer',\n",
       " 'Staff Software Engineer',\n",
       " 'Staff engineer/mgr',\n",
       " 'Storw',\n",
       " 'Strategy and new initiatives',\n",
       " 'Student',\n",
       " 'Student In Computer Application',\n",
       " 'Student Intern',\n",
       " 'Sub-Inspector',\n",
       " 'Subject Matter Expert',\n",
       " 'Summer Technology Analyst (Software Developer Intern)',\n",
       " 'Support',\n",
       " 'Support Engineer',\n",
       " 'System Engineer',\n",
       " 'System Engineer,FullStack Developer',\n",
       " 'System Software engineer',\n",
       " 'System admin',\n",
       " 'System engineer',\n",
       " 'System engineer ',\n",
       " 'System software Engineer',\n",
       " 'Systems Analyst',\n",
       " 'Systems Operations Engineer',\n",
       " 'TA',\n",
       " 'TX SME',\n",
       " 'Talent Acquisition SSpecialist',\n",
       " 'Talent Acquisition Specialist',\n",
       " 'Teacher',\n",
       " 'Teacher ',\n",
       " 'Teaching',\n",
       " 'Teaching Assistant',\n",
       " 'Teaching Assistant ',\n",
       " 'Teaching field',\n",
       " 'Team Lead',\n",
       " 'Team Lead - Android',\n",
       " 'Team Lead Mobile',\n",
       " 'Team Manager',\n",
       " 'Team lead',\n",
       " 'Teammate',\n",
       " 'Tecchnical lead',\n",
       " 'Tech Lead Software Engineer',\n",
       " 'Tech Manager',\n",
       " 'Tech Person',\n",
       " 'Tech architecture',\n",
       " 'Tech lead /Team Lead ',\n",
       " 'TechOps Engineer 1',\n",
       " 'Techinical Lead',\n",
       " 'Technical  consultant',\n",
       " 'Technical Architecct',\n",
       " 'Technical Associate',\n",
       " 'Technical Engineer ',\n",
       " 'Technical Leader',\n",
       " 'Technical Manager ',\n",
       " 'Technical Mentor',\n",
       " 'Technical Program Program',\n",
       " 'Technical Support Engineer',\n",
       " 'Technical Test Lead',\n",
       " 'Technical consultant',\n",
       " 'Technical consulting ',\n",
       " 'Technical head',\n",
       " 'Technical leader',\n",
       " 'Technical officer',\n",
       " 'Technical support Engineer',\n",
       " 'Technical support engineer ',\n",
       " 'Technician',\n",
       " 'Technology Analyst',\n",
       " 'Technology Analyst II',\n",
       " 'Technology Architect',\n",
       " 'Technology Associate',\n",
       " 'Technology Consultant',\n",
       " 'Technology Specialist ',\n",
       " 'Technology analyst',\n",
       " 'Telar',\n",
       " 'Test Analyst',\n",
       " 'Test Automation Engineer',\n",
       " 'Test Technician, Specialist',\n",
       " 'Tester',\n",
       " 'Third party provider',\n",
       " 'Tool room Engineer, Mechanical Engineer ',\n",
       " 'Toyota',\n",
       " 'Trainee',\n",
       " 'Trainee Decision Scientist',\n",
       " 'Trainee Engineer (Java Developer)',\n",
       " 'Trainee(Intern)',\n",
       " 'Trainer',\n",
       " 'Trainer ',\n",
       " 'Transaction Risk Investigator ',\n",
       " 'Tsc',\n",
       " 'Tuition teacher',\n",
       " 'Typing',\n",
       " 'UI Architect',\n",
       " 'UI Developer Intern',\n",
       " 'Ucm',\n",
       " 'Underwriting Officer',\n",
       " 'Unempolyed',\n",
       " 'User Experience Specialist',\n",
       " 'Vendor management',\n",
       " 'Vice President',\n",
       " 'Vice president',\n",
       " 'Voice President',\n",
       " 'Web / UI Designer',\n",
       " 'Web Application Developer',\n",
       " 'Web Designer',\n",
       " 'Web Designer/Developer Intern',\n",
       " 'Web Developer (Full Stack)',\n",
       " 'Web engineer',\n",
       " 'Webcenter consultant',\n",
       " 'WordPress developer',\n",
       " 'Worker',\n",
       " 'X',\n",
       " 'Young Professional II',\n",
       " 'Zomato',\n",
       " 'Zomato ',\n",
       " 'air force',\n",
       " 'application development team lead',\n",
       " 'associate software engineer',\n",
       " 'ayS',\n",
       " 'consultanat',\n",
       " 'consultant',\n",
       " 'decision analytics associate',\n",
       " 'embedded software engineer',\n",
       " 'employee',\n",
       " 'entrepreneur',\n",
       " 'freelance',\n",
       " 'front end engineer',\n",
       " 'full stack devloper',\n",
       " 'highway engineer',\n",
       " 'iOS / Swift Developer',\n",
       " 'iOS Application Developer',\n",
       " 'iOS Engineer',\n",
       " 'iOS Software Developer',\n",
       " 'junior web developer',\n",
       " 'linux administrator ',\n",
       " 'member of technical staff',\n",
       " 'na',\n",
       " 'network function virtualisation',\n",
       " 'no',\n",
       " 'no job',\n",
       " 'operation',\n",
       " 'platform engineer',\n",
       " 'process associate',\n",
       " 'program analyst trainee',\n",
       " 'programmer analyst',\n",
       " 'project assistant ',\n",
       " 'project engineer',\n",
       " 'se4',\n",
       " 'senior Consultant',\n",
       " 'senior engineer',\n",
       " 'senior software engineer-L2',\n",
       " 'software developer - UI',\n",
       " 'software engineer 1',\n",
       " 'software engineer 2B',\n",
       " 'sr. developer',\n",
       " 'student',\n",
       " 'support escalation engineer',\n",
       " 'system engineer',\n",
       " 'system software engineer',\n",
       " 'technology analyst']"
      ]
     },
     "execution_count": 133,
     "metadata": {},
     "output_type": "execute_result"
    }
   ],
   "source": [
    "sorted(df['job_position'].dropna().unique())[-500:]"
   ]
  },
  {
   "cell_type": "markdown",
   "id": "7ce953f0",
   "metadata": {},
   "source": [
    "#### Inference:\n",
    "- Invalid occupations are observed\n",
    "- Case sensitive differences\n",
    "- Replace special characters with space\n",
    "- Trim the text and remove double spaces\n",
    "- Remove only numbers\n",
    "- create categories for occupation\n",
    "- Software Categories: Software, application, system, systems, IT, tech, technology, frontend, front end, backend, full stack, fullstack, cloud, computer, database, devops, firmware, app, programmer, java, developer, UI, sde, sw, se, web\n",
    "- Data categories: data, analyst, analytics, business, etl, ML, machine learning, ai\n",
    "- Not employed: 'no', 'none', 'not', 'null'\n",
    "- other to others\n",
    "- Search for non dictionary words"
   ]
  },
  {
   "cell_type": "code",
   "execution_count": null,
   "id": "6ef06a00",
   "metadata": {},
   "outputs": [],
   "source": [
    "sw_cat = ['software', 'application', 'system', 'systems', 'IT', 'tech', 'technology', 'frontend', 'end', 'backend', 'stack', 'fullstack', 'cloud', 'computer', 'database', 'devops', 'firmware', 'app', 'programmer', 'java', 'developer', 'ui', 'sde', 'sw', 'se', 'web']\n",
    "data_cat = ['data', 'analyst', 'analytics', 'business', 'etl', 'ml', 'machine', 'learning', 'ai']"
   ]
  },
  {
   "cell_type": "code",
   "execution_count": 164,
   "id": "59c5b97a",
   "metadata": {},
   "outputs": [],
   "source": [
    "def text_clean(text):    \n",
    "    if type(text) == str:\n",
    "        text = text.lower().strip()\n",
    "        text = re.sub('[^A-Za-z0-9 ]+', ' ', text)\n",
    "        text = text.replace(\"  \", \" \").strip()\n",
    "        text = re.sub(r'^\\d+$', 'others', text)\n",
    "        if text == '':\n",
    "            text = 'others'\n",
    "        words = text.split()\n",
    "        for word in words:\n",
    "            if word in ['no', 'none', 'not', 'null', 'some']:\n",
    "                return \"Not Employed\"\n",
    "    return text"
   ]
  },
  {
   "cell_type": "code",
   "execution_count": 171,
   "id": "d9c63484",
   "metadata": {},
   "outputs": [],
   "source": [
    "def assign_software(text):\n",
    "    if type(text) == str:\n",
    "        for word in text.split():\n",
    "            if word in sw_cat:\n",
    "                return 1\n",
    "    return 0"
   ]
  },
  {
   "cell_type": "code",
   "execution_count": 179,
   "id": "d42bfe58",
   "metadata": {},
   "outputs": [],
   "source": [
    "def assign_data(text):\n",
    "    if type(text) == str:\n",
    "        for word in text.split():\n",
    "            if word in data_cat:\n",
    "                return 1\n",
    "    return 0"
   ]
  },
  {
   "cell_type": "code",
   "execution_count": 166,
   "id": "ef7126ce",
   "metadata": {},
   "outputs": [],
   "source": [
    "df['job_cleaned'] = df['job_position'].apply(text_clean)\n",
    "df['software_job'] = df['job_cleaned'].apply(assign_software)\n",
    "df['data_job'] = df['job_cleaned'].apply(assign_data)"
   ]
  },
  {
   "cell_type": "code",
   "execution_count": 185,
   "id": "571bae5f",
   "metadata": {},
   "outputs": [],
   "source": [
    "# Drop raw job position column\n",
    "df.drop('job_position', axis=1, inplace=True)"
   ]
  },
  {
   "cell_type": "code",
   "execution_count": 186,
   "id": "c489992c",
   "metadata": {},
   "outputs": [
    {
     "data": {
      "text/html": [
       "<div>\n",
       "<style scoped>\n",
       "    .dataframe tbody tr th:only-of-type {\n",
       "        vertical-align: middle;\n",
       "    }\n",
       "\n",
       "    .dataframe tbody tr th {\n",
       "        vertical-align: top;\n",
       "    }\n",
       "\n",
       "    .dataframe thead th {\n",
       "        text-align: right;\n",
       "    }\n",
       "</style>\n",
       "<table border=\"1\" class=\"dataframe\">\n",
       "  <thead>\n",
       "    <tr style=\"text-align: right;\">\n",
       "      <th></th>\n",
       "      <th>company_hash</th>\n",
       "      <th>email_hash</th>\n",
       "      <th>orgyear</th>\n",
       "      <th>ctc</th>\n",
       "      <th>ctc_updated_year</th>\n",
       "      <th>job_cleaned</th>\n",
       "      <th>software_job</th>\n",
       "      <th>data_job</th>\n",
       "    </tr>\n",
       "  </thead>\n",
       "  <tbody>\n",
       "    <tr>\n",
       "      <th>0</th>\n",
       "      <td>0.0</td>\n",
       "      <td>0</td>\n",
       "      <td>2016.0</td>\n",
       "      <td>1100000</td>\n",
       "      <td>2020.0</td>\n",
       "      <td>other</td>\n",
       "      <td>0</td>\n",
       "      <td>0</td>\n",
       "    </tr>\n",
       "    <tr>\n",
       "      <th>1</th>\n",
       "      <td>1.0</td>\n",
       "      <td>1</td>\n",
       "      <td>2018.0</td>\n",
       "      <td>449999</td>\n",
       "      <td>2019.0</td>\n",
       "      <td>fullstack engineer</td>\n",
       "      <td>1</td>\n",
       "      <td>0</td>\n",
       "    </tr>\n",
       "    <tr>\n",
       "      <th>2</th>\n",
       "      <td>2.0</td>\n",
       "      <td>2</td>\n",
       "      <td>2015.0</td>\n",
       "      <td>2000000</td>\n",
       "      <td>2020.0</td>\n",
       "      <td>backend engineer</td>\n",
       "      <td>1</td>\n",
       "      <td>0</td>\n",
       "    </tr>\n",
       "    <tr>\n",
       "      <th>3</th>\n",
       "      <td>3.0</td>\n",
       "      <td>3</td>\n",
       "      <td>2017.0</td>\n",
       "      <td>700000</td>\n",
       "      <td>2019.0</td>\n",
       "      <td>backend engineer</td>\n",
       "      <td>1</td>\n",
       "      <td>0</td>\n",
       "    </tr>\n",
       "    <tr>\n",
       "      <th>4</th>\n",
       "      <td>4.0</td>\n",
       "      <td>4</td>\n",
       "      <td>2017.0</td>\n",
       "      <td>1400000</td>\n",
       "      <td>2019.0</td>\n",
       "      <td>fullstack engineer</td>\n",
       "      <td>1</td>\n",
       "      <td>0</td>\n",
       "    </tr>\n",
       "  </tbody>\n",
       "</table>\n",
       "</div>"
      ],
      "text/plain": [
       "   company_hash  email_hash  orgyear      ctc  ctc_updated_year  \\\n",
       "0           0.0           0   2016.0  1100000            2020.0   \n",
       "1           1.0           1   2018.0   449999            2019.0   \n",
       "2           2.0           2   2015.0  2000000            2020.0   \n",
       "3           3.0           3   2017.0   700000            2019.0   \n",
       "4           4.0           4   2017.0  1400000            2019.0   \n",
       "\n",
       "          job_cleaned  software_job  data_job  \n",
       "0               other             0         0  \n",
       "1  fullstack engineer             1         0  \n",
       "2    backend engineer             1         0  \n",
       "3    backend engineer             1         0  \n",
       "4  fullstack engineer             1         0  "
      ]
     },
     "execution_count": 186,
     "metadata": {},
     "output_type": "execute_result"
    }
   ],
   "source": [
    "df.head()"
   ]
  },
  {
   "cell_type": "code",
   "execution_count": 187,
   "id": "80cf0902",
   "metadata": {},
   "outputs": [
    {
     "data": {
      "text/plain": [
       "company_hash            1\n",
       "email_hash              0\n",
       "orgyear                86\n",
       "ctc                     0\n",
       "ctc_updated_year        0\n",
       "job_cleaned         52562\n",
       "software_job            0\n",
       "data_job                0\n",
       "dtype: int64"
      ]
     },
     "execution_count": 187,
     "metadata": {},
     "output_type": "execute_result"
    }
   ],
   "source": [
    "df.isnull().sum()"
   ]
  },
  {
   "cell_type": "code",
   "execution_count": 190,
   "id": "0f221c5b",
   "metadata": {},
   "outputs": [
    {
     "data": {
      "text/plain": [
       "email_hash\n",
       "00003288036a44374976948c327f246fdbdf077854690475243a9c91d3b1cf9f            [2012.0]\n",
       "0000aaa0e6b61f7636af1954b43d294484cd151c9b3cf6a761391159aa77f3fa            [2013.0]\n",
       "0000d58fbc18012bf6fa2605a7b0357d126ee69bc41032ace6b6223c48468887    [2021.0, 2021.0]\n",
       "000120d0c8aa304fcf12ab4b85e21feb80a342cfea03d461a50a3e16626a4177            [2004.0]\n",
       "00014d71a389170e668ba96ae8e1f9d991591acc8990253cc62a371eea92155b            [2009.0]\n",
       "                                                                          ...       \n",
       "fffc254e627e4bd1bc0ed7f01f9aebbba7c3cc56ac914ebadddd76333a7855fc            [2004.0]\n",
       "fffcf97db1e9c13898f4eb4cd1c2fe862358480e104535a548f1b9daf660771c            [2015.0]\n",
       "fffe7552892f8ca5fb8647d49ca805b72ea0e9538b6b015e59d649b349641174            [2014.0]\n",
       "ffff49f963e4493d8bbc7cc15365423d84a767259f7200a11548e704e156d898            [2020.0]\n",
       "ffffa3eb3575f43b86d986911463dce7bcadcea227e5a4b0f1756744efdb7477            [2018.0]\n",
       "Name: orgyear, Length: 153443, dtype: object"
      ]
     },
     "execution_count": 190,
     "metadata": {},
     "output_type": "execute_result"
    }
   ],
   "source": [
    "raw_data.groupby('email_hash')['orgyear'].apply(list)"
   ]
  },
  {
   "cell_type": "code",
   "execution_count": 211,
   "id": "bba59317",
   "metadata": {},
   "outputs": [],
   "source": [
    "def test(val):\n",
    "    list_values = list(val)\n",
    "#     return list_values\n",
    "    for value in list_values:\n",
    "        if math.isnan(value):\n",
    "            return 1        \n",
    "    return 0"
   ]
  },
  {
   "cell_type": "code",
   "execution_count": 216,
   "id": "9238701c",
   "metadata": {},
   "outputs": [],
   "source": [
    "test_data = raw_data.groupby('email_hash')['orgyear'].apply(list)"
   ]
  },
  {
   "cell_type": "code",
   "execution_count": 224,
   "id": "94b0e6c8",
   "metadata": {},
   "outputs": [
    {
     "data": {
      "text/plain": [
       "email_hash\n",
       "01a284abb1ed97d72506b7a3f641b9b545e1878dfe9e5021859ab9f95b654114            [nan]\n",
       "040a1f04539f587f7c656912fe42d03617f2f65b33c2aa8026dfe38ab15664b2            [nan]\n",
       "060f40a7586f40c79211d1d6ba97b928d16991dfb9f4cb8cdbb2a4e19c5ced7e            [nan]\n",
       "0e25bf875aaa6550db1aa9f9452179ed1cd6737c079fbc9ae3056adcee011189    [nan, 2017.0]\n",
       "0f4c60c23f3161fa21002935631eeb51f3d94aaa75fee7c33937c4641799889e            [nan]\n",
       "                                                                        ...      \n",
       "f0e7f60ee9d43d575b80afd9b24057c303d2a2a2e0877db4c6f0304dbe88f5fe            [nan]\n",
       "f7b814c6c4b821b6293ae3f9789c8839f3b0f8666b1d02917cc132315c74fd2c            [nan]\n",
       "f9c1d0e623046d445a705bc39007f05619bcd37c75d3e8a9f840beda979d776d            [nan]\n",
       "fadfe9dd062538ab3c2069a0d60aae2752ed0f513c79af886b5dbbd88c92c631            [nan]\n",
       "fcea167cdfdb1e2f23a2733ab591e6a42bda2e5560826e18c5174d62b4f2cda5            [nan]\n",
       "Name: orgyear, Length: 84, dtype: object"
      ]
     },
     "execution_count": 224,
     "metadata": {},
     "output_type": "execute_result"
    }
   ],
   "source": [
    "test_data[temp==1]"
   ]
  },
  {
   "cell_type": "code",
   "execution_count": 215,
   "id": "46f958fc",
   "metadata": {},
   "outputs": [
    {
     "data": {
      "text/plain": [
       "email_hash\n",
       "01a284abb1ed97d72506b7a3f641b9b545e1878dfe9e5021859ab9f95b654114    1\n",
       "040a1f04539f587f7c656912fe42d03617f2f65b33c2aa8026dfe38ab15664b2    1\n",
       "060f40a7586f40c79211d1d6ba97b928d16991dfb9f4cb8cdbb2a4e19c5ced7e    1\n",
       "0e25bf875aaa6550db1aa9f9452179ed1cd6737c079fbc9ae3056adcee011189    1\n",
       "0f4c60c23f3161fa21002935631eeb51f3d94aaa75fee7c33937c4641799889e    1\n",
       "                                                                   ..\n",
       "f0e7f60ee9d43d575b80afd9b24057c303d2a2a2e0877db4c6f0304dbe88f5fe    1\n",
       "f7b814c6c4b821b6293ae3f9789c8839f3b0f8666b1d02917cc132315c74fd2c    1\n",
       "f9c1d0e623046d445a705bc39007f05619bcd37c75d3e8a9f840beda979d776d    1\n",
       "fadfe9dd062538ab3c2069a0d60aae2752ed0f513c79af886b5dbbd88c92c631    1\n",
       "fcea167cdfdb1e2f23a2733ab591e6a42bda2e5560826e18c5174d62b4f2cda5    1\n",
       "Name: orgyear, Length: 84, dtype: int64"
      ]
     },
     "execution_count": 215,
     "metadata": {},
     "output_type": "execute_result"
    }
   ],
   "source": [
    "temp[temp==1]"
   ]
  },
  {
   "cell_type": "markdown",
   "id": "eb321316",
   "metadata": {},
   "source": [
    "## Knn Imputation for Missing Values"
   ]
  },
  {
   "cell_type": "code",
   "execution_count": null,
   "id": "2cbca460",
   "metadata": {},
   "outputs": [],
   "source": []
  }
 ],
 "metadata": {
  "kernelspec": {
   "display_name": "Python 3 (ipykernel)",
   "language": "python",
   "name": "python3"
  },
  "language_info": {
   "codemirror_mode": {
    "name": "ipython",
    "version": 3
   },
   "file_extension": ".py",
   "mimetype": "text/x-python",
   "name": "python",
   "nbconvert_exporter": "python",
   "pygments_lexer": "ipython3",
   "version": "3.11.5"
  }
 },
 "nbformat": 4,
 "nbformat_minor": 5
}
