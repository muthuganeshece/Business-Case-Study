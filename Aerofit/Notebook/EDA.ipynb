{
 "cells": [
  {
   "cell_type": "code",
   "execution_count": null,
   "id": "494fd1c2-9b6a-45ef-864e-c2de8f9d9439",
   "metadata": {},
   "outputs": [],
   "source": [
    "import numpy as np\n",
    "import pandas as pd\n",
    "import matplotlib.pyplot as plt\n",
    "import seaborn as sns"
   ]
  },
  {
   "cell_type": "code",
   "execution_count": 2,
   "id": "a748ae04-aef1-4ad9-bbc3-a93935698f13",
   "metadata": {},
   "outputs": [],
   "source": [
    "# raw_data = pd.read_csv(r'E:\\Nextstep\\Scaler\\Business-Case-Study\\Aerofit\\Dataset\\aerofit_treadmill.csv')\n",
    "raw_data = pd.read_csv(r'F:\\Muthu_2023\\Personal\\NextStep\\DSCourse\\Scaler\\Business-Case-Study\\Aerofit\\Dataset\\aerofit_treadmill.csv')"
   ]
  },
  {
   "cell_type": "code",
   "execution_count": null,
   "id": "4b7da546-d4bf-4c87-a858-a7ce7c02adba",
   "metadata": {
    "scrolled": true
   },
   "outputs": [],
   "source": [
    "raw_data.head()"
   ]
  },
  {
   "cell_type": "code",
   "execution_count": null,
   "id": "1f887cf1-cd37-460f-8663-00b26a4dc0a8",
   "metadata": {},
   "outputs": [],
   "source": [
    "raw_data.info()"
   ]
  },
  {
   "cell_type": "markdown",
   "id": "e783c537-d447-4e3d-8dd0-833c76df8c5b",
   "metadata": {},
   "source": [
    "**Inference:**\n",
    "- `No null values in all the columns`\n",
    "- `3 categorical and 5 numerical columns`"
   ]
  },
  {
   "cell_type": "code",
   "execution_count": null,
   "id": "755dea6c-d8cc-4fd4-8715-0a8af09d76c6",
   "metadata": {},
   "outputs": [],
   "source": [
    "raw_data.describe()"
   ]
  },
  {
   "cell_type": "markdown",
   "id": "bca259d9-3960-4856-ae6f-904b99882cd8",
   "metadata": {},
   "source": [
    "**Inference:**\n",
    "- `25% of users in the age range of 24 to 26`\n",
    "- `Education, Usage and fitness seems to be integer and it requires detailed analysis`\n",
    "- ``"
   ]
  },
  {
   "cell_type": "code",
   "execution_count": null,
   "id": "08259d89-f703-4035-bbef-14fb8cbe915c",
   "metadata": {},
   "outputs": [],
   "source": [
    "raw_data.describe(include='object')"
   ]
  },
  {
   "cell_type": "markdown",
   "id": "eca3599d-bdb6-454c-a20a-cb006c409339",
   "metadata": {},
   "source": [
    "# Exploratory Data Analysis"
   ]
  },
  {
   "cell_type": "code",
   "execution_count": null,
   "id": "8c2bec20-809b-4137-9ce1-c4715560be52",
   "metadata": {},
   "outputs": [],
   "source": [
    "plt.rcParams['figure.figsize'] = (12,6)"
   ]
  },
  {
   "cell_type": "markdown",
   "id": "aaed84fd-ecab-49ca-a7c1-f1338b9ee24b",
   "metadata": {},
   "source": [
    "## UVA on Categorical column"
   ]
  },
  {
   "cell_type": "code",
   "execution_count": null,
   "id": "287093e8-a0cb-49ab-ac54-83e0abf880a3",
   "metadata": {},
   "outputs": [],
   "source": [
    "def plot_count(df, col):\n",
    "    plt.suptitle('Sales Quantity by ' + col)\n",
    "    plt.subplot(1,2,1)\n",
    "    sns.countplot(data = df, x = col)\n",
    "    plt.subplot(1,2,2)\n",
    "    plt.pie(df[col].value_counts(), labels = list(df[col].value_counts().index), autopct = '%0.1f%%')"
   ]
  },
  {
   "cell_type": "code",
   "execution_count": null,
   "id": "5f4f1250-c089-459a-a5bf-41d8aba3447c",
   "metadata": {},
   "outputs": [],
   "source": [
    "plot_count(raw_data, 'Product')"
   ]
  },
  {
   "cell_type": "markdown",
   "id": "b8e2ec6b-1c9b-4a28-b43b-f6c5f006345c",
   "metadata": {},
   "source": [
    "**Inference:**\n",
    "- `KP281 has highest market share among other products`"
   ]
  },
  {
   "cell_type": "code",
   "execution_count": null,
   "id": "b0827ab0-8586-4c2a-98f9-3dd056b7e6bb",
   "metadata": {},
   "outputs": [],
   "source": [
    "plot_count(raw_data, 'Gender')"
   ]
  },
  {
   "cell_type": "markdown",
   "id": "ac142949-fc83-45dc-b30a-d9aa0c9ee380",
   "metadata": {},
   "source": [
    "**Inference:**\n",
    "- `Purchase of male customer is the most`"
   ]
  },
  {
   "cell_type": "code",
   "execution_count": null,
   "id": "41fb4214-36b0-437c-97ff-7f32de3404de",
   "metadata": {
    "scrolled": true
   },
   "outputs": [],
   "source": [
    "plot_count(raw_data, 'MaritalStatus')"
   ]
  },
  {
   "cell_type": "markdown",
   "id": "cf5f7a39-b02e-41ae-b8bf-0acda2e8d407",
   "metadata": {},
   "source": [
    "**Inference:**\n",
    "- `Partnered makes the most purchase than single`"
   ]
  },
  {
   "cell_type": "code",
   "execution_count": null,
   "id": "a9bf4e21-6811-4ab4-a2d7-d9c70676f002",
   "metadata": {},
   "outputs": [],
   "source": [
    "plot_count(raw_data, 'Usage')"
   ]
  },
  {
   "cell_type": "markdown",
   "id": "5d826a2d-92ed-4fb0-b0da-45a0099fff9d",
   "metadata": {},
   "source": [
    "**Inferece:**\n",
    "- `Users purchased the most who uses the treadmill 3-4 days a week`\n",
    "- `80% of users uses the treadmill 2-4 days a week`"
   ]
  },
  {
   "cell_type": "code",
   "execution_count": null,
   "id": "4cec49d8-9133-48fb-965d-03b1dad53d8e",
   "metadata": {},
   "outputs": [],
   "source": [
    "plot_count(raw_data, 'Fitness')"
   ]
  },
  {
   "cell_type": "markdown",
   "id": "7d56461a-b068-4369-93e9-93fc77a81cff",
   "metadata": {},
   "source": [
    "**Inference:**\n",
    "- `Average rated users are the most in purchasing the treadmill`"
   ]
  },
  {
   "cell_type": "code",
   "execution_count": null,
   "id": "11289ab8-bb27-4948-9c7f-0f74e4e6be8a",
   "metadata": {},
   "outputs": [],
   "source": [
    "plot_count(raw_data, 'Education')"
   ]
  },
  {
   "cell_type": "markdown",
   "id": "fa61a98f-fe4b-4649-9c4f-563ff442f264",
   "metadata": {},
   "source": [
    "**Inference:**\n",
    "- `Users with 14 and 16 years of education purchases the most`\n",
    "- `Need further investigation on this part how it relates to the purchase of treadmill`"
   ]
  },
  {
   "cell_type": "markdown",
   "id": "5bacd70a-5525-4191-9664-8cba73d73ea5",
   "metadata": {},
   "source": [
    "## UVA on Numerical columns"
   ]
  },
  {
   "cell_type": "code",
   "execution_count": null,
   "id": "01534c5c-b96d-4743-8057-895c4ecc7a03",
   "metadata": {},
   "outputs": [],
   "source": [
    "def plot_hist(df, col):\n",
    "    plt.suptitle('Sales Quantity by ' + col)\n",
    "    plt.subplot(1,2,1)\n",
    "    sns.histplot(data = df, x = col)\n",
    "    plt.subplot(1,2,2)\n",
    "    sns.boxplot(data = df, y = col)\n",
    "    plt.show()"
   ]
  },
  {
   "cell_type": "code",
   "execution_count": null,
   "id": "f1fad3c7-d559-4acc-aabe-5436e2a4f49d",
   "metadata": {},
   "outputs": [],
   "source": [
    "plot_hist(raw_data, 'Age')"
   ]
  },
  {
   "cell_type": "markdown",
   "id": "558b2e53",
   "metadata": {},
   "source": [
    "**Inference:**\n",
    "- `Predominant of the purchase is peformed by 20 to 35 age groups`"
   ]
  },
  {
   "cell_type": "code",
   "execution_count": null,
   "id": "a333f01d-157b-490f-aa25-b35939f1dd3a",
   "metadata": {},
   "outputs": [],
   "source": [
    "plot_hist(raw_data, 'Income')"
   ]
  },
  {
   "cell_type": "markdown",
   "id": "8e9ce373",
   "metadata": {},
   "source": [
    "**Inference:**\n",
    "- `75% of the purchases are performed by users with income lesser than 60`"
   ]
  },
  {
   "cell_type": "code",
   "execution_count": null,
   "id": "9bd03499-3a44-40ef-8619-c87a73fd5b7e",
   "metadata": {},
   "outputs": [],
   "source": [
    "plot_hist(raw_data, 'Miles')"
   ]
  },
  {
   "cell_type": "markdown",
   "id": "cc3905fe-d82b-4720-86d2-55d02f73ffd2",
   "metadata": {},
   "source": [
    "**Inference:**\n",
    "- `Users who runs 50-100 miles are the most who shown the interest in purchasing the treadmill`"
   ]
  },
  {
   "cell_type": "markdown",
   "id": "4b387029",
   "metadata": {},
   "source": [
    "# Bivariate Analysis"
   ]
  },
  {
   "cell_type": "code",
   "execution_count": null,
   "id": "a2df86c9-2259-4cca-876c-825bec6f4bd8",
   "metadata": {},
   "outputs": [],
   "source": [
    "plt.figure(figsize=(12, 16))\n",
    "plt.subplot(3,2,1)\n",
    "sns.countplot(data = raw_data, hue = 'Product', x='Gender')\n",
    "plt.subplot(3,2,2)\n",
    "sns.countplot(data = raw_data, hue = 'Product', x='MaritalStatus')\n",
    "plt.subplot(3,2,3)\n",
    "sns.countplot(data = raw_data, hue = 'Product', x='Usage')\n",
    "plt.subplot(3,2,4)\n",
    "sns.countplot(data = raw_data, hue = 'Product', x='Fitness')\n",
    "plt.subplot(3,1,3)\n",
    "sns.countplot(data = raw_data, hue = 'Product', x='Education')"
   ]
  },
  {
   "cell_type": "markdown",
   "id": "5222816a",
   "metadata": {},
   "source": [
    "**Inference:**\n",
    "- ***Product vs Gender:*** `Female show very less interest in buying the product KP781`\n",
    "- ***Product vs Martial Status:*** `Partnered users are highly interested in buying treadmill`\n",
    "- ***Product vs Usage:*** `Users with high usage are more prone to buy KP781 and less usage prefers other 2 products`\n",
    "- ***Product vs Fitness:*** `Medium fitness users (2-4) are much interested in buying treadmill predominantly and only High fitness users prefer KP781`\n",
    "- ***Product vs Education:*** `Higher education group prefers product KP781`"
   ]
  },
  {
   "cell_type": "code",
   "execution_count": null,
   "id": "0635ce50",
   "metadata": {},
   "outputs": [],
   "source": [
    "plt.figure(figsize=(12, 6))\n",
    "plt.subplot(1,3,1)\n",
    "sns.boxplot(data = raw_data, x = 'Product', y='Age')\n",
    "plt.subplot(1,3,2)\n",
    "sns.boxplot(data = raw_data, x = 'Product', y='Income')\n",
    "plt.subplot(1,3,3)\n",
    "sns.boxplot(data = raw_data, x = 'Product', y='Miles')\n",
    "# plt.subplot(3,2,4)\n",
    "# sns.countplot(data = raw_data, hue = 'Product', x='Fitness')\n",
    "# plt.subplot(3,1,3)\n",
    "# sns.countplot(data = raw_data, hue = 'Product', x='Education')\n",
    "plt.tight_layout()"
   ]
  },
  {
   "cell_type": "markdown",
   "id": "a92eb431",
   "metadata": {},
   "source": [
    "**Inference:**\n",
    "- ***Age vs Product:*** `Predominant of the users of KP781 are in 20s age group`\n",
    "- ***Income vs Product:*** `Purchase of KP781 is dominated by higher income users. Hence it seems that KP781 is on costlier side.\n",
    "KP481 is in the medium range and KP 281 is on the lower side`\n",
    "- ***Miles vs Product:*** `Purchase of KP781 is dominated by higher miles users and it seems that it is preferred by heavy workout users`"
   ]
  },
  {
   "cell_type": "markdown",
   "id": "8dade331",
   "metadata": {},
   "source": [
    "# Multivariate Analysis"
   ]
  },
  {
   "cell_type": "code",
   "execution_count": null,
   "id": "236a4d3d",
   "metadata": {},
   "outputs": [],
   "source": [
    "sns.boxplot(data=raw_data, y = 'Age', x = 'Gender', hue='Product')"
   ]
  },
  {
   "cell_type": "markdown",
   "id": "1b6ad01b",
   "metadata": {},
   "source": [
    "**Inference:**\n",
    "- `Median age of male interested in KP481 is lesser than other 2 products whereas it is vice versa for female users`\n"
   ]
  },
  {
   "cell_type": "code",
   "execution_count": null,
   "id": "0ff357c9",
   "metadata": {},
   "outputs": [],
   "source": [
    "sns.boxplot(data=raw_data, y = 'Income', x = 'Gender', hue='Product')"
   ]
  },
  {
   "cell_type": "code",
   "execution_count": null,
   "id": "86c47e94",
   "metadata": {},
   "outputs": [],
   "source": [
    "sns.boxplot(data=raw_data, y = 'Miles', x = 'Gender', hue='Product')"
   ]
  },
  {
   "cell_type": "code",
   "execution_count": null,
   "id": "508436f2",
   "metadata": {},
   "outputs": [],
   "source": [
    "sns.boxplot(data=raw_data, y = 'Age', x = 'MaritalStatus', hue='Product')"
   ]
  },
  {
   "cell_type": "code",
   "execution_count": null,
   "id": "677e45d5",
   "metadata": {},
   "outputs": [],
   "source": [
    "sns.boxplot(data=raw_data, y = 'Age', x = 'Usage', hue='Product')"
   ]
  },
  {
   "cell_type": "markdown",
   "id": "85946e73",
   "metadata": {},
   "source": [
    "**Inference:**\n",
    "- `High usage `"
   ]
  },
  {
   "cell_type": "code",
   "execution_count": null,
   "id": "59f6d6cb",
   "metadata": {},
   "outputs": [],
   "source": [
    "sns.boxplot(data=raw_data, y = 'Income', x = 'Product', hue='Fitness')"
   ]
  },
  {
   "cell_type": "code",
   "execution_count": null,
   "id": "e467a13d",
   "metadata": {},
   "outputs": [],
   "source": [
    "sns.jointplot(data=raw_data, x = 'Income',  y='Age', hue = 'Product')"
   ]
  },
  {
   "cell_type": "markdown",
   "id": "7bd1498b",
   "metadata": {},
   "source": [
    "# Conditional Probability"
   ]
  },
  {
   "cell_type": "markdown",
   "id": "9f9f3b59",
   "metadata": {},
   "source": [
    "## Gender and Product"
   ]
  },
  {
   "cell_type": "code",
   "execution_count": 38,
   "id": "08f9c378",
   "metadata": {},
   "outputs": [
    {
     "name": "stdout",
     "output_type": "stream",
     "text": [
      "\u001b[92m Conditional Probability given Gender\n"
     ]
    },
    {
     "data": {
      "text/html": [
       "<div>\n",
       "<style scoped>\n",
       "    .dataframe tbody tr th:only-of-type {\n",
       "        vertical-align: middle;\n",
       "    }\n",
       "\n",
       "    .dataframe tbody tr th {\n",
       "        vertical-align: top;\n",
       "    }\n",
       "\n",
       "    .dataframe thead th {\n",
       "        text-align: right;\n",
       "    }\n",
       "</style>\n",
       "<table border=\"1\" class=\"dataframe\">\n",
       "  <thead>\n",
       "    <tr style=\"text-align: right;\">\n",
       "      <th>Gender</th>\n",
       "      <th>Female</th>\n",
       "      <th>Male</th>\n",
       "      <th>All</th>\n",
       "    </tr>\n",
       "    <tr>\n",
       "      <th>Product</th>\n",
       "      <th></th>\n",
       "      <th></th>\n",
       "      <th></th>\n",
       "    </tr>\n",
       "  </thead>\n",
       "  <tbody>\n",
       "    <tr>\n",
       "      <th>KP281</th>\n",
       "      <td>0.526316</td>\n",
       "      <td>0.384615</td>\n",
       "      <td>0.444444</td>\n",
       "    </tr>\n",
       "    <tr>\n",
       "      <th>KP481</th>\n",
       "      <td>0.381579</td>\n",
       "      <td>0.298077</td>\n",
       "      <td>0.333333</td>\n",
       "    </tr>\n",
       "    <tr>\n",
       "      <th>KP781</th>\n",
       "      <td>0.092105</td>\n",
       "      <td>0.317308</td>\n",
       "      <td>0.222222</td>\n",
       "    </tr>\n",
       "  </tbody>\n",
       "</table>\n",
       "</div>"
      ],
      "text/plain": [
       "Gender     Female      Male       All\n",
       "Product                              \n",
       "KP281    0.526316  0.384615  0.444444\n",
       "KP481    0.381579  0.298077  0.333333\n",
       "KP781    0.092105  0.317308  0.222222"
      ]
     },
     "metadata": {},
     "output_type": "display_data"
    }
   ],
   "source": [
    "cp_df = pd.crosstab(raw_data['Product'], columns = raw_data['Gender'], margins = True, normalize='columns')\n",
    "print(\"\\033[92m\", 'Conditional Probability given Gender')\n",
    "display(cp_df)"
   ]
  },
  {
   "cell_type": "markdown",
   "id": "75235476",
   "metadata": {},
   "source": [
    "**Inference:**\n",
    "- `Above table represents the conditional probability of buying an item (row) given gender (column)`\n",
    "- `For Ex: Probability of buying KP281 given female is 0.526316`\n",
    "- `Table infers that Female are more prone to buy products KP281 and KP481 than KP781 compared to male`"
   ]
  },
  {
   "cell_type": "code",
   "execution_count": 37,
   "id": "105e8702",
   "metadata": {},
   "outputs": [
    {
     "name": "stdout",
     "output_type": "stream",
     "text": [
      "\u001b[92m Conditional Probability given Product\n"
     ]
    },
    {
     "data": {
      "text/html": [
       "<div>\n",
       "<style scoped>\n",
       "    .dataframe tbody tr th:only-of-type {\n",
       "        vertical-align: middle;\n",
       "    }\n",
       "\n",
       "    .dataframe tbody tr th {\n",
       "        vertical-align: top;\n",
       "    }\n",
       "\n",
       "    .dataframe thead th {\n",
       "        text-align: right;\n",
       "    }\n",
       "</style>\n",
       "<table border=\"1\" class=\"dataframe\">\n",
       "  <thead>\n",
       "    <tr style=\"text-align: right;\">\n",
       "      <th>Gender</th>\n",
       "      <th>Female</th>\n",
       "      <th>Male</th>\n",
       "    </tr>\n",
       "    <tr>\n",
       "      <th>Product</th>\n",
       "      <th></th>\n",
       "      <th></th>\n",
       "    </tr>\n",
       "  </thead>\n",
       "  <tbody>\n",
       "    <tr>\n",
       "      <th>KP281</th>\n",
       "      <td>0.500000</td>\n",
       "      <td>0.500000</td>\n",
       "    </tr>\n",
       "    <tr>\n",
       "      <th>KP481</th>\n",
       "      <td>0.483333</td>\n",
       "      <td>0.516667</td>\n",
       "    </tr>\n",
       "    <tr>\n",
       "      <th>KP781</th>\n",
       "      <td>0.175000</td>\n",
       "      <td>0.825000</td>\n",
       "    </tr>\n",
       "    <tr>\n",
       "      <th>All</th>\n",
       "      <td>0.422222</td>\n",
       "      <td>0.577778</td>\n",
       "    </tr>\n",
       "  </tbody>\n",
       "</table>\n",
       "</div>"
      ],
      "text/plain": [
       "Gender     Female      Male\n",
       "Product                    \n",
       "KP281    0.500000  0.500000\n",
       "KP481    0.483333  0.516667\n",
       "KP781    0.175000  0.825000\n",
       "All      0.422222  0.577778"
      ]
     },
     "metadata": {},
     "output_type": "display_data"
    }
   ],
   "source": [
    "cp_df = pd.crosstab(raw_data['Product'], columns = raw_data['Gender'], margins = True, normalize='index')\n",
    "print(\"\\033[92m\", 'Conditional Probability given Product')\n",
    "display(cp_df)"
   ]
  },
  {
   "cell_type": "markdown",
   "id": "6f685488",
   "metadata": {},
   "source": [
    "**Inference:**\n",
    "- `Above table represents the conditional probability of being a gender for the given item`\n",
    "- `For Ex: Probability of being Male given KP481 is bought, is 0.51667`\n",
    "- `It indicates, both gender are almost equally likely to buy KP281 and KP481 products`"
   ]
  },
  {
   "cell_type": "markdown",
   "id": "c8fc0c22",
   "metadata": {},
   "source": [
    "## Education and Product"
   ]
  },
  {
   "cell_type": "code",
   "execution_count": 41,
   "id": "b1b23a52",
   "metadata": {},
   "outputs": [
    {
     "name": "stdout",
     "output_type": "stream",
     "text": [
      "\u001b[92m Conditional Probability given Education\n"
     ]
    },
    {
     "data": {
      "text/html": [
       "<div>\n",
       "<style scoped>\n",
       "    .dataframe tbody tr th:only-of-type {\n",
       "        vertical-align: middle;\n",
       "    }\n",
       "\n",
       "    .dataframe tbody tr th {\n",
       "        vertical-align: top;\n",
       "    }\n",
       "\n",
       "    .dataframe thead th {\n",
       "        text-align: right;\n",
       "    }\n",
       "</style>\n",
       "<table border=\"1\" class=\"dataframe\">\n",
       "  <thead>\n",
       "    <tr style=\"text-align: right;\">\n",
       "      <th>Education</th>\n",
       "      <th>12</th>\n",
       "      <th>13</th>\n",
       "      <th>14</th>\n",
       "      <th>15</th>\n",
       "      <th>16</th>\n",
       "      <th>18</th>\n",
       "      <th>20</th>\n",
       "      <th>21</th>\n",
       "      <th>All</th>\n",
       "    </tr>\n",
       "    <tr>\n",
       "      <th>Product</th>\n",
       "      <th></th>\n",
       "      <th></th>\n",
       "      <th></th>\n",
       "      <th></th>\n",
       "      <th></th>\n",
       "      <th></th>\n",
       "      <th></th>\n",
       "      <th></th>\n",
       "      <th></th>\n",
       "    </tr>\n",
       "  </thead>\n",
       "  <tbody>\n",
       "    <tr>\n",
       "      <th>KP281</th>\n",
       "      <td>0.666667</td>\n",
       "      <td>0.6</td>\n",
       "      <td>0.545455</td>\n",
       "      <td>0.8</td>\n",
       "      <td>0.458824</td>\n",
       "      <td>0.086957</td>\n",
       "      <td>0.0</td>\n",
       "      <td>0.0</td>\n",
       "      <td>0.444444</td>\n",
       "    </tr>\n",
       "    <tr>\n",
       "      <th>KP481</th>\n",
       "      <td>0.333333</td>\n",
       "      <td>0.4</td>\n",
       "      <td>0.418182</td>\n",
       "      <td>0.2</td>\n",
       "      <td>0.364706</td>\n",
       "      <td>0.086957</td>\n",
       "      <td>0.0</td>\n",
       "      <td>0.0</td>\n",
       "      <td>0.333333</td>\n",
       "    </tr>\n",
       "    <tr>\n",
       "      <th>KP781</th>\n",
       "      <td>0.000000</td>\n",
       "      <td>0.0</td>\n",
       "      <td>0.036364</td>\n",
       "      <td>0.0</td>\n",
       "      <td>0.176471</td>\n",
       "      <td>0.826087</td>\n",
       "      <td>1.0</td>\n",
       "      <td>1.0</td>\n",
       "      <td>0.222222</td>\n",
       "    </tr>\n",
       "  </tbody>\n",
       "</table>\n",
       "</div>"
      ],
      "text/plain": [
       "Education        12   13        14   15        16        18   20   21  \\\n",
       "Product                                                                 \n",
       "KP281      0.666667  0.6  0.545455  0.8  0.458824  0.086957  0.0  0.0   \n",
       "KP481      0.333333  0.4  0.418182  0.2  0.364706  0.086957  0.0  0.0   \n",
       "KP781      0.000000  0.0  0.036364  0.0  0.176471  0.826087  1.0  1.0   \n",
       "\n",
       "Education       All  \n",
       "Product              \n",
       "KP281      0.444444  \n",
       "KP481      0.333333  \n",
       "KP781      0.222222  "
      ]
     },
     "metadata": {},
     "output_type": "display_data"
    }
   ],
   "source": [
    "cp_df = pd.crosstab(raw_data['Product'], columns = raw_data['Education'], margins = True, normalize='columns')\n",
    "print(\"\\033[92m\", 'Conditional Probability given Education')\n",
    "display(cp_df)"
   ]
  },
  {
   "cell_type": "markdown",
   "id": "4c563178",
   "metadata": {},
   "source": [
    "**Inference:**\n",
    "- `Above table represents the conditional probability of buying an item (row) given educational years (column)`\n",
    "- `For Ex: Probability of buying KP281 given educational years as 12, is 0.66667`\n",
    "- `Table infers that users with 18 and more years of education tend buy product KP781 than KP281 and KP481`"
   ]
  },
  {
   "cell_type": "code",
   "execution_count": 42,
   "id": "7847bf42",
   "metadata": {},
   "outputs": [
    {
     "name": "stdout",
     "output_type": "stream",
     "text": [
      "\u001b[92m Conditional Probability given Product\n"
     ]
    },
    {
     "data": {
      "text/html": [
       "<div>\n",
       "<style scoped>\n",
       "    .dataframe tbody tr th:only-of-type {\n",
       "        vertical-align: middle;\n",
       "    }\n",
       "\n",
       "    .dataframe tbody tr th {\n",
       "        vertical-align: top;\n",
       "    }\n",
       "\n",
       "    .dataframe thead th {\n",
       "        text-align: right;\n",
       "    }\n",
       "</style>\n",
       "<table border=\"1\" class=\"dataframe\">\n",
       "  <thead>\n",
       "    <tr style=\"text-align: right;\">\n",
       "      <th>Education</th>\n",
       "      <th>12</th>\n",
       "      <th>13</th>\n",
       "      <th>14</th>\n",
       "      <th>15</th>\n",
       "      <th>16</th>\n",
       "      <th>18</th>\n",
       "      <th>20</th>\n",
       "      <th>21</th>\n",
       "    </tr>\n",
       "    <tr>\n",
       "      <th>Product</th>\n",
       "      <th></th>\n",
       "      <th></th>\n",
       "      <th></th>\n",
       "      <th></th>\n",
       "      <th></th>\n",
       "      <th></th>\n",
       "      <th></th>\n",
       "      <th></th>\n",
       "    </tr>\n",
       "  </thead>\n",
       "  <tbody>\n",
       "    <tr>\n",
       "      <th>KP281</th>\n",
       "      <td>0.025000</td>\n",
       "      <td>0.037500</td>\n",
       "      <td>0.375000</td>\n",
       "      <td>0.050000</td>\n",
       "      <td>0.487500</td>\n",
       "      <td>0.025000</td>\n",
       "      <td>0.000000</td>\n",
       "      <td>0.000000</td>\n",
       "    </tr>\n",
       "    <tr>\n",
       "      <th>KP481</th>\n",
       "      <td>0.016667</td>\n",
       "      <td>0.033333</td>\n",
       "      <td>0.383333</td>\n",
       "      <td>0.016667</td>\n",
       "      <td>0.516667</td>\n",
       "      <td>0.033333</td>\n",
       "      <td>0.000000</td>\n",
       "      <td>0.000000</td>\n",
       "    </tr>\n",
       "    <tr>\n",
       "      <th>KP781</th>\n",
       "      <td>0.000000</td>\n",
       "      <td>0.000000</td>\n",
       "      <td>0.050000</td>\n",
       "      <td>0.000000</td>\n",
       "      <td>0.375000</td>\n",
       "      <td>0.475000</td>\n",
       "      <td>0.025000</td>\n",
       "      <td>0.075000</td>\n",
       "    </tr>\n",
       "    <tr>\n",
       "      <th>All</th>\n",
       "      <td>0.016667</td>\n",
       "      <td>0.027778</td>\n",
       "      <td>0.305556</td>\n",
       "      <td>0.027778</td>\n",
       "      <td>0.472222</td>\n",
       "      <td>0.127778</td>\n",
       "      <td>0.005556</td>\n",
       "      <td>0.016667</td>\n",
       "    </tr>\n",
       "  </tbody>\n",
       "</table>\n",
       "</div>"
      ],
      "text/plain": [
       "Education        12        13        14        15        16        18  \\\n",
       "Product                                                                 \n",
       "KP281      0.025000  0.037500  0.375000  0.050000  0.487500  0.025000   \n",
       "KP481      0.016667  0.033333  0.383333  0.016667  0.516667  0.033333   \n",
       "KP781      0.000000  0.000000  0.050000  0.000000  0.375000  0.475000   \n",
       "All        0.016667  0.027778  0.305556  0.027778  0.472222  0.127778   \n",
       "\n",
       "Education        20        21  \n",
       "Product                        \n",
       "KP281      0.000000  0.000000  \n",
       "KP481      0.000000  0.000000  \n",
       "KP781      0.025000  0.075000  \n",
       "All        0.005556  0.016667  "
      ]
     },
     "metadata": {},
     "output_type": "display_data"
    }
   ],
   "source": [
    "cp_df = pd.crosstab(raw_data['Product'], columns = raw_data['Education'], margins = True, normalize='index')\n",
    "print(\"\\033[92m\", 'Conditional Probability given Product')\n",
    "display(cp_df)"
   ]
  },
  {
   "cell_type": "markdown",
   "id": "9d1b4392",
   "metadata": {},
   "source": [
    "**Inference:**\n",
    "- `Above table represents the conditional probability of having respective educational year for the purchase of given item`\n",
    "- `For Ex: Probability of having educational years of 16, given KP481 is bought, is 0.51667`\n",
    "- `It indicates, if an item is bought user is most likely to be having the educational year of 16`"
   ]
  },
  {
   "cell_type": "markdown",
   "id": "784496db",
   "metadata": {},
   "source": [
    "## Marital Status and Product"
   ]
  },
  {
   "cell_type": "code",
   "execution_count": 44,
   "id": "8ecb6962",
   "metadata": {},
   "outputs": [
    {
     "name": "stdout",
     "output_type": "stream",
     "text": [
      "\u001b[92m Conditional Probability given Marital Status\n"
     ]
    },
    {
     "data": {
      "text/html": [
       "<div>\n",
       "<style scoped>\n",
       "    .dataframe tbody tr th:only-of-type {\n",
       "        vertical-align: middle;\n",
       "    }\n",
       "\n",
       "    .dataframe tbody tr th {\n",
       "        vertical-align: top;\n",
       "    }\n",
       "\n",
       "    .dataframe thead th {\n",
       "        text-align: right;\n",
       "    }\n",
       "</style>\n",
       "<table border=\"1\" class=\"dataframe\">\n",
       "  <thead>\n",
       "    <tr style=\"text-align: right;\">\n",
       "      <th>MaritalStatus</th>\n",
       "      <th>Partnered</th>\n",
       "      <th>Single</th>\n",
       "      <th>All</th>\n",
       "    </tr>\n",
       "    <tr>\n",
       "      <th>Product</th>\n",
       "      <th></th>\n",
       "      <th></th>\n",
       "      <th></th>\n",
       "    </tr>\n",
       "  </thead>\n",
       "  <tbody>\n",
       "    <tr>\n",
       "      <th>KP281</th>\n",
       "      <td>0.448598</td>\n",
       "      <td>0.438356</td>\n",
       "      <td>0.444444</td>\n",
       "    </tr>\n",
       "    <tr>\n",
       "      <th>KP481</th>\n",
       "      <td>0.336449</td>\n",
       "      <td>0.328767</td>\n",
       "      <td>0.333333</td>\n",
       "    </tr>\n",
       "    <tr>\n",
       "      <th>KP781</th>\n",
       "      <td>0.214953</td>\n",
       "      <td>0.232877</td>\n",
       "      <td>0.222222</td>\n",
       "    </tr>\n",
       "  </tbody>\n",
       "</table>\n",
       "</div>"
      ],
      "text/plain": [
       "MaritalStatus  Partnered    Single       All\n",
       "Product                                     \n",
       "KP281           0.448598  0.438356  0.444444\n",
       "KP481           0.336449  0.328767  0.333333\n",
       "KP781           0.214953  0.232877  0.222222"
      ]
     },
     "metadata": {},
     "output_type": "display_data"
    }
   ],
   "source": [
    "cp_df = pd.crosstab(raw_data['Product'], columns = raw_data['MaritalStatus'], margins = True, normalize='columns')\n",
    "print(\"\\033[92m\", 'Conditional Probability given Marital Status')\n",
    "display(cp_df)"
   ]
  },
  {
   "cell_type": "markdown",
   "id": "6580b093",
   "metadata": {},
   "source": [
    "**Inference:**\n",
    "- `Above table represents the conditional probability of buying an item (row) given Marital Status (column)`\n",
    "- `For Ex: Probability of buying KP281 given Partnered is 0.448598`\n",
    "- `Table infers that both single and partnered are equally likely to buy any product`"
   ]
  },
  {
   "cell_type": "code",
   "execution_count": 45,
   "id": "520b347a",
   "metadata": {},
   "outputs": [
    {
     "name": "stdout",
     "output_type": "stream",
     "text": [
      "\u001b[92m Conditional Probability given Product\n"
     ]
    },
    {
     "data": {
      "text/html": [
       "<div>\n",
       "<style scoped>\n",
       "    .dataframe tbody tr th:only-of-type {\n",
       "        vertical-align: middle;\n",
       "    }\n",
       "\n",
       "    .dataframe tbody tr th {\n",
       "        vertical-align: top;\n",
       "    }\n",
       "\n",
       "    .dataframe thead th {\n",
       "        text-align: right;\n",
       "    }\n",
       "</style>\n",
       "<table border=\"1\" class=\"dataframe\">\n",
       "  <thead>\n",
       "    <tr style=\"text-align: right;\">\n",
       "      <th>MaritalStatus</th>\n",
       "      <th>Partnered</th>\n",
       "      <th>Single</th>\n",
       "    </tr>\n",
       "    <tr>\n",
       "      <th>Product</th>\n",
       "      <th></th>\n",
       "      <th></th>\n",
       "    </tr>\n",
       "  </thead>\n",
       "  <tbody>\n",
       "    <tr>\n",
       "      <th>KP281</th>\n",
       "      <td>0.600000</td>\n",
       "      <td>0.400000</td>\n",
       "    </tr>\n",
       "    <tr>\n",
       "      <th>KP481</th>\n",
       "      <td>0.600000</td>\n",
       "      <td>0.400000</td>\n",
       "    </tr>\n",
       "    <tr>\n",
       "      <th>KP781</th>\n",
       "      <td>0.575000</td>\n",
       "      <td>0.425000</td>\n",
       "    </tr>\n",
       "    <tr>\n",
       "      <th>All</th>\n",
       "      <td>0.594444</td>\n",
       "      <td>0.405556</td>\n",
       "    </tr>\n",
       "  </tbody>\n",
       "</table>\n",
       "</div>"
      ],
      "text/plain": [
       "MaritalStatus  Partnered    Single\n",
       "Product                           \n",
       "KP281           0.600000  0.400000\n",
       "KP481           0.600000  0.400000\n",
       "KP781           0.575000  0.425000\n",
       "All             0.594444  0.405556"
      ]
     },
     "metadata": {},
     "output_type": "display_data"
    }
   ],
   "source": [
    "cp_df = pd.crosstab(raw_data['Product'], columns = raw_data['MaritalStatus'], margins = True, normalize='index')\n",
    "print(\"\\033[92m\", 'Conditional Probability given Product')\n",
    "display(cp_df)"
   ]
  },
  {
   "cell_type": "markdown",
   "id": "1781f7fd",
   "metadata": {},
   "source": [
    "**Inference:**\n",
    "- `Above table represents the conditional probability of being in Marital status for the purchase of given item`\n",
    "- `For Ex: Probability of being Partnered given KP481 is bought, is 0.6`\n",
    "- `It indicates, if an item is bought the user is slightly more likely to be partnered`"
   ]
  },
  {
   "cell_type": "markdown",
   "id": "7157943c",
   "metadata": {},
   "source": [
    "## Usage and Product"
   ]
  },
  {
   "cell_type": "code",
   "execution_count": 47,
   "id": "5fdd8366",
   "metadata": {},
   "outputs": [
    {
     "name": "stdout",
     "output_type": "stream",
     "text": [
      "\u001b[92m Conditional Probability given Usage\n"
     ]
    },
    {
     "data": {
      "text/html": [
       "<div>\n",
       "<style scoped>\n",
       "    .dataframe tbody tr th:only-of-type {\n",
       "        vertical-align: middle;\n",
       "    }\n",
       "\n",
       "    .dataframe tbody tr th {\n",
       "        vertical-align: top;\n",
       "    }\n",
       "\n",
       "    .dataframe thead th {\n",
       "        text-align: right;\n",
       "    }\n",
       "</style>\n",
       "<table border=\"1\" class=\"dataframe\">\n",
       "  <thead>\n",
       "    <tr style=\"text-align: right;\">\n",
       "      <th>Usage</th>\n",
       "      <th>2</th>\n",
       "      <th>3</th>\n",
       "      <th>4</th>\n",
       "      <th>5</th>\n",
       "      <th>6</th>\n",
       "      <th>7</th>\n",
       "      <th>All</th>\n",
       "    </tr>\n",
       "    <tr>\n",
       "      <th>Product</th>\n",
       "      <th></th>\n",
       "      <th></th>\n",
       "      <th></th>\n",
       "      <th></th>\n",
       "      <th></th>\n",
       "      <th></th>\n",
       "      <th></th>\n",
       "    </tr>\n",
       "  </thead>\n",
       "  <tbody>\n",
       "    <tr>\n",
       "      <th>KP281</th>\n",
       "      <td>0.575758</td>\n",
       "      <td>0.536232</td>\n",
       "      <td>0.423077</td>\n",
       "      <td>0.117647</td>\n",
       "      <td>0.0</td>\n",
       "      <td>0.0</td>\n",
       "      <td>0.444444</td>\n",
       "    </tr>\n",
       "    <tr>\n",
       "      <th>KP481</th>\n",
       "      <td>0.424242</td>\n",
       "      <td>0.449275</td>\n",
       "      <td>0.230769</td>\n",
       "      <td>0.176471</td>\n",
       "      <td>0.0</td>\n",
       "      <td>0.0</td>\n",
       "      <td>0.333333</td>\n",
       "    </tr>\n",
       "    <tr>\n",
       "      <th>KP781</th>\n",
       "      <td>0.000000</td>\n",
       "      <td>0.014493</td>\n",
       "      <td>0.346154</td>\n",
       "      <td>0.705882</td>\n",
       "      <td>1.0</td>\n",
       "      <td>1.0</td>\n",
       "      <td>0.222222</td>\n",
       "    </tr>\n",
       "  </tbody>\n",
       "</table>\n",
       "</div>"
      ],
      "text/plain": [
       "Usage           2         3         4         5    6    7       All\n",
       "Product                                                            \n",
       "KP281    0.575758  0.536232  0.423077  0.117647  0.0  0.0  0.444444\n",
       "KP481    0.424242  0.449275  0.230769  0.176471  0.0  0.0  0.333333\n",
       "KP781    0.000000  0.014493  0.346154  0.705882  1.0  1.0  0.222222"
      ]
     },
     "metadata": {},
     "output_type": "display_data"
    }
   ],
   "source": [
    "cp_df = pd.crosstab(raw_data['Product'], columns = raw_data['Usage'], margins = True, normalize='columns')\n",
    "print(\"\\033[92m\", 'Conditional Probability given Usage')\n",
    "display(cp_df)"
   ]
  },
  {
   "cell_type": "markdown",
   "id": "cd713ceb",
   "metadata": {},
   "source": [
    "**Inference:**\n",
    "- `Above table represents the conditional probability of buying an item (row) given weekly usage (column)`\n",
    "- `For Ex: Probability of buying KP281 given weekly usage of 3 is 0.536232`\n",
    "- `Table infers that if the weekly usage is less than or 4, the user is more likely to buy KP281 and KP481`\n",
    "- `Especially if the usage is 6 or 7 days a week, the user will definitely go with KP781 (100% probability)`"
   ]
  },
  {
   "cell_type": "code",
   "execution_count": 48,
   "id": "880901ea",
   "metadata": {},
   "outputs": [
    {
     "name": "stdout",
     "output_type": "stream",
     "text": [
      "\u001b[92m Conditional Probability given Product\n"
     ]
    },
    {
     "data": {
      "text/html": [
       "<div>\n",
       "<style scoped>\n",
       "    .dataframe tbody tr th:only-of-type {\n",
       "        vertical-align: middle;\n",
       "    }\n",
       "\n",
       "    .dataframe tbody tr th {\n",
       "        vertical-align: top;\n",
       "    }\n",
       "\n",
       "    .dataframe thead th {\n",
       "        text-align: right;\n",
       "    }\n",
       "</style>\n",
       "<table border=\"1\" class=\"dataframe\">\n",
       "  <thead>\n",
       "    <tr style=\"text-align: right;\">\n",
       "      <th>Usage</th>\n",
       "      <th>2</th>\n",
       "      <th>3</th>\n",
       "      <th>4</th>\n",
       "      <th>5</th>\n",
       "      <th>6</th>\n",
       "      <th>7</th>\n",
       "    </tr>\n",
       "    <tr>\n",
       "      <th>Product</th>\n",
       "      <th></th>\n",
       "      <th></th>\n",
       "      <th></th>\n",
       "      <th></th>\n",
       "      <th></th>\n",
       "      <th></th>\n",
       "    </tr>\n",
       "  </thead>\n",
       "  <tbody>\n",
       "    <tr>\n",
       "      <th>KP281</th>\n",
       "      <td>0.237500</td>\n",
       "      <td>0.462500</td>\n",
       "      <td>0.275000</td>\n",
       "      <td>0.025000</td>\n",
       "      <td>0.000000</td>\n",
       "      <td>0.000000</td>\n",
       "    </tr>\n",
       "    <tr>\n",
       "      <th>KP481</th>\n",
       "      <td>0.233333</td>\n",
       "      <td>0.516667</td>\n",
       "      <td>0.200000</td>\n",
       "      <td>0.050000</td>\n",
       "      <td>0.000000</td>\n",
       "      <td>0.000000</td>\n",
       "    </tr>\n",
       "    <tr>\n",
       "      <th>KP781</th>\n",
       "      <td>0.000000</td>\n",
       "      <td>0.025000</td>\n",
       "      <td>0.450000</td>\n",
       "      <td>0.300000</td>\n",
       "      <td>0.175000</td>\n",
       "      <td>0.050000</td>\n",
       "    </tr>\n",
       "    <tr>\n",
       "      <th>All</th>\n",
       "      <td>0.183333</td>\n",
       "      <td>0.383333</td>\n",
       "      <td>0.288889</td>\n",
       "      <td>0.094444</td>\n",
       "      <td>0.038889</td>\n",
       "      <td>0.011111</td>\n",
       "    </tr>\n",
       "  </tbody>\n",
       "</table>\n",
       "</div>"
      ],
      "text/plain": [
       "Usage           2         3         4         5         6         7\n",
       "Product                                                            \n",
       "KP281    0.237500  0.462500  0.275000  0.025000  0.000000  0.000000\n",
       "KP481    0.233333  0.516667  0.200000  0.050000  0.000000  0.000000\n",
       "KP781    0.000000  0.025000  0.450000  0.300000  0.175000  0.050000\n",
       "All      0.183333  0.383333  0.288889  0.094444  0.038889  0.011111"
      ]
     },
     "metadata": {},
     "output_type": "display_data"
    }
   ],
   "source": [
    "cp_df = pd.crosstab(raw_data['Product'], columns = raw_data['Usage'], margins = True, normalize='index')\n",
    "print(\"\\033[92m\", 'Conditional Probability given Product')\n",
    "display(cp_df)"
   ]
  },
  {
   "cell_type": "markdown",
   "id": "41a31293",
   "metadata": {},
   "source": [
    "**Inference:**\n",
    "- `Above table represents the conditional probability of having weekly usage given an item is purchased`\n",
    "- `For Ex: Probability of having weekly usage of 3 given KP481 is bought, is 0.51667`\n",
    "- `It indicates, if a user purchased KP281 and KP481 products then the user likely to be using it for 3 - 4 days a week`"
   ]
  },
  {
   "cell_type": "markdown",
   "id": "f3178164",
   "metadata": {},
   "source": [
    "## Fitness and Product"
   ]
  },
  {
   "cell_type": "code",
   "execution_count": 49,
   "id": "69d34d36",
   "metadata": {},
   "outputs": [
    {
     "name": "stdout",
     "output_type": "stream",
     "text": [
      "\u001b[92m Conditional Probability given Fitness\n"
     ]
    },
    {
     "data": {
      "text/html": [
       "<div>\n",
       "<style scoped>\n",
       "    .dataframe tbody tr th:only-of-type {\n",
       "        vertical-align: middle;\n",
       "    }\n",
       "\n",
       "    .dataframe tbody tr th {\n",
       "        vertical-align: top;\n",
       "    }\n",
       "\n",
       "    .dataframe thead th {\n",
       "        text-align: right;\n",
       "    }\n",
       "</style>\n",
       "<table border=\"1\" class=\"dataframe\">\n",
       "  <thead>\n",
       "    <tr style=\"text-align: right;\">\n",
       "      <th>Fitness</th>\n",
       "      <th>1</th>\n",
       "      <th>2</th>\n",
       "      <th>3</th>\n",
       "      <th>4</th>\n",
       "      <th>5</th>\n",
       "      <th>All</th>\n",
       "    </tr>\n",
       "    <tr>\n",
       "      <th>Product</th>\n",
       "      <th></th>\n",
       "      <th></th>\n",
       "      <th></th>\n",
       "      <th></th>\n",
       "      <th></th>\n",
       "      <th></th>\n",
       "    </tr>\n",
       "  </thead>\n",
       "  <tbody>\n",
       "    <tr>\n",
       "      <th>KP281</th>\n",
       "      <td>0.5</td>\n",
       "      <td>0.538462</td>\n",
       "      <td>0.556701</td>\n",
       "      <td>0.375000</td>\n",
       "      <td>0.064516</td>\n",
       "      <td>0.444444</td>\n",
       "    </tr>\n",
       "    <tr>\n",
       "      <th>KP481</th>\n",
       "      <td>0.5</td>\n",
       "      <td>0.461538</td>\n",
       "      <td>0.402062</td>\n",
       "      <td>0.333333</td>\n",
       "      <td>0.000000</td>\n",
       "      <td>0.333333</td>\n",
       "    </tr>\n",
       "    <tr>\n",
       "      <th>KP781</th>\n",
       "      <td>0.0</td>\n",
       "      <td>0.000000</td>\n",
       "      <td>0.041237</td>\n",
       "      <td>0.291667</td>\n",
       "      <td>0.935484</td>\n",
       "      <td>0.222222</td>\n",
       "    </tr>\n",
       "  </tbody>\n",
       "</table>\n",
       "</div>"
      ],
      "text/plain": [
       "Fitness    1         2         3         4         5       All\n",
       "Product                                                       \n",
       "KP281    0.5  0.538462  0.556701  0.375000  0.064516  0.444444\n",
       "KP481    0.5  0.461538  0.402062  0.333333  0.000000  0.333333\n",
       "KP781    0.0  0.000000  0.041237  0.291667  0.935484  0.222222"
      ]
     },
     "metadata": {},
     "output_type": "display_data"
    }
   ],
   "source": [
    "cp_df = pd.crosstab(raw_data['Product'], columns = raw_data['Fitness'], margins = True, normalize='columns')\n",
    "print(\"\\033[92m\", 'Conditional Probability given Fitness')\n",
    "display(cp_df)"
   ]
  },
  {
   "cell_type": "markdown",
   "id": "611ee77e",
   "metadata": {},
   "source": [
    "**Inference:**\n",
    "- `Above table represents the conditional probability of buying an item (row) given fitness (column)`\n",
    "- `For Ex: Probability of buying KP281 given medium fitness (3) is 0.556701`\n",
    "- `Table infers that if the rated fitness of user is less than 4, the user is highly likely to purchase products KP281 and KP481\n",
    "- `Also if the user is rated a high fitness level (5), the user most likely to purchase KP781`"
   ]
  },
  {
   "cell_type": "code",
   "execution_count": 50,
   "id": "fb2cfdc1",
   "metadata": {},
   "outputs": [
    {
     "name": "stdout",
     "output_type": "stream",
     "text": [
      "\u001b[92m Conditional Probability given Product\n"
     ]
    },
    {
     "data": {
      "text/html": [
       "<div>\n",
       "<style scoped>\n",
       "    .dataframe tbody tr th:only-of-type {\n",
       "        vertical-align: middle;\n",
       "    }\n",
       "\n",
       "    .dataframe tbody tr th {\n",
       "        vertical-align: top;\n",
       "    }\n",
       "\n",
       "    .dataframe thead th {\n",
       "        text-align: right;\n",
       "    }\n",
       "</style>\n",
       "<table border=\"1\" class=\"dataframe\">\n",
       "  <thead>\n",
       "    <tr style=\"text-align: right;\">\n",
       "      <th>Fitness</th>\n",
       "      <th>1</th>\n",
       "      <th>2</th>\n",
       "      <th>3</th>\n",
       "      <th>4</th>\n",
       "      <th>5</th>\n",
       "    </tr>\n",
       "    <tr>\n",
       "      <th>Product</th>\n",
       "      <th></th>\n",
       "      <th></th>\n",
       "      <th></th>\n",
       "      <th></th>\n",
       "      <th></th>\n",
       "    </tr>\n",
       "  </thead>\n",
       "  <tbody>\n",
       "    <tr>\n",
       "      <th>KP281</th>\n",
       "      <td>0.012500</td>\n",
       "      <td>0.175000</td>\n",
       "      <td>0.675000</td>\n",
       "      <td>0.112500</td>\n",
       "      <td>0.025000</td>\n",
       "    </tr>\n",
       "    <tr>\n",
       "      <th>KP481</th>\n",
       "      <td>0.016667</td>\n",
       "      <td>0.200000</td>\n",
       "      <td>0.650000</td>\n",
       "      <td>0.133333</td>\n",
       "      <td>0.000000</td>\n",
       "    </tr>\n",
       "    <tr>\n",
       "      <th>KP781</th>\n",
       "      <td>0.000000</td>\n",
       "      <td>0.000000</td>\n",
       "      <td>0.100000</td>\n",
       "      <td>0.175000</td>\n",
       "      <td>0.725000</td>\n",
       "    </tr>\n",
       "    <tr>\n",
       "      <th>All</th>\n",
       "      <td>0.011111</td>\n",
       "      <td>0.144444</td>\n",
       "      <td>0.538889</td>\n",
       "      <td>0.133333</td>\n",
       "      <td>0.172222</td>\n",
       "    </tr>\n",
       "  </tbody>\n",
       "</table>\n",
       "</div>"
      ],
      "text/plain": [
       "Fitness         1         2         3         4         5\n",
       "Product                                                  \n",
       "KP281    0.012500  0.175000  0.675000  0.112500  0.025000\n",
       "KP481    0.016667  0.200000  0.650000  0.133333  0.000000\n",
       "KP781    0.000000  0.000000  0.100000  0.175000  0.725000\n",
       "All      0.011111  0.144444  0.538889  0.133333  0.172222"
      ]
     },
     "metadata": {},
     "output_type": "display_data"
    }
   ],
   "source": [
    "cp_df = pd.crosstab(raw_data['Product'], columns = raw_data['Fitness'], margins = True, normalize='index')\n",
    "print(\"\\033[92m\", 'Conditional Probability given Product')\n",
    "display(cp_df)"
   ]
  },
  {
   "cell_type": "markdown",
   "id": "9f1b8dfc",
   "metadata": {},
   "source": [
    "**Inference:**\n",
    "- `Above table represents the conditional probability of having a fitness level for the given item purchased`\n",
    "- `For Ex: Probability of having fitness level 3 given KP481 is bought, is 0.65`\n",
    "- `It indicates, if a user purchase products KP281 or KP481, the user is highly likely to be having a fitness of 3`\n",
    "- `if a user purchase products KP781, the user is very highly likely to be having a fitness of 5`"
   ]
  },
  {
   "cell_type": "code",
   "execution_count": 40,
   "id": "9fae1bf9",
   "metadata": {},
   "outputs": [
    {
     "data": {
      "text/plain": [
       "Index(['Product', 'Age', 'Gender', 'Education', 'MaritalStatus', 'Usage',\n",
       "       'Fitness', 'Income', 'Miles'],\n",
       "      dtype='object')"
      ]
     },
     "execution_count": 40,
     "metadata": {},
     "output_type": "execute_result"
    }
   ],
   "source": [
    "raw_data.columns"
   ]
  },
  {
   "cell_type": "code",
   "execution_count": 25,
   "id": "366b052a",
   "metadata": {},
   "outputs": [
    {
     "data": {
      "text/html": [
       "<div>\n",
       "<style scoped>\n",
       "    .dataframe tbody tr th:only-of-type {\n",
       "        vertical-align: middle;\n",
       "    }\n",
       "\n",
       "    .dataframe tbody tr th {\n",
       "        vertical-align: top;\n",
       "    }\n",
       "\n",
       "    .dataframe thead th {\n",
       "        text-align: right;\n",
       "    }\n",
       "</style>\n",
       "<table border=\"1\" class=\"dataframe\">\n",
       "  <thead>\n",
       "    <tr style=\"text-align: right;\">\n",
       "      <th>Gender</th>\n",
       "      <th>Female</th>\n",
       "      <th>Male</th>\n",
       "      <th>All</th>\n",
       "    </tr>\n",
       "    <tr>\n",
       "      <th>Product</th>\n",
       "      <th></th>\n",
       "      <th></th>\n",
       "      <th></th>\n",
       "    </tr>\n",
       "  </thead>\n",
       "  <tbody>\n",
       "    <tr>\n",
       "      <th>KP281</th>\n",
       "      <td>40</td>\n",
       "      <td>40</td>\n",
       "      <td>80</td>\n",
       "    </tr>\n",
       "    <tr>\n",
       "      <th>KP481</th>\n",
       "      <td>29</td>\n",
       "      <td>31</td>\n",
       "      <td>60</td>\n",
       "    </tr>\n",
       "    <tr>\n",
       "      <th>KP781</th>\n",
       "      <td>7</td>\n",
       "      <td>33</td>\n",
       "      <td>40</td>\n",
       "    </tr>\n",
       "    <tr>\n",
       "      <th>All</th>\n",
       "      <td>76</td>\n",
       "      <td>104</td>\n",
       "      <td>180</td>\n",
       "    </tr>\n",
       "  </tbody>\n",
       "</table>\n",
       "</div>"
      ],
      "text/plain": [
       "Gender   Female  Male  All\n",
       "Product                   \n",
       "KP281        40    40   80\n",
       "KP481        29    31   60\n",
       "KP781         7    33   40\n",
       "All          76   104  180"
      ]
     },
     "execution_count": 25,
     "metadata": {},
     "output_type": "execute_result"
    }
   ],
   "source": [
    "pd.crosstab(raw_data['Product'], columns = raw_data['Gender'], margins=True)#, normalize=True)"
   ]
  },
  {
   "cell_type": "code",
   "execution_count": 31,
   "id": "79b20728-bdfa-4281-b4f9-c50307c7250b",
   "metadata": {},
   "outputs": [
    {
     "data": {
      "text/html": [
       "<div>\n",
       "<style scoped>\n",
       "    .dataframe tbody tr th:only-of-type {\n",
       "        vertical-align: middle;\n",
       "    }\n",
       "\n",
       "    .dataframe tbody tr th {\n",
       "        vertical-align: top;\n",
       "    }\n",
       "\n",
       "    .dataframe thead th {\n",
       "        text-align: right;\n",
       "    }\n",
       "</style>\n",
       "<table border=\"1\" class=\"dataframe\">\n",
       "  <thead>\n",
       "    <tr style=\"text-align: right;\">\n",
       "      <th>Gender</th>\n",
       "      <th>Female</th>\n",
       "      <th>Male</th>\n",
       "      <th>All</th>\n",
       "    </tr>\n",
       "    <tr>\n",
       "      <th>Product</th>\n",
       "      <th></th>\n",
       "      <th></th>\n",
       "      <th></th>\n",
       "    </tr>\n",
       "  </thead>\n",
       "  <tbody>\n",
       "    <tr>\n",
       "      <th>KP281</th>\n",
       "      <td>0.526316</td>\n",
       "      <td>0.384615</td>\n",
       "      <td>0.444444</td>\n",
       "    </tr>\n",
       "    <tr>\n",
       "      <th>KP481</th>\n",
       "      <td>0.381579</td>\n",
       "      <td>0.298077</td>\n",
       "      <td>0.333333</td>\n",
       "    </tr>\n",
       "    <tr>\n",
       "      <th>KP781</th>\n",
       "      <td>0.092105</td>\n",
       "      <td>0.317308</td>\n",
       "      <td>0.222222</td>\n",
       "    </tr>\n",
       "  </tbody>\n",
       "</table>\n",
       "</div>"
      ],
      "text/plain": [
       "Gender     Female      Male       All\n",
       "Product                              \n",
       "KP281    0.526316  0.384615  0.444444\n",
       "KP481    0.381579  0.298077  0.333333\n",
       "KP781    0.092105  0.317308  0.222222"
      ]
     },
     "execution_count": 31,
     "metadata": {},
     "output_type": "execute_result"
    }
   ],
   "source": [
    "test = pd.crosstab(raw_data['Product'], columns = raw_data['Gender'], margins = True, normalize='columns')\n",
    "test"
   ]
  },
  {
   "cell_type": "code",
   "execution_count": 33,
   "id": "a7e7abff",
   "metadata": {},
   "outputs": [
    {
     "data": {
      "text/html": [
       "<div>\n",
       "<style scoped>\n",
       "    .dataframe tbody tr th:only-of-type {\n",
       "        vertical-align: middle;\n",
       "    }\n",
       "\n",
       "    .dataframe tbody tr th {\n",
       "        vertical-align: top;\n",
       "    }\n",
       "\n",
       "    .dataframe thead th {\n",
       "        text-align: right;\n",
       "    }\n",
       "</style>\n",
       "<table border=\"1\" class=\"dataframe\">\n",
       "  <thead>\n",
       "    <tr style=\"text-align: right;\">\n",
       "      <th>Gender</th>\n",
       "      <th>Female</th>\n",
       "      <th>Male</th>\n",
       "    </tr>\n",
       "    <tr>\n",
       "      <th>Product</th>\n",
       "      <th></th>\n",
       "      <th></th>\n",
       "    </tr>\n",
       "  </thead>\n",
       "  <tbody>\n",
       "    <tr>\n",
       "      <th>KP281</th>\n",
       "      <td>0.500000</td>\n",
       "      <td>0.500000</td>\n",
       "    </tr>\n",
       "    <tr>\n",
       "      <th>KP481</th>\n",
       "      <td>0.483333</td>\n",
       "      <td>0.516667</td>\n",
       "    </tr>\n",
       "    <tr>\n",
       "      <th>KP781</th>\n",
       "      <td>0.175000</td>\n",
       "      <td>0.825000</td>\n",
       "    </tr>\n",
       "    <tr>\n",
       "      <th>All</th>\n",
       "      <td>0.422222</td>\n",
       "      <td>0.577778</td>\n",
       "    </tr>\n",
       "  </tbody>\n",
       "</table>\n",
       "</div>"
      ],
      "text/plain": [
       "Gender     Female      Male\n",
       "Product                    \n",
       "KP281    0.500000  0.500000\n",
       "KP481    0.483333  0.516667\n",
       "KP781    0.175000  0.825000\n",
       "All      0.422222  0.577778"
      ]
     },
     "execution_count": 33,
     "metadata": {},
     "output_type": "execute_result"
    }
   ],
   "source": [
    "test = pd.crosstab(raw_data['Product'], columns = raw_data['Gender'], margins = True, normalize='index')\n",
    "test"
   ]
  },
  {
   "cell_type": "markdown",
   "id": "cc78a770-f204-4149-93a8-af607c953b79",
   "metadata": {},
   "source": [
    "**Inference:**\n",
    "- `Probability of buying product KP281 given female is 0.22`\n",
    "- `Probability of buying a treadmill given male is 0.577`"
   ]
  },
  {
   "cell_type": "code",
   "execution_count": null,
   "id": "7cefab79-63a6-4b1f-91f2-60613df3268b",
   "metadata": {},
   "outputs": [],
   "source": [
    "pd.crosstab(raw_data['Product'], columns = raw_data['Usage'], margins=True, normalize=True)"
   ]
  },
  {
   "cell_type": "code",
   "execution_count": 6,
   "id": "db2285c2-e79b-4b14-9adf-aeb51b4da3cd",
   "metadata": {},
   "outputs": [
    {
     "data": {
      "text/html": [
       "<div>\n",
       "<style scoped>\n",
       "    .dataframe tbody tr th:only-of-type {\n",
       "        vertical-align: middle;\n",
       "    }\n",
       "\n",
       "    .dataframe tbody tr th {\n",
       "        vertical-align: top;\n",
       "    }\n",
       "\n",
       "    .dataframe thead th {\n",
       "        text-align: right;\n",
       "    }\n",
       "</style>\n",
       "<table border=\"1\" class=\"dataframe\">\n",
       "  <thead>\n",
       "    <tr style=\"text-align: right;\">\n",
       "      <th>Gender</th>\n",
       "      <th>Female</th>\n",
       "      <th>Male</th>\n",
       "    </tr>\n",
       "    <tr>\n",
       "      <th>Product</th>\n",
       "      <th></th>\n",
       "      <th></th>\n",
       "    </tr>\n",
       "  </thead>\n",
       "  <tbody>\n",
       "    <tr>\n",
       "      <th>KP281</th>\n",
       "      <td>0.222222</td>\n",
       "      <td>0.222222</td>\n",
       "    </tr>\n",
       "    <tr>\n",
       "      <th>KP481</th>\n",
       "      <td>0.161111</td>\n",
       "      <td>0.172222</td>\n",
       "    </tr>\n",
       "    <tr>\n",
       "      <th>KP781</th>\n",
       "      <td>0.038889</td>\n",
       "      <td>0.183333</td>\n",
       "    </tr>\n",
       "  </tbody>\n",
       "</table>\n",
       "</div>"
      ],
      "text/plain": [
       "Gender     Female      Male\n",
       "Product                    \n",
       "KP281    0.222222  0.222222\n",
       "KP481    0.161111  0.172222\n",
       "KP781    0.038889  0.183333"
      ]
     },
     "execution_count": 6,
     "metadata": {},
     "output_type": "execute_result"
    }
   ],
   "source": [
    "test"
   ]
  },
  {
   "cell_type": "code",
   "execution_count": 7,
   "id": "cdb507b0",
   "metadata": {},
   "outputs": [
    {
     "data": {
      "text/html": [
       "<div>\n",
       "<style scoped>\n",
       "    .dataframe tbody tr th:only-of-type {\n",
       "        vertical-align: middle;\n",
       "    }\n",
       "\n",
       "    .dataframe tbody tr th {\n",
       "        vertical-align: top;\n",
       "    }\n",
       "\n",
       "    .dataframe thead th {\n",
       "        text-align: right;\n",
       "    }\n",
       "</style>\n",
       "<table border=\"1\" class=\"dataframe\">\n",
       "  <thead>\n",
       "    <tr style=\"text-align: right;\">\n",
       "      <th>Gender</th>\n",
       "      <th>Female</th>\n",
       "      <th>Male</th>\n",
       "    </tr>\n",
       "    <tr>\n",
       "      <th>Product</th>\n",
       "      <th></th>\n",
       "      <th></th>\n",
       "    </tr>\n",
       "  </thead>\n",
       "  <tbody>\n",
       "    <tr>\n",
       "      <th>KP281</th>\n",
       "      <td>0.526316</td>\n",
       "      <td>0.384615</td>\n",
       "    </tr>\n",
       "    <tr>\n",
       "      <th>KP481</th>\n",
       "      <td>0.381579</td>\n",
       "      <td>0.298077</td>\n",
       "    </tr>\n",
       "    <tr>\n",
       "      <th>KP781</th>\n",
       "      <td>0.092105</td>\n",
       "      <td>0.317308</td>\n",
       "    </tr>\n",
       "  </tbody>\n",
       "</table>\n",
       "</div>"
      ],
      "text/plain": [
       "Gender     Female      Male\n",
       "Product                    \n",
       "KP281    0.526316  0.384615\n",
       "KP481    0.381579  0.298077\n",
       "KP781    0.092105  0.317308"
      ]
     },
     "execution_count": 7,
     "metadata": {},
     "output_type": "execute_result"
    }
   ],
   "source": [
    "test.apply(lambda x: x/x.sum())"
   ]
  },
  {
   "cell_type": "markdown",
   "id": "3bc3583b",
   "metadata": {},
   "source": []
  },
  {
   "cell_type": "code",
   "execution_count": 8,
   "id": "38d96ba7",
   "metadata": {},
   "outputs": [
    {
     "data": {
      "text/html": [
       "<div>\n",
       "<style scoped>\n",
       "    .dataframe tbody tr th:only-of-type {\n",
       "        vertical-align: middle;\n",
       "    }\n",
       "\n",
       "    .dataframe tbody tr th {\n",
       "        vertical-align: top;\n",
       "    }\n",
       "\n",
       "    .dataframe thead th {\n",
       "        text-align: right;\n",
       "    }\n",
       "</style>\n",
       "<table border=\"1\" class=\"dataframe\">\n",
       "  <thead>\n",
       "    <tr style=\"text-align: right;\">\n",
       "      <th>Gender</th>\n",
       "      <th>Female</th>\n",
       "      <th>Male</th>\n",
       "      <th>All</th>\n",
       "    </tr>\n",
       "    <tr>\n",
       "      <th>Product</th>\n",
       "      <th></th>\n",
       "      <th></th>\n",
       "      <th></th>\n",
       "    </tr>\n",
       "  </thead>\n",
       "  <tbody>\n",
       "    <tr>\n",
       "      <th>KP281</th>\n",
       "      <td>0.222222</td>\n",
       "      <td>0.222222</td>\n",
       "      <td>0.444444</td>\n",
       "    </tr>\n",
       "    <tr>\n",
       "      <th>KP481</th>\n",
       "      <td>0.161111</td>\n",
       "      <td>0.172222</td>\n",
       "      <td>0.333333</td>\n",
       "    </tr>\n",
       "    <tr>\n",
       "      <th>KP781</th>\n",
       "      <td>0.038889</td>\n",
       "      <td>0.183333</td>\n",
       "      <td>0.222222</td>\n",
       "    </tr>\n",
       "    <tr>\n",
       "      <th>All</th>\n",
       "      <td>0.422222</td>\n",
       "      <td>0.577778</td>\n",
       "      <td>1.000000</td>\n",
       "    </tr>\n",
       "  </tbody>\n",
       "</table>\n",
       "</div>"
      ],
      "text/plain": [
       "Gender     Female      Male       All\n",
       "Product                              \n",
       "KP281    0.222222  0.222222  0.444444\n",
       "KP481    0.161111  0.172222  0.333333\n",
       "KP781    0.038889  0.183333  0.222222\n",
       "All      0.422222  0.577778  1.000000"
      ]
     },
     "execution_count": 8,
     "metadata": {},
     "output_type": "execute_result"
    }
   ],
   "source": [
    "pd.crosstab(raw_data['Product'], columns = raw_data['Gender'], margins= True, normalize=True)"
   ]
  },
  {
   "cell_type": "code",
   "execution_count": null,
   "id": "9fa37e84",
   "metadata": {},
   "outputs": [],
   "source": []
  }
 ],
 "metadata": {
  "kernelspec": {
   "display_name": "Python 3 (ipykernel)",
   "language": "python",
   "name": "python3"
  },
  "language_info": {
   "codemirror_mode": {
    "name": "ipython",
    "version": 3
   },
   "file_extension": ".py",
   "mimetype": "text/x-python",
   "name": "python",
   "nbconvert_exporter": "python",
   "pygments_lexer": "ipython3",
   "version": "3.11.5"
  }
 },
 "nbformat": 4,
 "nbformat_minor": 5
}
