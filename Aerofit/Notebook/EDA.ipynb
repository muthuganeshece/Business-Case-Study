{
 "cells": [
  {
   "cell_type": "code",
   "execution_count": 1,
   "id": "494fd1c2-9b6a-45ef-864e-c2de8f9d9439",
   "metadata": {},
   "outputs": [],
   "source": [
    "import numpy as np\n",
    "import pandas as pd\n",
    "import matplotlib.pyplot as plt\n",
    "import seaborn as sns"
   ]
  },
  {
   "cell_type": "code",
   "execution_count": 2,
   "id": "a748ae04-aef1-4ad9-bbc3-a93935698f13",
   "metadata": {},
   "outputs": [],
   "source": [
    "raw_data = pd.read_csv(r'E:\\Nextstep\\Scaler\\Business-Case-Study\\Aerofit\\Dataset\\aerofit_treadmill.csv')\n",
    "#raw_data = pd.read_csv(r'F:\\Muthu_2023\\Personal\\NextStep\\DSCourse\\Scaler\\Business-Case-Study\\Aerofit\\Dataset\\aerofit_treadmill.csv')"
   ]
  },
  {
   "cell_type": "code",
   "execution_count": null,
   "id": "4b7da546-d4bf-4c87-a858-a7ce7c02adba",
   "metadata": {
    "scrolled": true
   },
   "outputs": [],
   "source": [
    "raw_data.head()"
   ]
  },
  {
   "cell_type": "code",
   "execution_count": null,
   "id": "1f887cf1-cd37-460f-8663-00b26a4dc0a8",
   "metadata": {},
   "outputs": [],
   "source": [
    "raw_data.info()"
   ]
  },
  {
   "cell_type": "markdown",
   "id": "e783c537-d447-4e3d-8dd0-833c76df8c5b",
   "metadata": {},
   "source": [
    "**Inference:**\n",
    "- `No null values in all the columns`\n",
    "- `3 categorical and 5 numerical columns`"
   ]
  },
  {
   "cell_type": "code",
   "execution_count": null,
   "id": "755dea6c-d8cc-4fd4-8715-0a8af09d76c6",
   "metadata": {},
   "outputs": [],
   "source": [
    "raw_data.describe()"
   ]
  },
  {
   "cell_type": "markdown",
   "id": "bca259d9-3960-4856-ae6f-904b99882cd8",
   "metadata": {},
   "source": [
    "**Inference:**\n",
    "- `25% of users in the age range of 24 to 26`\n",
    "- `Education, Usage and fitness seems to be integer and it requires detailed analysis`\n",
    "- ``"
   ]
  },
  {
   "cell_type": "code",
   "execution_count": null,
   "id": "08259d89-f703-4035-bbef-14fb8cbe915c",
   "metadata": {},
   "outputs": [],
   "source": [
    "raw_data.describe(include='object')"
   ]
  },
  {
   "cell_type": "markdown",
   "id": "eca3599d-bdb6-454c-a20a-cb006c409339",
   "metadata": {},
   "source": [
    "# Exploratory Data Analysis"
   ]
  },
  {
   "cell_type": "code",
   "execution_count": null,
   "id": "8c2bec20-809b-4137-9ce1-c4715560be52",
   "metadata": {},
   "outputs": [],
   "source": [
    "plt.rcParams['figure.figsize'] = (12,6)"
   ]
  },
  {
   "cell_type": "markdown",
   "id": "aaed84fd-ecab-49ca-a7c1-f1338b9ee24b",
   "metadata": {},
   "source": [
    "## UVA on Categorical column"
   ]
  },
  {
   "cell_type": "code",
   "execution_count": null,
   "id": "287093e8-a0cb-49ab-ac54-83e0abf880a3",
   "metadata": {},
   "outputs": [],
   "source": [
    "def plot_count(df, col):\n",
    "    plt.suptitle('Sales Quantity by ' + col)\n",
    "    plt.subplot(1,2,1)\n",
    "    sns.countplot(data = df, x = col)\n",
    "    plt.subplot(1,2,2)\n",
    "    plt.pie(df[col].value_counts(), labels = list(df[col].value_counts().index), autopct = '%0.1f%%')"
   ]
  },
  {
   "cell_type": "code",
   "execution_count": null,
   "id": "5f4f1250-c089-459a-a5bf-41d8aba3447c",
   "metadata": {},
   "outputs": [],
   "source": [
    "plot_count(raw_data, 'Product')"
   ]
  },
  {
   "cell_type": "markdown",
   "id": "b8e2ec6b-1c9b-4a28-b43b-f6c5f006345c",
   "metadata": {},
   "source": [
    "**Inference:**\n",
    "- `KP281 has highest market share among other products`"
   ]
  },
  {
   "cell_type": "code",
   "execution_count": null,
   "id": "b0827ab0-8586-4c2a-98f9-3dd056b7e6bb",
   "metadata": {},
   "outputs": [],
   "source": [
    "plot_count(raw_data, 'Gender')"
   ]
  },
  {
   "cell_type": "markdown",
   "id": "ac142949-fc83-45dc-b30a-d9aa0c9ee380",
   "metadata": {},
   "source": [
    "**Inference:**\n",
    "- `Purchase of male customer is the most`"
   ]
  },
  {
   "cell_type": "code",
   "execution_count": null,
   "id": "41fb4214-36b0-437c-97ff-7f32de3404de",
   "metadata": {
    "scrolled": true
   },
   "outputs": [],
   "source": [
    "plot_count(raw_data, 'MaritalStatus')"
   ]
  },
  {
   "cell_type": "markdown",
   "id": "cf5f7a39-b02e-41ae-b8bf-0acda2e8d407",
   "metadata": {},
   "source": [
    "**Inference:**\n",
    "- `Partnered makes the most purchase than single`"
   ]
  },
  {
   "cell_type": "code",
   "execution_count": null,
   "id": "a9bf4e21-6811-4ab4-a2d7-d9c70676f002",
   "metadata": {},
   "outputs": [],
   "source": [
    "plot_count(raw_data, 'Usage')"
   ]
  },
  {
   "cell_type": "markdown",
   "id": "5d826a2d-92ed-4fb0-b0da-45a0099fff9d",
   "metadata": {},
   "source": [
    "**Inferece:**\n",
    "- `Users purchased the most who uses the treadmill 3-4 days a week`\n",
    "- `80% of users uses the treadmill 2-4 days a week`"
   ]
  },
  {
   "cell_type": "code",
   "execution_count": null,
   "id": "4cec49d8-9133-48fb-965d-03b1dad53d8e",
   "metadata": {},
   "outputs": [],
   "source": [
    "plot_count(raw_data, 'Fitness')"
   ]
  },
  {
   "cell_type": "markdown",
   "id": "7d56461a-b068-4369-93e9-93fc77a81cff",
   "metadata": {},
   "source": [
    "**Inference:**\n",
    "- `Average rated users are the most in purchasing the treadmill`"
   ]
  },
  {
   "cell_type": "code",
   "execution_count": null,
   "id": "11289ab8-bb27-4948-9c7f-0f74e4e6be8a",
   "metadata": {},
   "outputs": [],
   "source": [
    "plot_count(raw_data, 'Education')"
   ]
  },
  {
   "cell_type": "markdown",
   "id": "fa61a98f-fe4b-4649-9c4f-563ff442f264",
   "metadata": {},
   "source": [
    "**Inference:**\n",
    "- `Users with 14 and 16 years of education purchases the most`\n",
    "- `Need further investigation on this part how it relates to the purchase of treadmill`"
   ]
  },
  {
   "cell_type": "markdown",
   "id": "5bacd70a-5525-4191-9664-8cba73d73ea5",
   "metadata": {},
   "source": [
    "## UVA on Numerical columns"
   ]
  },
  {
   "cell_type": "code",
   "execution_count": null,
   "id": "01534c5c-b96d-4743-8057-895c4ecc7a03",
   "metadata": {},
   "outputs": [],
   "source": [
    "def plot_hist(df, col):\n",
    "    plt.suptitle('Sales Quantity by ' + col)\n",
    "    plt.subplot(1,2,1)\n",
    "    sns.histplot(data = df, x = col)\n",
    "    plt.subplot(1,2,2)\n",
    "    sns.boxplot(data = df, y = col)\n",
    "    plt.show()"
   ]
  },
  {
   "cell_type": "code",
   "execution_count": null,
   "id": "f1fad3c7-d559-4acc-aabe-5436e2a4f49d",
   "metadata": {},
   "outputs": [],
   "source": [
    "plot_hist(raw_data, 'Age')"
   ]
  },
  {
   "cell_type": "markdown",
   "id": "558b2e53",
   "metadata": {},
   "source": [
    "**Inference:**\n",
    "- `Predominant of the purchase is peformed by 20 to 35 age groups`"
   ]
  },
  {
   "cell_type": "code",
   "execution_count": null,
   "id": "a333f01d-157b-490f-aa25-b35939f1dd3a",
   "metadata": {},
   "outputs": [],
   "source": [
    "plot_hist(raw_data, 'Income')"
   ]
  },
  {
   "cell_type": "markdown",
   "id": "8e9ce373",
   "metadata": {},
   "source": [
    "**Inference:**\n",
    "- `75% of the purchases are performed by users with income lesser than 60`"
   ]
  },
  {
   "cell_type": "code",
   "execution_count": null,
   "id": "9bd03499-3a44-40ef-8619-c87a73fd5b7e",
   "metadata": {},
   "outputs": [],
   "source": [
    "plot_hist(raw_data, 'Miles')"
   ]
  },
  {
   "cell_type": "markdown",
   "id": "cc3905fe-d82b-4720-86d2-55d02f73ffd2",
   "metadata": {},
   "source": [
    "**Inference:**\n",
    "- `Users who runs 50-100 miles are the most who shown the interest in purchasing the treadmill`"
   ]
  },
  {
   "cell_type": "markdown",
   "id": "4b387029",
   "metadata": {},
   "source": [
    "# Bivariate Analysis"
   ]
  },
  {
   "cell_type": "code",
   "execution_count": null,
   "id": "a2df86c9-2259-4cca-876c-825bec6f4bd8",
   "metadata": {},
   "outputs": [],
   "source": [
    "plt.figure(figsize=(12, 16))\n",
    "plt.subplot(3,2,1)\n",
    "sns.countplot(data = raw_data, hue = 'Product', x='Gender')\n",
    "plt.subplot(3,2,2)\n",
    "sns.countplot(data = raw_data, hue = 'Product', x='MaritalStatus')\n",
    "plt.subplot(3,2,3)\n",
    "sns.countplot(data = raw_data, hue = 'Product', x='Usage')\n",
    "plt.subplot(3,2,4)\n",
    "sns.countplot(data = raw_data, hue = 'Product', x='Fitness')\n",
    "plt.subplot(3,1,3)\n",
    "sns.countplot(data = raw_data, hue = 'Product', x='Education')"
   ]
  },
  {
   "cell_type": "markdown",
   "id": "5222816a",
   "metadata": {},
   "source": [
    "**Inference:**\n",
    "- ***Product vs Gender:*** `Female show very less interest in buying the product KP781`\n",
    "- ***Product vs Martial Status:*** `Partnered users are highly interested in buying treadmill`\n",
    "- ***Product vs Usage:*** `Users with high usage are more prone to buy KP781 and less usage prefers other 2 products`\n",
    "- ***Product vs Fitness:*** `Medium fitness users (2-4) are much interested in buying treadmill predominantly and only High fitness users prefer KP781`\n",
    "- ***Product vs Education:*** `Higher education group prefers product KP781`"
   ]
  },
  {
   "cell_type": "code",
   "execution_count": null,
   "id": "0635ce50",
   "metadata": {},
   "outputs": [],
   "source": [
    "plt.figure(figsize=(12, 6))\n",
    "plt.subplot(1,3,1)\n",
    "sns.boxplot(data = raw_data, x = 'Product', y='Age')\n",
    "plt.subplot(1,3,2)\n",
    "sns.boxplot(data = raw_data, x = 'Product', y='Income')\n",
    "plt.subplot(1,3,3)\n",
    "sns.boxplot(data = raw_data, x = 'Product', y='Miles')\n",
    "# plt.subplot(3,2,4)\n",
    "# sns.countplot(data = raw_data, hue = 'Product', x='Fitness')\n",
    "# plt.subplot(3,1,3)\n",
    "# sns.countplot(data = raw_data, hue = 'Product', x='Education')\n",
    "plt.tight_layout()"
   ]
  },
  {
   "cell_type": "markdown",
   "id": "a92eb431",
   "metadata": {},
   "source": [
    "**Inference:**\n",
    "- ***Age vs Product:*** `Predominant of the users of KP781 are in 20s age group`\n",
    "- ***Income vs Product:*** `Purchase of KP781 is dominated by higher income users. Hence it seems that KP781 is on costlier side.\n",
    "KP481 is in the medium range and KP 281 is on the lower side`\n",
    "- ***Miles vs Product:*** `Purchase of KP781 is dominated by higher miles users and it seems that it is preferred by heavy workout users`"
   ]
  },
  {
   "cell_type": "markdown",
   "id": "8dade331",
   "metadata": {},
   "source": [
    "# Multivariate Analysis"
   ]
  },
  {
   "cell_type": "code",
   "execution_count": null,
   "id": "236a4d3d",
   "metadata": {},
   "outputs": [],
   "source": [
    "sns.boxplot(data=raw_data, y = 'Age', x = 'Gender', hue='Product')"
   ]
  },
  {
   "cell_type": "markdown",
   "id": "1b6ad01b",
   "metadata": {},
   "source": [
    "**Inference:**\n",
    "- `Median age of male interested in KP481 is lesser than other 2 products whereas it is vice versa for female users`\n"
   ]
  },
  {
   "cell_type": "code",
   "execution_count": null,
   "id": "0ff357c9",
   "metadata": {},
   "outputs": [],
   "source": [
    "sns.boxplot(data=raw_data, y = 'Income', x = 'Gender', hue='Product')"
   ]
  },
  {
   "cell_type": "code",
   "execution_count": null,
   "id": "86c47e94",
   "metadata": {},
   "outputs": [],
   "source": [
    "sns.boxplot(data=raw_data, y = 'Miles', x = 'Gender', hue='Product')"
   ]
  },
  {
   "cell_type": "code",
   "execution_count": null,
   "id": "508436f2",
   "metadata": {},
   "outputs": [],
   "source": [
    "sns.boxplot(data=raw_data, y = 'Age', x = 'MaritalStatus', hue='Product')"
   ]
  },
  {
   "cell_type": "code",
   "execution_count": null,
   "id": "677e45d5",
   "metadata": {},
   "outputs": [],
   "source": [
    "sns.boxplot(data=raw_data, y = 'Age', x = 'Usage', hue='Product')"
   ]
  },
  {
   "cell_type": "markdown",
   "id": "85946e73",
   "metadata": {},
   "source": [
    "**Inference:**\n",
    "- `High usage `"
   ]
  },
  {
   "cell_type": "code",
   "execution_count": null,
   "id": "59f6d6cb",
   "metadata": {},
   "outputs": [],
   "source": [
    "sns.boxplot(data=raw_data, y = 'Income', x = 'Product', hue='Fitness')"
   ]
  },
  {
   "cell_type": "code",
   "execution_count": null,
   "id": "e467a13d",
   "metadata": {},
   "outputs": [],
   "source": [
    "sns.jointplot(data=raw_data, x = 'Income',  y='Age', hue = 'Product')"
   ]
  },
  {
   "cell_type": "code",
   "execution_count": 5,
   "id": "77c1f221",
   "metadata": {},
   "outputs": [],
   "source": [
    "temp_df = pd.crosstab(raw_data['Product'], columns = raw_data['Usage'], margins=True, normalize=True)"
   ]
  },
  {
   "cell_type": "code",
   "execution_count": 11,
   "id": "79b20728-bdfa-4281-b4f9-c50307c7250b",
   "metadata": {},
   "outputs": [
    {
     "data": {
      "text/html": [
       "<div>\n",
       "<style scoped>\n",
       "    .dataframe tbody tr th:only-of-type {\n",
       "        vertical-align: middle;\n",
       "    }\n",
       "\n",
       "    .dataframe tbody tr th {\n",
       "        vertical-align: top;\n",
       "    }\n",
       "\n",
       "    .dataframe thead th {\n",
       "        text-align: right;\n",
       "    }\n",
       "</style>\n",
       "<table border=\"1\" class=\"dataframe\">\n",
       "  <thead>\n",
       "    <tr style=\"text-align: right;\">\n",
       "      <th>Gender</th>\n",
       "      <th>Female</th>\n",
       "      <th>Male</th>\n",
       "      <th>All</th>\n",
       "    </tr>\n",
       "    <tr>\n",
       "      <th>Product</th>\n",
       "      <th></th>\n",
       "      <th></th>\n",
       "      <th></th>\n",
       "    </tr>\n",
       "  </thead>\n",
       "  <tbody>\n",
       "    <tr>\n",
       "      <th>KP281</th>\n",
       "      <td>0.222222</td>\n",
       "      <td>0.222222</td>\n",
       "      <td>0.444444</td>\n",
       "    </tr>\n",
       "    <tr>\n",
       "      <th>KP481</th>\n",
       "      <td>0.161111</td>\n",
       "      <td>0.172222</td>\n",
       "      <td>0.333333</td>\n",
       "    </tr>\n",
       "    <tr>\n",
       "      <th>KP781</th>\n",
       "      <td>0.038889</td>\n",
       "      <td>0.183333</td>\n",
       "      <td>0.222222</td>\n",
       "    </tr>\n",
       "    <tr>\n",
       "      <th>All</th>\n",
       "      <td>0.422222</td>\n",
       "      <td>0.577778</td>\n",
       "      <td>1.000000</td>\n",
       "    </tr>\n",
       "  </tbody>\n",
       "</table>\n",
       "</div>"
      ],
      "text/plain": [
       "Gender     Female      Male       All\n",
       "Product                              \n",
       "KP281    0.222222  0.222222  0.444444\n",
       "KP481    0.161111  0.172222  0.333333\n",
       "KP781    0.038889  0.183333  0.222222\n",
       "All      0.422222  0.577778  1.000000"
      ]
     },
     "execution_count": 11,
     "metadata": {},
     "output_type": "execute_result"
    }
   ],
   "source": [
    "pd.crosstab(raw_data['Product'], columns = raw_data['Gender'], margins=True, normalize=True)"
   ]
  },
  {
   "cell_type": "markdown",
   "id": "cc78a770-f204-4149-93a8-af607c953b79",
   "metadata": {},
   "source": [
    "**Inference:**\n",
    "- `Probability of buying product KP281 given female is 0.22`\n",
    "- `Probability of buying a treadmill given male is 0.577`"
   ]
  },
  {
   "cell_type": "code",
   "execution_count": 13,
   "id": "7cefab79-63a6-4b1f-91f2-60613df3268b",
   "metadata": {},
   "outputs": [
    {
     "data": {
      "text/html": [
       "<div>\n",
       "<style scoped>\n",
       "    .dataframe tbody tr th:only-of-type {\n",
       "        vertical-align: middle;\n",
       "    }\n",
       "\n",
       "    .dataframe tbody tr th {\n",
       "        vertical-align: top;\n",
       "    }\n",
       "\n",
       "    .dataframe thead th {\n",
       "        text-align: right;\n",
       "    }\n",
       "</style>\n",
       "<table border=\"1\" class=\"dataframe\">\n",
       "  <thead>\n",
       "    <tr style=\"text-align: right;\">\n",
       "      <th>Usage</th>\n",
       "      <th>2</th>\n",
       "      <th>3</th>\n",
       "      <th>4</th>\n",
       "      <th>5</th>\n",
       "      <th>6</th>\n",
       "      <th>7</th>\n",
       "      <th>All</th>\n",
       "    </tr>\n",
       "    <tr>\n",
       "      <th>Product</th>\n",
       "      <th></th>\n",
       "      <th></th>\n",
       "      <th></th>\n",
       "      <th></th>\n",
       "      <th></th>\n",
       "      <th></th>\n",
       "      <th></th>\n",
       "    </tr>\n",
       "  </thead>\n",
       "  <tbody>\n",
       "    <tr>\n",
       "      <th>KP281</th>\n",
       "      <td>0.105556</td>\n",
       "      <td>0.205556</td>\n",
       "      <td>0.122222</td>\n",
       "      <td>0.011111</td>\n",
       "      <td>0.000000</td>\n",
       "      <td>0.000000</td>\n",
       "      <td>0.444444</td>\n",
       "    </tr>\n",
       "    <tr>\n",
       "      <th>KP481</th>\n",
       "      <td>0.077778</td>\n",
       "      <td>0.172222</td>\n",
       "      <td>0.066667</td>\n",
       "      <td>0.016667</td>\n",
       "      <td>0.000000</td>\n",
       "      <td>0.000000</td>\n",
       "      <td>0.333333</td>\n",
       "    </tr>\n",
       "    <tr>\n",
       "      <th>KP781</th>\n",
       "      <td>0.000000</td>\n",
       "      <td>0.005556</td>\n",
       "      <td>0.100000</td>\n",
       "      <td>0.066667</td>\n",
       "      <td>0.038889</td>\n",
       "      <td>0.011111</td>\n",
       "      <td>0.222222</td>\n",
       "    </tr>\n",
       "    <tr>\n",
       "      <th>All</th>\n",
       "      <td>0.183333</td>\n",
       "      <td>0.383333</td>\n",
       "      <td>0.288889</td>\n",
       "      <td>0.094444</td>\n",
       "      <td>0.038889</td>\n",
       "      <td>0.011111</td>\n",
       "      <td>1.000000</td>\n",
       "    </tr>\n",
       "  </tbody>\n",
       "</table>\n",
       "</div>"
      ],
      "text/plain": [
       "Usage           2         3         4         5         6         7       All\n",
       "Product                                                                      \n",
       "KP281    0.105556  0.205556  0.122222  0.011111  0.000000  0.000000  0.444444\n",
       "KP481    0.077778  0.172222  0.066667  0.016667  0.000000  0.000000  0.333333\n",
       "KP781    0.000000  0.005556  0.100000  0.066667  0.038889  0.011111  0.222222\n",
       "All      0.183333  0.383333  0.288889  0.094444  0.038889  0.011111  1.000000"
      ]
     },
     "execution_count": 13,
     "metadata": {},
     "output_type": "execute_result"
    }
   ],
   "source": [
    "pd.crosstab(raw_data['Product'], columns = raw_data['Usage'], margins=True, normalize=True)"
   ]
  },
  {
   "cell_type": "code",
   "execution_count": null,
   "id": "db2285c2-e79b-4b14-9adf-aeb51b4da3cd",
   "metadata": {},
   "outputs": [],
   "source": []
  }
 ],
 "metadata": {
  "kernelspec": {
   "display_name": "Python 3 (ipykernel)",
   "language": "python",
   "name": "python3"
  },
  "language_info": {
   "codemirror_mode": {
    "name": "ipython",
    "version": 3
   },
   "file_extension": ".py",
   "mimetype": "text/x-python",
   "name": "python",
   "nbconvert_exporter": "python",
   "pygments_lexer": "ipython3",
   "version": "3.11.7"
  }
 },
 "nbformat": 4,
 "nbformat_minor": 5
}
