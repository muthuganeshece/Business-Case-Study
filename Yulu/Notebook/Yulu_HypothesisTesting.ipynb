{
 "cells": [
  {
   "cell_type": "code",
   "execution_count": 1,
   "id": "0aaec4ea",
   "metadata": {},
   "outputs": [],
   "source": [
    "import pandas as pd\n",
    "import numpy as np\n",
    "import matplotlib.pyplot as plt\n",
    "import seaborn as sns\n",
    "\n",
    "from scipy.stats import norm, ttest_rel, ttest_ind, kstest, chi2, chi2_contingency"
   ]
  },
  {
   "cell_type": "code",
   "execution_count": 2,
   "id": "e03de93c",
   "metadata": {},
   "outputs": [],
   "source": [
    "# data = pd.read_csv(r'F:\\Muthu_2023\\Personal\\NextStep\\DSCourse\\Scaler\\Business-Case-Study\\Yulu\\Dataset\\bike_sharing.csv')\n",
    "data = pd.read_csv(r'E:\\Nextstep\\Scaler\\Business-Case-Study\\Yulu\\Dataset\\bike_sharing.csv')"
   ]
  },
  {
   "cell_type": "markdown",
   "id": "d6dfd258",
   "metadata": {},
   "source": [
    "# EDA"
   ]
  },
  {
   "cell_type": "code",
   "execution_count": 4,
   "id": "1623cce4",
   "metadata": {},
   "outputs": [
    {
     "data": {
      "text/html": [
       "<div>\n",
       "<style scoped>\n",
       "    .dataframe tbody tr th:only-of-type {\n",
       "        vertical-align: middle;\n",
       "    }\n",
       "\n",
       "    .dataframe tbody tr th {\n",
       "        vertical-align: top;\n",
       "    }\n",
       "\n",
       "    .dataframe thead th {\n",
       "        text-align: right;\n",
       "    }\n",
       "</style>\n",
       "<table border=\"1\" class=\"dataframe\">\n",
       "  <thead>\n",
       "    <tr style=\"text-align: right;\">\n",
       "      <th></th>\n",
       "      <th>datetime</th>\n",
       "      <th>season</th>\n",
       "      <th>holiday</th>\n",
       "      <th>workingday</th>\n",
       "      <th>weather</th>\n",
       "      <th>temp</th>\n",
       "      <th>atemp</th>\n",
       "      <th>humidity</th>\n",
       "      <th>windspeed</th>\n",
       "      <th>casual</th>\n",
       "      <th>registered</th>\n",
       "      <th>count</th>\n",
       "    </tr>\n",
       "  </thead>\n",
       "  <tbody>\n",
       "    <tr>\n",
       "      <th>0</th>\n",
       "      <td>2011-01-01 00:00:00</td>\n",
       "      <td>1</td>\n",
       "      <td>0</td>\n",
       "      <td>0</td>\n",
       "      <td>1</td>\n",
       "      <td>9.84</td>\n",
       "      <td>14.395</td>\n",
       "      <td>81</td>\n",
       "      <td>0.0</td>\n",
       "      <td>3</td>\n",
       "      <td>13</td>\n",
       "      <td>16</td>\n",
       "    </tr>\n",
       "    <tr>\n",
       "      <th>1</th>\n",
       "      <td>2011-01-01 01:00:00</td>\n",
       "      <td>1</td>\n",
       "      <td>0</td>\n",
       "      <td>0</td>\n",
       "      <td>1</td>\n",
       "      <td>9.02</td>\n",
       "      <td>13.635</td>\n",
       "      <td>80</td>\n",
       "      <td>0.0</td>\n",
       "      <td>8</td>\n",
       "      <td>32</td>\n",
       "      <td>40</td>\n",
       "    </tr>\n",
       "    <tr>\n",
       "      <th>2</th>\n",
       "      <td>2011-01-01 02:00:00</td>\n",
       "      <td>1</td>\n",
       "      <td>0</td>\n",
       "      <td>0</td>\n",
       "      <td>1</td>\n",
       "      <td>9.02</td>\n",
       "      <td>13.635</td>\n",
       "      <td>80</td>\n",
       "      <td>0.0</td>\n",
       "      <td>5</td>\n",
       "      <td>27</td>\n",
       "      <td>32</td>\n",
       "    </tr>\n",
       "    <tr>\n",
       "      <th>3</th>\n",
       "      <td>2011-01-01 03:00:00</td>\n",
       "      <td>1</td>\n",
       "      <td>0</td>\n",
       "      <td>0</td>\n",
       "      <td>1</td>\n",
       "      <td>9.84</td>\n",
       "      <td>14.395</td>\n",
       "      <td>75</td>\n",
       "      <td>0.0</td>\n",
       "      <td>3</td>\n",
       "      <td>10</td>\n",
       "      <td>13</td>\n",
       "    </tr>\n",
       "    <tr>\n",
       "      <th>4</th>\n",
       "      <td>2011-01-01 04:00:00</td>\n",
       "      <td>1</td>\n",
       "      <td>0</td>\n",
       "      <td>0</td>\n",
       "      <td>1</td>\n",
       "      <td>9.84</td>\n",
       "      <td>14.395</td>\n",
       "      <td>75</td>\n",
       "      <td>0.0</td>\n",
       "      <td>0</td>\n",
       "      <td>1</td>\n",
       "      <td>1</td>\n",
       "    </tr>\n",
       "  </tbody>\n",
       "</table>\n",
       "</div>"
      ],
      "text/plain": [
       "              datetime  season  holiday  workingday  weather  temp   atemp  \\\n",
       "0  2011-01-01 00:00:00       1        0           0        1  9.84  14.395   \n",
       "1  2011-01-01 01:00:00       1        0           0        1  9.02  13.635   \n",
       "2  2011-01-01 02:00:00       1        0           0        1  9.02  13.635   \n",
       "3  2011-01-01 03:00:00       1        0           0        1  9.84  14.395   \n",
       "4  2011-01-01 04:00:00       1        0           0        1  9.84  14.395   \n",
       "\n",
       "   humidity  windspeed  casual  registered  count  \n",
       "0        81        0.0       3          13     16  \n",
       "1        80        0.0       8          32     40  \n",
       "2        80        0.0       5          27     32  \n",
       "3        75        0.0       3          10     13  \n",
       "4        75        0.0       0           1      1  "
      ]
     },
     "execution_count": 4,
     "metadata": {},
     "output_type": "execute_result"
    }
   ],
   "source": [
    "data.head()"
   ]
  },
  {
   "cell_type": "markdown",
   "id": "5dbdc6e4",
   "metadata": {},
   "source": [
    "**Inference:**\n",
    "- Total: 12 Columns\n",
    "- Target: 'count'"
   ]
  },
  {
   "cell_type": "code",
   "execution_count": 5,
   "id": "d3577598",
   "metadata": {},
   "outputs": [
    {
     "name": "stdout",
     "output_type": "stream",
     "text": [
      "<class 'pandas.core.frame.DataFrame'>\n",
      "RangeIndex: 10886 entries, 0 to 10885\n",
      "Data columns (total 12 columns):\n",
      " #   Column      Non-Null Count  Dtype  \n",
      "---  ------      --------------  -----  \n",
      " 0   datetime    10886 non-null  object \n",
      " 1   season      10886 non-null  int64  \n",
      " 2   holiday     10886 non-null  int64  \n",
      " 3   workingday  10886 non-null  int64  \n",
      " 4   weather     10886 non-null  int64  \n",
      " 5   temp        10886 non-null  float64\n",
      " 6   atemp       10886 non-null  float64\n",
      " 7   humidity    10886 non-null  int64  \n",
      " 8   windspeed   10886 non-null  float64\n",
      " 9   casual      10886 non-null  int64  \n",
      " 10  registered  10886 non-null  int64  \n",
      " 11  count       10886 non-null  int64  \n",
      "dtypes: float64(3), int64(8), object(1)\n",
      "memory usage: 1020.7+ KB\n"
     ]
    }
   ],
   "source": [
    "data.info()"
   ]
  },
  {
   "cell_type": "markdown",
   "id": "d946a7b5",
   "metadata": {},
   "source": [
    "Inference:\n",
    "- No null values in all the columns\n",
    "- datetime column is not in datetime64 format, conversion required\n",
    "- All are numerical columns, some may be binary (holiday, working day, weather, etc.,)"
   ]
  },
  {
   "cell_type": "code",
   "execution_count": 11,
   "id": "854f0deb",
   "metadata": {},
   "outputs": [
    {
     "name": "stdout",
     "output_type": "stream",
     "text": [
      "season :  [1 2 3 4]\n",
      "holiday :  [0 1]\n",
      "workingday :  [0 1]\n",
      "weather :  [1 2 3 4]\n"
     ]
    }
   ],
   "source": [
    "for i in ['season', 'holiday', 'workingday', 'weather']:\n",
    "    print(i, ': ', data[i].unique())"
   ]
  },
  {
   "cell_type": "markdown",
   "id": "2cb6b3f1",
   "metadata": {},
   "source": [
    "Inference:\n",
    "- Holiday and Working day are binary columns\n",
    "- Season and Weather are categorical with 4 categories"
   ]
  },
  {
   "cell_type": "code",
   "execution_count": 12,
   "id": "989d7425",
   "metadata": {},
   "outputs": [
    {
     "data": {
      "text/html": [
       "<div>\n",
       "<style scoped>\n",
       "    .dataframe tbody tr th:only-of-type {\n",
       "        vertical-align: middle;\n",
       "    }\n",
       "\n",
       "    .dataframe tbody tr th {\n",
       "        vertical-align: top;\n",
       "    }\n",
       "\n",
       "    .dataframe thead th {\n",
       "        text-align: right;\n",
       "    }\n",
       "</style>\n",
       "<table border=\"1\" class=\"dataframe\">\n",
       "  <thead>\n",
       "    <tr style=\"text-align: right;\">\n",
       "      <th></th>\n",
       "      <th>season</th>\n",
       "      <th>holiday</th>\n",
       "      <th>workingday</th>\n",
       "      <th>weather</th>\n",
       "      <th>temp</th>\n",
       "      <th>atemp</th>\n",
       "      <th>humidity</th>\n",
       "      <th>windspeed</th>\n",
       "      <th>casual</th>\n",
       "      <th>registered</th>\n",
       "      <th>count</th>\n",
       "    </tr>\n",
       "  </thead>\n",
       "  <tbody>\n",
       "    <tr>\n",
       "      <th>count</th>\n",
       "      <td>10886.000000</td>\n",
       "      <td>10886.000000</td>\n",
       "      <td>10886.000000</td>\n",
       "      <td>10886.000000</td>\n",
       "      <td>10886.00000</td>\n",
       "      <td>10886.000000</td>\n",
       "      <td>10886.000000</td>\n",
       "      <td>10886.000000</td>\n",
       "      <td>10886.000000</td>\n",
       "      <td>10886.000000</td>\n",
       "      <td>10886.000000</td>\n",
       "    </tr>\n",
       "    <tr>\n",
       "      <th>mean</th>\n",
       "      <td>2.506614</td>\n",
       "      <td>0.028569</td>\n",
       "      <td>0.680875</td>\n",
       "      <td>1.418427</td>\n",
       "      <td>20.23086</td>\n",
       "      <td>23.655084</td>\n",
       "      <td>61.886460</td>\n",
       "      <td>12.799395</td>\n",
       "      <td>36.021955</td>\n",
       "      <td>155.552177</td>\n",
       "      <td>191.574132</td>\n",
       "    </tr>\n",
       "    <tr>\n",
       "      <th>std</th>\n",
       "      <td>1.116174</td>\n",
       "      <td>0.166599</td>\n",
       "      <td>0.466159</td>\n",
       "      <td>0.633839</td>\n",
       "      <td>7.79159</td>\n",
       "      <td>8.474601</td>\n",
       "      <td>19.245033</td>\n",
       "      <td>8.164537</td>\n",
       "      <td>49.960477</td>\n",
       "      <td>151.039033</td>\n",
       "      <td>181.144454</td>\n",
       "    </tr>\n",
       "    <tr>\n",
       "      <th>min</th>\n",
       "      <td>1.000000</td>\n",
       "      <td>0.000000</td>\n",
       "      <td>0.000000</td>\n",
       "      <td>1.000000</td>\n",
       "      <td>0.82000</td>\n",
       "      <td>0.760000</td>\n",
       "      <td>0.000000</td>\n",
       "      <td>0.000000</td>\n",
       "      <td>0.000000</td>\n",
       "      <td>0.000000</td>\n",
       "      <td>1.000000</td>\n",
       "    </tr>\n",
       "    <tr>\n",
       "      <th>25%</th>\n",
       "      <td>2.000000</td>\n",
       "      <td>0.000000</td>\n",
       "      <td>0.000000</td>\n",
       "      <td>1.000000</td>\n",
       "      <td>13.94000</td>\n",
       "      <td>16.665000</td>\n",
       "      <td>47.000000</td>\n",
       "      <td>7.001500</td>\n",
       "      <td>4.000000</td>\n",
       "      <td>36.000000</td>\n",
       "      <td>42.000000</td>\n",
       "    </tr>\n",
       "    <tr>\n",
       "      <th>50%</th>\n",
       "      <td>3.000000</td>\n",
       "      <td>0.000000</td>\n",
       "      <td>1.000000</td>\n",
       "      <td>1.000000</td>\n",
       "      <td>20.50000</td>\n",
       "      <td>24.240000</td>\n",
       "      <td>62.000000</td>\n",
       "      <td>12.998000</td>\n",
       "      <td>17.000000</td>\n",
       "      <td>118.000000</td>\n",
       "      <td>145.000000</td>\n",
       "    </tr>\n",
       "    <tr>\n",
       "      <th>75%</th>\n",
       "      <td>4.000000</td>\n",
       "      <td>0.000000</td>\n",
       "      <td>1.000000</td>\n",
       "      <td>2.000000</td>\n",
       "      <td>26.24000</td>\n",
       "      <td>31.060000</td>\n",
       "      <td>77.000000</td>\n",
       "      <td>16.997900</td>\n",
       "      <td>49.000000</td>\n",
       "      <td>222.000000</td>\n",
       "      <td>284.000000</td>\n",
       "    </tr>\n",
       "    <tr>\n",
       "      <th>max</th>\n",
       "      <td>4.000000</td>\n",
       "      <td>1.000000</td>\n",
       "      <td>1.000000</td>\n",
       "      <td>4.000000</td>\n",
       "      <td>41.00000</td>\n",
       "      <td>45.455000</td>\n",
       "      <td>100.000000</td>\n",
       "      <td>56.996900</td>\n",
       "      <td>367.000000</td>\n",
       "      <td>886.000000</td>\n",
       "      <td>977.000000</td>\n",
       "    </tr>\n",
       "  </tbody>\n",
       "</table>\n",
       "</div>"
      ],
      "text/plain": [
       "             season       holiday    workingday       weather         temp  \\\n",
       "count  10886.000000  10886.000000  10886.000000  10886.000000  10886.00000   \n",
       "mean       2.506614      0.028569      0.680875      1.418427     20.23086   \n",
       "std        1.116174      0.166599      0.466159      0.633839      7.79159   \n",
       "min        1.000000      0.000000      0.000000      1.000000      0.82000   \n",
       "25%        2.000000      0.000000      0.000000      1.000000     13.94000   \n",
       "50%        3.000000      0.000000      1.000000      1.000000     20.50000   \n",
       "75%        4.000000      0.000000      1.000000      2.000000     26.24000   \n",
       "max        4.000000      1.000000      1.000000      4.000000     41.00000   \n",
       "\n",
       "              atemp      humidity     windspeed        casual    registered  \\\n",
       "count  10886.000000  10886.000000  10886.000000  10886.000000  10886.000000   \n",
       "mean      23.655084     61.886460     12.799395     36.021955    155.552177   \n",
       "std        8.474601     19.245033      8.164537     49.960477    151.039033   \n",
       "min        0.760000      0.000000      0.000000      0.000000      0.000000   \n",
       "25%       16.665000     47.000000      7.001500      4.000000     36.000000   \n",
       "50%       24.240000     62.000000     12.998000     17.000000    118.000000   \n",
       "75%       31.060000     77.000000     16.997900     49.000000    222.000000   \n",
       "max       45.455000    100.000000     56.996900    367.000000    886.000000   \n",
       "\n",
       "              count  \n",
       "count  10886.000000  \n",
       "mean     191.574132  \n",
       "std      181.144454  \n",
       "min        1.000000  \n",
       "25%       42.000000  \n",
       "50%      145.000000  \n",
       "75%      284.000000  \n",
       "max      977.000000  "
      ]
     },
     "execution_count": 12,
     "metadata": {},
     "output_type": "execute_result"
    }
   ],
   "source": [
    "data.describe()"
   ]
  },
  {
   "cell_type": "code",
   "execution_count": null,
   "id": "8763320f",
   "metadata": {},
   "outputs": [],
   "source": [
    "Inference:\n",
    "- Holiday: "
   ]
  },
  {
   "cell_type": "code",
   "execution_count": 15,
   "id": "aad12d86",
   "metadata": {},
   "outputs": [
    {
     "data": {
      "text/plain": [
       "('2011-01-01 00:00:00', '2012-12-19 23:00:00')"
      ]
     },
     "execution_count": 15,
     "metadata": {},
     "output_type": "execute_result"
    }
   ],
   "source": [
    "data['datetime'].min(), data['datetime'].max()"
   ]
  },
  {
   "cell_type": "markdown",
   "id": "4af8719f",
   "metadata": {},
   "source": [
    "Inference: Dataset contains 2 years of data"
   ]
  },
  {
   "cell_type": "code",
   "execution_count": 18,
   "id": "7799dc1e",
   "metadata": {},
   "outputs": [],
   "source": [
    "data['date'] = pd.to_datetime(data['datetime']).dt.date\n",
    "data['time'] = pd.to_datetime(data['datetime']).dt.time\n",
    "data['day'] = pd.to_datetime(data['datetime']).dt.day_name()\n",
    "data['year'] = pd.to_datetime(data['date']).dt.year"
   ]
  },
  {
   "cell_type": "markdown",
   "id": "7b51b09a-0e84-4284-81f1-190145b3ef95",
   "metadata": {},
   "source": [
    "# UVA"
   ]
  },
  {
   "cell_type": "code",
   "execution_count": 9,
   "id": "c8110fec-f5c3-498c-8b44-4352e463adb6",
   "metadata": {},
   "outputs": [
    {
     "name": "stdout",
     "output_type": "stream",
     "text": [
      "Total no. of days:  456\n"
     ]
    }
   ],
   "source": [
    "print('Total no. of days: ', data['date'].nunique())"
   ]
  },
  {
   "cell_type": "code",
   "execution_count": 17,
   "id": "94d35372-8fe5-4bff-80da-2df0f813dec9",
   "metadata": {},
   "outputs": [
    {
     "data": {
      "text/plain": [
       "<Axes: >"
      ]
     },
     "execution_count": 17,
     "metadata": {},
     "output_type": "execute_result"
    },
    {
     "data": {
      "image/png": "[encoded data removed]",
      "text/plain": [
       "<Figure size 640x480 with 1 Axes>"
      ]
     },
     "metadata": {},
     "output_type": "display_data"
    }
   ],
   "source": [
    "(pd.to_datetime(data['date']).dt.day_name().value_counts()).plot(kind='bar')"
   ]
  },
  {
   "cell_type": "markdown",
   "id": "58f49eef-da0e-40a2-9dbf-053eabb66f93",
   "metadata": {},
   "source": [
    "Inference:\n",
    "- Above plot doesn't give any insight as it is a time series data from '2011-01-01 00:00:00', '2012-12-19 23:00:00' and it is recorded every 1 hour\n",
    "- The univarite analysis on the given dataset gives the details about the conditions of the environment doesn't provides much insights to increase revenue"
   ]
  },
  {
   "cell_type": "code",
   "execution_count": 70,
   "id": "17f5d0d6-323b-43aa-8ce6-245cebf52e3e",
   "metadata": {},
   "outputs": [
    {
     "data": {
      "image/png": "[encoded data removed]",
      "text/plain": [
       "<Figure size 640x480 with 1 Axes>"
      ]
     },
     "metadata": {},
     "output_type": "display_data"
    }
   ],
   "source": [
    "# data['weather'].plot(kind='pie')\n",
    "plt.pie(data['weather'].value_counts(), labels = list(data['weather'].unique()), startangle = 90, autopct='%0.1f%%');"
   ]
  },
  {
   "cell_type": "markdown",
   "id": "99ea74b5-b5ed-46ba-8e65-6a289ba7e5ec",
   "metadata": {},
   "source": [
    "Inference:\n",
    "- Weather 1 and 2 are predominant throughout the years\n",
    "- Strategies involving weather "
   ]
  },
  {
   "cell_type": "markdown",
   "id": "e4c07678-0941-4d19-8394-885ff4ab1927",
   "metadata": {},
   "source": [
    "# BVA"
   ]
  },
  {
   "cell_type": "code",
   "execution_count": 29,
   "id": "0211d352-da6f-42ed-931d-c842754f2bc6",
   "metadata": {},
   "outputs": [
    {
     "data": {
      "text/plain": [
       "<Axes: xlabel='day'>"
      ]
     },
     "execution_count": 29,
     "metadata": {},
     "output_type": "execute_result"
    },
    {
     "data": {
      "image/png": "[encoded data removed]",
      "text/plain": [
       "<Figure size 640x480 with 1 Axes>"
      ]
     },
     "metadata": {},
     "output_type": "display_data"
    }
   ],
   "source": [
    "#Date Vs Count\n",
    "data.groupby('day')[['casual', 'registered', 'count']].mean().plot(kind='bar')\n",
    "#sns.barplot(data=data, x = 'day', y='casual', estimator='mean', hue='registered')"
   ]
  },
  {
   "cell_type": "markdown",
   "id": "60e9901b-65db-4e53-9a1d-81cbc5392de7",
   "metadata": {},
   "source": [
    "Inference:\n",
    "- Casual users are comparativel very much higher on weekends and lesser on weedays\n",
    "- Registered users are less during weekends\n",
    "- Registered users are predominantly office goers or students\n",
    "- Due to this behavior, the total count approximately remains constant throughout the days except Sunday\n",
    "- It confirms the outside activity of the users are less on sunday\n",
    "- Prediction of Casual users during weekends is very much required to optimize"
   ]
  },
  {
   "cell_type": "code",
   "execution_count": 62,
   "id": "d4d50983-6ac8-4a26-8074-a15cc877db6c",
   "metadata": {},
   "outputs": [
    {
     "data": {
      "text/plain": [
       "<Axes: xlabel='year,season'>"
      ]
     },
     "execution_count": 62,
     "metadata": {},
     "output_type": "execute_result"
    },
    {
     "data": {
      "image/png": "[encoded data removed]",
      "text/plain": [
       "<Figure size 640x480 with 1 Axes>"
      ]
     },
     "metadata": {},
     "output_type": "display_data"
    }
   ],
   "source": [
    "# Season Vs Count\n",
    "ax = data.groupby(['year', 'season'])[['casual', 'registered', 'count']].sum().plot(kind='bar')\n",
    "data.groupby(['year', 'season'])[['registered']].sum().plot(kind='line', ax=ax, color='purple')"
   ]
  },
  {
   "cell_type": "markdown",
   "id": "c9b47e06-8b42-4801-8fd1-6a4556d89c43",
   "metadata": {},
   "source": [
    "Inference:\n",
    "Analysing the 2 years of data separately, both years show\n",
    "- Much higher trend in Fall followed by Summer and Winter\n",
    "- Spring shows very much lesser trend \n",
    "- YoY increasing trend for Registered users is noticed which is responsible for the YoY increase in the count\n",
    "- Concentrating on increasing the registered users would helpful to increase the revenue"
   ]
  },
  {
   "cell_type": "code",
   "execution_count": 35,
   "id": "88faa1c9-c7e0-4ec7-816a-34baccd50c6c",
   "metadata": {},
   "outputs": [
    {
     "data": {
      "text/plain": [
       "season\n",
       "1    114\n",
       "2    114\n",
       "3    114\n",
       "4    114\n",
       "Name: date, dtype: int64"
      ]
     },
     "execution_count": 35,
     "metadata": {},
     "output_type": "execute_result"
    }
   ],
   "source": [
    "data.groupby('season')['date'].nunique()"
   ]
  },
  {
   "cell_type": "code",
   "execution_count": 60,
   "id": "82097c1d-7a20-46b7-8446-d81e1e20f3b4",
   "metadata": {},
   "outputs": [
    {
     "data": {
      "text/plain": [
       "<Axes: ylabel='holiday'>"
      ]
     },
     "execution_count": 60,
     "metadata": {},
     "output_type": "execute_result"
    },
    {
     "data": {
      "image/png": "[encoded data removed]",
      "text/plain": [
       "<Figure size 640x480 with 1 Axes>"
      ]
     },
     "metadata": {},
     "output_type": "display_data"
    }
   ],
   "source": [
    "# Holiday vs Count\n",
    "data.groupby(['holiday'])[['casual', 'registered']].mean().plot(kind='barh', stacked=True)"
   ]
  },
  {
   "cell_type": "markdown",
   "id": "b28ef3fd-62fd-45b8-abfa-9000d135d5f6",
   "metadata": {},
   "source": [
    "Inference:\n",
    "- On Holidays, average number of casual users > average number of registered users"
   ]
  },
  {
   "cell_type": "code",
   "execution_count": 59,
   "id": "f06fda59-9f96-4718-aa82-ca94012282d8",
   "metadata": {},
   "outputs": [
    {
     "data": {
      "text/plain": [
       "<Axes: ylabel='workingday'>"
      ]
     },
     "execution_count": 59,
     "metadata": {},
     "output_type": "execute_result"
    },
    {
     "data": {
      "image/png": "[encoded data removed]",
      "text/plain": [
       "<Figure size 640x480 with 1 Axes>"
      ]
     },
     "metadata": {},
     "output_type": "display_data"
    }
   ],
   "source": [
    "# Working day vs Count\n",
    "data.groupby(['workingday'])[['casual', 'registered']].mean().plot(kind='barh', stacked=True)"
   ]
  },
  {
   "cell_type": "markdown",
   "id": "d9323601-e8b7-4c9b-86ca-5145eeee2e59",
   "metadata": {},
   "source": [
    "Inference:\n",
    "- On Working days, average number of registered users > average number of casual users"
   ]
  },
  {
   "cell_type": "code",
   "execution_count": 56,
   "id": "e1dfc609-7f97-4b38-bb3d-f794a976f42f",
   "metadata": {},
   "outputs": [
    {
     "data": {
      "text/plain": [
       "<Axes: xlabel='year,weather'>"
      ]
     },
     "execution_count": 56,
     "metadata": {},
     "output_type": "execute_result"
    },
    {
     "data": {
      "image/png": "[encoded data removed]",
      "text/plain": [
       "<Figure size 640x480 with 1 Axes>"
      ]
     },
     "metadata": {},
     "output_type": "display_data"
    }
   ],
   "source": [
    "# Weather vs Count\n",
    "# Weather corresponds to time not day\n",
    "data.groupby(['year', 'weather'])[['casual', 'registered', 'count']].mean().plot(kind='bar')"
   ]
  },
  {
   "cell_type": "markdown",
   "id": "45f8a64a-8ee6-4f0c-a7ec-2e68fc2432f2",
   "metadata": {},
   "source": [
    "Inference:\n",
    "- The usage of bikes is in the order 1 > 2 > 4 > 3\n",
    "- Interestingly the usage of bikes by registered users is high during Heavy rain climate than light rain, further analysis required\n"
   ]
  },
  {
   "cell_type": "code",
   "execution_count": 63,
   "id": "f657b2dc-3b94-48b9-921a-981dd5fb782c",
   "metadata": {},
   "outputs": [
    {
     "data": {
      "text/plain": [
       "year  weather\n",
       "2011  1          212\n",
       "      2          166\n",
       "      3           90\n",
       "2012  1          222\n",
       "      2          180\n",
       "      3           97\n",
       "      4            1\n",
       "Name: date, dtype: int64"
      ]
     },
     "execution_count": 63,
     "metadata": {},
     "output_type": "execute_result"
    }
   ],
   "source": [
    "data.groupby(['year', 'weather'])['date'].nunique()"
   ]
  },
  {
   "cell_type": "code",
   "execution_count": null,
   "id": "635c9f50-c4d8-4b54-8c31-49f8e5fca3a8",
   "metadata": {},
   "outputs": [],
   "source": [
    "Inference:\n",
    "- Weather 4 is used only once in the dataset"
   ]
  },
  {
   "cell_type": "code",
   "execution_count": 64,
   "id": "e917fc95-e05e-4db4-a770-c25ab156077e",
   "metadata": {},
   "outputs": [
    {
     "data": {
      "text/html": [
       "<div>\n",
       "<style scoped>\n",
       "    .dataframe tbody tr th:only-of-type {\n",
       "        vertical-align: middle;\n",
       "    }\n",
       "\n",
       "    .dataframe tbody tr th {\n",
       "        vertical-align: top;\n",
       "    }\n",
       "\n",
       "    .dataframe thead th {\n",
       "        text-align: right;\n",
       "    }\n",
       "</style>\n",
       "<table border=\"1\" class=\"dataframe\">\n",
       "  <thead>\n",
       "    <tr style=\"text-align: right;\">\n",
       "      <th></th>\n",
       "      <th></th>\n",
       "      <th>min</th>\n",
       "      <th>max</th>\n",
       "    </tr>\n",
       "    <tr>\n",
       "      <th>year</th>\n",
       "      <th>weather</th>\n",
       "      <th></th>\n",
       "      <th></th>\n",
       "    </tr>\n",
       "  </thead>\n",
       "  <tbody>\n",
       "    <tr>\n",
       "      <th rowspan=\"3\" valign=\"top\">2011</th>\n",
       "      <th>1</th>\n",
       "      <td>2011-01-01</td>\n",
       "      <td>2011-12-19</td>\n",
       "    </tr>\n",
       "    <tr>\n",
       "      <th>2</th>\n",
       "      <td>2011-01-01</td>\n",
       "      <td>2011-12-19</td>\n",
       "    </tr>\n",
       "    <tr>\n",
       "      <th>3</th>\n",
       "      <td>2011-01-01</td>\n",
       "      <td>2011-12-17</td>\n",
       "    </tr>\n",
       "    <tr>\n",
       "      <th rowspan=\"4\" valign=\"top\">2012</th>\n",
       "      <th>1</th>\n",
       "      <td>2012-01-01</td>\n",
       "      <td>2012-12-19</td>\n",
       "    </tr>\n",
       "    <tr>\n",
       "      <th>2</th>\n",
       "      <td>2012-01-01</td>\n",
       "      <td>2012-12-18</td>\n",
       "    </tr>\n",
       "    <tr>\n",
       "      <th>3</th>\n",
       "      <td>2012-01-01</td>\n",
       "      <td>2012-12-18</td>\n",
       "    </tr>\n",
       "    <tr>\n",
       "      <th>4</th>\n",
       "      <td>2012-01-09</td>\n",
       "      <td>2012-01-09</td>\n",
       "    </tr>\n",
       "  </tbody>\n",
       "</table>\n",
       "</div>"
      ],
      "text/plain": [
       "                     min         max\n",
       "year weather                        \n",
       "2011 1        2011-01-01  2011-12-19\n",
       "     2        2011-01-01  2011-12-19\n",
       "     3        2011-01-01  2011-12-17\n",
       "2012 1        2012-01-01  2012-12-19\n",
       "     2        2012-01-01  2012-12-18\n",
       "     3        2012-01-01  2012-12-18\n",
       "     4        2012-01-09  2012-01-09"
      ]
     },
     "execution_count": 64,
     "metadata": {},
     "output_type": "execute_result"
    }
   ],
   "source": [
    "data.groupby(['year', 'weather'])['date'].agg(['min', 'max'])"
   ]
  },
  {
   "cell_type": "code",
   "execution_count": null,
   "id": "a7397714-8f4a-40bc-b3f0-d83f71f3eb4e",
   "metadata": {},
   "outputs": [],
   "source": [
    "Inference:\n",
    "- In the year "
   ]
  },
  {
   "cell_type": "code",
   "execution_count": null,
   "id": "793da86f-a2f4-45bb-a4c9-844d2f8dcf89",
   "metadata": {},
   "outputs": [],
   "source": [
    "# Between Weather and Date"
   ]
  }
 ],
 "metadata": {
  "kernelspec": {
   "display_name": "Python 3 (ipykernel)",
   "language": "python",
   "name": "python3"
  },
  "language_info": {
   "codemirror_mode": {
    "name": "ipython",
    "version": 3
   },
   "file_extension": ".py",
   "mimetype": "text/x-python",
   "name": "python",
   "nbconvert_exporter": "python",
   "pygments_lexer": "ipython3",
   "version": "3.11.7"
  }
 },
 "nbformat": 4,
 "nbformat_minor": 5
}
