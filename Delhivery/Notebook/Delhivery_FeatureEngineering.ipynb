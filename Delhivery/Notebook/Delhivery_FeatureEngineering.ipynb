{
 "cells": [
  {
   "cell_type": "code",
   "execution_count": 1,
   "id": "be473548",
   "metadata": {},
   "outputs": [],
   "source": [
    "import numpy as np\n",
    "import pandas as pd\n",
    "import matplotlib.pyplot as plt\n",
    "import seaborn as sns"
   ]
  },
  {
   "cell_type": "code",
   "execution_count": 2,
   "id": "390b31e6",
   "metadata": {},
   "outputs": [],
   "source": [
    "data = pd.read_csv(r'F:\\Muthu_2023\\Personal\\NextStep\\DSCourse\\Scaler\\Business-Case-Study\\Delhivery\\Dataset\\delhivery.csv')"
   ]
  },
  {
   "cell_type": "code",
   "execution_count": 3,
   "id": "fb815c3e",
   "metadata": {},
   "outputs": [
    {
     "data": {
      "text/html": [
       "<div>\n",
       "<style scoped>\n",
       "    .dataframe tbody tr th:only-of-type {\n",
       "        vertical-align: middle;\n",
       "    }\n",
       "\n",
       "    .dataframe tbody tr th {\n",
       "        vertical-align: top;\n",
       "    }\n",
       "\n",
       "    .dataframe thead th {\n",
       "        text-align: right;\n",
       "    }\n",
       "</style>\n",
       "<table border=\"1\" class=\"dataframe\">\n",
       "  <thead>\n",
       "    <tr style=\"text-align: right;\">\n",
       "      <th></th>\n",
       "      <th>data</th>\n",
       "      <th>trip_creation_time</th>\n",
       "      <th>route_schedule_uuid</th>\n",
       "      <th>route_type</th>\n",
       "      <th>trip_uuid</th>\n",
       "      <th>source_center</th>\n",
       "      <th>source_name</th>\n",
       "      <th>destination_center</th>\n",
       "      <th>destination_name</th>\n",
       "      <th>od_start_time</th>\n",
       "      <th>...</th>\n",
       "      <th>cutoff_timestamp</th>\n",
       "      <th>actual_distance_to_destination</th>\n",
       "      <th>actual_time</th>\n",
       "      <th>osrm_time</th>\n",
       "      <th>osrm_distance</th>\n",
       "      <th>factor</th>\n",
       "      <th>segment_actual_time</th>\n",
       "      <th>segment_osrm_time</th>\n",
       "      <th>segment_osrm_distance</th>\n",
       "      <th>segment_factor</th>\n",
       "    </tr>\n",
       "  </thead>\n",
       "  <tbody>\n",
       "    <tr>\n",
       "      <th>0</th>\n",
       "      <td>training</td>\n",
       "      <td>2018-09-20 02:35:36.476840</td>\n",
       "      <td>thanos::sroute:eb7bfc78-b351-4c0e-a951-fa3d5c3...</td>\n",
       "      <td>Carting</td>\n",
       "      <td>trip-153741093647649320</td>\n",
       "      <td>IND388121AAA</td>\n",
       "      <td>Anand_VUNagar_DC (Gujarat)</td>\n",
       "      <td>IND388620AAB</td>\n",
       "      <td>Khambhat_MotvdDPP_D (Gujarat)</td>\n",
       "      <td>2018-09-20 03:21:32.418600</td>\n",
       "      <td>...</td>\n",
       "      <td>2018-09-20 04:27:55</td>\n",
       "      <td>10.435660</td>\n",
       "      <td>14.0</td>\n",
       "      <td>11.0</td>\n",
       "      <td>11.9653</td>\n",
       "      <td>1.272727</td>\n",
       "      <td>14.0</td>\n",
       "      <td>11.0</td>\n",
       "      <td>11.9653</td>\n",
       "      <td>1.272727</td>\n",
       "    </tr>\n",
       "    <tr>\n",
       "      <th>1</th>\n",
       "      <td>training</td>\n",
       "      <td>2018-09-20 02:35:36.476840</td>\n",
       "      <td>thanos::sroute:eb7bfc78-b351-4c0e-a951-fa3d5c3...</td>\n",
       "      <td>Carting</td>\n",
       "      <td>trip-153741093647649320</td>\n",
       "      <td>IND388121AAA</td>\n",
       "      <td>Anand_VUNagar_DC (Gujarat)</td>\n",
       "      <td>IND388620AAB</td>\n",
       "      <td>Khambhat_MotvdDPP_D (Gujarat)</td>\n",
       "      <td>2018-09-20 03:21:32.418600</td>\n",
       "      <td>...</td>\n",
       "      <td>2018-09-20 04:17:55</td>\n",
       "      <td>18.936842</td>\n",
       "      <td>24.0</td>\n",
       "      <td>20.0</td>\n",
       "      <td>21.7243</td>\n",
       "      <td>1.200000</td>\n",
       "      <td>10.0</td>\n",
       "      <td>9.0</td>\n",
       "      <td>9.7590</td>\n",
       "      <td>1.111111</td>\n",
       "    </tr>\n",
       "    <tr>\n",
       "      <th>2</th>\n",
       "      <td>training</td>\n",
       "      <td>2018-09-20 02:35:36.476840</td>\n",
       "      <td>thanos::sroute:eb7bfc78-b351-4c0e-a951-fa3d5c3...</td>\n",
       "      <td>Carting</td>\n",
       "      <td>trip-153741093647649320</td>\n",
       "      <td>IND388121AAA</td>\n",
       "      <td>Anand_VUNagar_DC (Gujarat)</td>\n",
       "      <td>IND388620AAB</td>\n",
       "      <td>Khambhat_MotvdDPP_D (Gujarat)</td>\n",
       "      <td>2018-09-20 03:21:32.418600</td>\n",
       "      <td>...</td>\n",
       "      <td>2018-09-20 04:01:19.505586</td>\n",
       "      <td>27.637279</td>\n",
       "      <td>40.0</td>\n",
       "      <td>28.0</td>\n",
       "      <td>32.5395</td>\n",
       "      <td>1.428571</td>\n",
       "      <td>16.0</td>\n",
       "      <td>7.0</td>\n",
       "      <td>10.8152</td>\n",
       "      <td>2.285714</td>\n",
       "    </tr>\n",
       "    <tr>\n",
       "      <th>3</th>\n",
       "      <td>training</td>\n",
       "      <td>2018-09-20 02:35:36.476840</td>\n",
       "      <td>thanos::sroute:eb7bfc78-b351-4c0e-a951-fa3d5c3...</td>\n",
       "      <td>Carting</td>\n",
       "      <td>trip-153741093647649320</td>\n",
       "      <td>IND388121AAA</td>\n",
       "      <td>Anand_VUNagar_DC (Gujarat)</td>\n",
       "      <td>IND388620AAB</td>\n",
       "      <td>Khambhat_MotvdDPP_D (Gujarat)</td>\n",
       "      <td>2018-09-20 03:21:32.418600</td>\n",
       "      <td>...</td>\n",
       "      <td>2018-09-20 03:39:57</td>\n",
       "      <td>36.118028</td>\n",
       "      <td>62.0</td>\n",
       "      <td>40.0</td>\n",
       "      <td>45.5620</td>\n",
       "      <td>1.550000</td>\n",
       "      <td>21.0</td>\n",
       "      <td>12.0</td>\n",
       "      <td>13.0224</td>\n",
       "      <td>1.750000</td>\n",
       "    </tr>\n",
       "    <tr>\n",
       "      <th>4</th>\n",
       "      <td>training</td>\n",
       "      <td>2018-09-20 02:35:36.476840</td>\n",
       "      <td>thanos::sroute:eb7bfc78-b351-4c0e-a951-fa3d5c3...</td>\n",
       "      <td>Carting</td>\n",
       "      <td>trip-153741093647649320</td>\n",
       "      <td>IND388121AAA</td>\n",
       "      <td>Anand_VUNagar_DC (Gujarat)</td>\n",
       "      <td>IND388620AAB</td>\n",
       "      <td>Khambhat_MotvdDPP_D (Gujarat)</td>\n",
       "      <td>2018-09-20 03:21:32.418600</td>\n",
       "      <td>...</td>\n",
       "      <td>2018-09-20 03:33:55</td>\n",
       "      <td>39.386040</td>\n",
       "      <td>68.0</td>\n",
       "      <td>44.0</td>\n",
       "      <td>54.2181</td>\n",
       "      <td>1.545455</td>\n",
       "      <td>6.0</td>\n",
       "      <td>5.0</td>\n",
       "      <td>3.9153</td>\n",
       "      <td>1.200000</td>\n",
       "    </tr>\n",
       "  </tbody>\n",
       "</table>\n",
       "<p>5 rows × 24 columns</p>\n",
       "</div>"
      ],
      "text/plain": [
       "       data          trip_creation_time  \\\n",
       "0  training  2018-09-20 02:35:36.476840   \n",
       "1  training  2018-09-20 02:35:36.476840   \n",
       "2  training  2018-09-20 02:35:36.476840   \n",
       "3  training  2018-09-20 02:35:36.476840   \n",
       "4  training  2018-09-20 02:35:36.476840   \n",
       "\n",
       "                                 route_schedule_uuid route_type  \\\n",
       "0  thanos::sroute:eb7bfc78-b351-4c0e-a951-fa3d5c3...    Carting   \n",
       "1  thanos::sroute:eb7bfc78-b351-4c0e-a951-fa3d5c3...    Carting   \n",
       "2  thanos::sroute:eb7bfc78-b351-4c0e-a951-fa3d5c3...    Carting   \n",
       "3  thanos::sroute:eb7bfc78-b351-4c0e-a951-fa3d5c3...    Carting   \n",
       "4  thanos::sroute:eb7bfc78-b351-4c0e-a951-fa3d5c3...    Carting   \n",
       "\n",
       "                 trip_uuid source_center                 source_name  \\\n",
       "0  trip-153741093647649320  IND388121AAA  Anand_VUNagar_DC (Gujarat)   \n",
       "1  trip-153741093647649320  IND388121AAA  Anand_VUNagar_DC (Gujarat)   \n",
       "2  trip-153741093647649320  IND388121AAA  Anand_VUNagar_DC (Gujarat)   \n",
       "3  trip-153741093647649320  IND388121AAA  Anand_VUNagar_DC (Gujarat)   \n",
       "4  trip-153741093647649320  IND388121AAA  Anand_VUNagar_DC (Gujarat)   \n",
       "\n",
       "  destination_center               destination_name  \\\n",
       "0       IND388620AAB  Khambhat_MotvdDPP_D (Gujarat)   \n",
       "1       IND388620AAB  Khambhat_MotvdDPP_D (Gujarat)   \n",
       "2       IND388620AAB  Khambhat_MotvdDPP_D (Gujarat)   \n",
       "3       IND388620AAB  Khambhat_MotvdDPP_D (Gujarat)   \n",
       "4       IND388620AAB  Khambhat_MotvdDPP_D (Gujarat)   \n",
       "\n",
       "                od_start_time  ...            cutoff_timestamp  \\\n",
       "0  2018-09-20 03:21:32.418600  ...         2018-09-20 04:27:55   \n",
       "1  2018-09-20 03:21:32.418600  ...         2018-09-20 04:17:55   \n",
       "2  2018-09-20 03:21:32.418600  ...  2018-09-20 04:01:19.505586   \n",
       "3  2018-09-20 03:21:32.418600  ...         2018-09-20 03:39:57   \n",
       "4  2018-09-20 03:21:32.418600  ...         2018-09-20 03:33:55   \n",
       "\n",
       "   actual_distance_to_destination  actual_time  osrm_time osrm_distance  \\\n",
       "0                       10.435660         14.0       11.0       11.9653   \n",
       "1                       18.936842         24.0       20.0       21.7243   \n",
       "2                       27.637279         40.0       28.0       32.5395   \n",
       "3                       36.118028         62.0       40.0       45.5620   \n",
       "4                       39.386040         68.0       44.0       54.2181   \n",
       "\n",
       "     factor  segment_actual_time  segment_osrm_time  segment_osrm_distance  \\\n",
       "0  1.272727                 14.0               11.0                11.9653   \n",
       "1  1.200000                 10.0                9.0                 9.7590   \n",
       "2  1.428571                 16.0                7.0                10.8152   \n",
       "3  1.550000                 21.0               12.0                13.0224   \n",
       "4  1.545455                  6.0                5.0                 3.9153   \n",
       "\n",
       "   segment_factor  \n",
       "0        1.272727  \n",
       "1        1.111111  \n",
       "2        2.285714  \n",
       "3        1.750000  \n",
       "4        1.200000  \n",
       "\n",
       "[5 rows x 24 columns]"
      ]
     },
     "execution_count": 3,
     "metadata": {},
     "output_type": "execute_result"
    }
   ],
   "source": [
    "data.head()"
   ]
  },
  {
   "cell_type": "code",
   "execution_count": 4,
   "id": "57a51288",
   "metadata": {},
   "outputs": [
    {
     "name": "stdout",
     "output_type": "stream",
     "text": [
      "<class 'pandas.core.frame.DataFrame'>\n",
      "RangeIndex: 144867 entries, 0 to 144866\n",
      "Data columns (total 24 columns):\n",
      " #   Column                          Non-Null Count   Dtype  \n",
      "---  ------                          --------------   -----  \n",
      " 0   data                            144867 non-null  object \n",
      " 1   trip_creation_time              144867 non-null  object \n",
      " 2   route_schedule_uuid             144867 non-null  object \n",
      " 3   route_type                      144867 non-null  object \n",
      " 4   trip_uuid                       144867 non-null  object \n",
      " 5   source_center                   144867 non-null  object \n",
      " 6   source_name                     144574 non-null  object \n",
      " 7   destination_center              144867 non-null  object \n",
      " 8   destination_name                144606 non-null  object \n",
      " 9   od_start_time                   144867 non-null  object \n",
      " 10  od_end_time                     144867 non-null  object \n",
      " 11  start_scan_to_end_scan          144867 non-null  float64\n",
      " 12  is_cutoff                       144867 non-null  bool   \n",
      " 13  cutoff_factor                   144867 non-null  int64  \n",
      " 14  cutoff_timestamp                144867 non-null  object \n",
      " 15  actual_distance_to_destination  144867 non-null  float64\n",
      " 16  actual_time                     144867 non-null  float64\n",
      " 17  osrm_time                       144867 non-null  float64\n",
      " 18  osrm_distance                   144867 non-null  float64\n",
      " 19  factor                          144867 non-null  float64\n",
      " 20  segment_actual_time             144867 non-null  float64\n",
      " 21  segment_osrm_time               144867 non-null  float64\n",
      " 22  segment_osrm_distance           144867 non-null  float64\n",
      " 23  segment_factor                  144867 non-null  float64\n",
      "dtypes: bool(1), float64(10), int64(1), object(12)\n",
      "memory usage: 25.6+ MB\n"
     ]
    }
   ],
   "source": [
    "data.info()"
   ]
  },
  {
   "cell_type": "code",
   "execution_count": 5,
   "id": "71f95373",
   "metadata": {},
   "outputs": [
    {
     "data": {
      "text/html": [
       "<div>\n",
       "<style scoped>\n",
       "    .dataframe tbody tr th:only-of-type {\n",
       "        vertical-align: middle;\n",
       "    }\n",
       "\n",
       "    .dataframe tbody tr th {\n",
       "        vertical-align: top;\n",
       "    }\n",
       "\n",
       "    .dataframe thead th {\n",
       "        text-align: right;\n",
       "    }\n",
       "</style>\n",
       "<table border=\"1\" class=\"dataframe\">\n",
       "  <thead>\n",
       "    <tr style=\"text-align: right;\">\n",
       "      <th></th>\n",
       "      <th>start_scan_to_end_scan</th>\n",
       "      <th>cutoff_factor</th>\n",
       "      <th>actual_distance_to_destination</th>\n",
       "      <th>actual_time</th>\n",
       "      <th>osrm_time</th>\n",
       "      <th>osrm_distance</th>\n",
       "      <th>factor</th>\n",
       "      <th>segment_actual_time</th>\n",
       "      <th>segment_osrm_time</th>\n",
       "      <th>segment_osrm_distance</th>\n",
       "      <th>segment_factor</th>\n",
       "    </tr>\n",
       "  </thead>\n",
       "  <tbody>\n",
       "    <tr>\n",
       "      <th>count</th>\n",
       "      <td>144867.000000</td>\n",
       "      <td>144867.000000</td>\n",
       "      <td>144867.000000</td>\n",
       "      <td>144867.000000</td>\n",
       "      <td>144867.000000</td>\n",
       "      <td>144867.000000</td>\n",
       "      <td>144867.000000</td>\n",
       "      <td>144867.000000</td>\n",
       "      <td>144867.000000</td>\n",
       "      <td>144867.00000</td>\n",
       "      <td>144867.000000</td>\n",
       "    </tr>\n",
       "    <tr>\n",
       "      <th>mean</th>\n",
       "      <td>961.262986</td>\n",
       "      <td>232.926567</td>\n",
       "      <td>234.073372</td>\n",
       "      <td>416.927527</td>\n",
       "      <td>213.868272</td>\n",
       "      <td>284.771297</td>\n",
       "      <td>2.120107</td>\n",
       "      <td>36.196111</td>\n",
       "      <td>18.507548</td>\n",
       "      <td>22.82902</td>\n",
       "      <td>2.218368</td>\n",
       "    </tr>\n",
       "    <tr>\n",
       "      <th>std</th>\n",
       "      <td>1037.012769</td>\n",
       "      <td>344.755577</td>\n",
       "      <td>344.990009</td>\n",
       "      <td>598.103621</td>\n",
       "      <td>308.011085</td>\n",
       "      <td>421.119294</td>\n",
       "      <td>1.715421</td>\n",
       "      <td>53.571158</td>\n",
       "      <td>14.775960</td>\n",
       "      <td>17.86066</td>\n",
       "      <td>4.847530</td>\n",
       "    </tr>\n",
       "    <tr>\n",
       "      <th>min</th>\n",
       "      <td>20.000000</td>\n",
       "      <td>9.000000</td>\n",
       "      <td>9.000045</td>\n",
       "      <td>9.000000</td>\n",
       "      <td>6.000000</td>\n",
       "      <td>9.008200</td>\n",
       "      <td>0.144000</td>\n",
       "      <td>-244.000000</td>\n",
       "      <td>0.000000</td>\n",
       "      <td>0.00000</td>\n",
       "      <td>-23.444444</td>\n",
       "    </tr>\n",
       "    <tr>\n",
       "      <th>25%</th>\n",
       "      <td>161.000000</td>\n",
       "      <td>22.000000</td>\n",
       "      <td>23.355874</td>\n",
       "      <td>51.000000</td>\n",
       "      <td>27.000000</td>\n",
       "      <td>29.914700</td>\n",
       "      <td>1.604264</td>\n",
       "      <td>20.000000</td>\n",
       "      <td>11.000000</td>\n",
       "      <td>12.07010</td>\n",
       "      <td>1.347826</td>\n",
       "    </tr>\n",
       "    <tr>\n",
       "      <th>50%</th>\n",
       "      <td>449.000000</td>\n",
       "      <td>66.000000</td>\n",
       "      <td>66.126571</td>\n",
       "      <td>132.000000</td>\n",
       "      <td>64.000000</td>\n",
       "      <td>78.525800</td>\n",
       "      <td>1.857143</td>\n",
       "      <td>29.000000</td>\n",
       "      <td>17.000000</td>\n",
       "      <td>23.51300</td>\n",
       "      <td>1.684211</td>\n",
       "    </tr>\n",
       "    <tr>\n",
       "      <th>75%</th>\n",
       "      <td>1634.000000</td>\n",
       "      <td>286.000000</td>\n",
       "      <td>286.708875</td>\n",
       "      <td>513.000000</td>\n",
       "      <td>257.000000</td>\n",
       "      <td>343.193250</td>\n",
       "      <td>2.213483</td>\n",
       "      <td>40.000000</td>\n",
       "      <td>22.000000</td>\n",
       "      <td>27.81325</td>\n",
       "      <td>2.250000</td>\n",
       "    </tr>\n",
       "    <tr>\n",
       "      <th>max</th>\n",
       "      <td>7898.000000</td>\n",
       "      <td>1927.000000</td>\n",
       "      <td>1927.447705</td>\n",
       "      <td>4532.000000</td>\n",
       "      <td>1686.000000</td>\n",
       "      <td>2326.199100</td>\n",
       "      <td>77.387097</td>\n",
       "      <td>3051.000000</td>\n",
       "      <td>1611.000000</td>\n",
       "      <td>2191.40370</td>\n",
       "      <td>574.250000</td>\n",
       "    </tr>\n",
       "  </tbody>\n",
       "</table>\n",
       "</div>"
      ],
      "text/plain": [
       "       start_scan_to_end_scan  cutoff_factor  actual_distance_to_destination  \\\n",
       "count           144867.000000  144867.000000                   144867.000000   \n",
       "mean               961.262986     232.926567                      234.073372   \n",
       "std               1037.012769     344.755577                      344.990009   \n",
       "min                 20.000000       9.000000                        9.000045   \n",
       "25%                161.000000      22.000000                       23.355874   \n",
       "50%                449.000000      66.000000                       66.126571   \n",
       "75%               1634.000000     286.000000                      286.708875   \n",
       "max               7898.000000    1927.000000                     1927.447705   \n",
       "\n",
       "         actual_time      osrm_time  osrm_distance         factor  \\\n",
       "count  144867.000000  144867.000000  144867.000000  144867.000000   \n",
       "mean      416.927527     213.868272     284.771297       2.120107   \n",
       "std       598.103621     308.011085     421.119294       1.715421   \n",
       "min         9.000000       6.000000       9.008200       0.144000   \n",
       "25%        51.000000      27.000000      29.914700       1.604264   \n",
       "50%       132.000000      64.000000      78.525800       1.857143   \n",
       "75%       513.000000     257.000000     343.193250       2.213483   \n",
       "max      4532.000000    1686.000000    2326.199100      77.387097   \n",
       "\n",
       "       segment_actual_time  segment_osrm_time  segment_osrm_distance  \\\n",
       "count        144867.000000      144867.000000           144867.00000   \n",
       "mean             36.196111          18.507548               22.82902   \n",
       "std              53.571158          14.775960               17.86066   \n",
       "min            -244.000000           0.000000                0.00000   \n",
       "25%              20.000000          11.000000               12.07010   \n",
       "50%              29.000000          17.000000               23.51300   \n",
       "75%              40.000000          22.000000               27.81325   \n",
       "max            3051.000000        1611.000000             2191.40370   \n",
       "\n",
       "       segment_factor  \n",
       "count   144867.000000  \n",
       "mean         2.218368  \n",
       "std          4.847530  \n",
       "min        -23.444444  \n",
       "25%          1.347826  \n",
       "50%          1.684211  \n",
       "75%          2.250000  \n",
       "max        574.250000  "
      ]
     },
     "execution_count": 5,
     "metadata": {},
     "output_type": "execute_result"
    }
   ],
   "source": [
    "data.describe()"
   ]
  },
  {
   "cell_type": "code",
   "execution_count": 6,
   "id": "98a9660b",
   "metadata": {},
   "outputs": [
    {
     "data": {
      "text/html": [
       "<div>\n",
       "<style scoped>\n",
       "    .dataframe tbody tr th:only-of-type {\n",
       "        vertical-align: middle;\n",
       "    }\n",
       "\n",
       "    .dataframe tbody tr th {\n",
       "        vertical-align: top;\n",
       "    }\n",
       "\n",
       "    .dataframe thead th {\n",
       "        text-align: right;\n",
       "    }\n",
       "</style>\n",
       "<table border=\"1\" class=\"dataframe\">\n",
       "  <thead>\n",
       "    <tr style=\"text-align: right;\">\n",
       "      <th></th>\n",
       "      <th>data</th>\n",
       "      <th>trip_creation_time</th>\n",
       "      <th>route_schedule_uuid</th>\n",
       "      <th>route_type</th>\n",
       "      <th>trip_uuid</th>\n",
       "      <th>source_center</th>\n",
       "      <th>source_name</th>\n",
       "      <th>destination_center</th>\n",
       "      <th>destination_name</th>\n",
       "      <th>od_start_time</th>\n",
       "      <th>od_end_time</th>\n",
       "      <th>cutoff_timestamp</th>\n",
       "    </tr>\n",
       "  </thead>\n",
       "  <tbody>\n",
       "    <tr>\n",
       "      <th>count</th>\n",
       "      <td>144867</td>\n",
       "      <td>144867</td>\n",
       "      <td>144867</td>\n",
       "      <td>144867</td>\n",
       "      <td>144867</td>\n",
       "      <td>144867</td>\n",
       "      <td>144574</td>\n",
       "      <td>144867</td>\n",
       "      <td>144606</td>\n",
       "      <td>144867</td>\n",
       "      <td>144867</td>\n",
       "      <td>144867</td>\n",
       "    </tr>\n",
       "    <tr>\n",
       "      <th>unique</th>\n",
       "      <td>2</td>\n",
       "      <td>14817</td>\n",
       "      <td>1504</td>\n",
       "      <td>2</td>\n",
       "      <td>14817</td>\n",
       "      <td>1508</td>\n",
       "      <td>1498</td>\n",
       "      <td>1481</td>\n",
       "      <td>1468</td>\n",
       "      <td>26369</td>\n",
       "      <td>26369</td>\n",
       "      <td>93180</td>\n",
       "    </tr>\n",
       "    <tr>\n",
       "      <th>top</th>\n",
       "      <td>training</td>\n",
       "      <td>2018-09-28 05:23:15.359220</td>\n",
       "      <td>thanos::sroute:4029a8a2-6c74-4b7e-a6d8-f9e069f...</td>\n",
       "      <td>FTL</td>\n",
       "      <td>trip-153811219535896559</td>\n",
       "      <td>IND000000ACB</td>\n",
       "      <td>Gurgaon_Bilaspur_HB (Haryana)</td>\n",
       "      <td>IND000000ACB</td>\n",
       "      <td>Gurgaon_Bilaspur_HB (Haryana)</td>\n",
       "      <td>2018-09-21 18:37:09.322207</td>\n",
       "      <td>2018-09-24 09:59:15.691618</td>\n",
       "      <td>2018-09-24 05:19:20</td>\n",
       "    </tr>\n",
       "    <tr>\n",
       "      <th>freq</th>\n",
       "      <td>104858</td>\n",
       "      <td>101</td>\n",
       "      <td>1812</td>\n",
       "      <td>99660</td>\n",
       "      <td>101</td>\n",
       "      <td>23347</td>\n",
       "      <td>23347</td>\n",
       "      <td>15192</td>\n",
       "      <td>15192</td>\n",
       "      <td>81</td>\n",
       "      <td>81</td>\n",
       "      <td>40</td>\n",
       "    </tr>\n",
       "  </tbody>\n",
       "</table>\n",
       "</div>"
      ],
      "text/plain": [
       "            data          trip_creation_time  \\\n",
       "count     144867                      144867   \n",
       "unique         2                       14817   \n",
       "top     training  2018-09-28 05:23:15.359220   \n",
       "freq      104858                         101   \n",
       "\n",
       "                                      route_schedule_uuid route_type  \\\n",
       "count                                              144867     144867   \n",
       "unique                                               1504          2   \n",
       "top     thanos::sroute:4029a8a2-6c74-4b7e-a6d8-f9e069f...        FTL   \n",
       "freq                                                 1812      99660   \n",
       "\n",
       "                      trip_uuid source_center                    source_name  \\\n",
       "count                    144867        144867                         144574   \n",
       "unique                    14817          1508                           1498   \n",
       "top     trip-153811219535896559  IND000000ACB  Gurgaon_Bilaspur_HB (Haryana)   \n",
       "freq                        101         23347                          23347   \n",
       "\n",
       "       destination_center               destination_name  \\\n",
       "count              144867                         144606   \n",
       "unique               1481                           1468   \n",
       "top          IND000000ACB  Gurgaon_Bilaspur_HB (Haryana)   \n",
       "freq                15192                          15192   \n",
       "\n",
       "                     od_start_time                 od_end_time  \\\n",
       "count                       144867                      144867   \n",
       "unique                       26369                       26369   \n",
       "top     2018-09-21 18:37:09.322207  2018-09-24 09:59:15.691618   \n",
       "freq                            81                          81   \n",
       "\n",
       "           cutoff_timestamp  \n",
       "count                144867  \n",
       "unique                93180  \n",
       "top     2018-09-24 05:19:20  \n",
       "freq                     40  "
      ]
     },
     "execution_count": 6,
     "metadata": {},
     "output_type": "execute_result"
    }
   ],
   "source": [
    "data.describe(include='object')"
   ]
  },
  {
   "cell_type": "code",
   "execution_count": 7,
   "id": "ab44f924",
   "metadata": {},
   "outputs": [
    {
     "data": {
      "text/plain": [
       "data                                0\n",
       "trip_creation_time                  0\n",
       "route_schedule_uuid                 0\n",
       "route_type                          0\n",
       "trip_uuid                           0\n",
       "source_center                       0\n",
       "source_name                       293\n",
       "destination_center                  0\n",
       "destination_name                  261\n",
       "od_start_time                       0\n",
       "od_end_time                         0\n",
       "start_scan_to_end_scan              0\n",
       "is_cutoff                           0\n",
       "cutoff_factor                       0\n",
       "cutoff_timestamp                    0\n",
       "actual_distance_to_destination      0\n",
       "actual_time                         0\n",
       "osrm_time                           0\n",
       "osrm_distance                       0\n",
       "factor                              0\n",
       "segment_actual_time                 0\n",
       "segment_osrm_time                   0\n",
       "segment_osrm_distance               0\n",
       "segment_factor                      0\n",
       "dtype: int64"
      ]
     },
     "execution_count": 7,
     "metadata": {},
     "output_type": "execute_result"
    }
   ],
   "source": [
    "data.isnull().sum()"
   ]
  },
  {
   "cell_type": "code",
   "execution_count": 8,
   "id": "e2729de6",
   "metadata": {},
   "outputs": [
    {
     "data": {
      "text/html": [
       "<div>\n",
       "<style scoped>\n",
       "    .dataframe tbody tr th:only-of-type {\n",
       "        vertical-align: middle;\n",
       "    }\n",
       "\n",
       "    .dataframe tbody tr th {\n",
       "        vertical-align: top;\n",
       "    }\n",
       "\n",
       "    .dataframe thead th {\n",
       "        text-align: right;\n",
       "    }\n",
       "</style>\n",
       "<table border=\"1\" class=\"dataframe\">\n",
       "  <thead>\n",
       "    <tr style=\"text-align: right;\">\n",
       "      <th></th>\n",
       "      <th>data</th>\n",
       "      <th>trip_creation_time</th>\n",
       "      <th>route_schedule_uuid</th>\n",
       "      <th>route_type</th>\n",
       "      <th>trip_uuid</th>\n",
       "      <th>source_center</th>\n",
       "      <th>source_name</th>\n",
       "      <th>destination_center</th>\n",
       "      <th>destination_name</th>\n",
       "      <th>od_start_time</th>\n",
       "      <th>...</th>\n",
       "      <th>cutoff_timestamp</th>\n",
       "      <th>actual_distance_to_destination</th>\n",
       "      <th>actual_time</th>\n",
       "      <th>osrm_time</th>\n",
       "      <th>osrm_distance</th>\n",
       "      <th>factor</th>\n",
       "      <th>segment_actual_time</th>\n",
       "      <th>segment_osrm_time</th>\n",
       "      <th>segment_osrm_distance</th>\n",
       "      <th>segment_factor</th>\n",
       "    </tr>\n",
       "  </thead>\n",
       "  <tbody>\n",
       "    <tr>\n",
       "      <th>0</th>\n",
       "      <td>NaN</td>\n",
       "      <td>NaN</td>\n",
       "      <td>NaN</td>\n",
       "      <td>NaN</td>\n",
       "      <td>NaN</td>\n",
       "      <td>NaN</td>\n",
       "      <td>NaN</td>\n",
       "      <td>NaN</td>\n",
       "      <td>NaN</td>\n",
       "      <td>NaN</td>\n",
       "      <td>...</td>\n",
       "      <td>NaN</td>\n",
       "      <td>NaN</td>\n",
       "      <td>NaN</td>\n",
       "      <td>NaN</td>\n",
       "      <td>NaN</td>\n",
       "      <td>NaN</td>\n",
       "      <td>NaN</td>\n",
       "      <td>NaN</td>\n",
       "      <td>NaN</td>\n",
       "      <td>NaN</td>\n",
       "    </tr>\n",
       "    <tr>\n",
       "      <th>1</th>\n",
       "      <td>NaN</td>\n",
       "      <td>NaN</td>\n",
       "      <td>NaN</td>\n",
       "      <td>NaN</td>\n",
       "      <td>NaN</td>\n",
       "      <td>NaN</td>\n",
       "      <td>NaN</td>\n",
       "      <td>NaN</td>\n",
       "      <td>NaN</td>\n",
       "      <td>NaN</td>\n",
       "      <td>...</td>\n",
       "      <td>NaN</td>\n",
       "      <td>NaN</td>\n",
       "      <td>NaN</td>\n",
       "      <td>NaN</td>\n",
       "      <td>NaN</td>\n",
       "      <td>NaN</td>\n",
       "      <td>NaN</td>\n",
       "      <td>NaN</td>\n",
       "      <td>NaN</td>\n",
       "      <td>NaN</td>\n",
       "    </tr>\n",
       "    <tr>\n",
       "      <th>2</th>\n",
       "      <td>NaN</td>\n",
       "      <td>NaN</td>\n",
       "      <td>NaN</td>\n",
       "      <td>NaN</td>\n",
       "      <td>NaN</td>\n",
       "      <td>NaN</td>\n",
       "      <td>NaN</td>\n",
       "      <td>NaN</td>\n",
       "      <td>NaN</td>\n",
       "      <td>NaN</td>\n",
       "      <td>...</td>\n",
       "      <td>NaN</td>\n",
       "      <td>NaN</td>\n",
       "      <td>NaN</td>\n",
       "      <td>NaN</td>\n",
       "      <td>NaN</td>\n",
       "      <td>NaN</td>\n",
       "      <td>NaN</td>\n",
       "      <td>NaN</td>\n",
       "      <td>NaN</td>\n",
       "      <td>NaN</td>\n",
       "    </tr>\n",
       "    <tr>\n",
       "      <th>3</th>\n",
       "      <td>NaN</td>\n",
       "      <td>NaN</td>\n",
       "      <td>NaN</td>\n",
       "      <td>NaN</td>\n",
       "      <td>NaN</td>\n",
       "      <td>NaN</td>\n",
       "      <td>NaN</td>\n",
       "      <td>NaN</td>\n",
       "      <td>NaN</td>\n",
       "      <td>NaN</td>\n",
       "      <td>...</td>\n",
       "      <td>NaN</td>\n",
       "      <td>NaN</td>\n",
       "      <td>NaN</td>\n",
       "      <td>NaN</td>\n",
       "      <td>NaN</td>\n",
       "      <td>NaN</td>\n",
       "      <td>NaN</td>\n",
       "      <td>NaN</td>\n",
       "      <td>NaN</td>\n",
       "      <td>NaN</td>\n",
       "    </tr>\n",
       "    <tr>\n",
       "      <th>4</th>\n",
       "      <td>NaN</td>\n",
       "      <td>NaN</td>\n",
       "      <td>NaN</td>\n",
       "      <td>NaN</td>\n",
       "      <td>NaN</td>\n",
       "      <td>NaN</td>\n",
       "      <td>NaN</td>\n",
       "      <td>NaN</td>\n",
       "      <td>NaN</td>\n",
       "      <td>NaN</td>\n",
       "      <td>...</td>\n",
       "      <td>NaN</td>\n",
       "      <td>NaN</td>\n",
       "      <td>NaN</td>\n",
       "      <td>NaN</td>\n",
       "      <td>NaN</td>\n",
       "      <td>NaN</td>\n",
       "      <td>NaN</td>\n",
       "      <td>NaN</td>\n",
       "      <td>NaN</td>\n",
       "      <td>NaN</td>\n",
       "    </tr>\n",
       "    <tr>\n",
       "      <th>...</th>\n",
       "      <td>...</td>\n",
       "      <td>...</td>\n",
       "      <td>...</td>\n",
       "      <td>...</td>\n",
       "      <td>...</td>\n",
       "      <td>...</td>\n",
       "      <td>...</td>\n",
       "      <td>...</td>\n",
       "      <td>...</td>\n",
       "      <td>...</td>\n",
       "      <td>...</td>\n",
       "      <td>...</td>\n",
       "      <td>...</td>\n",
       "      <td>...</td>\n",
       "      <td>...</td>\n",
       "      <td>...</td>\n",
       "      <td>...</td>\n",
       "      <td>...</td>\n",
       "      <td>...</td>\n",
       "      <td>...</td>\n",
       "      <td>...</td>\n",
       "    </tr>\n",
       "    <tr>\n",
       "      <th>144862</th>\n",
       "      <td>NaN</td>\n",
       "      <td>NaN</td>\n",
       "      <td>NaN</td>\n",
       "      <td>NaN</td>\n",
       "      <td>NaN</td>\n",
       "      <td>NaN</td>\n",
       "      <td>NaN</td>\n",
       "      <td>NaN</td>\n",
       "      <td>NaN</td>\n",
       "      <td>NaN</td>\n",
       "      <td>...</td>\n",
       "      <td>NaN</td>\n",
       "      <td>NaN</td>\n",
       "      <td>NaN</td>\n",
       "      <td>NaN</td>\n",
       "      <td>NaN</td>\n",
       "      <td>NaN</td>\n",
       "      <td>NaN</td>\n",
       "      <td>NaN</td>\n",
       "      <td>NaN</td>\n",
       "      <td>NaN</td>\n",
       "    </tr>\n",
       "    <tr>\n",
       "      <th>144863</th>\n",
       "      <td>NaN</td>\n",
       "      <td>NaN</td>\n",
       "      <td>NaN</td>\n",
       "      <td>NaN</td>\n",
       "      <td>NaN</td>\n",
       "      <td>NaN</td>\n",
       "      <td>NaN</td>\n",
       "      <td>NaN</td>\n",
       "      <td>NaN</td>\n",
       "      <td>NaN</td>\n",
       "      <td>...</td>\n",
       "      <td>NaN</td>\n",
       "      <td>NaN</td>\n",
       "      <td>NaN</td>\n",
       "      <td>NaN</td>\n",
       "      <td>NaN</td>\n",
       "      <td>NaN</td>\n",
       "      <td>NaN</td>\n",
       "      <td>NaN</td>\n",
       "      <td>NaN</td>\n",
       "      <td>NaN</td>\n",
       "    </tr>\n",
       "    <tr>\n",
       "      <th>144864</th>\n",
       "      <td>NaN</td>\n",
       "      <td>NaN</td>\n",
       "      <td>NaN</td>\n",
       "      <td>NaN</td>\n",
       "      <td>NaN</td>\n",
       "      <td>NaN</td>\n",
       "      <td>NaN</td>\n",
       "      <td>NaN</td>\n",
       "      <td>NaN</td>\n",
       "      <td>NaN</td>\n",
       "      <td>...</td>\n",
       "      <td>NaN</td>\n",
       "      <td>NaN</td>\n",
       "      <td>NaN</td>\n",
       "      <td>NaN</td>\n",
       "      <td>NaN</td>\n",
       "      <td>NaN</td>\n",
       "      <td>NaN</td>\n",
       "      <td>NaN</td>\n",
       "      <td>NaN</td>\n",
       "      <td>NaN</td>\n",
       "    </tr>\n",
       "    <tr>\n",
       "      <th>144865</th>\n",
       "      <td>NaN</td>\n",
       "      <td>NaN</td>\n",
       "      <td>NaN</td>\n",
       "      <td>NaN</td>\n",
       "      <td>NaN</td>\n",
       "      <td>NaN</td>\n",
       "      <td>NaN</td>\n",
       "      <td>NaN</td>\n",
       "      <td>NaN</td>\n",
       "      <td>NaN</td>\n",
       "      <td>...</td>\n",
       "      <td>NaN</td>\n",
       "      <td>NaN</td>\n",
       "      <td>NaN</td>\n",
       "      <td>NaN</td>\n",
       "      <td>NaN</td>\n",
       "      <td>NaN</td>\n",
       "      <td>NaN</td>\n",
       "      <td>NaN</td>\n",
       "      <td>NaN</td>\n",
       "      <td>NaN</td>\n",
       "    </tr>\n",
       "    <tr>\n",
       "      <th>144866</th>\n",
       "      <td>NaN</td>\n",
       "      <td>NaN</td>\n",
       "      <td>NaN</td>\n",
       "      <td>NaN</td>\n",
       "      <td>NaN</td>\n",
       "      <td>NaN</td>\n",
       "      <td>NaN</td>\n",
       "      <td>NaN</td>\n",
       "      <td>NaN</td>\n",
       "      <td>NaN</td>\n",
       "      <td>...</td>\n",
       "      <td>NaN</td>\n",
       "      <td>NaN</td>\n",
       "      <td>NaN</td>\n",
       "      <td>NaN</td>\n",
       "      <td>NaN</td>\n",
       "      <td>NaN</td>\n",
       "      <td>NaN</td>\n",
       "      <td>NaN</td>\n",
       "      <td>NaN</td>\n",
       "      <td>NaN</td>\n",
       "    </tr>\n",
       "  </tbody>\n",
       "</table>\n",
       "<p>144867 rows × 24 columns</p>\n",
       "</div>"
      ],
      "text/plain": [
       "       data trip_creation_time route_schedule_uuid route_type trip_uuid  \\\n",
       "0       NaN                NaN                 NaN        NaN       NaN   \n",
       "1       NaN                NaN                 NaN        NaN       NaN   \n",
       "2       NaN                NaN                 NaN        NaN       NaN   \n",
       "3       NaN                NaN                 NaN        NaN       NaN   \n",
       "4       NaN                NaN                 NaN        NaN       NaN   \n",
       "...     ...                ...                 ...        ...       ...   \n",
       "144862  NaN                NaN                 NaN        NaN       NaN   \n",
       "144863  NaN                NaN                 NaN        NaN       NaN   \n",
       "144864  NaN                NaN                 NaN        NaN       NaN   \n",
       "144865  NaN                NaN                 NaN        NaN       NaN   \n",
       "144866  NaN                NaN                 NaN        NaN       NaN   \n",
       "\n",
       "       source_center source_name destination_center destination_name  \\\n",
       "0                NaN         NaN                NaN              NaN   \n",
       "1                NaN         NaN                NaN              NaN   \n",
       "2                NaN         NaN                NaN              NaN   \n",
       "3                NaN         NaN                NaN              NaN   \n",
       "4                NaN         NaN                NaN              NaN   \n",
       "...              ...         ...                ...              ...   \n",
       "144862           NaN         NaN                NaN              NaN   \n",
       "144863           NaN         NaN                NaN              NaN   \n",
       "144864           NaN         NaN                NaN              NaN   \n",
       "144865           NaN         NaN                NaN              NaN   \n",
       "144866           NaN         NaN                NaN              NaN   \n",
       "\n",
       "       od_start_time  ... cutoff_timestamp  actual_distance_to_destination  \\\n",
       "0                NaN  ...              NaN                             NaN   \n",
       "1                NaN  ...              NaN                             NaN   \n",
       "2                NaN  ...              NaN                             NaN   \n",
       "3                NaN  ...              NaN                             NaN   \n",
       "4                NaN  ...              NaN                             NaN   \n",
       "...              ...  ...              ...                             ...   \n",
       "144862           NaN  ...              NaN                             NaN   \n",
       "144863           NaN  ...              NaN                             NaN   \n",
       "144864           NaN  ...              NaN                             NaN   \n",
       "144865           NaN  ...              NaN                             NaN   \n",
       "144866           NaN  ...              NaN                             NaN   \n",
       "\n",
       "       actual_time  osrm_time osrm_distance  factor  segment_actual_time  \\\n",
       "0              NaN        NaN           NaN     NaN                  NaN   \n",
       "1              NaN        NaN           NaN     NaN                  NaN   \n",
       "2              NaN        NaN           NaN     NaN                  NaN   \n",
       "3              NaN        NaN           NaN     NaN                  NaN   \n",
       "4              NaN        NaN           NaN     NaN                  NaN   \n",
       "...            ...        ...           ...     ...                  ...   \n",
       "144862         NaN        NaN           NaN     NaN                  NaN   \n",
       "144863         NaN        NaN           NaN     NaN                  NaN   \n",
       "144864         NaN        NaN           NaN     NaN                  NaN   \n",
       "144865         NaN        NaN           NaN     NaN                  NaN   \n",
       "144866         NaN        NaN           NaN     NaN                  NaN   \n",
       "\n",
       "        segment_osrm_time  segment_osrm_distance  segment_factor  \n",
       "0                     NaN                    NaN             NaN  \n",
       "1                     NaN                    NaN             NaN  \n",
       "2                     NaN                    NaN             NaN  \n",
       "3                     NaN                    NaN             NaN  \n",
       "4                     NaN                    NaN             NaN  \n",
       "...                   ...                    ...             ...  \n",
       "144862                NaN                    NaN             NaN  \n",
       "144863                NaN                    NaN             NaN  \n",
       "144864                NaN                    NaN             NaN  \n",
       "144865                NaN                    NaN             NaN  \n",
       "144866                NaN                    NaN             NaN  \n",
       "\n",
       "[144867 rows x 24 columns]"
      ]
     },
     "execution_count": 8,
     "metadata": {},
     "output_type": "execute_result"
    }
   ],
   "source": [
    "data[data.isnull()]"
   ]
  },
  {
   "cell_type": "code",
   "execution_count": 12,
   "id": "93897709",
   "metadata": {},
   "outputs": [
    {
     "data": {
      "text/html": [
       "<div>\n",
       "<style scoped>\n",
       "    .dataframe tbody tr th:only-of-type {\n",
       "        vertical-align: middle;\n",
       "    }\n",
       "\n",
       "    .dataframe tbody tr th {\n",
       "        vertical-align: top;\n",
       "    }\n",
       "\n",
       "    .dataframe thead th {\n",
       "        text-align: right;\n",
       "    }\n",
       "</style>\n",
       "<table border=\"1\" class=\"dataframe\">\n",
       "  <thead>\n",
       "    <tr style=\"text-align: right;\">\n",
       "      <th></th>\n",
       "      <th>data</th>\n",
       "      <th>trip_creation_time</th>\n",
       "      <th>route_schedule_uuid</th>\n",
       "      <th>route_type</th>\n",
       "      <th>trip_uuid</th>\n",
       "      <th>source_center</th>\n",
       "      <th>source_name</th>\n",
       "      <th>destination_center</th>\n",
       "      <th>destination_name</th>\n",
       "      <th>od_start_time</th>\n",
       "      <th>...</th>\n",
       "      <th>cutoff_timestamp</th>\n",
       "      <th>actual_distance_to_destination</th>\n",
       "      <th>actual_time</th>\n",
       "      <th>osrm_time</th>\n",
       "      <th>osrm_distance</th>\n",
       "      <th>factor</th>\n",
       "      <th>segment_actual_time</th>\n",
       "      <th>segment_osrm_time</th>\n",
       "      <th>segment_osrm_distance</th>\n",
       "      <th>segment_factor</th>\n",
       "    </tr>\n",
       "  </thead>\n",
       "  <tbody>\n",
       "    <tr>\n",
       "      <th>112</th>\n",
       "      <td>training</td>\n",
       "      <td>2018-09-25 08:53:04.377810</td>\n",
       "      <td>thanos::sroute:4460a38d-ab9b-484e-bd4e-f4201d0...</td>\n",
       "      <td>FTL</td>\n",
       "      <td>trip-153786558437756691</td>\n",
       "      <td>IND342902A1B</td>\n",
       "      <td>NaN</td>\n",
       "      <td>IND302014AAA</td>\n",
       "      <td>Jaipur_Hub (Rajasthan)</td>\n",
       "      <td>2018-09-26 06:58:08.054001</td>\n",
       "      <td>...</td>\n",
       "      <td>2018-09-26 14:09:19</td>\n",
       "      <td>22.783440</td>\n",
       "      <td>48.0</td>\n",
       "      <td>34.0</td>\n",
       "      <td>37.7749</td>\n",
       "      <td>1.411765</td>\n",
       "      <td>48.0</td>\n",
       "      <td>34.0</td>\n",
       "      <td>37.7749</td>\n",
       "      <td>1.411765</td>\n",
       "    </tr>\n",
       "    <tr>\n",
       "      <th>113</th>\n",
       "      <td>training</td>\n",
       "      <td>2018-09-25 08:53:04.377810</td>\n",
       "      <td>thanos::sroute:4460a38d-ab9b-484e-bd4e-f4201d0...</td>\n",
       "      <td>FTL</td>\n",
       "      <td>trip-153786558437756691</td>\n",
       "      <td>IND342902A1B</td>\n",
       "      <td>NaN</td>\n",
       "      <td>IND302014AAA</td>\n",
       "      <td>Jaipur_Hub (Rajasthan)</td>\n",
       "      <td>2018-09-26 06:58:08.054001</td>\n",
       "      <td>...</td>\n",
       "      <td>2018-09-26 13:19:23</td>\n",
       "      <td>46.071250</td>\n",
       "      <td>98.0</td>\n",
       "      <td>41.0</td>\n",
       "      <td>56.3575</td>\n",
       "      <td>2.390244</td>\n",
       "      <td>49.0</td>\n",
       "      <td>33.0</td>\n",
       "      <td>34.1661</td>\n",
       "      <td>1.484848</td>\n",
       "    </tr>\n",
       "    <tr>\n",
       "      <th>114</th>\n",
       "      <td>training</td>\n",
       "      <td>2018-09-25 08:53:04.377810</td>\n",
       "      <td>thanos::sroute:4460a38d-ab9b-484e-bd4e-f4201d0...</td>\n",
       "      <td>FTL</td>\n",
       "      <td>trip-153786558437756691</td>\n",
       "      <td>IND342902A1B</td>\n",
       "      <td>NaN</td>\n",
       "      <td>IND302014AAA</td>\n",
       "      <td>Jaipur_Hub (Rajasthan)</td>\n",
       "      <td>2018-09-26 06:58:08.054001</td>\n",
       "      <td>...</td>\n",
       "      <td>2018-09-26 12:49:33</td>\n",
       "      <td>67.714993</td>\n",
       "      <td>127.0</td>\n",
       "      <td>58.0</td>\n",
       "      <td>80.4811</td>\n",
       "      <td>2.189655</td>\n",
       "      <td>29.0</td>\n",
       "      <td>17.0</td>\n",
       "      <td>24.1236</td>\n",
       "      <td>1.705882</td>\n",
       "    </tr>\n",
       "    <tr>\n",
       "      <th>115</th>\n",
       "      <td>training</td>\n",
       "      <td>2018-09-25 08:53:04.377810</td>\n",
       "      <td>thanos::sroute:4460a38d-ab9b-484e-bd4e-f4201d0...</td>\n",
       "      <td>FTL</td>\n",
       "      <td>trip-153786558437756691</td>\n",
       "      <td>IND342902A1B</td>\n",
       "      <td>NaN</td>\n",
       "      <td>IND302014AAA</td>\n",
       "      <td>Jaipur_Hub (Rajasthan)</td>\n",
       "      <td>2018-09-26 06:58:08.054001</td>\n",
       "      <td>...</td>\n",
       "      <td>2018-09-26 12:21:18</td>\n",
       "      <td>88.149642</td>\n",
       "      <td>156.0</td>\n",
       "      <td>73.0</td>\n",
       "      <td>101.2556</td>\n",
       "      <td>2.136986</td>\n",
       "      <td>28.0</td>\n",
       "      <td>14.0</td>\n",
       "      <td>20.7746</td>\n",
       "      <td>2.000000</td>\n",
       "    </tr>\n",
       "    <tr>\n",
       "      <th>116</th>\n",
       "      <td>training</td>\n",
       "      <td>2018-09-25 08:53:04.377810</td>\n",
       "      <td>thanos::sroute:4460a38d-ab9b-484e-bd4e-f4201d0...</td>\n",
       "      <td>FTL</td>\n",
       "      <td>trip-153786558437756691</td>\n",
       "      <td>IND342902A1B</td>\n",
       "      <td>NaN</td>\n",
       "      <td>IND302014AAA</td>\n",
       "      <td>Jaipur_Hub (Rajasthan)</td>\n",
       "      <td>2018-09-26 06:58:08.054001</td>\n",
       "      <td>...</td>\n",
       "      <td>2018-09-26 11:25:24</td>\n",
       "      <td>112.691981</td>\n",
       "      <td>212.0</td>\n",
       "      <td>92.0</td>\n",
       "      <td>127.9860</td>\n",
       "      <td>2.304348</td>\n",
       "      <td>55.0</td>\n",
       "      <td>18.0</td>\n",
       "      <td>26.7304</td>\n",
       "      <td>3.055556</td>\n",
       "    </tr>\n",
       "    <tr>\n",
       "      <th>...</th>\n",
       "      <td>...</td>\n",
       "      <td>...</td>\n",
       "      <td>...</td>\n",
       "      <td>...</td>\n",
       "      <td>...</td>\n",
       "      <td>...</td>\n",
       "      <td>...</td>\n",
       "      <td>...</td>\n",
       "      <td>...</td>\n",
       "      <td>...</td>\n",
       "      <td>...</td>\n",
       "      <td>...</td>\n",
       "      <td>...</td>\n",
       "      <td>...</td>\n",
       "      <td>...</td>\n",
       "      <td>...</td>\n",
       "      <td>...</td>\n",
       "      <td>...</td>\n",
       "      <td>...</td>\n",
       "      <td>...</td>\n",
       "      <td>...</td>\n",
       "    </tr>\n",
       "    <tr>\n",
       "      <th>144484</th>\n",
       "      <td>test</td>\n",
       "      <td>2018-10-03 09:06:06.690094</td>\n",
       "      <td>thanos::sroute:cbef3b6a-79ea-4d5e-a215-b558a70...</td>\n",
       "      <td>FTL</td>\n",
       "      <td>trip-153855756668984584</td>\n",
       "      <td>IND282002AAD</td>\n",
       "      <td>NaN</td>\n",
       "      <td>IND474003AAA</td>\n",
       "      <td>Gwalior_HrihrNgr_I (Madhya Pradesh)</td>\n",
       "      <td>2018-10-03 17:34:21.835475</td>\n",
       "      <td>...</td>\n",
       "      <td>2018-10-03 20:54:08</td>\n",
       "      <td>45.134384</td>\n",
       "      <td>62.0</td>\n",
       "      <td>45.0</td>\n",
       "      <td>47.7734</td>\n",
       "      <td>1.377778</td>\n",
       "      <td>34.0</td>\n",
       "      <td>23.0</td>\n",
       "      <td>23.6601</td>\n",
       "      <td>1.478261</td>\n",
       "    </tr>\n",
       "    <tr>\n",
       "      <th>144485</th>\n",
       "      <td>test</td>\n",
       "      <td>2018-10-03 09:06:06.690094</td>\n",
       "      <td>thanos::sroute:cbef3b6a-79ea-4d5e-a215-b558a70...</td>\n",
       "      <td>FTL</td>\n",
       "      <td>trip-153855756668984584</td>\n",
       "      <td>IND282002AAD</td>\n",
       "      <td>NaN</td>\n",
       "      <td>IND474003AAA</td>\n",
       "      <td>Gwalior_HrihrNgr_I (Madhya Pradesh)</td>\n",
       "      <td>2018-10-03 17:34:21.835475</td>\n",
       "      <td>...</td>\n",
       "      <td>2018-10-03 20:30:09</td>\n",
       "      <td>66.542266</td>\n",
       "      <td>86.0</td>\n",
       "      <td>71.0</td>\n",
       "      <td>71.9549</td>\n",
       "      <td>1.211268</td>\n",
       "      <td>23.0</td>\n",
       "      <td>25.0</td>\n",
       "      <td>24.1815</td>\n",
       "      <td>0.920000</td>\n",
       "    </tr>\n",
       "    <tr>\n",
       "      <th>144486</th>\n",
       "      <td>test</td>\n",
       "      <td>2018-10-03 09:06:06.690094</td>\n",
       "      <td>thanos::sroute:cbef3b6a-79ea-4d5e-a215-b558a70...</td>\n",
       "      <td>FTL</td>\n",
       "      <td>trip-153855756668984584</td>\n",
       "      <td>IND282002AAD</td>\n",
       "      <td>NaN</td>\n",
       "      <td>IND474003AAA</td>\n",
       "      <td>Gwalior_HrihrNgr_I (Madhya Pradesh)</td>\n",
       "      <td>2018-10-03 17:34:21.835475</td>\n",
       "      <td>...</td>\n",
       "      <td>2018-10-03 20:00:08</td>\n",
       "      <td>88.143957</td>\n",
       "      <td>116.0</td>\n",
       "      <td>114.0</td>\n",
       "      <td>112.6943</td>\n",
       "      <td>1.017544</td>\n",
       "      <td>30.0</td>\n",
       "      <td>43.0</td>\n",
       "      <td>40.7394</td>\n",
       "      <td>0.697674</td>\n",
       "    </tr>\n",
       "    <tr>\n",
       "      <th>144487</th>\n",
       "      <td>test</td>\n",
       "      <td>2018-10-03 09:06:06.690094</td>\n",
       "      <td>thanos::sroute:cbef3b6a-79ea-4d5e-a215-b558a70...</td>\n",
       "      <td>FTL</td>\n",
       "      <td>trip-153855756668984584</td>\n",
       "      <td>IND282002AAD</td>\n",
       "      <td>NaN</td>\n",
       "      <td>IND474003AAA</td>\n",
       "      <td>Gwalior_HrihrNgr_I (Madhya Pradesh)</td>\n",
       "      <td>2018-10-03 17:34:21.835475</td>\n",
       "      <td>...</td>\n",
       "      <td>2018-10-03 19:02:11</td>\n",
       "      <td>111.084417</td>\n",
       "      <td>173.0</td>\n",
       "      <td>123.0</td>\n",
       "      <td>134.1940</td>\n",
       "      <td>1.406504</td>\n",
       "      <td>57.0</td>\n",
       "      <td>45.0</td>\n",
       "      <td>46.9217</td>\n",
       "      <td>1.266667</td>\n",
       "    </tr>\n",
       "    <tr>\n",
       "      <th>144488</th>\n",
       "      <td>test</td>\n",
       "      <td>2018-10-03 09:06:06.690094</td>\n",
       "      <td>thanos::sroute:cbef3b6a-79ea-4d5e-a215-b558a70...</td>\n",
       "      <td>FTL</td>\n",
       "      <td>trip-153855756668984584</td>\n",
       "      <td>IND282002AAD</td>\n",
       "      <td>NaN</td>\n",
       "      <td>IND474003AAA</td>\n",
       "      <td>Gwalior_HrihrNgr_I (Madhya Pradesh)</td>\n",
       "      <td>2018-10-03 17:34:21.835475</td>\n",
       "      <td>...</td>\n",
       "      <td>2018-10-03 18:54:10</td>\n",
       "      <td>108.820943</td>\n",
       "      <td>181.0</td>\n",
       "      <td>123.0</td>\n",
       "      <td>121.3598</td>\n",
       "      <td>1.471545</td>\n",
       "      <td>8.0</td>\n",
       "      <td>4.0</td>\n",
       "      <td>6.5101</td>\n",
       "      <td>2.000000</td>\n",
       "    </tr>\n",
       "  </tbody>\n",
       "</table>\n",
       "<p>293 rows × 24 columns</p>\n",
       "</div>"
      ],
      "text/plain": [
       "            data          trip_creation_time  \\\n",
       "112     training  2018-09-25 08:53:04.377810   \n",
       "113     training  2018-09-25 08:53:04.377810   \n",
       "114     training  2018-09-25 08:53:04.377810   \n",
       "115     training  2018-09-25 08:53:04.377810   \n",
       "116     training  2018-09-25 08:53:04.377810   \n",
       "...          ...                         ...   \n",
       "144484      test  2018-10-03 09:06:06.690094   \n",
       "144485      test  2018-10-03 09:06:06.690094   \n",
       "144486      test  2018-10-03 09:06:06.690094   \n",
       "144487      test  2018-10-03 09:06:06.690094   \n",
       "144488      test  2018-10-03 09:06:06.690094   \n",
       "\n",
       "                                      route_schedule_uuid route_type  \\\n",
       "112     thanos::sroute:4460a38d-ab9b-484e-bd4e-f4201d0...        FTL   \n",
       "113     thanos::sroute:4460a38d-ab9b-484e-bd4e-f4201d0...        FTL   \n",
       "114     thanos::sroute:4460a38d-ab9b-484e-bd4e-f4201d0...        FTL   \n",
       "115     thanos::sroute:4460a38d-ab9b-484e-bd4e-f4201d0...        FTL   \n",
       "116     thanos::sroute:4460a38d-ab9b-484e-bd4e-f4201d0...        FTL   \n",
       "...                                                   ...        ...   \n",
       "144484  thanos::sroute:cbef3b6a-79ea-4d5e-a215-b558a70...        FTL   \n",
       "144485  thanos::sroute:cbef3b6a-79ea-4d5e-a215-b558a70...        FTL   \n",
       "144486  thanos::sroute:cbef3b6a-79ea-4d5e-a215-b558a70...        FTL   \n",
       "144487  thanos::sroute:cbef3b6a-79ea-4d5e-a215-b558a70...        FTL   \n",
       "144488  thanos::sroute:cbef3b6a-79ea-4d5e-a215-b558a70...        FTL   \n",
       "\n",
       "                      trip_uuid source_center source_name destination_center  \\\n",
       "112     trip-153786558437756691  IND342902A1B         NaN       IND302014AAA   \n",
       "113     trip-153786558437756691  IND342902A1B         NaN       IND302014AAA   \n",
       "114     trip-153786558437756691  IND342902A1B         NaN       IND302014AAA   \n",
       "115     trip-153786558437756691  IND342902A1B         NaN       IND302014AAA   \n",
       "116     trip-153786558437756691  IND342902A1B         NaN       IND302014AAA   \n",
       "...                         ...           ...         ...                ...   \n",
       "144484  trip-153855756668984584  IND282002AAD         NaN       IND474003AAA   \n",
       "144485  trip-153855756668984584  IND282002AAD         NaN       IND474003AAA   \n",
       "144486  trip-153855756668984584  IND282002AAD         NaN       IND474003AAA   \n",
       "144487  trip-153855756668984584  IND282002AAD         NaN       IND474003AAA   \n",
       "144488  trip-153855756668984584  IND282002AAD         NaN       IND474003AAA   \n",
       "\n",
       "                           destination_name               od_start_time  ...  \\\n",
       "112                  Jaipur_Hub (Rajasthan)  2018-09-26 06:58:08.054001  ...   \n",
       "113                  Jaipur_Hub (Rajasthan)  2018-09-26 06:58:08.054001  ...   \n",
       "114                  Jaipur_Hub (Rajasthan)  2018-09-26 06:58:08.054001  ...   \n",
       "115                  Jaipur_Hub (Rajasthan)  2018-09-26 06:58:08.054001  ...   \n",
       "116                  Jaipur_Hub (Rajasthan)  2018-09-26 06:58:08.054001  ...   \n",
       "...                                     ...                         ...  ...   \n",
       "144484  Gwalior_HrihrNgr_I (Madhya Pradesh)  2018-10-03 17:34:21.835475  ...   \n",
       "144485  Gwalior_HrihrNgr_I (Madhya Pradesh)  2018-10-03 17:34:21.835475  ...   \n",
       "144486  Gwalior_HrihrNgr_I (Madhya Pradesh)  2018-10-03 17:34:21.835475  ...   \n",
       "144487  Gwalior_HrihrNgr_I (Madhya Pradesh)  2018-10-03 17:34:21.835475  ...   \n",
       "144488  Gwalior_HrihrNgr_I (Madhya Pradesh)  2018-10-03 17:34:21.835475  ...   \n",
       "\n",
       "           cutoff_timestamp  actual_distance_to_destination  actual_time  \\\n",
       "112     2018-09-26 14:09:19                       22.783440         48.0   \n",
       "113     2018-09-26 13:19:23                       46.071250         98.0   \n",
       "114     2018-09-26 12:49:33                       67.714993        127.0   \n",
       "115     2018-09-26 12:21:18                       88.149642        156.0   \n",
       "116     2018-09-26 11:25:24                      112.691981        212.0   \n",
       "...                     ...                             ...          ...   \n",
       "144484  2018-10-03 20:54:08                       45.134384         62.0   \n",
       "144485  2018-10-03 20:30:09                       66.542266         86.0   \n",
       "144486  2018-10-03 20:00:08                       88.143957        116.0   \n",
       "144487  2018-10-03 19:02:11                      111.084417        173.0   \n",
       "144488  2018-10-03 18:54:10                      108.820943        181.0   \n",
       "\n",
       "        osrm_time osrm_distance    factor  segment_actual_time  \\\n",
       "112          34.0       37.7749  1.411765                 48.0   \n",
       "113          41.0       56.3575  2.390244                 49.0   \n",
       "114          58.0       80.4811  2.189655                 29.0   \n",
       "115          73.0      101.2556  2.136986                 28.0   \n",
       "116          92.0      127.9860  2.304348                 55.0   \n",
       "...           ...           ...       ...                  ...   \n",
       "144484       45.0       47.7734  1.377778                 34.0   \n",
       "144485       71.0       71.9549  1.211268                 23.0   \n",
       "144486      114.0      112.6943  1.017544                 30.0   \n",
       "144487      123.0      134.1940  1.406504                 57.0   \n",
       "144488      123.0      121.3598  1.471545                  8.0   \n",
       "\n",
       "        segment_osrm_time  segment_osrm_distance  segment_factor  \n",
       "112                  34.0                37.7749        1.411765  \n",
       "113                  33.0                34.1661        1.484848  \n",
       "114                  17.0                24.1236        1.705882  \n",
       "115                  14.0                20.7746        2.000000  \n",
       "116                  18.0                26.7304        3.055556  \n",
       "...                   ...                    ...             ...  \n",
       "144484               23.0                23.6601        1.478261  \n",
       "144485               25.0                24.1815        0.920000  \n",
       "144486               43.0                40.7394        0.697674  \n",
       "144487               45.0                46.9217        1.266667  \n",
       "144488                4.0                 6.5101        2.000000  \n",
       "\n",
       "[293 rows x 24 columns]"
      ]
     },
     "execution_count": 12,
     "metadata": {},
     "output_type": "execute_result"
    }
   ],
   "source": [
    "data[data['source_name'].isnull()]"
   ]
  },
  {
   "cell_type": "markdown",
   "id": "43ac2111",
   "metadata": {},
   "source": [
    "# Column wise Analysis"
   ]
  },
  {
   "cell_type": "code",
   "execution_count": 14,
   "id": "6df739d5",
   "metadata": {},
   "outputs": [],
   "source": [
    "# data\n",
    "df = pd.DataFrame()"
   ]
  },
  {
   "cell_type": "markdown",
   "id": "9f8761fa",
   "metadata": {},
   "source": [
    "## Trip_creation_time"
   ]
  },
  {
   "cell_type": "code",
   "execution_count": 25,
   "id": "edbe6949",
   "metadata": {},
   "outputs": [
    {
     "data": {
      "text/html": [
       "<div>\n",
       "<style scoped>\n",
       "    .dataframe tbody tr th:only-of-type {\n",
       "        vertical-align: middle;\n",
       "    }\n",
       "\n",
       "    .dataframe tbody tr th {\n",
       "        vertical-align: top;\n",
       "    }\n",
       "\n",
       "    .dataframe thead th {\n",
       "        text-align: right;\n",
       "    }\n",
       "</style>\n",
       "<table border=\"1\" class=\"dataframe\">\n",
       "  <thead>\n",
       "    <tr style=\"text-align: right;\">\n",
       "      <th></th>\n",
       "      <th>trip_creation_date</th>\n",
       "      <th>trip_creation_hour</th>\n",
       "      <th>trip_creation_time</th>\n",
       "    </tr>\n",
       "  </thead>\n",
       "  <tbody>\n",
       "    <tr>\n",
       "      <th>0</th>\n",
       "      <td>2018-09-20</td>\n",
       "      <td>2</td>\n",
       "      <td>2018-09-20 02:35:36.476840</td>\n",
       "    </tr>\n",
       "    <tr>\n",
       "      <th>1</th>\n",
       "      <td>2018-09-20</td>\n",
       "      <td>2</td>\n",
       "      <td>2018-09-20 02:35:36.476840</td>\n",
       "    </tr>\n",
       "    <tr>\n",
       "      <th>2</th>\n",
       "      <td>2018-09-20</td>\n",
       "      <td>2</td>\n",
       "      <td>2018-09-20 02:35:36.476840</td>\n",
       "    </tr>\n",
       "    <tr>\n",
       "      <th>3</th>\n",
       "      <td>2018-09-20</td>\n",
       "      <td>2</td>\n",
       "      <td>2018-09-20 02:35:36.476840</td>\n",
       "    </tr>\n",
       "    <tr>\n",
       "      <th>4</th>\n",
       "      <td>2018-09-20</td>\n",
       "      <td>2</td>\n",
       "      <td>2018-09-20 02:35:36.476840</td>\n",
       "    </tr>\n",
       "    <tr>\n",
       "      <th>...</th>\n",
       "      <td>...</td>\n",
       "      <td>...</td>\n",
       "      <td>...</td>\n",
       "    </tr>\n",
       "    <tr>\n",
       "      <th>144862</th>\n",
       "      <td>2018-09-20</td>\n",
       "      <td>16</td>\n",
       "      <td>2018-09-20 16:24:28.436231</td>\n",
       "    </tr>\n",
       "    <tr>\n",
       "      <th>144863</th>\n",
       "      <td>2018-09-20</td>\n",
       "      <td>16</td>\n",
       "      <td>2018-09-20 16:24:28.436231</td>\n",
       "    </tr>\n",
       "    <tr>\n",
       "      <th>144864</th>\n",
       "      <td>2018-09-20</td>\n",
       "      <td>16</td>\n",
       "      <td>2018-09-20 16:24:28.436231</td>\n",
       "    </tr>\n",
       "    <tr>\n",
       "      <th>144865</th>\n",
       "      <td>2018-09-20</td>\n",
       "      <td>16</td>\n",
       "      <td>2018-09-20 16:24:28.436231</td>\n",
       "    </tr>\n",
       "    <tr>\n",
       "      <th>144866</th>\n",
       "      <td>2018-09-20</td>\n",
       "      <td>16</td>\n",
       "      <td>2018-09-20 16:24:28.436231</td>\n",
       "    </tr>\n",
       "  </tbody>\n",
       "</table>\n",
       "<p>144867 rows × 3 columns</p>\n",
       "</div>"
      ],
      "text/plain": [
       "       trip_creation_date  trip_creation_hour         trip_creation_time\n",
       "0              2018-09-20                   2 2018-09-20 02:35:36.476840\n",
       "1              2018-09-20                   2 2018-09-20 02:35:36.476840\n",
       "2              2018-09-20                   2 2018-09-20 02:35:36.476840\n",
       "3              2018-09-20                   2 2018-09-20 02:35:36.476840\n",
       "4              2018-09-20                   2 2018-09-20 02:35:36.476840\n",
       "...                   ...                 ...                        ...\n",
       "144862         2018-09-20                  16 2018-09-20 16:24:28.436231\n",
       "144863         2018-09-20                  16 2018-09-20 16:24:28.436231\n",
       "144864         2018-09-20                  16 2018-09-20 16:24:28.436231\n",
       "144865         2018-09-20                  16 2018-09-20 16:24:28.436231\n",
       "144866         2018-09-20                  16 2018-09-20 16:24:28.436231\n",
       "\n",
       "[144867 rows x 3 columns]"
      ]
     },
     "execution_count": 25,
     "metadata": {},
     "output_type": "execute_result"
    }
   ],
   "source": [
    "df['trip_creation_time']=pd.to_datetime(data['trip_creation_time'])\n",
    "df"
   ]
  },
  {
   "cell_type": "code",
   "execution_count": 21,
   "id": "cd50d89d",
   "metadata": {},
   "outputs": [
    {
     "data": {
      "text/plain": [
       "22"
      ]
     },
     "execution_count": 21,
     "metadata": {},
     "output_type": "execute_result"
    }
   ],
   "source": [
    "df['trip_creation_time'].dt.date.nunique()"
   ]
  },
  {
   "cell_type": "markdown",
   "id": "050dc6f4",
   "metadata": {},
   "source": [
    "Dataset Contains 22 days of data. Hence granular level of year, month and day is not required"
   ]
  },
  {
   "cell_type": "code",
   "execution_count": 26,
   "id": "36fc1eef",
   "metadata": {},
   "outputs": [
    {
     "data": {
      "text/html": [
       "<div>\n",
       "<style scoped>\n",
       "    .dataframe tbody tr th:only-of-type {\n",
       "        vertical-align: middle;\n",
       "    }\n",
       "\n",
       "    .dataframe tbody tr th {\n",
       "        vertical-align: top;\n",
       "    }\n",
       "\n",
       "    .dataframe thead th {\n",
       "        text-align: right;\n",
       "    }\n",
       "</style>\n",
       "<table border=\"1\" class=\"dataframe\">\n",
       "  <thead>\n",
       "    <tr style=\"text-align: right;\">\n",
       "      <th></th>\n",
       "      <th>trip_creation_date</th>\n",
       "      <th>trip_creation_hour</th>\n",
       "    </tr>\n",
       "  </thead>\n",
       "  <tbody>\n",
       "    <tr>\n",
       "      <th>0</th>\n",
       "      <td>2018-09-20</td>\n",
       "      <td>2</td>\n",
       "    </tr>\n",
       "    <tr>\n",
       "      <th>1</th>\n",
       "      <td>2018-09-20</td>\n",
       "      <td>2</td>\n",
       "    </tr>\n",
       "    <tr>\n",
       "      <th>2</th>\n",
       "      <td>2018-09-20</td>\n",
       "      <td>2</td>\n",
       "    </tr>\n",
       "    <tr>\n",
       "      <th>3</th>\n",
       "      <td>2018-09-20</td>\n",
       "      <td>2</td>\n",
       "    </tr>\n",
       "    <tr>\n",
       "      <th>4</th>\n",
       "      <td>2018-09-20</td>\n",
       "      <td>2</td>\n",
       "    </tr>\n",
       "    <tr>\n",
       "      <th>...</th>\n",
       "      <td>...</td>\n",
       "      <td>...</td>\n",
       "    </tr>\n",
       "    <tr>\n",
       "      <th>144862</th>\n",
       "      <td>2018-09-20</td>\n",
       "      <td>16</td>\n",
       "    </tr>\n",
       "    <tr>\n",
       "      <th>144863</th>\n",
       "      <td>2018-09-20</td>\n",
       "      <td>16</td>\n",
       "    </tr>\n",
       "    <tr>\n",
       "      <th>144864</th>\n",
       "      <td>2018-09-20</td>\n",
       "      <td>16</td>\n",
       "    </tr>\n",
       "    <tr>\n",
       "      <th>144865</th>\n",
       "      <td>2018-09-20</td>\n",
       "      <td>16</td>\n",
       "    </tr>\n",
       "    <tr>\n",
       "      <th>144866</th>\n",
       "      <td>2018-09-20</td>\n",
       "      <td>16</td>\n",
       "    </tr>\n",
       "  </tbody>\n",
       "</table>\n",
       "<p>144867 rows × 2 columns</p>\n",
       "</div>"
      ],
      "text/plain": [
       "       trip_creation_date  trip_creation_hour\n",
       "0              2018-09-20                   2\n",
       "1              2018-09-20                   2\n",
       "2              2018-09-20                   2\n",
       "3              2018-09-20                   2\n",
       "4              2018-09-20                   2\n",
       "...                   ...                 ...\n",
       "144862         2018-09-20                  16\n",
       "144863         2018-09-20                  16\n",
       "144864         2018-09-20                  16\n",
       "144865         2018-09-20                  16\n",
       "144866         2018-09-20                  16\n",
       "\n",
       "[144867 rows x 2 columns]"
      ]
     },
     "execution_count": 26,
     "metadata": {},
     "output_type": "execute_result"
    }
   ],
   "source": [
    "df['trip_creation_date'] = df['trip_creation_time'].dt.date\n",
    "df['trip_creation_hour'] = df['trip_creation_time'].dt.hour\n",
    "df.drop('trip_creation_time', axis=1, inplace=True)\n",
    "df"
   ]
  },
  {
   "cell_type": "markdown",
   "id": "374d25f9",
   "metadata": {},
   "source": [
    "## route_schedule_uuid"
   ]
  },
  {
   "cell_type": "code",
   "execution_count": 66,
   "id": "a3c11228",
   "metadata": {},
   "outputs": [],
   "source": [
    "split_0 = data['route_schedule_uuid'].str.split(\"::\").apply(lambda x: x[0])\n",
    "split_1 = data['route_schedule_uuid'].str.split(\":\").apply(lambda x: x[2])\n",
    "split_2 = data['route_schedule_uuid'].str.split(\":\").apply(lambda x: x[3])"
   ]
  },
  {
   "cell_type": "code",
   "execution_count": 67,
   "id": "9ec8b5b7",
   "metadata": {},
   "outputs": [
    {
     "name": "stdout",
     "output_type": "stream",
     "text": [
      "1 1 1504\n"
     ]
    }
   ],
   "source": [
    "print(split_0.nunique(), split_1.nunique(), split_2.nunique())"
   ]
  },
  {
   "cell_type": "markdown",
   "id": "208334e1",
   "metadata": {},
   "source": [
    "There is no significant information present in this column and hence can be dropped "
   ]
  },
  {
   "cell_type": "markdown",
   "id": "b05f9a0f",
   "metadata": {},
   "source": [
    "# route_type"
   ]
  },
  {
   "cell_type": "code",
   "execution_count": 68,
   "id": "14fb9c23",
   "metadata": {},
   "outputs": [
    {
     "data": {
      "text/plain": [
       "array(['Carting', 'FTL'], dtype=object)"
      ]
     },
     "execution_count": 68,
     "metadata": {},
     "output_type": "execute_result"
    }
   ],
   "source": [
    "data['route_type'].unique()"
   ]
  },
  {
   "cell_type": "code",
   "execution_count": 72,
   "id": "6271893b",
   "metadata": {},
   "outputs": [],
   "source": [
    "df[['Cart', 'FTL']] = pd.get_dummies(data['route_type'], columns=['route_type'])"
   ]
  },
  {
   "cell_type": "code",
   "execution_count": 74,
   "id": "e71bccf4",
   "metadata": {},
   "outputs": [
    {
     "data": {
      "text/plain": [
       "0    99660\n",
       "1    45207\n",
       "Name: Cart, dtype: int64"
      ]
     },
     "execution_count": 74,
     "metadata": {},
     "output_type": "execute_result"
    }
   ],
   "source": [
    "df['Cart'].value_counts()"
   ]
  },
  {
   "cell_type": "markdown",
   "id": "246f088b",
   "metadata": {},
   "source": [
    "## trip_uuid"
   ]
  },
  {
   "cell_type": "code",
   "execution_count": 76,
   "id": "ae440653",
   "metadata": {},
   "outputs": [
    {
     "data": {
      "text/plain": [
       "14817"
      ]
     },
     "execution_count": 76,
     "metadata": {},
     "output_type": "execute_result"
    }
   ],
   "source": [
    "data['trip_uuid'].nunique()"
   ]
  },
  {
   "cell_type": "code",
   "execution_count": 77,
   "id": "b7e4246b",
   "metadata": {},
   "outputs": [],
   "source": [
    "# For grouping Trip ID is required\n",
    "df['trip_uuid'] = data['trip_uuid']"
   ]
  },
  {
   "cell_type": "markdown",
   "id": "2c11898b",
   "metadata": {},
   "source": [
    "## source_center"
   ]
  },
  {
   "cell_type": "code",
   "execution_count": null,
   "id": "e60f62f7",
   "metadata": {},
   "outputs": [],
   "source": [
    "data['source_center'].iloc[0]"
   ]
  },
  {
   "cell_type": "code",
   "execution_count": 176,
   "id": "9a19a95e",
   "metadata": {},
   "outputs": [
    {
     "data": {
      "text/plain": [
       "array(['IND'], dtype=object)"
      ]
     },
     "execution_count": 176,
     "metadata": {},
     "output_type": "execute_result"
    }
   ],
   "source": [
    "data['source_center'].apply(lambda x: x[:3]).unique()"
   ]
  },
  {
   "cell_type": "code",
   "execution_count": 178,
   "id": "09c79163",
   "metadata": {},
   "outputs": [
    {
     "data": {
      "text/plain": [
       "array(['AAA', 'AAB', 'AAG', 'ACA', 'AAC', 'AAD', 'A1B', 'ACK', 'ACB',\n",
       "       'ABA', 'AAE', 'AAM', 'AFT', 'AAN', 'AAR', 'ACT', 'AAK', 'AFJ',\n",
       "       'ADV', 'AAF', 'ABD', 'AFG', 'AAL', 'ACN', 'ABG', 'AAJ', 'AAI',\n",
       "       'AEM', 'AEL', 'AET', 'AAS', 'AFR', 'AAZ', 'AFF', 'AAH', 'ADM',\n",
       "       'AAQ'], dtype=object)"
      ]
     },
     "execution_count": 178,
     "metadata": {},
     "output_type": "execute_result"
    }
   ],
   "source": [
    "data['source_center'].apply(lambda x: x[-3:]).unique()"
   ]
  },
  {
   "cell_type": "code",
   "execution_count": 179,
   "id": "81871bdf",
   "metadata": {},
   "outputs": [
    {
     "data": {
      "text/plain": [
       "1390"
      ]
     },
     "execution_count": 179,
     "metadata": {},
     "output_type": "execute_result"
    }
   ],
   "source": [
    "data['source_center'].apply(lambda x: x[3:-3:]).nunique()"
   ]
  },
  {
   "cell_type": "markdown",
   "id": "0fcdfff3",
   "metadata": {},
   "source": [
    "- All the packages starts from IND possibly India\n",
    "- Unique Id for each center, hence not required for further analysis"
   ]
  },
  {
   "cell_type": "markdown",
   "id": "1829babf",
   "metadata": {},
   "source": [
    "## source_name"
   ]
  },
  {
   "cell_type": "code",
   "execution_count": 81,
   "id": "a32be5e7",
   "metadata": {},
   "outputs": [
    {
     "data": {
      "text/plain": [
       "'Anand_VUNagar_DC (Gujarat)'"
      ]
     },
     "execution_count": 81,
     "metadata": {},
     "output_type": "execute_result"
    }
   ],
   "source": [
    "# source_name\n",
    "data['source_name'].iloc[0]"
   ]
  },
  {
   "cell_type": "code",
   "execution_count": 150,
   "id": "4019c1f2",
   "metadata": {},
   "outputs": [
    {
     "data": {
      "text/plain": [
       "2    118836\n",
       "1     12543\n",
       "3     11381\n",
       "0      2107\n",
       "Name: source_name, dtype: int64"
      ]
     },
     "execution_count": 150,
     "metadata": {},
     "output_type": "execute_result"
    }
   ],
   "source": [
    "# Different ways of source name entered in dataset\n",
    "data['source_name'].fillna(\"Unk_Unk_Unk (Unk)\").str.count(\"_\").value_counts()"
   ]
  },
  {
   "cell_type": "markdown",
   "id": "835103c0",
   "metadata": {},
   "source": [
    "Four different variety of source name are given in the dataset"
   ]
  },
  {
   "cell_type": "code",
   "execution_count": 148,
   "id": "0c6d071d",
   "metadata": {},
   "outputs": [
    {
     "name": "stdout",
     "output_type": "stream",
     "text": [
      "Haridwar (Uttarakhand)\n",
      "LowerParel_CP (Maharashtra)\n",
      "Anand_VUNagar_DC (Gujarat)\n",
      "Kanpur_Central_H_6 (Uttar Pradesh)\n"
     ]
    }
   ],
   "source": [
    "for i in range(4):\n",
    "    print(data[data['source_name'].fillna(\"Unk_Unk_Unk (Unk)\").str.count(\"_\") == i]['source_name'].iloc[0])"
   ]
  },
  {
   "cell_type": "markdown",
   "id": "fb9fdb9a",
   "metadata": {},
   "source": [
    "First string before underscore is City and inside brackets is state"
   ]
  },
  {
   "cell_type": "code",
   "execution_count": 157,
   "id": "da58dbc4",
   "metadata": {},
   "outputs": [],
   "source": [
    "def splitlocation(x):\n",
    "    if x.count(\"_\"):\n",
    "        temp1 = x.split(\"_\")\n",
    "        city = temp1[0]\n",
    "        temp2 = temp1[-1].split(\"(\")\n",
    "        state = temp2[1].replace(\")\", \"\").strip()\n",
    "    else:\n",
    "        temp1 = x.split(\"(\")\n",
    "        city = temp1[0].strip()\n",
    "        state = temp1[-1].replace(\")\", \"\").strip()\n",
    "    return city, state"
   ]
  },
  {
   "cell_type": "code",
   "execution_count": 159,
   "id": "027b20ae",
   "metadata": {},
   "outputs": [],
   "source": [
    "city_state = data['source_name'].fillna(\"Unk_Unk_Unk (Unk)\").apply(splitlocation)"
   ]
  },
  {
   "cell_type": "code",
   "execution_count": 161,
   "id": "5f55dea8",
   "metadata": {},
   "outputs": [],
   "source": [
    "df['source_city'] = city_state.apply(lambda x: x[0])\n",
    "df['source_state'] = city_state.apply(lambda x: x[1])"
   ]
  },
  {
   "cell_type": "code",
   "execution_count": 165,
   "id": "058e3082",
   "metadata": {},
   "outputs": [
    {
     "data": {
      "text/html": [
       "<div>\n",
       "<style scoped>\n",
       "    .dataframe tbody tr th:only-of-type {\n",
       "        vertical-align: middle;\n",
       "    }\n",
       "\n",
       "    .dataframe tbody tr th {\n",
       "        vertical-align: top;\n",
       "    }\n",
       "\n",
       "    .dataframe thead th {\n",
       "        text-align: right;\n",
       "    }\n",
       "</style>\n",
       "<table border=\"1\" class=\"dataframe\">\n",
       "  <thead>\n",
       "    <tr style=\"text-align: right;\">\n",
       "      <th></th>\n",
       "      <th>trip_creation_date</th>\n",
       "      <th>trip_creation_hour</th>\n",
       "      <th>Cart</th>\n",
       "      <th>FTL</th>\n",
       "      <th>trip_uuid</th>\n",
       "      <th>source_city</th>\n",
       "      <th>source_state</th>\n",
       "    </tr>\n",
       "  </thead>\n",
       "  <tbody>\n",
       "    <tr>\n",
       "      <th>0</th>\n",
       "      <td>2018-09-20</td>\n",
       "      <td>2</td>\n",
       "      <td>1</td>\n",
       "      <td>0</td>\n",
       "      <td>trip-153741093647649320</td>\n",
       "      <td>Anand</td>\n",
       "      <td>Gujarat</td>\n",
       "    </tr>\n",
       "    <tr>\n",
       "      <th>1</th>\n",
       "      <td>2018-09-20</td>\n",
       "      <td>2</td>\n",
       "      <td>1</td>\n",
       "      <td>0</td>\n",
       "      <td>trip-153741093647649320</td>\n",
       "      <td>Anand</td>\n",
       "      <td>Gujarat</td>\n",
       "    </tr>\n",
       "    <tr>\n",
       "      <th>2</th>\n",
       "      <td>2018-09-20</td>\n",
       "      <td>2</td>\n",
       "      <td>1</td>\n",
       "      <td>0</td>\n",
       "      <td>trip-153741093647649320</td>\n",
       "      <td>Anand</td>\n",
       "      <td>Gujarat</td>\n",
       "    </tr>\n",
       "    <tr>\n",
       "      <th>3</th>\n",
       "      <td>2018-09-20</td>\n",
       "      <td>2</td>\n",
       "      <td>1</td>\n",
       "      <td>0</td>\n",
       "      <td>trip-153741093647649320</td>\n",
       "      <td>Anand</td>\n",
       "      <td>Gujarat</td>\n",
       "    </tr>\n",
       "    <tr>\n",
       "      <th>4</th>\n",
       "      <td>2018-09-20</td>\n",
       "      <td>2</td>\n",
       "      <td>1</td>\n",
       "      <td>0</td>\n",
       "      <td>trip-153741093647649320</td>\n",
       "      <td>Anand</td>\n",
       "      <td>Gujarat</td>\n",
       "    </tr>\n",
       "  </tbody>\n",
       "</table>\n",
       "</div>"
      ],
      "text/plain": [
       "  trip_creation_date  trip_creation_hour  Cart  FTL                trip_uuid  \\\n",
       "0         2018-09-20                   2     1    0  trip-153741093647649320   \n",
       "1         2018-09-20                   2     1    0  trip-153741093647649320   \n",
       "2         2018-09-20                   2     1    0  trip-153741093647649320   \n",
       "3         2018-09-20                   2     1    0  trip-153741093647649320   \n",
       "4         2018-09-20                   2     1    0  trip-153741093647649320   \n",
       "\n",
       "  source_city source_state  \n",
       "0       Anand      Gujarat  \n",
       "1       Anand      Gujarat  \n",
       "2       Anand      Gujarat  \n",
       "3       Anand      Gujarat  \n",
       "4       Anand      Gujarat  "
      ]
     },
     "execution_count": 165,
     "metadata": {},
     "output_type": "execute_result"
    }
   ],
   "source": [
    "df.head()"
   ]
  },
  {
   "cell_type": "markdown",
   "id": "c1628fa6",
   "metadata": {},
   "source": [
    "## destination_center"
   ]
  },
  {
   "cell_type": "code",
   "execution_count": 180,
   "id": "4de67152",
   "metadata": {},
   "outputs": [
    {
     "data": {
      "text/plain": [
       "'IND388620AAB'"
      ]
     },
     "execution_count": 180,
     "metadata": {},
     "output_type": "execute_result"
    }
   ],
   "source": [
    "data['destination_center'].iloc[0]"
   ]
  },
  {
   "cell_type": "code",
   "execution_count": 181,
   "id": "ce1dc0c3",
   "metadata": {},
   "outputs": [
    {
     "data": {
      "text/plain": [
       "array(['IND'], dtype=object)"
      ]
     },
     "execution_count": 181,
     "metadata": {},
     "output_type": "execute_result"
    }
   ],
   "source": [
    "data['destination_center'].apply(lambda x: x[:3]).unique()"
   ]
  },
  {
   "cell_type": "code",
   "execution_count": 182,
   "id": "e0bac018",
   "metadata": {},
   "outputs": [
    {
     "data": {
      "text/plain": [
       "array(['AAB', 'AAA', 'AAD', 'ACA', 'AAE', 'AAC', 'A1B', 'AAF', 'ACB',\n",
       "       'ABA', 'AAG', 'AFT', 'AAM', 'AAJ', 'AAH', 'AAL', 'AAR', 'ABD',\n",
       "       'ACS', 'ACO', 'AEL', 'AAK', 'AFS', 'AET', 'AAS', 'ACN', 'A1A',\n",
       "       'ADM', 'AFF', 'AFJ', 'AAZ', 'A1C'], dtype=object)"
      ]
     },
     "execution_count": 182,
     "metadata": {},
     "output_type": "execute_result"
    }
   ],
   "source": [
    "data['destination_center'].apply(lambda x: x[-3:]).unique()"
   ]
  },
  {
   "cell_type": "code",
   "execution_count": 183,
   "id": "a2e4afdb",
   "metadata": {},
   "outputs": [
    {
     "data": {
      "text/plain": [
       "1384"
      ]
     },
     "execution_count": 183,
     "metadata": {},
     "output_type": "execute_result"
    }
   ],
   "source": [
    "data['destination_center'].apply(lambda x: x[3:-3:]).nunique()"
   ]
  },
  {
   "cell_type": "markdown",
   "id": "8d2e82ae",
   "metadata": {},
   "source": [
    "- All the packages starts from IND possibly India\n",
    "- Unique Id for each center, hence not required for further analysis"
   ]
  },
  {
   "cell_type": "markdown",
   "id": "1a921617",
   "metadata": {},
   "source": [
    "## destination_name"
   ]
  },
  {
   "cell_type": "code",
   "execution_count": 166,
   "id": "a603bc2e",
   "metadata": {},
   "outputs": [
    {
     "data": {
      "text/plain": [
       "2    117278\n",
       "1     13127\n",
       "3     12021\n",
       "0      2441\n",
       "Name: destination_name, dtype: int64"
      ]
     },
     "execution_count": 166,
     "metadata": {},
     "output_type": "execute_result"
    }
   ],
   "source": [
    "# Different ways of source name entered in dataset\n",
    "data['destination_name'].fillna(\"Unk_Unk_Unk (Unk)\").str.count(\"_\").value_counts()"
   ]
  },
  {
   "cell_type": "code",
   "execution_count": 167,
   "id": "ac2d81ac",
   "metadata": {},
   "outputs": [
    {
     "name": "stdout",
     "output_type": "stream",
     "text": [
      "Haridwar (Uttarakhand)\n",
      "Jagraon_DC (Punjab)\n",
      "Khambhat_MotvdDPP_D (Gujarat)\n",
      "Kanpur_Central_H_6 (Uttar Pradesh)\n"
     ]
    }
   ],
   "source": [
    "for i in range(4):\n",
    "    print(data[data['destination_name'].fillna(\"Unk_Unk_Unk (Unk)\").str.count(\"_\") == i]['destination_name'].iloc[0])"
   ]
  },
  {
   "cell_type": "code",
   "execution_count": 168,
   "id": "2957ce7d",
   "metadata": {},
   "outputs": [],
   "source": [
    "city_state = data['destination_name'].fillna(\"Unk_Unk_Unk (Unk)\").apply(splitlocation)\n",
    "df['dest_city'] = city_state.apply(lambda x: x[0])\n",
    "df['dest_state'] = city_state.apply(lambda x: x[1])"
   ]
  },
  {
   "cell_type": "code",
   "execution_count": 170,
   "id": "fd8c403f",
   "metadata": {},
   "outputs": [
    {
     "data": {
      "text/html": [
       "<div>\n",
       "<style scoped>\n",
       "    .dataframe tbody tr th:only-of-type {\n",
       "        vertical-align: middle;\n",
       "    }\n",
       "\n",
       "    .dataframe tbody tr th {\n",
       "        vertical-align: top;\n",
       "    }\n",
       "\n",
       "    .dataframe thead th {\n",
       "        text-align: right;\n",
       "    }\n",
       "</style>\n",
       "<table border=\"1\" class=\"dataframe\">\n",
       "  <thead>\n",
       "    <tr style=\"text-align: right;\">\n",
       "      <th></th>\n",
       "      <th>trip_creation_date</th>\n",
       "      <th>trip_creation_hour</th>\n",
       "      <th>Cart</th>\n",
       "      <th>FTL</th>\n",
       "      <th>trip_uuid</th>\n",
       "      <th>source_city</th>\n",
       "      <th>source_state</th>\n",
       "      <th>dest_city</th>\n",
       "      <th>dest_state</th>\n",
       "    </tr>\n",
       "  </thead>\n",
       "  <tbody>\n",
       "    <tr>\n",
       "      <th>0</th>\n",
       "      <td>2018-09-20</td>\n",
       "      <td>2</td>\n",
       "      <td>1</td>\n",
       "      <td>0</td>\n",
       "      <td>trip-153741093647649320</td>\n",
       "      <td>Anand</td>\n",
       "      <td>Gujarat</td>\n",
       "      <td>Khambhat</td>\n",
       "      <td>Gujarat</td>\n",
       "    </tr>\n",
       "    <tr>\n",
       "      <th>1</th>\n",
       "      <td>2018-09-20</td>\n",
       "      <td>2</td>\n",
       "      <td>1</td>\n",
       "      <td>0</td>\n",
       "      <td>trip-153741093647649320</td>\n",
       "      <td>Anand</td>\n",
       "      <td>Gujarat</td>\n",
       "      <td>Khambhat</td>\n",
       "      <td>Gujarat</td>\n",
       "    </tr>\n",
       "    <tr>\n",
       "      <th>2</th>\n",
       "      <td>2018-09-20</td>\n",
       "      <td>2</td>\n",
       "      <td>1</td>\n",
       "      <td>0</td>\n",
       "      <td>trip-153741093647649320</td>\n",
       "      <td>Anand</td>\n",
       "      <td>Gujarat</td>\n",
       "      <td>Khambhat</td>\n",
       "      <td>Gujarat</td>\n",
       "    </tr>\n",
       "    <tr>\n",
       "      <th>3</th>\n",
       "      <td>2018-09-20</td>\n",
       "      <td>2</td>\n",
       "      <td>1</td>\n",
       "      <td>0</td>\n",
       "      <td>trip-153741093647649320</td>\n",
       "      <td>Anand</td>\n",
       "      <td>Gujarat</td>\n",
       "      <td>Khambhat</td>\n",
       "      <td>Gujarat</td>\n",
       "    </tr>\n",
       "    <tr>\n",
       "      <th>4</th>\n",
       "      <td>2018-09-20</td>\n",
       "      <td>2</td>\n",
       "      <td>1</td>\n",
       "      <td>0</td>\n",
       "      <td>trip-153741093647649320</td>\n",
       "      <td>Anand</td>\n",
       "      <td>Gujarat</td>\n",
       "      <td>Khambhat</td>\n",
       "      <td>Gujarat</td>\n",
       "    </tr>\n",
       "  </tbody>\n",
       "</table>\n",
       "</div>"
      ],
      "text/plain": [
       "  trip_creation_date  trip_creation_hour  Cart  FTL                trip_uuid  \\\n",
       "0         2018-09-20                   2     1    0  trip-153741093647649320   \n",
       "1         2018-09-20                   2     1    0  trip-153741093647649320   \n",
       "2         2018-09-20                   2     1    0  trip-153741093647649320   \n",
       "3         2018-09-20                   2     1    0  trip-153741093647649320   \n",
       "4         2018-09-20                   2     1    0  trip-153741093647649320   \n",
       "\n",
       "  source_city source_state dest_city dest_state  \n",
       "0       Anand      Gujarat  Khambhat    Gujarat  \n",
       "1       Anand      Gujarat  Khambhat    Gujarat  \n",
       "2       Anand      Gujarat  Khambhat    Gujarat  \n",
       "3       Anand      Gujarat  Khambhat    Gujarat  \n",
       "4       Anand      Gujarat  Khambhat    Gujarat  "
      ]
     },
     "execution_count": 170,
     "metadata": {},
     "output_type": "execute_result"
    }
   ],
   "source": [
    "df.head()"
   ]
  },
  {
   "cell_type": "markdown",
   "id": "d86fc4a6",
   "metadata": {},
   "source": [
    "## Trip start time and Trip end time \n",
    "- Not required, as the timing analysis can be performed with other columns"
   ]
  },
  {
   "cell_type": "code",
   "execution_count": 209,
   "id": "8e5bc99a",
   "metadata": {},
   "outputs": [],
   "source": [
    "df['trip_time'] = (pd.to_datetime(data['od_end_time']) - pd.to_datetime(data['trip_creation_time'])).dt.seconds // 60"
   ]
  },
  {
   "cell_type": "markdown",
   "id": "2711eb18",
   "metadata": {},
   "source": [
    "## start_scan_to_end_scan"
   ]
  },
  {
   "cell_type": "code",
   "execution_count": 185,
   "id": "da479fd5",
   "metadata": {},
   "outputs": [],
   "source": [
    "df['del_time'] = data['start_scan_to_end_scan']"
   ]
  },
  {
   "cell_type": "markdown",
   "id": "e1df6afd",
   "metadata": {},
   "source": [
    "## is_cutoff, cutoff_factor, cutoff_timestamp"
   ]
  },
  {
   "cell_type": "code",
   "execution_count": 187,
   "id": "16f06b29",
   "metadata": {},
   "outputs": [
    {
     "data": {
      "text/plain": [
       "True     118749\n",
       "False     26118\n",
       "Name: is_cutoff, dtype: int64"
      ]
     },
     "execution_count": 187,
     "metadata": {},
     "output_type": "execute_result"
    }
   ],
   "source": [
    "data['is_cutoff'].value_counts()"
   ]
  },
  {
   "cell_type": "code",
   "execution_count": 188,
   "id": "ee23db94",
   "metadata": {},
   "outputs": [
    {
     "data": {
      "text/plain": [
       "22      13157\n",
       "9       12378\n",
       "44       8334\n",
       "18       8263\n",
       "66       5795\n",
       "        ...  \n",
       "245         1\n",
       "734         1\n",
       "1149        1\n",
       "412         1\n",
       "275         1\n",
       "Name: cutoff_factor, Length: 501, dtype: int64"
      ]
     },
     "execution_count": 188,
     "metadata": {},
     "output_type": "execute_result"
    }
   ],
   "source": [
    "data['cutoff_factor'].value_counts()."
   ]
  },
  {
   "cell_type": "code",
   "execution_count": 193,
   "id": "0609daa3",
   "metadata": {},
   "outputs": [
    {
     "data": {
      "text/plain": [
       "<Axes: xlabel='is_cutoff', ylabel='cutoff_factor'>"
      ]
     },
     "execution_count": 193,
     "metadata": {},
     "output_type": "execute_result"
    },
    {
     "data": {
      "image/png": "[encoded data removed]",
      "text/plain": [
       "<Figure size 640x480 with 1 Axes>"
      ]
     },
     "metadata": {},
     "output_type": "display_data"
    }
   ],
   "source": [
    "sns.boxplot(data = data, y = 'cutoff_factor', x = 'is_cutoff')"
   ]
  },
  {
   "cell_type": "code",
   "execution_count": 194,
   "id": "e9c9eb50",
   "metadata": {},
   "outputs": [],
   "source": [
    "df[['is_cutoff','cutoff_factor']] = data[['is_cutoff','cutoff_factor']]"
   ]
  },
  {
   "cell_type": "code",
   "execution_count": 189,
   "id": "0ec0ea32",
   "metadata": {},
   "outputs": [
    {
     "data": {
      "text/plain": [
       "0                2018-09-20 04:27:55\n",
       "1                2018-09-20 04:17:55\n",
       "2         2018-09-20 04:01:19.505586\n",
       "3                2018-09-20 03:39:57\n",
       "4                2018-09-20 03:33:55\n",
       "                     ...            \n",
       "144862           2018-09-20 21:57:20\n",
       "144863           2018-09-20 21:31:18\n",
       "144864           2018-09-20 21:11:18\n",
       "144865           2018-09-20 20:53:19\n",
       "144866    2018-09-20 16:24:28.436231\n",
       "Name: cutoff_timestamp, Length: 144867, dtype: object"
      ]
     },
     "execution_count": 189,
     "metadata": {},
     "output_type": "execute_result"
    }
   ],
   "source": [
    "data['cutoff_timestamp']"
   ]
  },
  {
   "cell_type": "code",
   "execution_count": 190,
   "id": "ba6ead2e",
   "metadata": {},
   "outputs": [],
   "source": [
    "df['cufoff_date'] = pd.to_datetime(data['cutoff_timestamp']).dt.date\n",
    "#df['cutoff_time'] = pd.to_datetime(data['cutoff_timestamp']).dt.hour"
   ]
  },
  {
   "cell_type": "code",
   "execution_count": null,
   "id": "365ff40f",
   "metadata": {},
   "outputs": [],
   "source": [
    "df['cutoff_time'] = pd.to_datetime(data['cutoff_timestamp']).dt.hour"
   ]
  },
  {
   "cell_type": "code",
   "execution_count": null,
   "id": "a22d84f2",
   "metadata": {},
   "outputs": [],
   "source": []
  },
  {
   "cell_type": "markdown",
   "id": "de7260d4",
   "metadata": {},
   "source": [
    "## actual_distance_to_destination"
   ]
  },
  {
   "cell_type": "code",
   "execution_count": 195,
   "id": "af9caadf",
   "metadata": {},
   "outputs": [
    {
     "data": {
      "text/plain": [
       "100.282892    2\n",
       "19.122553     2\n",
       "44.552586     2\n",
       "27.297724     2\n",
       "23.955638     2\n",
       "             ..\n",
       "18.495678     1\n",
       "9.380550      1\n",
       "10.583412     1\n",
       "9.162213      1\n",
       "70.039010     1\n",
       "Name: actual_distance_to_destination, Length: 144515, dtype: int64"
      ]
     },
     "execution_count": 195,
     "metadata": {},
     "output_type": "execute_result"
    }
   ],
   "source": [
    "df['actual_distance_to_destination'] = data['actual_distance_to_destination']"
   ]
  },
  {
   "cell_type": "code",
   "execution_count": 197,
   "id": "fc6ddb6c",
   "metadata": {},
   "outputs": [
    {
     "data": {
      "text/plain": [
       "<Axes: xlabel='actual_distance_to_destination'>"
      ]
     },
     "execution_count": 197,
     "metadata": {},
     "output_type": "execute_result"
    },
    {
     "data": {
      "image/png": "[encoded data removed]",
      "text/plain": [
       "<Figure size 640x480 with 1 Axes>"
      ]
     },
     "metadata": {},
     "output_type": "display_data"
    }
   ],
   "source": [
    "sns.boxplot(data=data, x = 'actual_distance_to_destination')"
   ]
  },
  {
   "cell_type": "markdown",
   "id": "e79fffee",
   "metadata": {},
   "source": [
    "## actual_time"
   ]
  },
  {
   "cell_type": "code",
   "execution_count": 198,
   "id": "8a39445a",
   "metadata": {},
   "outputs": [
    {
     "data": {
      "text/plain": [
       "0          14.0\n",
       "1          24.0\n",
       "2          40.0\n",
       "3          62.0\n",
       "4          68.0\n",
       "          ...  \n",
       "144862     94.0\n",
       "144863    120.0\n",
       "144864    140.0\n",
       "144865    158.0\n",
       "144866    426.0\n",
       "Name: actual_time, Length: 144867, dtype: float64"
      ]
     },
     "execution_count": 198,
     "metadata": {},
     "output_type": "execute_result"
    }
   ],
   "source": [
    "data['actual_time']"
   ]
  },
  {
   "cell_type": "code",
   "execution_count": null,
   "id": "90b5ac3d",
   "metadata": {},
   "outputs": [],
   "source": []
  },
  {
   "cell_type": "code",
   "execution_count": null,
   "id": "8f1a092b",
   "metadata": {},
   "outputs": [],
   "source": []
  },
  {
   "cell_type": "markdown",
   "id": "8a02a8b6",
   "metadata": {},
   "source": [
    "## segment_actual_time"
   ]
  },
  {
   "cell_type": "code",
   "execution_count": 212,
   "id": "d1035488",
   "metadata": {},
   "outputs": [
    {
     "data": {
      "text/plain": [
       "0          14.0\n",
       "1          10.0\n",
       "2          16.0\n",
       "3          21.0\n",
       "4           6.0\n",
       "          ...  \n",
       "144862     12.0\n",
       "144863     26.0\n",
       "144864     20.0\n",
       "144865     17.0\n",
       "144866    268.0\n",
       "Name: segment_actual_time, Length: 144867, dtype: float64"
      ]
     },
     "execution_count": 212,
     "metadata": {},
     "output_type": "execute_result"
    }
   ],
   "source": [
    "data['segment_actual_time']"
   ]
  },
  {
   "cell_type": "markdown",
   "id": "2bec838b",
   "metadata": {},
   "source": [
    "## factor"
   ]
  },
  {
   "cell_type": "code",
   "execution_count": 215,
   "id": "5788d950",
   "metadata": {},
   "outputs": [
    {
     "data": {
      "text/plain": [
       "<Axes: ylabel='Frequency'>"
      ]
     },
     "execution_count": 215,
     "metadata": {},
     "output_type": "execute_result"
    },
    {
     "data": {
      "image/png": "[encoded data removed]",
      "text/plain": [
       "<Figure size 640x480 with 1 Axes>"
      ]
     },
     "metadata": {},
     "output_type": "display_data"
    }
   ],
   "source": [
    "data['factor'].plot(kind='hist')"
   ]
  },
  {
   "cell_type": "code",
   "execution_count": 217,
   "id": "b665fa40",
   "metadata": {},
   "outputs": [
    {
     "data": {
      "text/plain": [
       "<Axes: >"
      ]
     },
     "execution_count": 217,
     "metadata": {},
     "output_type": "execute_result"
    },
    {
     "data": {
      "image/png": "[encoded data removed]",
      "text/plain": [
       "<Figure size 640x480 with 1 Axes>"
      ]
     },
     "metadata": {},
     "output_type": "display_data"
    }
   ],
   "source": [
    "sns.boxplot(data['segment_factor'])"
   ]
  },
  {
   "cell_type": "code",
   "execution_count": null,
   "id": "3f3f31f2",
   "metadata": {},
   "outputs": [],
   "source": []
  }
 ],
 "metadata": {
  "kernelspec": {
   "display_name": "Python 3 (ipykernel)",
   "language": "python",
   "name": "python3"
  },
  "language_info": {
   "codemirror_mode": {
    "name": "ipython",
    "version": 3
   },
   "file_extension": ".py",
   "mimetype": "text/x-python",
   "name": "python",
   "nbconvert_exporter": "python",
   "pygments_lexer": "ipython3",
   "version": "3.11.5"
  }
 },
 "nbformat": 4,
 "nbformat_minor": 5
}
