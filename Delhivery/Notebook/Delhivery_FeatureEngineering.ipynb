{
 "cells": [
  {
   "cell_type": "code",
   "execution_count": 1,
   "id": "4d1ed85e",
   "metadata": {},
   "outputs": [],
   "source": [
    "import numpy as np\n",
    "import pandas as pd\n",
    "import matplotlib.pyplot as plt\n",
    "import seaborn as sns"
   ]
  },
  {
   "cell_type": "code",
   "execution_count": 2,
   "id": "1d45b1d8",
   "metadata": {},
   "outputs": [],
   "source": [
    "data = pd.read_csv(r'F:\\Muthu_2023\\Personal\\NextStep\\DSCourse\\Scaler\\Business-Case-Study\\Delhivery\\Dataset\\delhivery.csv')"
   ]
  },
  {
   "cell_type": "code",
   "execution_count": 3,
   "id": "2faf48ab",
   "metadata": {},
   "outputs": [
    {
     "data": {
      "text/html": [
       "<div>\n",
       "<style scoped>\n",
       "    .dataframe tbody tr th:only-of-type {\n",
       "        vertical-align: middle;\n",
       "    }\n",
       "\n",
       "    .dataframe tbody tr th {\n",
       "        vertical-align: top;\n",
       "    }\n",
       "\n",
       "    .dataframe thead th {\n",
       "        text-align: right;\n",
       "    }\n",
       "</style>\n",
       "<table border=\"1\" class=\"dataframe\">\n",
       "  <thead>\n",
       "    <tr style=\"text-align: right;\">\n",
       "      <th></th>\n",
       "      <th>data</th>\n",
       "      <th>trip_creation_time</th>\n",
       "      <th>route_schedule_uuid</th>\n",
       "      <th>route_type</th>\n",
       "      <th>trip_uuid</th>\n",
       "      <th>source_center</th>\n",
       "      <th>source_name</th>\n",
       "      <th>destination_center</th>\n",
       "      <th>destination_name</th>\n",
       "      <th>od_start_time</th>\n",
       "      <th>...</th>\n",
       "      <th>cutoff_timestamp</th>\n",
       "      <th>actual_distance_to_destination</th>\n",
       "      <th>actual_time</th>\n",
       "      <th>osrm_time</th>\n",
       "      <th>osrm_distance</th>\n",
       "      <th>factor</th>\n",
       "      <th>segment_actual_time</th>\n",
       "      <th>segment_osrm_time</th>\n",
       "      <th>segment_osrm_distance</th>\n",
       "      <th>segment_factor</th>\n",
       "    </tr>\n",
       "  </thead>\n",
       "  <tbody>\n",
       "    <tr>\n",
       "      <th>0</th>\n",
       "      <td>training</td>\n",
       "      <td>2018-09-20 02:35:36.476840</td>\n",
       "      <td>thanos::sroute:eb7bfc78-b351-4c0e-a951-fa3d5c3...</td>\n",
       "      <td>Carting</td>\n",
       "      <td>trip-153741093647649320</td>\n",
       "      <td>IND388121AAA</td>\n",
       "      <td>Anand_VUNagar_DC (Gujarat)</td>\n",
       "      <td>IND388620AAB</td>\n",
       "      <td>Khambhat_MotvdDPP_D (Gujarat)</td>\n",
       "      <td>2018-09-20 03:21:32.418600</td>\n",
       "      <td>...</td>\n",
       "      <td>2018-09-20 04:27:55</td>\n",
       "      <td>10.435660</td>\n",
       "      <td>14.0</td>\n",
       "      <td>11.0</td>\n",
       "      <td>11.9653</td>\n",
       "      <td>1.272727</td>\n",
       "      <td>14.0</td>\n",
       "      <td>11.0</td>\n",
       "      <td>11.9653</td>\n",
       "      <td>1.272727</td>\n",
       "    </tr>\n",
       "    <tr>\n",
       "      <th>1</th>\n",
       "      <td>training</td>\n",
       "      <td>2018-09-20 02:35:36.476840</td>\n",
       "      <td>thanos::sroute:eb7bfc78-b351-4c0e-a951-fa3d5c3...</td>\n",
       "      <td>Carting</td>\n",
       "      <td>trip-153741093647649320</td>\n",
       "      <td>IND388121AAA</td>\n",
       "      <td>Anand_VUNagar_DC (Gujarat)</td>\n",
       "      <td>IND388620AAB</td>\n",
       "      <td>Khambhat_MotvdDPP_D (Gujarat)</td>\n",
       "      <td>2018-09-20 03:21:32.418600</td>\n",
       "      <td>...</td>\n",
       "      <td>2018-09-20 04:17:55</td>\n",
       "      <td>18.936842</td>\n",
       "      <td>24.0</td>\n",
       "      <td>20.0</td>\n",
       "      <td>21.7243</td>\n",
       "      <td>1.200000</td>\n",
       "      <td>10.0</td>\n",
       "      <td>9.0</td>\n",
       "      <td>9.7590</td>\n",
       "      <td>1.111111</td>\n",
       "    </tr>\n",
       "    <tr>\n",
       "      <th>2</th>\n",
       "      <td>training</td>\n",
       "      <td>2018-09-20 02:35:36.476840</td>\n",
       "      <td>thanos::sroute:eb7bfc78-b351-4c0e-a951-fa3d5c3...</td>\n",
       "      <td>Carting</td>\n",
       "      <td>trip-153741093647649320</td>\n",
       "      <td>IND388121AAA</td>\n",
       "      <td>Anand_VUNagar_DC (Gujarat)</td>\n",
       "      <td>IND388620AAB</td>\n",
       "      <td>Khambhat_MotvdDPP_D (Gujarat)</td>\n",
       "      <td>2018-09-20 03:21:32.418600</td>\n",
       "      <td>...</td>\n",
       "      <td>2018-09-20 04:01:19.505586</td>\n",
       "      <td>27.637279</td>\n",
       "      <td>40.0</td>\n",
       "      <td>28.0</td>\n",
       "      <td>32.5395</td>\n",
       "      <td>1.428571</td>\n",
       "      <td>16.0</td>\n",
       "      <td>7.0</td>\n",
       "      <td>10.8152</td>\n",
       "      <td>2.285714</td>\n",
       "    </tr>\n",
       "    <tr>\n",
       "      <th>3</th>\n",
       "      <td>training</td>\n",
       "      <td>2018-09-20 02:35:36.476840</td>\n",
       "      <td>thanos::sroute:eb7bfc78-b351-4c0e-a951-fa3d5c3...</td>\n",
       "      <td>Carting</td>\n",
       "      <td>trip-153741093647649320</td>\n",
       "      <td>IND388121AAA</td>\n",
       "      <td>Anand_VUNagar_DC (Gujarat)</td>\n",
       "      <td>IND388620AAB</td>\n",
       "      <td>Khambhat_MotvdDPP_D (Gujarat)</td>\n",
       "      <td>2018-09-20 03:21:32.418600</td>\n",
       "      <td>...</td>\n",
       "      <td>2018-09-20 03:39:57</td>\n",
       "      <td>36.118028</td>\n",
       "      <td>62.0</td>\n",
       "      <td>40.0</td>\n",
       "      <td>45.5620</td>\n",
       "      <td>1.550000</td>\n",
       "      <td>21.0</td>\n",
       "      <td>12.0</td>\n",
       "      <td>13.0224</td>\n",
       "      <td>1.750000</td>\n",
       "    </tr>\n",
       "    <tr>\n",
       "      <th>4</th>\n",
       "      <td>training</td>\n",
       "      <td>2018-09-20 02:35:36.476840</td>\n",
       "      <td>thanos::sroute:eb7bfc78-b351-4c0e-a951-fa3d5c3...</td>\n",
       "      <td>Carting</td>\n",
       "      <td>trip-153741093647649320</td>\n",
       "      <td>IND388121AAA</td>\n",
       "      <td>Anand_VUNagar_DC (Gujarat)</td>\n",
       "      <td>IND388620AAB</td>\n",
       "      <td>Khambhat_MotvdDPP_D (Gujarat)</td>\n",
       "      <td>2018-09-20 03:21:32.418600</td>\n",
       "      <td>...</td>\n",
       "      <td>2018-09-20 03:33:55</td>\n",
       "      <td>39.386040</td>\n",
       "      <td>68.0</td>\n",
       "      <td>44.0</td>\n",
       "      <td>54.2181</td>\n",
       "      <td>1.545455</td>\n",
       "      <td>6.0</td>\n",
       "      <td>5.0</td>\n",
       "      <td>3.9153</td>\n",
       "      <td>1.200000</td>\n",
       "    </tr>\n",
       "  </tbody>\n",
       "</table>\n",
       "<p>5 rows × 24 columns</p>\n",
       "</div>"
      ],
      "text/plain": [
       "       data          trip_creation_time  \\\n",
       "0  training  2018-09-20 02:35:36.476840   \n",
       "1  training  2018-09-20 02:35:36.476840   \n",
       "2  training  2018-09-20 02:35:36.476840   \n",
       "3  training  2018-09-20 02:35:36.476840   \n",
       "4  training  2018-09-20 02:35:36.476840   \n",
       "\n",
       "                                 route_schedule_uuid route_type  \\\n",
       "0  thanos::sroute:eb7bfc78-b351-4c0e-a951-fa3d5c3...    Carting   \n",
       "1  thanos::sroute:eb7bfc78-b351-4c0e-a951-fa3d5c3...    Carting   \n",
       "2  thanos::sroute:eb7bfc78-b351-4c0e-a951-fa3d5c3...    Carting   \n",
       "3  thanos::sroute:eb7bfc78-b351-4c0e-a951-fa3d5c3...    Carting   \n",
       "4  thanos::sroute:eb7bfc78-b351-4c0e-a951-fa3d5c3...    Carting   \n",
       "\n",
       "                 trip_uuid source_center                 source_name  \\\n",
       "0  trip-153741093647649320  IND388121AAA  Anand_VUNagar_DC (Gujarat)   \n",
       "1  trip-153741093647649320  IND388121AAA  Anand_VUNagar_DC (Gujarat)   \n",
       "2  trip-153741093647649320  IND388121AAA  Anand_VUNagar_DC (Gujarat)   \n",
       "3  trip-153741093647649320  IND388121AAA  Anand_VUNagar_DC (Gujarat)   \n",
       "4  trip-153741093647649320  IND388121AAA  Anand_VUNagar_DC (Gujarat)   \n",
       "\n",
       "  destination_center               destination_name  \\\n",
       "0       IND388620AAB  Khambhat_MotvdDPP_D (Gujarat)   \n",
       "1       IND388620AAB  Khambhat_MotvdDPP_D (Gujarat)   \n",
       "2       IND388620AAB  Khambhat_MotvdDPP_D (Gujarat)   \n",
       "3       IND388620AAB  Khambhat_MotvdDPP_D (Gujarat)   \n",
       "4       IND388620AAB  Khambhat_MotvdDPP_D (Gujarat)   \n",
       "\n",
       "                od_start_time  ...            cutoff_timestamp  \\\n",
       "0  2018-09-20 03:21:32.418600  ...         2018-09-20 04:27:55   \n",
       "1  2018-09-20 03:21:32.418600  ...         2018-09-20 04:17:55   \n",
       "2  2018-09-20 03:21:32.418600  ...  2018-09-20 04:01:19.505586   \n",
       "3  2018-09-20 03:21:32.418600  ...         2018-09-20 03:39:57   \n",
       "4  2018-09-20 03:21:32.418600  ...         2018-09-20 03:33:55   \n",
       "\n",
       "   actual_distance_to_destination  actual_time  osrm_time osrm_distance  \\\n",
       "0                       10.435660         14.0       11.0       11.9653   \n",
       "1                       18.936842         24.0       20.0       21.7243   \n",
       "2                       27.637279         40.0       28.0       32.5395   \n",
       "3                       36.118028         62.0       40.0       45.5620   \n",
       "4                       39.386040         68.0       44.0       54.2181   \n",
       "\n",
       "     factor  segment_actual_time  segment_osrm_time  segment_osrm_distance  \\\n",
       "0  1.272727                 14.0               11.0                11.9653   \n",
       "1  1.200000                 10.0                9.0                 9.7590   \n",
       "2  1.428571                 16.0                7.0                10.8152   \n",
       "3  1.550000                 21.0               12.0                13.0224   \n",
       "4  1.545455                  6.0                5.0                 3.9153   \n",
       "\n",
       "   segment_factor  \n",
       "0        1.272727  \n",
       "1        1.111111  \n",
       "2        2.285714  \n",
       "3        1.750000  \n",
       "4        1.200000  \n",
       "\n",
       "[5 rows x 24 columns]"
      ]
     },
     "execution_count": 3,
     "metadata": {},
     "output_type": "execute_result"
    }
   ],
   "source": [
    "data.head()"
   ]
  },
  {
   "cell_type": "code",
   "execution_count": 4,
   "id": "3b23f9b6",
   "metadata": {},
   "outputs": [
    {
     "name": "stdout",
     "output_type": "stream",
     "text": [
      "<class 'pandas.core.frame.DataFrame'>\n",
      "RangeIndex: 144867 entries, 0 to 144866\n",
      "Data columns (total 24 columns):\n",
      " #   Column                          Non-Null Count   Dtype  \n",
      "---  ------                          --------------   -----  \n",
      " 0   data                            144867 non-null  object \n",
      " 1   trip_creation_time              144867 non-null  object \n",
      " 2   route_schedule_uuid             144867 non-null  object \n",
      " 3   route_type                      144867 non-null  object \n",
      " 4   trip_uuid                       144867 non-null  object \n",
      " 5   source_center                   144867 non-null  object \n",
      " 6   source_name                     144574 non-null  object \n",
      " 7   destination_center              144867 non-null  object \n",
      " 8   destination_name                144606 non-null  object \n",
      " 9   od_start_time                   144867 non-null  object \n",
      " 10  od_end_time                     144867 non-null  object \n",
      " 11  start_scan_to_end_scan          144867 non-null  float64\n",
      " 12  is_cutoff                       144867 non-null  bool   \n",
      " 13  cutoff_factor                   144867 non-null  int64  \n",
      " 14  cutoff_timestamp                144867 non-null  object \n",
      " 15  actual_distance_to_destination  144867 non-null  float64\n",
      " 16  actual_time                     144867 non-null  float64\n",
      " 17  osrm_time                       144867 non-null  float64\n",
      " 18  osrm_distance                   144867 non-null  float64\n",
      " 19  factor                          144867 non-null  float64\n",
      " 20  segment_actual_time             144867 non-null  float64\n",
      " 21  segment_osrm_time               144867 non-null  float64\n",
      " 22  segment_osrm_distance           144867 non-null  float64\n",
      " 23  segment_factor                  144867 non-null  float64\n",
      "dtypes: bool(1), float64(10), int64(1), object(12)\n",
      "memory usage: 25.6+ MB\n"
     ]
    }
   ],
   "source": [
    "data.info()"
   ]
  },
  {
   "cell_type": "code",
   "execution_count": 5,
   "id": "a8d36144",
   "metadata": {},
   "outputs": [
    {
     "data": {
      "text/html": [
       "<div>\n",
       "<style scoped>\n",
       "    .dataframe tbody tr th:only-of-type {\n",
       "        vertical-align: middle;\n",
       "    }\n",
       "\n",
       "    .dataframe tbody tr th {\n",
       "        vertical-align: top;\n",
       "    }\n",
       "\n",
       "    .dataframe thead th {\n",
       "        text-align: right;\n",
       "    }\n",
       "</style>\n",
       "<table border=\"1\" class=\"dataframe\">\n",
       "  <thead>\n",
       "    <tr style=\"text-align: right;\">\n",
       "      <th></th>\n",
       "      <th>start_scan_to_end_scan</th>\n",
       "      <th>cutoff_factor</th>\n",
       "      <th>actual_distance_to_destination</th>\n",
       "      <th>actual_time</th>\n",
       "      <th>osrm_time</th>\n",
       "      <th>osrm_distance</th>\n",
       "      <th>factor</th>\n",
       "      <th>segment_actual_time</th>\n",
       "      <th>segment_osrm_time</th>\n",
       "      <th>segment_osrm_distance</th>\n",
       "      <th>segment_factor</th>\n",
       "    </tr>\n",
       "  </thead>\n",
       "  <tbody>\n",
       "    <tr>\n",
       "      <th>count</th>\n",
       "      <td>144867.000000</td>\n",
       "      <td>144867.000000</td>\n",
       "      <td>144867.000000</td>\n",
       "      <td>144867.000000</td>\n",
       "      <td>144867.000000</td>\n",
       "      <td>144867.000000</td>\n",
       "      <td>144867.000000</td>\n",
       "      <td>144867.000000</td>\n",
       "      <td>144867.000000</td>\n",
       "      <td>144867.00000</td>\n",
       "      <td>144867.000000</td>\n",
       "    </tr>\n",
       "    <tr>\n",
       "      <th>mean</th>\n",
       "      <td>961.262986</td>\n",
       "      <td>232.926567</td>\n",
       "      <td>234.073372</td>\n",
       "      <td>416.927527</td>\n",
       "      <td>213.868272</td>\n",
       "      <td>284.771297</td>\n",
       "      <td>2.120107</td>\n",
       "      <td>36.196111</td>\n",
       "      <td>18.507548</td>\n",
       "      <td>22.82902</td>\n",
       "      <td>2.218368</td>\n",
       "    </tr>\n",
       "    <tr>\n",
       "      <th>std</th>\n",
       "      <td>1037.012769</td>\n",
       "      <td>344.755577</td>\n",
       "      <td>344.990009</td>\n",
       "      <td>598.103621</td>\n",
       "      <td>308.011085</td>\n",
       "      <td>421.119294</td>\n",
       "      <td>1.715421</td>\n",
       "      <td>53.571158</td>\n",
       "      <td>14.775960</td>\n",
       "      <td>17.86066</td>\n",
       "      <td>4.847530</td>\n",
       "    </tr>\n",
       "    <tr>\n",
       "      <th>min</th>\n",
       "      <td>20.000000</td>\n",
       "      <td>9.000000</td>\n",
       "      <td>9.000045</td>\n",
       "      <td>9.000000</td>\n",
       "      <td>6.000000</td>\n",
       "      <td>9.008200</td>\n",
       "      <td>0.144000</td>\n",
       "      <td>-244.000000</td>\n",
       "      <td>0.000000</td>\n",
       "      <td>0.00000</td>\n",
       "      <td>-23.444444</td>\n",
       "    </tr>\n",
       "    <tr>\n",
       "      <th>25%</th>\n",
       "      <td>161.000000</td>\n",
       "      <td>22.000000</td>\n",
       "      <td>23.355874</td>\n",
       "      <td>51.000000</td>\n",
       "      <td>27.000000</td>\n",
       "      <td>29.914700</td>\n",
       "      <td>1.604264</td>\n",
       "      <td>20.000000</td>\n",
       "      <td>11.000000</td>\n",
       "      <td>12.07010</td>\n",
       "      <td>1.347826</td>\n",
       "    </tr>\n",
       "    <tr>\n",
       "      <th>50%</th>\n",
       "      <td>449.000000</td>\n",
       "      <td>66.000000</td>\n",
       "      <td>66.126571</td>\n",
       "      <td>132.000000</td>\n",
       "      <td>64.000000</td>\n",
       "      <td>78.525800</td>\n",
       "      <td>1.857143</td>\n",
       "      <td>29.000000</td>\n",
       "      <td>17.000000</td>\n",
       "      <td>23.51300</td>\n",
       "      <td>1.684211</td>\n",
       "    </tr>\n",
       "    <tr>\n",
       "      <th>75%</th>\n",
       "      <td>1634.000000</td>\n",
       "      <td>286.000000</td>\n",
       "      <td>286.708875</td>\n",
       "      <td>513.000000</td>\n",
       "      <td>257.000000</td>\n",
       "      <td>343.193250</td>\n",
       "      <td>2.213483</td>\n",
       "      <td>40.000000</td>\n",
       "      <td>22.000000</td>\n",
       "      <td>27.81325</td>\n",
       "      <td>2.250000</td>\n",
       "    </tr>\n",
       "    <tr>\n",
       "      <th>max</th>\n",
       "      <td>7898.000000</td>\n",
       "      <td>1927.000000</td>\n",
       "      <td>1927.447705</td>\n",
       "      <td>4532.000000</td>\n",
       "      <td>1686.000000</td>\n",
       "      <td>2326.199100</td>\n",
       "      <td>77.387097</td>\n",
       "      <td>3051.000000</td>\n",
       "      <td>1611.000000</td>\n",
       "      <td>2191.40370</td>\n",
       "      <td>574.250000</td>\n",
       "    </tr>\n",
       "  </tbody>\n",
       "</table>\n",
       "</div>"
      ],
      "text/plain": [
       "       start_scan_to_end_scan  cutoff_factor  actual_distance_to_destination  \\\n",
       "count           144867.000000  144867.000000                   144867.000000   \n",
       "mean               961.262986     232.926567                      234.073372   \n",
       "std               1037.012769     344.755577                      344.990009   \n",
       "min                 20.000000       9.000000                        9.000045   \n",
       "25%                161.000000      22.000000                       23.355874   \n",
       "50%                449.000000      66.000000                       66.126571   \n",
       "75%               1634.000000     286.000000                      286.708875   \n",
       "max               7898.000000    1927.000000                     1927.447705   \n",
       "\n",
       "         actual_time      osrm_time  osrm_distance         factor  \\\n",
       "count  144867.000000  144867.000000  144867.000000  144867.000000   \n",
       "mean      416.927527     213.868272     284.771297       2.120107   \n",
       "std       598.103621     308.011085     421.119294       1.715421   \n",
       "min         9.000000       6.000000       9.008200       0.144000   \n",
       "25%        51.000000      27.000000      29.914700       1.604264   \n",
       "50%       132.000000      64.000000      78.525800       1.857143   \n",
       "75%       513.000000     257.000000     343.193250       2.213483   \n",
       "max      4532.000000    1686.000000    2326.199100      77.387097   \n",
       "\n",
       "       segment_actual_time  segment_osrm_time  segment_osrm_distance  \\\n",
       "count        144867.000000      144867.000000           144867.00000   \n",
       "mean             36.196111          18.507548               22.82902   \n",
       "std              53.571158          14.775960               17.86066   \n",
       "min            -244.000000           0.000000                0.00000   \n",
       "25%              20.000000          11.000000               12.07010   \n",
       "50%              29.000000          17.000000               23.51300   \n",
       "75%              40.000000          22.000000               27.81325   \n",
       "max            3051.000000        1611.000000             2191.40370   \n",
       "\n",
       "       segment_factor  \n",
       "count   144867.000000  \n",
       "mean         2.218368  \n",
       "std          4.847530  \n",
       "min        -23.444444  \n",
       "25%          1.347826  \n",
       "50%          1.684211  \n",
       "75%          2.250000  \n",
       "max        574.250000  "
      ]
     },
     "execution_count": 5,
     "metadata": {},
     "output_type": "execute_result"
    }
   ],
   "source": [
    "data.describe()"
   ]
  },
  {
   "cell_type": "code",
   "execution_count": 6,
   "id": "bd860c38",
   "metadata": {},
   "outputs": [
    {
     "data": {
      "text/html": [
       "<div>\n",
       "<style scoped>\n",
       "    .dataframe tbody tr th:only-of-type {\n",
       "        vertical-align: middle;\n",
       "    }\n",
       "\n",
       "    .dataframe tbody tr th {\n",
       "        vertical-align: top;\n",
       "    }\n",
       "\n",
       "    .dataframe thead th {\n",
       "        text-align: right;\n",
       "    }\n",
       "</style>\n",
       "<table border=\"1\" class=\"dataframe\">\n",
       "  <thead>\n",
       "    <tr style=\"text-align: right;\">\n",
       "      <th></th>\n",
       "      <th>data</th>\n",
       "      <th>trip_creation_time</th>\n",
       "      <th>route_schedule_uuid</th>\n",
       "      <th>route_type</th>\n",
       "      <th>trip_uuid</th>\n",
       "      <th>source_center</th>\n",
       "      <th>source_name</th>\n",
       "      <th>destination_center</th>\n",
       "      <th>destination_name</th>\n",
       "      <th>od_start_time</th>\n",
       "      <th>od_end_time</th>\n",
       "      <th>cutoff_timestamp</th>\n",
       "    </tr>\n",
       "  </thead>\n",
       "  <tbody>\n",
       "    <tr>\n",
       "      <th>count</th>\n",
       "      <td>144867</td>\n",
       "      <td>144867</td>\n",
       "      <td>144867</td>\n",
       "      <td>144867</td>\n",
       "      <td>144867</td>\n",
       "      <td>144867</td>\n",
       "      <td>144574</td>\n",
       "      <td>144867</td>\n",
       "      <td>144606</td>\n",
       "      <td>144867</td>\n",
       "      <td>144867</td>\n",
       "      <td>144867</td>\n",
       "    </tr>\n",
       "    <tr>\n",
       "      <th>unique</th>\n",
       "      <td>2</td>\n",
       "      <td>14817</td>\n",
       "      <td>1504</td>\n",
       "      <td>2</td>\n",
       "      <td>14817</td>\n",
       "      <td>1508</td>\n",
       "      <td>1498</td>\n",
       "      <td>1481</td>\n",
       "      <td>1468</td>\n",
       "      <td>26369</td>\n",
       "      <td>26369</td>\n",
       "      <td>93180</td>\n",
       "    </tr>\n",
       "    <tr>\n",
       "      <th>top</th>\n",
       "      <td>training</td>\n",
       "      <td>2018-09-28 05:23:15.359220</td>\n",
       "      <td>thanos::sroute:4029a8a2-6c74-4b7e-a6d8-f9e069f...</td>\n",
       "      <td>FTL</td>\n",
       "      <td>trip-153811219535896559</td>\n",
       "      <td>IND000000ACB</td>\n",
       "      <td>Gurgaon_Bilaspur_HB (Haryana)</td>\n",
       "      <td>IND000000ACB</td>\n",
       "      <td>Gurgaon_Bilaspur_HB (Haryana)</td>\n",
       "      <td>2018-09-21 18:37:09.322207</td>\n",
       "      <td>2018-09-24 09:59:15.691618</td>\n",
       "      <td>2018-09-24 05:19:20</td>\n",
       "    </tr>\n",
       "    <tr>\n",
       "      <th>freq</th>\n",
       "      <td>104858</td>\n",
       "      <td>101</td>\n",
       "      <td>1812</td>\n",
       "      <td>99660</td>\n",
       "      <td>101</td>\n",
       "      <td>23347</td>\n",
       "      <td>23347</td>\n",
       "      <td>15192</td>\n",
       "      <td>15192</td>\n",
       "      <td>81</td>\n",
       "      <td>81</td>\n",
       "      <td>40</td>\n",
       "    </tr>\n",
       "  </tbody>\n",
       "</table>\n",
       "</div>"
      ],
      "text/plain": [
       "            data          trip_creation_time  \\\n",
       "count     144867                      144867   \n",
       "unique         2                       14817   \n",
       "top     training  2018-09-28 05:23:15.359220   \n",
       "freq      104858                         101   \n",
       "\n",
       "                                      route_schedule_uuid route_type  \\\n",
       "count                                              144867     144867   \n",
       "unique                                               1504          2   \n",
       "top     thanos::sroute:4029a8a2-6c74-4b7e-a6d8-f9e069f...        FTL   \n",
       "freq                                                 1812      99660   \n",
       "\n",
       "                      trip_uuid source_center                    source_name  \\\n",
       "count                    144867        144867                         144574   \n",
       "unique                    14817          1508                           1498   \n",
       "top     trip-153811219535896559  IND000000ACB  Gurgaon_Bilaspur_HB (Haryana)   \n",
       "freq                        101         23347                          23347   \n",
       "\n",
       "       destination_center               destination_name  \\\n",
       "count              144867                         144606   \n",
       "unique               1481                           1468   \n",
       "top          IND000000ACB  Gurgaon_Bilaspur_HB (Haryana)   \n",
       "freq                15192                          15192   \n",
       "\n",
       "                     od_start_time                 od_end_time  \\\n",
       "count                       144867                      144867   \n",
       "unique                       26369                       26369   \n",
       "top     2018-09-21 18:37:09.322207  2018-09-24 09:59:15.691618   \n",
       "freq                            81                          81   \n",
       "\n",
       "           cutoff_timestamp  \n",
       "count                144867  \n",
       "unique                93180  \n",
       "top     2018-09-24 05:19:20  \n",
       "freq                     40  "
      ]
     },
     "execution_count": 6,
     "metadata": {},
     "output_type": "execute_result"
    }
   ],
   "source": [
    "data.describe(include='object')"
   ]
  },
  {
   "cell_type": "code",
   "execution_count": 7,
   "id": "e0622a24",
   "metadata": {},
   "outputs": [
    {
     "data": {
      "text/plain": [
       "data                                0\n",
       "trip_creation_time                  0\n",
       "route_schedule_uuid                 0\n",
       "route_type                          0\n",
       "trip_uuid                           0\n",
       "source_center                       0\n",
       "source_name                       293\n",
       "destination_center                  0\n",
       "destination_name                  261\n",
       "od_start_time                       0\n",
       "od_end_time                         0\n",
       "start_scan_to_end_scan              0\n",
       "is_cutoff                           0\n",
       "cutoff_factor                       0\n",
       "cutoff_timestamp                    0\n",
       "actual_distance_to_destination      0\n",
       "actual_time                         0\n",
       "osrm_time                           0\n",
       "osrm_distance                       0\n",
       "factor                              0\n",
       "segment_actual_time                 0\n",
       "segment_osrm_time                   0\n",
       "segment_osrm_distance               0\n",
       "segment_factor                      0\n",
       "dtype: int64"
      ]
     },
     "execution_count": 7,
     "metadata": {},
     "output_type": "execute_result"
    }
   ],
   "source": [
    "data.isnull().sum()"
   ]
  },
  {
   "cell_type": "code",
   "execution_count": 8,
   "id": "a97564b5",
   "metadata": {},
   "outputs": [
    {
     "data": {
      "text/html": [
       "<div>\n",
       "<style scoped>\n",
       "    .dataframe tbody tr th:only-of-type {\n",
       "        vertical-align: middle;\n",
       "    }\n",
       "\n",
       "    .dataframe tbody tr th {\n",
       "        vertical-align: top;\n",
       "    }\n",
       "\n",
       "    .dataframe thead th {\n",
       "        text-align: right;\n",
       "    }\n",
       "</style>\n",
       "<table border=\"1\" class=\"dataframe\">\n",
       "  <thead>\n",
       "    <tr style=\"text-align: right;\">\n",
       "      <th></th>\n",
       "      <th>data</th>\n",
       "      <th>trip_creation_time</th>\n",
       "      <th>route_schedule_uuid</th>\n",
       "      <th>route_type</th>\n",
       "      <th>trip_uuid</th>\n",
       "      <th>source_center</th>\n",
       "      <th>source_name</th>\n",
       "      <th>destination_center</th>\n",
       "      <th>destination_name</th>\n",
       "      <th>od_start_time</th>\n",
       "      <th>...</th>\n",
       "      <th>cutoff_timestamp</th>\n",
       "      <th>actual_distance_to_destination</th>\n",
       "      <th>actual_time</th>\n",
       "      <th>osrm_time</th>\n",
       "      <th>osrm_distance</th>\n",
       "      <th>factor</th>\n",
       "      <th>segment_actual_time</th>\n",
       "      <th>segment_osrm_time</th>\n",
       "      <th>segment_osrm_distance</th>\n",
       "      <th>segment_factor</th>\n",
       "    </tr>\n",
       "  </thead>\n",
       "  <tbody>\n",
       "    <tr>\n",
       "      <th>0</th>\n",
       "      <td>NaN</td>\n",
       "      <td>NaN</td>\n",
       "      <td>NaN</td>\n",
       "      <td>NaN</td>\n",
       "      <td>NaN</td>\n",
       "      <td>NaN</td>\n",
       "      <td>NaN</td>\n",
       "      <td>NaN</td>\n",
       "      <td>NaN</td>\n",
       "      <td>NaN</td>\n",
       "      <td>...</td>\n",
       "      <td>NaN</td>\n",
       "      <td>NaN</td>\n",
       "      <td>NaN</td>\n",
       "      <td>NaN</td>\n",
       "      <td>NaN</td>\n",
       "      <td>NaN</td>\n",
       "      <td>NaN</td>\n",
       "      <td>NaN</td>\n",
       "      <td>NaN</td>\n",
       "      <td>NaN</td>\n",
       "    </tr>\n",
       "    <tr>\n",
       "      <th>1</th>\n",
       "      <td>NaN</td>\n",
       "      <td>NaN</td>\n",
       "      <td>NaN</td>\n",
       "      <td>NaN</td>\n",
       "      <td>NaN</td>\n",
       "      <td>NaN</td>\n",
       "      <td>NaN</td>\n",
       "      <td>NaN</td>\n",
       "      <td>NaN</td>\n",
       "      <td>NaN</td>\n",
       "      <td>...</td>\n",
       "      <td>NaN</td>\n",
       "      <td>NaN</td>\n",
       "      <td>NaN</td>\n",
       "      <td>NaN</td>\n",
       "      <td>NaN</td>\n",
       "      <td>NaN</td>\n",
       "      <td>NaN</td>\n",
       "      <td>NaN</td>\n",
       "      <td>NaN</td>\n",
       "      <td>NaN</td>\n",
       "    </tr>\n",
       "    <tr>\n",
       "      <th>2</th>\n",
       "      <td>NaN</td>\n",
       "      <td>NaN</td>\n",
       "      <td>NaN</td>\n",
       "      <td>NaN</td>\n",
       "      <td>NaN</td>\n",
       "      <td>NaN</td>\n",
       "      <td>NaN</td>\n",
       "      <td>NaN</td>\n",
       "      <td>NaN</td>\n",
       "      <td>NaN</td>\n",
       "      <td>...</td>\n",
       "      <td>NaN</td>\n",
       "      <td>NaN</td>\n",
       "      <td>NaN</td>\n",
       "      <td>NaN</td>\n",
       "      <td>NaN</td>\n",
       "      <td>NaN</td>\n",
       "      <td>NaN</td>\n",
       "      <td>NaN</td>\n",
       "      <td>NaN</td>\n",
       "      <td>NaN</td>\n",
       "    </tr>\n",
       "    <tr>\n",
       "      <th>3</th>\n",
       "      <td>NaN</td>\n",
       "      <td>NaN</td>\n",
       "      <td>NaN</td>\n",
       "      <td>NaN</td>\n",
       "      <td>NaN</td>\n",
       "      <td>NaN</td>\n",
       "      <td>NaN</td>\n",
       "      <td>NaN</td>\n",
       "      <td>NaN</td>\n",
       "      <td>NaN</td>\n",
       "      <td>...</td>\n",
       "      <td>NaN</td>\n",
       "      <td>NaN</td>\n",
       "      <td>NaN</td>\n",
       "      <td>NaN</td>\n",
       "      <td>NaN</td>\n",
       "      <td>NaN</td>\n",
       "      <td>NaN</td>\n",
       "      <td>NaN</td>\n",
       "      <td>NaN</td>\n",
       "      <td>NaN</td>\n",
       "    </tr>\n",
       "    <tr>\n",
       "      <th>4</th>\n",
       "      <td>NaN</td>\n",
       "      <td>NaN</td>\n",
       "      <td>NaN</td>\n",
       "      <td>NaN</td>\n",
       "      <td>NaN</td>\n",
       "      <td>NaN</td>\n",
       "      <td>NaN</td>\n",
       "      <td>NaN</td>\n",
       "      <td>NaN</td>\n",
       "      <td>NaN</td>\n",
       "      <td>...</td>\n",
       "      <td>NaN</td>\n",
       "      <td>NaN</td>\n",
       "      <td>NaN</td>\n",
       "      <td>NaN</td>\n",
       "      <td>NaN</td>\n",
       "      <td>NaN</td>\n",
       "      <td>NaN</td>\n",
       "      <td>NaN</td>\n",
       "      <td>NaN</td>\n",
       "      <td>NaN</td>\n",
       "    </tr>\n",
       "    <tr>\n",
       "      <th>...</th>\n",
       "      <td>...</td>\n",
       "      <td>...</td>\n",
       "      <td>...</td>\n",
       "      <td>...</td>\n",
       "      <td>...</td>\n",
       "      <td>...</td>\n",
       "      <td>...</td>\n",
       "      <td>...</td>\n",
       "      <td>...</td>\n",
       "      <td>...</td>\n",
       "      <td>...</td>\n",
       "      <td>...</td>\n",
       "      <td>...</td>\n",
       "      <td>...</td>\n",
       "      <td>...</td>\n",
       "      <td>...</td>\n",
       "      <td>...</td>\n",
       "      <td>...</td>\n",
       "      <td>...</td>\n",
       "      <td>...</td>\n",
       "      <td>...</td>\n",
       "    </tr>\n",
       "    <tr>\n",
       "      <th>144862</th>\n",
       "      <td>NaN</td>\n",
       "      <td>NaN</td>\n",
       "      <td>NaN</td>\n",
       "      <td>NaN</td>\n",
       "      <td>NaN</td>\n",
       "      <td>NaN</td>\n",
       "      <td>NaN</td>\n",
       "      <td>NaN</td>\n",
       "      <td>NaN</td>\n",
       "      <td>NaN</td>\n",
       "      <td>...</td>\n",
       "      <td>NaN</td>\n",
       "      <td>NaN</td>\n",
       "      <td>NaN</td>\n",
       "      <td>NaN</td>\n",
       "      <td>NaN</td>\n",
       "      <td>NaN</td>\n",
       "      <td>NaN</td>\n",
       "      <td>NaN</td>\n",
       "      <td>NaN</td>\n",
       "      <td>NaN</td>\n",
       "    </tr>\n",
       "    <tr>\n",
       "      <th>144863</th>\n",
       "      <td>NaN</td>\n",
       "      <td>NaN</td>\n",
       "      <td>NaN</td>\n",
       "      <td>NaN</td>\n",
       "      <td>NaN</td>\n",
       "      <td>NaN</td>\n",
       "      <td>NaN</td>\n",
       "      <td>NaN</td>\n",
       "      <td>NaN</td>\n",
       "      <td>NaN</td>\n",
       "      <td>...</td>\n",
       "      <td>NaN</td>\n",
       "      <td>NaN</td>\n",
       "      <td>NaN</td>\n",
       "      <td>NaN</td>\n",
       "      <td>NaN</td>\n",
       "      <td>NaN</td>\n",
       "      <td>NaN</td>\n",
       "      <td>NaN</td>\n",
       "      <td>NaN</td>\n",
       "      <td>NaN</td>\n",
       "    </tr>\n",
       "    <tr>\n",
       "      <th>144864</th>\n",
       "      <td>NaN</td>\n",
       "      <td>NaN</td>\n",
       "      <td>NaN</td>\n",
       "      <td>NaN</td>\n",
       "      <td>NaN</td>\n",
       "      <td>NaN</td>\n",
       "      <td>NaN</td>\n",
       "      <td>NaN</td>\n",
       "      <td>NaN</td>\n",
       "      <td>NaN</td>\n",
       "      <td>...</td>\n",
       "      <td>NaN</td>\n",
       "      <td>NaN</td>\n",
       "      <td>NaN</td>\n",
       "      <td>NaN</td>\n",
       "      <td>NaN</td>\n",
       "      <td>NaN</td>\n",
       "      <td>NaN</td>\n",
       "      <td>NaN</td>\n",
       "      <td>NaN</td>\n",
       "      <td>NaN</td>\n",
       "    </tr>\n",
       "    <tr>\n",
       "      <th>144865</th>\n",
       "      <td>NaN</td>\n",
       "      <td>NaN</td>\n",
       "      <td>NaN</td>\n",
       "      <td>NaN</td>\n",
       "      <td>NaN</td>\n",
       "      <td>NaN</td>\n",
       "      <td>NaN</td>\n",
       "      <td>NaN</td>\n",
       "      <td>NaN</td>\n",
       "      <td>NaN</td>\n",
       "      <td>...</td>\n",
       "      <td>NaN</td>\n",
       "      <td>NaN</td>\n",
       "      <td>NaN</td>\n",
       "      <td>NaN</td>\n",
       "      <td>NaN</td>\n",
       "      <td>NaN</td>\n",
       "      <td>NaN</td>\n",
       "      <td>NaN</td>\n",
       "      <td>NaN</td>\n",
       "      <td>NaN</td>\n",
       "    </tr>\n",
       "    <tr>\n",
       "      <th>144866</th>\n",
       "      <td>NaN</td>\n",
       "      <td>NaN</td>\n",
       "      <td>NaN</td>\n",
       "      <td>NaN</td>\n",
       "      <td>NaN</td>\n",
       "      <td>NaN</td>\n",
       "      <td>NaN</td>\n",
       "      <td>NaN</td>\n",
       "      <td>NaN</td>\n",
       "      <td>NaN</td>\n",
       "      <td>...</td>\n",
       "      <td>NaN</td>\n",
       "      <td>NaN</td>\n",
       "      <td>NaN</td>\n",
       "      <td>NaN</td>\n",
       "      <td>NaN</td>\n",
       "      <td>NaN</td>\n",
       "      <td>NaN</td>\n",
       "      <td>NaN</td>\n",
       "      <td>NaN</td>\n",
       "      <td>NaN</td>\n",
       "    </tr>\n",
       "  </tbody>\n",
       "</table>\n",
       "<p>144867 rows × 24 columns</p>\n",
       "</div>"
      ],
      "text/plain": [
       "       data trip_creation_time route_schedule_uuid route_type trip_uuid  \\\n",
       "0       NaN                NaN                 NaN        NaN       NaN   \n",
       "1       NaN                NaN                 NaN        NaN       NaN   \n",
       "2       NaN                NaN                 NaN        NaN       NaN   \n",
       "3       NaN                NaN                 NaN        NaN       NaN   \n",
       "4       NaN                NaN                 NaN        NaN       NaN   \n",
       "...     ...                ...                 ...        ...       ...   \n",
       "144862  NaN                NaN                 NaN        NaN       NaN   \n",
       "144863  NaN                NaN                 NaN        NaN       NaN   \n",
       "144864  NaN                NaN                 NaN        NaN       NaN   \n",
       "144865  NaN                NaN                 NaN        NaN       NaN   \n",
       "144866  NaN                NaN                 NaN        NaN       NaN   \n",
       "\n",
       "       source_center source_name destination_center destination_name  \\\n",
       "0                NaN         NaN                NaN              NaN   \n",
       "1                NaN         NaN                NaN              NaN   \n",
       "2                NaN         NaN                NaN              NaN   \n",
       "3                NaN         NaN                NaN              NaN   \n",
       "4                NaN         NaN                NaN              NaN   \n",
       "...              ...         ...                ...              ...   \n",
       "144862           NaN         NaN                NaN              NaN   \n",
       "144863           NaN         NaN                NaN              NaN   \n",
       "144864           NaN         NaN                NaN              NaN   \n",
       "144865           NaN         NaN                NaN              NaN   \n",
       "144866           NaN         NaN                NaN              NaN   \n",
       "\n",
       "       od_start_time  ... cutoff_timestamp  actual_distance_to_destination  \\\n",
       "0                NaN  ...              NaN                             NaN   \n",
       "1                NaN  ...              NaN                             NaN   \n",
       "2                NaN  ...              NaN                             NaN   \n",
       "3                NaN  ...              NaN                             NaN   \n",
       "4                NaN  ...              NaN                             NaN   \n",
       "...              ...  ...              ...                             ...   \n",
       "144862           NaN  ...              NaN                             NaN   \n",
       "144863           NaN  ...              NaN                             NaN   \n",
       "144864           NaN  ...              NaN                             NaN   \n",
       "144865           NaN  ...              NaN                             NaN   \n",
       "144866           NaN  ...              NaN                             NaN   \n",
       "\n",
       "       actual_time  osrm_time osrm_distance  factor  segment_actual_time  \\\n",
       "0              NaN        NaN           NaN     NaN                  NaN   \n",
       "1              NaN        NaN           NaN     NaN                  NaN   \n",
       "2              NaN        NaN           NaN     NaN                  NaN   \n",
       "3              NaN        NaN           NaN     NaN                  NaN   \n",
       "4              NaN        NaN           NaN     NaN                  NaN   \n",
       "...            ...        ...           ...     ...                  ...   \n",
       "144862         NaN        NaN           NaN     NaN                  NaN   \n",
       "144863         NaN        NaN           NaN     NaN                  NaN   \n",
       "144864         NaN        NaN           NaN     NaN                  NaN   \n",
       "144865         NaN        NaN           NaN     NaN                  NaN   \n",
       "144866         NaN        NaN           NaN     NaN                  NaN   \n",
       "\n",
       "        segment_osrm_time  segment_osrm_distance  segment_factor  \n",
       "0                     NaN                    NaN             NaN  \n",
       "1                     NaN                    NaN             NaN  \n",
       "2                     NaN                    NaN             NaN  \n",
       "3                     NaN                    NaN             NaN  \n",
       "4                     NaN                    NaN             NaN  \n",
       "...                   ...                    ...             ...  \n",
       "144862                NaN                    NaN             NaN  \n",
       "144863                NaN                    NaN             NaN  \n",
       "144864                NaN                    NaN             NaN  \n",
       "144865                NaN                    NaN             NaN  \n",
       "144866                NaN                    NaN             NaN  \n",
       "\n",
       "[144867 rows x 24 columns]"
      ]
     },
     "execution_count": 8,
     "metadata": {},
     "output_type": "execute_result"
    }
   ],
   "source": [
    "data[data.isnull()]"
   ]
  },
  {
   "cell_type": "code",
   "execution_count": 9,
   "id": "b1b90199",
   "metadata": {},
   "outputs": [
    {
     "data": {
      "text/html": [
       "<div>\n",
       "<style scoped>\n",
       "    .dataframe tbody tr th:only-of-type {\n",
       "        vertical-align: middle;\n",
       "    }\n",
       "\n",
       "    .dataframe tbody tr th {\n",
       "        vertical-align: top;\n",
       "    }\n",
       "\n",
       "    .dataframe thead th {\n",
       "        text-align: right;\n",
       "    }\n",
       "</style>\n",
       "<table border=\"1\" class=\"dataframe\">\n",
       "  <thead>\n",
       "    <tr style=\"text-align: right;\">\n",
       "      <th></th>\n",
       "      <th>data</th>\n",
       "      <th>trip_creation_time</th>\n",
       "      <th>route_schedule_uuid</th>\n",
       "      <th>route_type</th>\n",
       "      <th>trip_uuid</th>\n",
       "      <th>source_center</th>\n",
       "      <th>source_name</th>\n",
       "      <th>destination_center</th>\n",
       "      <th>destination_name</th>\n",
       "      <th>od_start_time</th>\n",
       "      <th>...</th>\n",
       "      <th>cutoff_timestamp</th>\n",
       "      <th>actual_distance_to_destination</th>\n",
       "      <th>actual_time</th>\n",
       "      <th>osrm_time</th>\n",
       "      <th>osrm_distance</th>\n",
       "      <th>factor</th>\n",
       "      <th>segment_actual_time</th>\n",
       "      <th>segment_osrm_time</th>\n",
       "      <th>segment_osrm_distance</th>\n",
       "      <th>segment_factor</th>\n",
       "    </tr>\n",
       "  </thead>\n",
       "  <tbody>\n",
       "    <tr>\n",
       "      <th>112</th>\n",
       "      <td>training</td>\n",
       "      <td>2018-09-25 08:53:04.377810</td>\n",
       "      <td>thanos::sroute:4460a38d-ab9b-484e-bd4e-f4201d0...</td>\n",
       "      <td>FTL</td>\n",
       "      <td>trip-153786558437756691</td>\n",
       "      <td>IND342902A1B</td>\n",
       "      <td>NaN</td>\n",
       "      <td>IND302014AAA</td>\n",
       "      <td>Jaipur_Hub (Rajasthan)</td>\n",
       "      <td>2018-09-26 06:58:08.054001</td>\n",
       "      <td>...</td>\n",
       "      <td>2018-09-26 14:09:19</td>\n",
       "      <td>22.783440</td>\n",
       "      <td>48.0</td>\n",
       "      <td>34.0</td>\n",
       "      <td>37.7749</td>\n",
       "      <td>1.411765</td>\n",
       "      <td>48.0</td>\n",
       "      <td>34.0</td>\n",
       "      <td>37.7749</td>\n",
       "      <td>1.411765</td>\n",
       "    </tr>\n",
       "    <tr>\n",
       "      <th>113</th>\n",
       "      <td>training</td>\n",
       "      <td>2018-09-25 08:53:04.377810</td>\n",
       "      <td>thanos::sroute:4460a38d-ab9b-484e-bd4e-f4201d0...</td>\n",
       "      <td>FTL</td>\n",
       "      <td>trip-153786558437756691</td>\n",
       "      <td>IND342902A1B</td>\n",
       "      <td>NaN</td>\n",
       "      <td>IND302014AAA</td>\n",
       "      <td>Jaipur_Hub (Rajasthan)</td>\n",
       "      <td>2018-09-26 06:58:08.054001</td>\n",
       "      <td>...</td>\n",
       "      <td>2018-09-26 13:19:23</td>\n",
       "      <td>46.071250</td>\n",
       "      <td>98.0</td>\n",
       "      <td>41.0</td>\n",
       "      <td>56.3575</td>\n",
       "      <td>2.390244</td>\n",
       "      <td>49.0</td>\n",
       "      <td>33.0</td>\n",
       "      <td>34.1661</td>\n",
       "      <td>1.484848</td>\n",
       "    </tr>\n",
       "    <tr>\n",
       "      <th>114</th>\n",
       "      <td>training</td>\n",
       "      <td>2018-09-25 08:53:04.377810</td>\n",
       "      <td>thanos::sroute:4460a38d-ab9b-484e-bd4e-f4201d0...</td>\n",
       "      <td>FTL</td>\n",
       "      <td>trip-153786558437756691</td>\n",
       "      <td>IND342902A1B</td>\n",
       "      <td>NaN</td>\n",
       "      <td>IND302014AAA</td>\n",
       "      <td>Jaipur_Hub (Rajasthan)</td>\n",
       "      <td>2018-09-26 06:58:08.054001</td>\n",
       "      <td>...</td>\n",
       "      <td>2018-09-26 12:49:33</td>\n",
       "      <td>67.714993</td>\n",
       "      <td>127.0</td>\n",
       "      <td>58.0</td>\n",
       "      <td>80.4811</td>\n",
       "      <td>2.189655</td>\n",
       "      <td>29.0</td>\n",
       "      <td>17.0</td>\n",
       "      <td>24.1236</td>\n",
       "      <td>1.705882</td>\n",
       "    </tr>\n",
       "    <tr>\n",
       "      <th>115</th>\n",
       "      <td>training</td>\n",
       "      <td>2018-09-25 08:53:04.377810</td>\n",
       "      <td>thanos::sroute:4460a38d-ab9b-484e-bd4e-f4201d0...</td>\n",
       "      <td>FTL</td>\n",
       "      <td>trip-153786558437756691</td>\n",
       "      <td>IND342902A1B</td>\n",
       "      <td>NaN</td>\n",
       "      <td>IND302014AAA</td>\n",
       "      <td>Jaipur_Hub (Rajasthan)</td>\n",
       "      <td>2018-09-26 06:58:08.054001</td>\n",
       "      <td>...</td>\n",
       "      <td>2018-09-26 12:21:18</td>\n",
       "      <td>88.149642</td>\n",
       "      <td>156.0</td>\n",
       "      <td>73.0</td>\n",
       "      <td>101.2556</td>\n",
       "      <td>2.136986</td>\n",
       "      <td>28.0</td>\n",
       "      <td>14.0</td>\n",
       "      <td>20.7746</td>\n",
       "      <td>2.000000</td>\n",
       "    </tr>\n",
       "    <tr>\n",
       "      <th>116</th>\n",
       "      <td>training</td>\n",
       "      <td>2018-09-25 08:53:04.377810</td>\n",
       "      <td>thanos::sroute:4460a38d-ab9b-484e-bd4e-f4201d0...</td>\n",
       "      <td>FTL</td>\n",
       "      <td>trip-153786558437756691</td>\n",
       "      <td>IND342902A1B</td>\n",
       "      <td>NaN</td>\n",
       "      <td>IND302014AAA</td>\n",
       "      <td>Jaipur_Hub (Rajasthan)</td>\n",
       "      <td>2018-09-26 06:58:08.054001</td>\n",
       "      <td>...</td>\n",
       "      <td>2018-09-26 11:25:24</td>\n",
       "      <td>112.691981</td>\n",
       "      <td>212.0</td>\n",
       "      <td>92.0</td>\n",
       "      <td>127.9860</td>\n",
       "      <td>2.304348</td>\n",
       "      <td>55.0</td>\n",
       "      <td>18.0</td>\n",
       "      <td>26.7304</td>\n",
       "      <td>3.055556</td>\n",
       "    </tr>\n",
       "    <tr>\n",
       "      <th>...</th>\n",
       "      <td>...</td>\n",
       "      <td>...</td>\n",
       "      <td>...</td>\n",
       "      <td>...</td>\n",
       "      <td>...</td>\n",
       "      <td>...</td>\n",
       "      <td>...</td>\n",
       "      <td>...</td>\n",
       "      <td>...</td>\n",
       "      <td>...</td>\n",
       "      <td>...</td>\n",
       "      <td>...</td>\n",
       "      <td>...</td>\n",
       "      <td>...</td>\n",
       "      <td>...</td>\n",
       "      <td>...</td>\n",
       "      <td>...</td>\n",
       "      <td>...</td>\n",
       "      <td>...</td>\n",
       "      <td>...</td>\n",
       "      <td>...</td>\n",
       "    </tr>\n",
       "    <tr>\n",
       "      <th>144484</th>\n",
       "      <td>test</td>\n",
       "      <td>2018-10-03 09:06:06.690094</td>\n",
       "      <td>thanos::sroute:cbef3b6a-79ea-4d5e-a215-b558a70...</td>\n",
       "      <td>FTL</td>\n",
       "      <td>trip-153855756668984584</td>\n",
       "      <td>IND282002AAD</td>\n",
       "      <td>NaN</td>\n",
       "      <td>IND474003AAA</td>\n",
       "      <td>Gwalior_HrihrNgr_I (Madhya Pradesh)</td>\n",
       "      <td>2018-10-03 17:34:21.835475</td>\n",
       "      <td>...</td>\n",
       "      <td>2018-10-03 20:54:08</td>\n",
       "      <td>45.134384</td>\n",
       "      <td>62.0</td>\n",
       "      <td>45.0</td>\n",
       "      <td>47.7734</td>\n",
       "      <td>1.377778</td>\n",
       "      <td>34.0</td>\n",
       "      <td>23.0</td>\n",
       "      <td>23.6601</td>\n",
       "      <td>1.478261</td>\n",
       "    </tr>\n",
       "    <tr>\n",
       "      <th>144485</th>\n",
       "      <td>test</td>\n",
       "      <td>2018-10-03 09:06:06.690094</td>\n",
       "      <td>thanos::sroute:cbef3b6a-79ea-4d5e-a215-b558a70...</td>\n",
       "      <td>FTL</td>\n",
       "      <td>trip-153855756668984584</td>\n",
       "      <td>IND282002AAD</td>\n",
       "      <td>NaN</td>\n",
       "      <td>IND474003AAA</td>\n",
       "      <td>Gwalior_HrihrNgr_I (Madhya Pradesh)</td>\n",
       "      <td>2018-10-03 17:34:21.835475</td>\n",
       "      <td>...</td>\n",
       "      <td>2018-10-03 20:30:09</td>\n",
       "      <td>66.542266</td>\n",
       "      <td>86.0</td>\n",
       "      <td>71.0</td>\n",
       "      <td>71.9549</td>\n",
       "      <td>1.211268</td>\n",
       "      <td>23.0</td>\n",
       "      <td>25.0</td>\n",
       "      <td>24.1815</td>\n",
       "      <td>0.920000</td>\n",
       "    </tr>\n",
       "    <tr>\n",
       "      <th>144486</th>\n",
       "      <td>test</td>\n",
       "      <td>2018-10-03 09:06:06.690094</td>\n",
       "      <td>thanos::sroute:cbef3b6a-79ea-4d5e-a215-b558a70...</td>\n",
       "      <td>FTL</td>\n",
       "      <td>trip-153855756668984584</td>\n",
       "      <td>IND282002AAD</td>\n",
       "      <td>NaN</td>\n",
       "      <td>IND474003AAA</td>\n",
       "      <td>Gwalior_HrihrNgr_I (Madhya Pradesh)</td>\n",
       "      <td>2018-10-03 17:34:21.835475</td>\n",
       "      <td>...</td>\n",
       "      <td>2018-10-03 20:00:08</td>\n",
       "      <td>88.143957</td>\n",
       "      <td>116.0</td>\n",
       "      <td>114.0</td>\n",
       "      <td>112.6943</td>\n",
       "      <td>1.017544</td>\n",
       "      <td>30.0</td>\n",
       "      <td>43.0</td>\n",
       "      <td>40.7394</td>\n",
       "      <td>0.697674</td>\n",
       "    </tr>\n",
       "    <tr>\n",
       "      <th>144487</th>\n",
       "      <td>test</td>\n",
       "      <td>2018-10-03 09:06:06.690094</td>\n",
       "      <td>thanos::sroute:cbef3b6a-79ea-4d5e-a215-b558a70...</td>\n",
       "      <td>FTL</td>\n",
       "      <td>trip-153855756668984584</td>\n",
       "      <td>IND282002AAD</td>\n",
       "      <td>NaN</td>\n",
       "      <td>IND474003AAA</td>\n",
       "      <td>Gwalior_HrihrNgr_I (Madhya Pradesh)</td>\n",
       "      <td>2018-10-03 17:34:21.835475</td>\n",
       "      <td>...</td>\n",
       "      <td>2018-10-03 19:02:11</td>\n",
       "      <td>111.084417</td>\n",
       "      <td>173.0</td>\n",
       "      <td>123.0</td>\n",
       "      <td>134.1940</td>\n",
       "      <td>1.406504</td>\n",
       "      <td>57.0</td>\n",
       "      <td>45.0</td>\n",
       "      <td>46.9217</td>\n",
       "      <td>1.266667</td>\n",
       "    </tr>\n",
       "    <tr>\n",
       "      <th>144488</th>\n",
       "      <td>test</td>\n",
       "      <td>2018-10-03 09:06:06.690094</td>\n",
       "      <td>thanos::sroute:cbef3b6a-79ea-4d5e-a215-b558a70...</td>\n",
       "      <td>FTL</td>\n",
       "      <td>trip-153855756668984584</td>\n",
       "      <td>IND282002AAD</td>\n",
       "      <td>NaN</td>\n",
       "      <td>IND474003AAA</td>\n",
       "      <td>Gwalior_HrihrNgr_I (Madhya Pradesh)</td>\n",
       "      <td>2018-10-03 17:34:21.835475</td>\n",
       "      <td>...</td>\n",
       "      <td>2018-10-03 18:54:10</td>\n",
       "      <td>108.820943</td>\n",
       "      <td>181.0</td>\n",
       "      <td>123.0</td>\n",
       "      <td>121.3598</td>\n",
       "      <td>1.471545</td>\n",
       "      <td>8.0</td>\n",
       "      <td>4.0</td>\n",
       "      <td>6.5101</td>\n",
       "      <td>2.000000</td>\n",
       "    </tr>\n",
       "  </tbody>\n",
       "</table>\n",
       "<p>293 rows × 24 columns</p>\n",
       "</div>"
      ],
      "text/plain": [
       "            data          trip_creation_time  \\\n",
       "112     training  2018-09-25 08:53:04.377810   \n",
       "113     training  2018-09-25 08:53:04.377810   \n",
       "114     training  2018-09-25 08:53:04.377810   \n",
       "115     training  2018-09-25 08:53:04.377810   \n",
       "116     training  2018-09-25 08:53:04.377810   \n",
       "...          ...                         ...   \n",
       "144484      test  2018-10-03 09:06:06.690094   \n",
       "144485      test  2018-10-03 09:06:06.690094   \n",
       "144486      test  2018-10-03 09:06:06.690094   \n",
       "144487      test  2018-10-03 09:06:06.690094   \n",
       "144488      test  2018-10-03 09:06:06.690094   \n",
       "\n",
       "                                      route_schedule_uuid route_type  \\\n",
       "112     thanos::sroute:4460a38d-ab9b-484e-bd4e-f4201d0...        FTL   \n",
       "113     thanos::sroute:4460a38d-ab9b-484e-bd4e-f4201d0...        FTL   \n",
       "114     thanos::sroute:4460a38d-ab9b-484e-bd4e-f4201d0...        FTL   \n",
       "115     thanos::sroute:4460a38d-ab9b-484e-bd4e-f4201d0...        FTL   \n",
       "116     thanos::sroute:4460a38d-ab9b-484e-bd4e-f4201d0...        FTL   \n",
       "...                                                   ...        ...   \n",
       "144484  thanos::sroute:cbef3b6a-79ea-4d5e-a215-b558a70...        FTL   \n",
       "144485  thanos::sroute:cbef3b6a-79ea-4d5e-a215-b558a70...        FTL   \n",
       "144486  thanos::sroute:cbef3b6a-79ea-4d5e-a215-b558a70...        FTL   \n",
       "144487  thanos::sroute:cbef3b6a-79ea-4d5e-a215-b558a70...        FTL   \n",
       "144488  thanos::sroute:cbef3b6a-79ea-4d5e-a215-b558a70...        FTL   \n",
       "\n",
       "                      trip_uuid source_center source_name destination_center  \\\n",
       "112     trip-153786558437756691  IND342902A1B         NaN       IND302014AAA   \n",
       "113     trip-153786558437756691  IND342902A1B         NaN       IND302014AAA   \n",
       "114     trip-153786558437756691  IND342902A1B         NaN       IND302014AAA   \n",
       "115     trip-153786558437756691  IND342902A1B         NaN       IND302014AAA   \n",
       "116     trip-153786558437756691  IND342902A1B         NaN       IND302014AAA   \n",
       "...                         ...           ...         ...                ...   \n",
       "144484  trip-153855756668984584  IND282002AAD         NaN       IND474003AAA   \n",
       "144485  trip-153855756668984584  IND282002AAD         NaN       IND474003AAA   \n",
       "144486  trip-153855756668984584  IND282002AAD         NaN       IND474003AAA   \n",
       "144487  trip-153855756668984584  IND282002AAD         NaN       IND474003AAA   \n",
       "144488  trip-153855756668984584  IND282002AAD         NaN       IND474003AAA   \n",
       "\n",
       "                           destination_name               od_start_time  ...  \\\n",
       "112                  Jaipur_Hub (Rajasthan)  2018-09-26 06:58:08.054001  ...   \n",
       "113                  Jaipur_Hub (Rajasthan)  2018-09-26 06:58:08.054001  ...   \n",
       "114                  Jaipur_Hub (Rajasthan)  2018-09-26 06:58:08.054001  ...   \n",
       "115                  Jaipur_Hub (Rajasthan)  2018-09-26 06:58:08.054001  ...   \n",
       "116                  Jaipur_Hub (Rajasthan)  2018-09-26 06:58:08.054001  ...   \n",
       "...                                     ...                         ...  ...   \n",
       "144484  Gwalior_HrihrNgr_I (Madhya Pradesh)  2018-10-03 17:34:21.835475  ...   \n",
       "144485  Gwalior_HrihrNgr_I (Madhya Pradesh)  2018-10-03 17:34:21.835475  ...   \n",
       "144486  Gwalior_HrihrNgr_I (Madhya Pradesh)  2018-10-03 17:34:21.835475  ...   \n",
       "144487  Gwalior_HrihrNgr_I (Madhya Pradesh)  2018-10-03 17:34:21.835475  ...   \n",
       "144488  Gwalior_HrihrNgr_I (Madhya Pradesh)  2018-10-03 17:34:21.835475  ...   \n",
       "\n",
       "           cutoff_timestamp  actual_distance_to_destination  actual_time  \\\n",
       "112     2018-09-26 14:09:19                       22.783440         48.0   \n",
       "113     2018-09-26 13:19:23                       46.071250         98.0   \n",
       "114     2018-09-26 12:49:33                       67.714993        127.0   \n",
       "115     2018-09-26 12:21:18                       88.149642        156.0   \n",
       "116     2018-09-26 11:25:24                      112.691981        212.0   \n",
       "...                     ...                             ...          ...   \n",
       "144484  2018-10-03 20:54:08                       45.134384         62.0   \n",
       "144485  2018-10-03 20:30:09                       66.542266         86.0   \n",
       "144486  2018-10-03 20:00:08                       88.143957        116.0   \n",
       "144487  2018-10-03 19:02:11                      111.084417        173.0   \n",
       "144488  2018-10-03 18:54:10                      108.820943        181.0   \n",
       "\n",
       "        osrm_time osrm_distance    factor  segment_actual_time  \\\n",
       "112          34.0       37.7749  1.411765                 48.0   \n",
       "113          41.0       56.3575  2.390244                 49.0   \n",
       "114          58.0       80.4811  2.189655                 29.0   \n",
       "115          73.0      101.2556  2.136986                 28.0   \n",
       "116          92.0      127.9860  2.304348                 55.0   \n",
       "...           ...           ...       ...                  ...   \n",
       "144484       45.0       47.7734  1.377778                 34.0   \n",
       "144485       71.0       71.9549  1.211268                 23.0   \n",
       "144486      114.0      112.6943  1.017544                 30.0   \n",
       "144487      123.0      134.1940  1.406504                 57.0   \n",
       "144488      123.0      121.3598  1.471545                  8.0   \n",
       "\n",
       "        segment_osrm_time  segment_osrm_distance  segment_factor  \n",
       "112                  34.0                37.7749        1.411765  \n",
       "113                  33.0                34.1661        1.484848  \n",
       "114                  17.0                24.1236        1.705882  \n",
       "115                  14.0                20.7746        2.000000  \n",
       "116                  18.0                26.7304        3.055556  \n",
       "...                   ...                    ...             ...  \n",
       "144484               23.0                23.6601        1.478261  \n",
       "144485               25.0                24.1815        0.920000  \n",
       "144486               43.0                40.7394        0.697674  \n",
       "144487               45.0                46.9217        1.266667  \n",
       "144488                4.0                 6.5101        2.000000  \n",
       "\n",
       "[293 rows x 24 columns]"
      ]
     },
     "execution_count": 9,
     "metadata": {},
     "output_type": "execute_result"
    }
   ],
   "source": [
    "data[data['source_name'].isnull()]"
   ]
  },
  {
   "cell_type": "markdown",
   "id": "09971126",
   "metadata": {},
   "source": [
    "# Column wise Analysis"
   ]
  },
  {
   "cell_type": "code",
   "execution_count": 16,
   "id": "805efd17",
   "metadata": {},
   "outputs": [],
   "source": [
    "# data\n",
    "df = pd.DataFrame()"
   ]
  },
  {
   "cell_type": "code",
   "execution_count": 14,
   "id": "5efe6262",
   "metadata": {},
   "outputs": [
    {
     "data": {
      "text/plain": [
       "training    72.382254\n",
       "test        27.617746\n",
       "Name: data, dtype: float64"
      ]
     },
     "execution_count": 14,
     "metadata": {},
     "output_type": "execute_result"
    }
   ],
   "source": [
    "data['data'].value_counts() * 100/data['data'].value_counts().sum()"
   ]
  },
  {
   "cell_type": "code",
   "execution_count": 17,
   "id": "1e467aa2",
   "metadata": {},
   "outputs": [],
   "source": [
    "df['data'] = data['data']"
   ]
  },
  {
   "cell_type": "markdown",
   "id": "bc2d0e2a",
   "metadata": {},
   "source": [
    "- Data is split into 72% training set and 28% test set"
   ]
  },
  {
   "cell_type": "markdown",
   "id": "544fdf19",
   "metadata": {},
   "source": [
    "## Trip_creation_time"
   ]
  },
  {
   "cell_type": "code",
   "execution_count": 18,
   "id": "086da838",
   "metadata": {},
   "outputs": [
    {
     "data": {
      "text/html": [
       "<div>\n",
       "<style scoped>\n",
       "    .dataframe tbody tr th:only-of-type {\n",
       "        vertical-align: middle;\n",
       "    }\n",
       "\n",
       "    .dataframe tbody tr th {\n",
       "        vertical-align: top;\n",
       "    }\n",
       "\n",
       "    .dataframe thead th {\n",
       "        text-align: right;\n",
       "    }\n",
       "</style>\n",
       "<table border=\"1\" class=\"dataframe\">\n",
       "  <thead>\n",
       "    <tr style=\"text-align: right;\">\n",
       "      <th></th>\n",
       "      <th>data</th>\n",
       "      <th>trip_creation_time</th>\n",
       "    </tr>\n",
       "  </thead>\n",
       "  <tbody>\n",
       "    <tr>\n",
       "      <th>0</th>\n",
       "      <td>training</td>\n",
       "      <td>2018-09-20 02:35:36.476840</td>\n",
       "    </tr>\n",
       "    <tr>\n",
       "      <th>1</th>\n",
       "      <td>training</td>\n",
       "      <td>2018-09-20 02:35:36.476840</td>\n",
       "    </tr>\n",
       "    <tr>\n",
       "      <th>2</th>\n",
       "      <td>training</td>\n",
       "      <td>2018-09-20 02:35:36.476840</td>\n",
       "    </tr>\n",
       "    <tr>\n",
       "      <th>3</th>\n",
       "      <td>training</td>\n",
       "      <td>2018-09-20 02:35:36.476840</td>\n",
       "    </tr>\n",
       "    <tr>\n",
       "      <th>4</th>\n",
       "      <td>training</td>\n",
       "      <td>2018-09-20 02:35:36.476840</td>\n",
       "    </tr>\n",
       "    <tr>\n",
       "      <th>...</th>\n",
       "      <td>...</td>\n",
       "      <td>...</td>\n",
       "    </tr>\n",
       "    <tr>\n",
       "      <th>144862</th>\n",
       "      <td>training</td>\n",
       "      <td>2018-09-20 16:24:28.436231</td>\n",
       "    </tr>\n",
       "    <tr>\n",
       "      <th>144863</th>\n",
       "      <td>training</td>\n",
       "      <td>2018-09-20 16:24:28.436231</td>\n",
       "    </tr>\n",
       "    <tr>\n",
       "      <th>144864</th>\n",
       "      <td>training</td>\n",
       "      <td>2018-09-20 16:24:28.436231</td>\n",
       "    </tr>\n",
       "    <tr>\n",
       "      <th>144865</th>\n",
       "      <td>training</td>\n",
       "      <td>2018-09-20 16:24:28.436231</td>\n",
       "    </tr>\n",
       "    <tr>\n",
       "      <th>144866</th>\n",
       "      <td>training</td>\n",
       "      <td>2018-09-20 16:24:28.436231</td>\n",
       "    </tr>\n",
       "  </tbody>\n",
       "</table>\n",
       "<p>144867 rows × 2 columns</p>\n",
       "</div>"
      ],
      "text/plain": [
       "            data         trip_creation_time\n",
       "0       training 2018-09-20 02:35:36.476840\n",
       "1       training 2018-09-20 02:35:36.476840\n",
       "2       training 2018-09-20 02:35:36.476840\n",
       "3       training 2018-09-20 02:35:36.476840\n",
       "4       training 2018-09-20 02:35:36.476840\n",
       "...          ...                        ...\n",
       "144862  training 2018-09-20 16:24:28.436231\n",
       "144863  training 2018-09-20 16:24:28.436231\n",
       "144864  training 2018-09-20 16:24:28.436231\n",
       "144865  training 2018-09-20 16:24:28.436231\n",
       "144866  training 2018-09-20 16:24:28.436231\n",
       "\n",
       "[144867 rows x 2 columns]"
      ]
     },
     "execution_count": 18,
     "metadata": {},
     "output_type": "execute_result"
    }
   ],
   "source": [
    "df['trip_creation_time']=pd.to_datetime(data['trip_creation_time'])\n",
    "df"
   ]
  },
  {
   "cell_type": "code",
   "execution_count": 19,
   "id": "25b49ec7",
   "metadata": {},
   "outputs": [
    {
     "data": {
      "text/plain": [
       "22"
      ]
     },
     "execution_count": 19,
     "metadata": {},
     "output_type": "execute_result"
    }
   ],
   "source": [
    "df['trip_creation_time'].dt.date.nunique()"
   ]
  },
  {
   "cell_type": "markdown",
   "id": "bae6407d",
   "metadata": {},
   "source": [
    "Dataset Contains 22 days of data. Hence granular level of year, month and day is not required"
   ]
  },
  {
   "cell_type": "code",
   "execution_count": 20,
   "id": "7a05537d",
   "metadata": {},
   "outputs": [
    {
     "data": {
      "text/html": [
       "<div>\n",
       "<style scoped>\n",
       "    .dataframe tbody tr th:only-of-type {\n",
       "        vertical-align: middle;\n",
       "    }\n",
       "\n",
       "    .dataframe tbody tr th {\n",
       "        vertical-align: top;\n",
       "    }\n",
       "\n",
       "    .dataframe thead th {\n",
       "        text-align: right;\n",
       "    }\n",
       "</style>\n",
       "<table border=\"1\" class=\"dataframe\">\n",
       "  <thead>\n",
       "    <tr style=\"text-align: right;\">\n",
       "      <th></th>\n",
       "      <th>data</th>\n",
       "      <th>trip_creation_date</th>\n",
       "      <th>trip_creation_hour</th>\n",
       "    </tr>\n",
       "  </thead>\n",
       "  <tbody>\n",
       "    <tr>\n",
       "      <th>0</th>\n",
       "      <td>training</td>\n",
       "      <td>2018-09-20</td>\n",
       "      <td>2</td>\n",
       "    </tr>\n",
       "    <tr>\n",
       "      <th>1</th>\n",
       "      <td>training</td>\n",
       "      <td>2018-09-20</td>\n",
       "      <td>2</td>\n",
       "    </tr>\n",
       "    <tr>\n",
       "      <th>2</th>\n",
       "      <td>training</td>\n",
       "      <td>2018-09-20</td>\n",
       "      <td>2</td>\n",
       "    </tr>\n",
       "    <tr>\n",
       "      <th>3</th>\n",
       "      <td>training</td>\n",
       "      <td>2018-09-20</td>\n",
       "      <td>2</td>\n",
       "    </tr>\n",
       "    <tr>\n",
       "      <th>4</th>\n",
       "      <td>training</td>\n",
       "      <td>2018-09-20</td>\n",
       "      <td>2</td>\n",
       "    </tr>\n",
       "    <tr>\n",
       "      <th>...</th>\n",
       "      <td>...</td>\n",
       "      <td>...</td>\n",
       "      <td>...</td>\n",
       "    </tr>\n",
       "    <tr>\n",
       "      <th>144862</th>\n",
       "      <td>training</td>\n",
       "      <td>2018-09-20</td>\n",
       "      <td>16</td>\n",
       "    </tr>\n",
       "    <tr>\n",
       "      <th>144863</th>\n",
       "      <td>training</td>\n",
       "      <td>2018-09-20</td>\n",
       "      <td>16</td>\n",
       "    </tr>\n",
       "    <tr>\n",
       "      <th>144864</th>\n",
       "      <td>training</td>\n",
       "      <td>2018-09-20</td>\n",
       "      <td>16</td>\n",
       "    </tr>\n",
       "    <tr>\n",
       "      <th>144865</th>\n",
       "      <td>training</td>\n",
       "      <td>2018-09-20</td>\n",
       "      <td>16</td>\n",
       "    </tr>\n",
       "    <tr>\n",
       "      <th>144866</th>\n",
       "      <td>training</td>\n",
       "      <td>2018-09-20</td>\n",
       "      <td>16</td>\n",
       "    </tr>\n",
       "  </tbody>\n",
       "</table>\n",
       "<p>144867 rows × 3 columns</p>\n",
       "</div>"
      ],
      "text/plain": [
       "            data trip_creation_date  trip_creation_hour\n",
       "0       training         2018-09-20                   2\n",
       "1       training         2018-09-20                   2\n",
       "2       training         2018-09-20                   2\n",
       "3       training         2018-09-20                   2\n",
       "4       training         2018-09-20                   2\n",
       "...          ...                ...                 ...\n",
       "144862  training         2018-09-20                  16\n",
       "144863  training         2018-09-20                  16\n",
       "144864  training         2018-09-20                  16\n",
       "144865  training         2018-09-20                  16\n",
       "144866  training         2018-09-20                  16\n",
       "\n",
       "[144867 rows x 3 columns]"
      ]
     },
     "execution_count": 20,
     "metadata": {},
     "output_type": "execute_result"
    }
   ],
   "source": [
    "df['trip_creation_date'] = df['trip_creation_time'].dt.date\n",
    "df['trip_creation_hour'] = df['trip_creation_time'].dt.hour\n",
    "df.drop('trip_creation_time', axis=1, inplace=True)\n",
    "df"
   ]
  },
  {
   "cell_type": "markdown",
   "id": "bada1044",
   "metadata": {},
   "source": [
    "## route_schedule_uuid"
   ]
  },
  {
   "cell_type": "code",
   "execution_count": 21,
   "id": "b05906fc",
   "metadata": {},
   "outputs": [],
   "source": [
    "split_0 = data['route_schedule_uuid'].str.split(\"::\").apply(lambda x: x[0])\n",
    "split_1 = data['route_schedule_uuid'].str.split(\":\").apply(lambda x: x[2])\n",
    "split_2 = data['route_schedule_uuid'].str.split(\":\").apply(lambda x: x[3])"
   ]
  },
  {
   "cell_type": "code",
   "execution_count": 22,
   "id": "3da1fc05",
   "metadata": {},
   "outputs": [
    {
     "name": "stdout",
     "output_type": "stream",
     "text": [
      "1 1 1504\n"
     ]
    }
   ],
   "source": [
    "print(split_0.nunique(), split_1.nunique(), split_2.nunique())"
   ]
  },
  {
   "cell_type": "code",
   "execution_count": 24,
   "id": "c670a260",
   "metadata": {},
   "outputs": [
    {
     "data": {
      "text/plain": [
       "('thanos', 'sroute', 'eb7bfc78-b351-4c0e-a951-fa3d5c3297ef')"
      ]
     },
     "execution_count": 24,
     "metadata": {},
     "output_type": "execute_result"
    }
   ],
   "source": [
    "split_0.iloc[0], split_1.iloc[0], split_2.iloc[0]"
   ]
  },
  {
   "cell_type": "markdown",
   "id": "afab9300",
   "metadata": {},
   "source": [
    "There is no significant information present in this column and hence can be dropped "
   ]
  },
  {
   "cell_type": "markdown",
   "id": "45ed61ce",
   "metadata": {},
   "source": [
    "# route_type"
   ]
  },
  {
   "cell_type": "code",
   "execution_count": 25,
   "id": "5900275e",
   "metadata": {},
   "outputs": [
    {
     "data": {
      "text/plain": [
       "array(['Carting', 'FTL'], dtype=object)"
      ]
     },
     "execution_count": 25,
     "metadata": {},
     "output_type": "execute_result"
    }
   ],
   "source": [
    "data['route_type'].unique()"
   ]
  },
  {
   "cell_type": "code",
   "execution_count": 26,
   "id": "a53baaaa",
   "metadata": {},
   "outputs": [],
   "source": [
    "df[['Cart', 'FTL']] = pd.get_dummies(data['route_type'], columns=['route_type'])"
   ]
  },
  {
   "cell_type": "code",
   "execution_count": 27,
   "id": "c633280a",
   "metadata": {},
   "outputs": [
    {
     "data": {
      "text/plain": [
       "0    99660\n",
       "1    45207\n",
       "Name: Cart, dtype: int64"
      ]
     },
     "execution_count": 27,
     "metadata": {},
     "output_type": "execute_result"
    }
   ],
   "source": [
    "df['Cart'].value_counts()"
   ]
  },
  {
   "cell_type": "markdown",
   "id": "70c1dd89",
   "metadata": {},
   "source": [
    "- Performed One hot encoding for route_type column as it has only 2 unique values"
   ]
  },
  {
   "cell_type": "markdown",
   "id": "95e0de02",
   "metadata": {},
   "source": [
    "## trip_uuid"
   ]
  },
  {
   "cell_type": "code",
   "execution_count": 28,
   "id": "b0d1b362",
   "metadata": {},
   "outputs": [
    {
     "data": {
      "text/plain": [
       "14817"
      ]
     },
     "execution_count": 28,
     "metadata": {},
     "output_type": "execute_result"
    }
   ],
   "source": [
    "data['trip_uuid'].nunique()"
   ]
  },
  {
   "cell_type": "code",
   "execution_count": 29,
   "id": "ca4736e2",
   "metadata": {},
   "outputs": [],
   "source": [
    "# For grouping Trip ID is required\n",
    "df['trip_uuid'] = data['trip_uuid']"
   ]
  },
  {
   "cell_type": "markdown",
   "id": "e791f516",
   "metadata": {},
   "source": [
    "- trip_uuid is a unique ID for each trip and it is required for grouping the Trips"
   ]
  },
  {
   "cell_type": "markdown",
   "id": "67ba5953",
   "metadata": {},
   "source": [
    "## source_center"
   ]
  },
  {
   "cell_type": "code",
   "execution_count": 30,
   "id": "6a36fc5b",
   "metadata": {},
   "outputs": [
    {
     "data": {
      "text/plain": [
       "'IND388121AAA'"
      ]
     },
     "execution_count": 30,
     "metadata": {},
     "output_type": "execute_result"
    }
   ],
   "source": [
    "data['source_center'].iloc[0]"
   ]
  },
  {
   "cell_type": "code",
   "execution_count": 31,
   "id": "cafde4d7",
   "metadata": {},
   "outputs": [
    {
     "data": {
      "text/plain": [
       "array(['IND'], dtype=object)"
      ]
     },
     "execution_count": 31,
     "metadata": {},
     "output_type": "execute_result"
    }
   ],
   "source": [
    "data['source_center'].apply(lambda x: x[:3]).unique()"
   ]
  },
  {
   "cell_type": "code",
   "execution_count": 32,
   "id": "b92f3138",
   "metadata": {},
   "outputs": [
    {
     "data": {
      "text/plain": [
       "array(['AAA', 'AAB', 'AAG', 'ACA', 'AAC', 'AAD', 'A1B', 'ACK', 'ACB',\n",
       "       'ABA', 'AAE', 'AAM', 'AFT', 'AAN', 'AAR', 'ACT', 'AAK', 'AFJ',\n",
       "       'ADV', 'AAF', 'ABD', 'AFG', 'AAL', 'ACN', 'ABG', 'AAJ', 'AAI',\n",
       "       'AEM', 'AEL', 'AET', 'AAS', 'AFR', 'AAZ', 'AFF', 'AAH', 'ADM',\n",
       "       'AAQ'], dtype=object)"
      ]
     },
     "execution_count": 32,
     "metadata": {},
     "output_type": "execute_result"
    }
   ],
   "source": [
    "data['source_center'].apply(lambda x: x[-3:]).unique()"
   ]
  },
  {
   "cell_type": "code",
   "execution_count": 33,
   "id": "fbc6ae3e",
   "metadata": {},
   "outputs": [
    {
     "data": {
      "text/plain": [
       "1390"
      ]
     },
     "execution_count": 33,
     "metadata": {},
     "output_type": "execute_result"
    }
   ],
   "source": [
    "data['source_center'].apply(lambda x: x[3:-3:]).nunique()"
   ]
  },
  {
   "cell_type": "markdown",
   "id": "e7b7870f",
   "metadata": {},
   "source": [
    "- All the packages starts from IND possibly India\n",
    "- It contains Unique Id for each center, hence not required for further analysis"
   ]
  },
  {
   "cell_type": "markdown",
   "id": "8514c427",
   "metadata": {},
   "source": [
    "## source_name"
   ]
  },
  {
   "cell_type": "code",
   "execution_count": 34,
   "id": "5e62b922",
   "metadata": {},
   "outputs": [
    {
     "data": {
      "text/plain": [
       "'Anand_VUNagar_DC (Gujarat)'"
      ]
     },
     "execution_count": 34,
     "metadata": {},
     "output_type": "execute_result"
    }
   ],
   "source": [
    "# source_name\n",
    "data['source_name'].iloc[0]"
   ]
  },
  {
   "cell_type": "code",
   "execution_count": 35,
   "id": "49ebe3fd",
   "metadata": {},
   "outputs": [
    {
     "data": {
      "text/plain": [
       "2    118836\n",
       "1     12543\n",
       "3     11381\n",
       "0      2107\n",
       "Name: source_name, dtype: int64"
      ]
     },
     "execution_count": 35,
     "metadata": {},
     "output_type": "execute_result"
    }
   ],
   "source": [
    "# Different ways of source name entered in dataset\n",
    "data['source_name'].fillna(\"Unk_Unk_Unk (Unk)\").str.count(\"_\").value_counts()"
   ]
  },
  {
   "cell_type": "markdown",
   "id": "52bffe77",
   "metadata": {},
   "source": [
    "- `Source name is entered in 4 different formats in the dataset`"
   ]
  },
  {
   "cell_type": "code",
   "execution_count": 36,
   "id": "ec81aad8",
   "metadata": {},
   "outputs": [
    {
     "name": "stdout",
     "output_type": "stream",
     "text": [
      "Haridwar (Uttarakhand)\n",
      "LowerParel_CP (Maharashtra)\n",
      "Anand_VUNagar_DC (Gujarat)\n",
      "Kanpur_Central_H_6 (Uttar Pradesh)\n"
     ]
    }
   ],
   "source": [
    "for i in range(4):\n",
    "    print(data[data['source_name'].fillna(\"Unk_Unk_Unk (Unk)\").str.count(\"_\") == i]['source_name'].iloc[0])"
   ]
  },
  {
   "cell_type": "markdown",
   "id": "3fc26431",
   "metadata": {},
   "source": [
    "- `First string before underscore is City name and inside the brackets is State name`"
   ]
  },
  {
   "cell_type": "code",
   "execution_count": 37,
   "id": "ce56bb44",
   "metadata": {},
   "outputs": [],
   "source": [
    "def splitlocation(x):\n",
    "    if x.count(\"_\"):\n",
    "        temp1 = x.split(\"_\")\n",
    "        city = temp1[0]\n",
    "        temp2 = temp1[-1].split(\"(\")\n",
    "        state = temp2[1].replace(\")\", \"\").strip()\n",
    "    else:\n",
    "        temp1 = x.split(\"(\")\n",
    "        city = temp1[0].strip()\n",
    "        state = temp1[-1].replace(\")\", \"\").strip()\n",
    "    return city, state"
   ]
  },
  {
   "cell_type": "code",
   "execution_count": 38,
   "id": "095fab96",
   "metadata": {},
   "outputs": [],
   "source": [
    "city_state = data['source_name'].fillna(\"Unk_Unk_Unk (Unk)\").apply(splitlocation)"
   ]
  },
  {
   "cell_type": "code",
   "execution_count": 39,
   "id": "f1976d32",
   "metadata": {},
   "outputs": [
    {
     "data": {
      "text/html": [
       "<div>\n",
       "<style scoped>\n",
       "    .dataframe tbody tr th:only-of-type {\n",
       "        vertical-align: middle;\n",
       "    }\n",
       "\n",
       "    .dataframe tbody tr th {\n",
       "        vertical-align: top;\n",
       "    }\n",
       "\n",
       "    .dataframe thead th {\n",
       "        text-align: right;\n",
       "    }\n",
       "</style>\n",
       "<table border=\"1\" class=\"dataframe\">\n",
       "  <thead>\n",
       "    <tr style=\"text-align: right;\">\n",
       "      <th></th>\n",
       "      <th>data</th>\n",
       "      <th>trip_creation_date</th>\n",
       "      <th>trip_creation_hour</th>\n",
       "      <th>Cart</th>\n",
       "      <th>FTL</th>\n",
       "      <th>trip_uuid</th>\n",
       "      <th>source_city</th>\n",
       "      <th>source_state</th>\n",
       "    </tr>\n",
       "  </thead>\n",
       "  <tbody>\n",
       "    <tr>\n",
       "      <th>0</th>\n",
       "      <td>training</td>\n",
       "      <td>2018-09-20</td>\n",
       "      <td>2</td>\n",
       "      <td>1</td>\n",
       "      <td>0</td>\n",
       "      <td>trip-153741093647649320</td>\n",
       "      <td>Anand</td>\n",
       "      <td>Gujarat</td>\n",
       "    </tr>\n",
       "    <tr>\n",
       "      <th>1</th>\n",
       "      <td>training</td>\n",
       "      <td>2018-09-20</td>\n",
       "      <td>2</td>\n",
       "      <td>1</td>\n",
       "      <td>0</td>\n",
       "      <td>trip-153741093647649320</td>\n",
       "      <td>Anand</td>\n",
       "      <td>Gujarat</td>\n",
       "    </tr>\n",
       "    <tr>\n",
       "      <th>2</th>\n",
       "      <td>training</td>\n",
       "      <td>2018-09-20</td>\n",
       "      <td>2</td>\n",
       "      <td>1</td>\n",
       "      <td>0</td>\n",
       "      <td>trip-153741093647649320</td>\n",
       "      <td>Anand</td>\n",
       "      <td>Gujarat</td>\n",
       "    </tr>\n",
       "    <tr>\n",
       "      <th>3</th>\n",
       "      <td>training</td>\n",
       "      <td>2018-09-20</td>\n",
       "      <td>2</td>\n",
       "      <td>1</td>\n",
       "      <td>0</td>\n",
       "      <td>trip-153741093647649320</td>\n",
       "      <td>Anand</td>\n",
       "      <td>Gujarat</td>\n",
       "    </tr>\n",
       "    <tr>\n",
       "      <th>4</th>\n",
       "      <td>training</td>\n",
       "      <td>2018-09-20</td>\n",
       "      <td>2</td>\n",
       "      <td>1</td>\n",
       "      <td>0</td>\n",
       "      <td>trip-153741093647649320</td>\n",
       "      <td>Anand</td>\n",
       "      <td>Gujarat</td>\n",
       "    </tr>\n",
       "  </tbody>\n",
       "</table>\n",
       "</div>"
      ],
      "text/plain": [
       "       data trip_creation_date  trip_creation_hour  Cart  FTL  \\\n",
       "0  training         2018-09-20                   2     1    0   \n",
       "1  training         2018-09-20                   2     1    0   \n",
       "2  training         2018-09-20                   2     1    0   \n",
       "3  training         2018-09-20                   2     1    0   \n",
       "4  training         2018-09-20                   2     1    0   \n",
       "\n",
       "                 trip_uuid source_city source_state  \n",
       "0  trip-153741093647649320       Anand      Gujarat  \n",
       "1  trip-153741093647649320       Anand      Gujarat  \n",
       "2  trip-153741093647649320       Anand      Gujarat  \n",
       "3  trip-153741093647649320       Anand      Gujarat  \n",
       "4  trip-153741093647649320       Anand      Gujarat  "
      ]
     },
     "execution_count": 39,
     "metadata": {},
     "output_type": "execute_result"
    }
   ],
   "source": [
    "df['source_city'] = city_state.apply(lambda x: x[0])\n",
    "df['source_state'] = city_state.apply(lambda x: x[1])\n",
    "df.head()"
   ]
  },
  {
   "cell_type": "markdown",
   "id": "fa5c0325",
   "metadata": {},
   "source": [
    "- `As many of the entries in the dataset doesn't contain the name of place, only City and State names are extracted`\n",
    "- `The missing city and state names in the dataset are modified as \"Unk\"`"
   ]
  },
  {
   "cell_type": "markdown",
   "id": "24d08bcb",
   "metadata": {},
   "source": [
    "## destination_center"
   ]
  },
  {
   "cell_type": "code",
   "execution_count": 46,
   "id": "1333410d",
   "metadata": {},
   "outputs": [
    {
     "data": {
      "text/plain": [
       "'IND388620AAB'"
      ]
     },
     "execution_count": 46,
     "metadata": {},
     "output_type": "execute_result"
    }
   ],
   "source": [
    "data['destination_center'].iloc[0]"
   ]
  },
  {
   "cell_type": "code",
   "execution_count": 47,
   "id": "f769dff1",
   "metadata": {},
   "outputs": [
    {
     "data": {
      "text/plain": [
       "array(['IND'], dtype=object)"
      ]
     },
     "execution_count": 47,
     "metadata": {},
     "output_type": "execute_result"
    }
   ],
   "source": [
    "data['destination_center'].apply(lambda x: x[:3]).unique()"
   ]
  },
  {
   "cell_type": "code",
   "execution_count": 48,
   "id": "574e3aef",
   "metadata": {},
   "outputs": [
    {
     "data": {
      "text/plain": [
       "array(['AAB', 'AAA', 'AAD', 'ACA', 'AAE', 'AAC', 'A1B', 'AAF', 'ACB',\n",
       "       'ABA', 'AAG', 'AFT', 'AAM', 'AAJ', 'AAH', 'AAL', 'AAR', 'ABD',\n",
       "       'ACS', 'ACO', 'AEL', 'AAK', 'AFS', 'AET', 'AAS', 'ACN', 'A1A',\n",
       "       'ADM', 'AFF', 'AFJ', 'AAZ', 'A1C'], dtype=object)"
      ]
     },
     "execution_count": 48,
     "metadata": {},
     "output_type": "execute_result"
    }
   ],
   "source": [
    "data['destination_center'].apply(lambda x: x[-3:]).unique()"
   ]
  },
  {
   "cell_type": "code",
   "execution_count": 49,
   "id": "10e5c30d",
   "metadata": {},
   "outputs": [
    {
     "data": {
      "text/plain": [
       "1384"
      ]
     },
     "execution_count": 49,
     "metadata": {},
     "output_type": "execute_result"
    }
   ],
   "source": [
    "data['destination_center'].apply(lambda x: x[3:-3:]).nunique()"
   ]
  },
  {
   "cell_type": "markdown",
   "id": "50f1e191",
   "metadata": {},
   "source": [
    "- All the packages starts from IND possibly India\n",
    "- Unique Id for each center, hence not required for further analysis"
   ]
  },
  {
   "cell_type": "markdown",
   "id": "5199745d",
   "metadata": {},
   "source": [
    "## destination_name"
   ]
  },
  {
   "cell_type": "code",
   "execution_count": 50,
   "id": "5f5b5988",
   "metadata": {},
   "outputs": [
    {
     "data": {
      "text/plain": [
       "2    117278\n",
       "1     13127\n",
       "3     12021\n",
       "0      2441\n",
       "Name: destination_name, dtype: int64"
      ]
     },
     "execution_count": 50,
     "metadata": {},
     "output_type": "execute_result"
    }
   ],
   "source": [
    "# Different ways of source name entered in dataset\n",
    "data['destination_name'].fillna(\"Unk_Unk_Unk (Unk)\").str.count(\"_\").value_counts()"
   ]
  },
  {
   "cell_type": "code",
   "execution_count": 51,
   "id": "02be4441",
   "metadata": {},
   "outputs": [
    {
     "name": "stdout",
     "output_type": "stream",
     "text": [
      "Haridwar (Uttarakhand)\n",
      "Jagraon_DC (Punjab)\n",
      "Khambhat_MotvdDPP_D (Gujarat)\n",
      "Kanpur_Central_H_6 (Uttar Pradesh)\n"
     ]
    }
   ],
   "source": [
    "for i in range(4):\n",
    "    print(data[data['destination_name'].fillna(\"Unk_Unk_Unk (Unk)\").str.count(\"_\") == i]['destination_name'].iloc[0])"
   ]
  },
  {
   "cell_type": "code",
   "execution_count": 53,
   "id": "911e96c7",
   "metadata": {},
   "outputs": [
    {
     "data": {
      "text/html": [
       "<div>\n",
       "<style scoped>\n",
       "    .dataframe tbody tr th:only-of-type {\n",
       "        vertical-align: middle;\n",
       "    }\n",
       "\n",
       "    .dataframe tbody tr th {\n",
       "        vertical-align: top;\n",
       "    }\n",
       "\n",
       "    .dataframe thead th {\n",
       "        text-align: right;\n",
       "    }\n",
       "</style>\n",
       "<table border=\"1\" class=\"dataframe\">\n",
       "  <thead>\n",
       "    <tr style=\"text-align: right;\">\n",
       "      <th></th>\n",
       "      <th>data</th>\n",
       "      <th>trip_creation_date</th>\n",
       "      <th>trip_creation_hour</th>\n",
       "      <th>Cart</th>\n",
       "      <th>FTL</th>\n",
       "      <th>trip_uuid</th>\n",
       "      <th>source_city</th>\n",
       "      <th>source_state</th>\n",
       "      <th>dest_city</th>\n",
       "      <th>dest_state</th>\n",
       "    </tr>\n",
       "  </thead>\n",
       "  <tbody>\n",
       "    <tr>\n",
       "      <th>0</th>\n",
       "      <td>training</td>\n",
       "      <td>2018-09-20</td>\n",
       "      <td>2</td>\n",
       "      <td>1</td>\n",
       "      <td>0</td>\n",
       "      <td>trip-153741093647649320</td>\n",
       "      <td>Anand</td>\n",
       "      <td>Gujarat</td>\n",
       "      <td>Khambhat</td>\n",
       "      <td>Gujarat</td>\n",
       "    </tr>\n",
       "    <tr>\n",
       "      <th>1</th>\n",
       "      <td>training</td>\n",
       "      <td>2018-09-20</td>\n",
       "      <td>2</td>\n",
       "      <td>1</td>\n",
       "      <td>0</td>\n",
       "      <td>trip-153741093647649320</td>\n",
       "      <td>Anand</td>\n",
       "      <td>Gujarat</td>\n",
       "      <td>Khambhat</td>\n",
       "      <td>Gujarat</td>\n",
       "    </tr>\n",
       "    <tr>\n",
       "      <th>2</th>\n",
       "      <td>training</td>\n",
       "      <td>2018-09-20</td>\n",
       "      <td>2</td>\n",
       "      <td>1</td>\n",
       "      <td>0</td>\n",
       "      <td>trip-153741093647649320</td>\n",
       "      <td>Anand</td>\n",
       "      <td>Gujarat</td>\n",
       "      <td>Khambhat</td>\n",
       "      <td>Gujarat</td>\n",
       "    </tr>\n",
       "    <tr>\n",
       "      <th>3</th>\n",
       "      <td>training</td>\n",
       "      <td>2018-09-20</td>\n",
       "      <td>2</td>\n",
       "      <td>1</td>\n",
       "      <td>0</td>\n",
       "      <td>trip-153741093647649320</td>\n",
       "      <td>Anand</td>\n",
       "      <td>Gujarat</td>\n",
       "      <td>Khambhat</td>\n",
       "      <td>Gujarat</td>\n",
       "    </tr>\n",
       "    <tr>\n",
       "      <th>4</th>\n",
       "      <td>training</td>\n",
       "      <td>2018-09-20</td>\n",
       "      <td>2</td>\n",
       "      <td>1</td>\n",
       "      <td>0</td>\n",
       "      <td>trip-153741093647649320</td>\n",
       "      <td>Anand</td>\n",
       "      <td>Gujarat</td>\n",
       "      <td>Khambhat</td>\n",
       "      <td>Gujarat</td>\n",
       "    </tr>\n",
       "  </tbody>\n",
       "</table>\n",
       "</div>"
      ],
      "text/plain": [
       "       data trip_creation_date  trip_creation_hour  Cart  FTL  \\\n",
       "0  training         2018-09-20                   2     1    0   \n",
       "1  training         2018-09-20                   2     1    0   \n",
       "2  training         2018-09-20                   2     1    0   \n",
       "3  training         2018-09-20                   2     1    0   \n",
       "4  training         2018-09-20                   2     1    0   \n",
       "\n",
       "                 trip_uuid source_city source_state dest_city dest_state  \n",
       "0  trip-153741093647649320       Anand      Gujarat  Khambhat    Gujarat  \n",
       "1  trip-153741093647649320       Anand      Gujarat  Khambhat    Gujarat  \n",
       "2  trip-153741093647649320       Anand      Gujarat  Khambhat    Gujarat  \n",
       "3  trip-153741093647649320       Anand      Gujarat  Khambhat    Gujarat  \n",
       "4  trip-153741093647649320       Anand      Gujarat  Khambhat    Gujarat  "
      ]
     },
     "execution_count": 53,
     "metadata": {},
     "output_type": "execute_result"
    }
   ],
   "source": [
    "city_state = data['destination_name'].fillna(\"Unk_Unk_Unk (Unk)\").apply(splitlocation)\n",
    "df['dest_city'] = city_state.apply(lambda x: x[0])\n",
    "df['dest_state'] = city_state.apply(lambda x: x[1])\n",
    "df.head()"
   ]
  },
  {
   "cell_type": "markdown",
   "id": "48271e30",
   "metadata": {},
   "source": [
    "- `As many of the entries in the dataset doesn't contain the name of place, only City and State names are extracted`\n",
    "- `The missing city and state names in the dataset are modified as \"Unk\"`"
   ]
  },
  {
   "cell_type": "markdown",
   "id": "b948a09a",
   "metadata": {},
   "source": [
    "## od_start_time and od_end_time"
   ]
  },
  {
   "cell_type": "code",
   "execution_count": 55,
   "id": "554cb470",
   "metadata": {},
   "outputs": [],
   "source": [
    "#df['trip_time'] = (pd.to_datetime(data['od_end_time']) - pd.to_datetime(data['trip_creation_time'])).dt.seconds // 60"
   ]
  },
  {
   "cell_type": "markdown",
   "id": "f6c7afed",
   "metadata": {},
   "source": [
    "- `Total Trip Time is calculated by differencing the end and start time, which is already present in the dataset as \"start_scan_to_end_scan\" measured in mins`"
   ]
  },
  {
   "cell_type": "markdown",
   "id": "9ea19c3c",
   "metadata": {},
   "source": [
    "## start_scan_to_end_scan"
   ]
  },
  {
   "cell_type": "code",
   "execution_count": 126,
   "id": "5add6cda",
   "metadata": {},
   "outputs": [],
   "source": [
    "df['start_scan_to_end_scan'] = data['start_scan_to_end_scan']"
   ]
  },
  {
   "cell_type": "markdown",
   "id": "adee2b3a",
   "metadata": {},
   "source": [
    "## is_cutoff, cutoff_factor, cutoff_timestamp"
   ]
  },
  {
   "cell_type": "code",
   "execution_count": 57,
   "id": "ee7a19a7",
   "metadata": {},
   "outputs": [
    {
     "data": {
      "text/plain": [
       "True     118749\n",
       "False     26118\n",
       "Name: is_cutoff, dtype: int64"
      ]
     },
     "execution_count": 57,
     "metadata": {},
     "output_type": "execute_result"
    }
   ],
   "source": [
    "data['is_cutoff'].value_counts()"
   ]
  },
  {
   "cell_type": "code",
   "execution_count": 60,
   "id": "2efb7610",
   "metadata": {},
   "outputs": [
    {
     "data": {
      "text/plain": [
       "22      13157\n",
       "9       12378\n",
       "44       8334\n",
       "18       8263\n",
       "66       5795\n",
       "        ...  \n",
       "245         1\n",
       "734         1\n",
       "1149        1\n",
       "412         1\n",
       "275         1\n",
       "Name: cutoff_factor, Length: 501, dtype: int64"
      ]
     },
     "execution_count": 60,
     "metadata": {},
     "output_type": "execute_result"
    }
   ],
   "source": [
    "data['cutoff_factor'].value_counts()"
   ]
  },
  {
   "cell_type": "code",
   "execution_count": 61,
   "id": "40db85b4",
   "metadata": {},
   "outputs": [],
   "source": [
    "df[['is_cutoff','cutoff_factor']] = data[['is_cutoff','cutoff_factor']]"
   ]
  },
  {
   "cell_type": "code",
   "execution_count": 62,
   "id": "15d54795",
   "metadata": {},
   "outputs": [
    {
     "data": {
      "text/plain": [
       "0                2018-09-20 04:27:55\n",
       "1                2018-09-20 04:17:55\n",
       "2         2018-09-20 04:01:19.505586\n",
       "3                2018-09-20 03:39:57\n",
       "4                2018-09-20 03:33:55\n",
       "                     ...            \n",
       "144862           2018-09-20 21:57:20\n",
       "144863           2018-09-20 21:31:18\n",
       "144864           2018-09-20 21:11:18\n",
       "144865           2018-09-20 20:53:19\n",
       "144866    2018-09-20 16:24:28.436231\n",
       "Name: cutoff_timestamp, Length: 144867, dtype: object"
      ]
     },
     "execution_count": 62,
     "metadata": {},
     "output_type": "execute_result"
    }
   ],
   "source": [
    "data['cutoff_timestamp']"
   ]
  },
  {
   "cell_type": "code",
   "execution_count": 63,
   "id": "6a84ee3b",
   "metadata": {},
   "outputs": [],
   "source": [
    "df['cufoff_date'] = pd.to_datetime(data['cutoff_timestamp']).dt.date\n",
    "df['cutoff_time'] = pd.to_datetime(data['cutoff_timestamp']).dt.hour"
   ]
  },
  {
   "cell_type": "markdown",
   "id": "7bca067d",
   "metadata": {},
   "source": [
    "- `Cutoff timestamp is transformed as cutoff date and cutoff time` "
   ]
  },
  {
   "cell_type": "markdown",
   "id": "d7c750ed",
   "metadata": {},
   "source": [
    "## actual_distance_to_destination, actual_time, osrm_time, osrm_distance, segment_actual_time, segment_osrm_time, segment_osrm_distance"
   ]
  },
  {
   "cell_type": "code",
   "execution_count": 65,
   "id": "03e3fdd9",
   "metadata": {},
   "outputs": [
    {
     "data": {
      "text/html": [
       "<div>\n",
       "<style scoped>\n",
       "    .dataframe tbody tr th:only-of-type {\n",
       "        vertical-align: middle;\n",
       "    }\n",
       "\n",
       "    .dataframe tbody tr th {\n",
       "        vertical-align: top;\n",
       "    }\n",
       "\n",
       "    .dataframe thead th {\n",
       "        text-align: right;\n",
       "    }\n",
       "</style>\n",
       "<table border=\"1\" class=\"dataframe\">\n",
       "  <thead>\n",
       "    <tr style=\"text-align: right;\">\n",
       "      <th></th>\n",
       "      <th>actual_distance_to_destination</th>\n",
       "      <th>osrm_distance</th>\n",
       "    </tr>\n",
       "  </thead>\n",
       "  <tbody>\n",
       "    <tr>\n",
       "      <th>0</th>\n",
       "      <td>10.435660</td>\n",
       "      <td>11.9653</td>\n",
       "    </tr>\n",
       "    <tr>\n",
       "      <th>1</th>\n",
       "      <td>18.936842</td>\n",
       "      <td>21.7243</td>\n",
       "    </tr>\n",
       "    <tr>\n",
       "      <th>2</th>\n",
       "      <td>27.637279</td>\n",
       "      <td>32.5395</td>\n",
       "    </tr>\n",
       "    <tr>\n",
       "      <th>3</th>\n",
       "      <td>36.118028</td>\n",
       "      <td>45.5620</td>\n",
       "    </tr>\n",
       "    <tr>\n",
       "      <th>4</th>\n",
       "      <td>39.386040</td>\n",
       "      <td>54.2181</td>\n",
       "    </tr>\n",
       "  </tbody>\n",
       "</table>\n",
       "</div>"
      ],
      "text/plain": [
       "   actual_distance_to_destination  osrm_distance\n",
       "0                       10.435660        11.9653\n",
       "1                       18.936842        21.7243\n",
       "2                       27.637279        32.5395\n",
       "3                       36.118028        45.5620\n",
       "4                       39.386040        54.2181"
      ]
     },
     "execution_count": 65,
     "metadata": {},
     "output_type": "execute_result"
    }
   ],
   "source": [
    "data[['actual_distance_to_destination', 'osrm_distance']].head()"
   ]
  },
  {
   "cell_type": "code",
   "execution_count": 223,
   "id": "bb7d4ccb",
   "metadata": {},
   "outputs": [
    {
     "data": {
      "text/html": [
       "<div>\n",
       "<style scoped>\n",
       "    .dataframe tbody tr th:only-of-type {\n",
       "        vertical-align: middle;\n",
       "    }\n",
       "\n",
       "    .dataframe tbody tr th {\n",
       "        vertical-align: top;\n",
       "    }\n",
       "\n",
       "    .dataframe thead th {\n",
       "        text-align: right;\n",
       "    }\n",
       "</style>\n",
       "<table border=\"1\" class=\"dataframe\">\n",
       "  <thead>\n",
       "    <tr style=\"text-align: right;\">\n",
       "      <th></th>\n",
       "      <th>data</th>\n",
       "      <th>trip_creation_time</th>\n",
       "      <th>route_schedule_uuid</th>\n",
       "      <th>route_type</th>\n",
       "      <th>trip_uuid</th>\n",
       "      <th>source_center</th>\n",
       "      <th>source_name</th>\n",
       "      <th>destination_center</th>\n",
       "      <th>destination_name</th>\n",
       "      <th>od_start_time</th>\n",
       "      <th>...</th>\n",
       "      <th>cutoff_timestamp</th>\n",
       "      <th>actual_distance_to_destination</th>\n",
       "      <th>actual_time</th>\n",
       "      <th>osrm_time</th>\n",
       "      <th>osrm_distance</th>\n",
       "      <th>factor</th>\n",
       "      <th>segment_actual_time</th>\n",
       "      <th>segment_osrm_time</th>\n",
       "      <th>segment_osrm_distance</th>\n",
       "      <th>segment_factor</th>\n",
       "    </tr>\n",
       "  </thead>\n",
       "  <tbody>\n",
       "    <tr>\n",
       "      <th>77666</th>\n",
       "      <td>training</td>\n",
       "      <td>2018-09-12 19:52:50.332484</td>\n",
       "      <td>thanos::sroute:c0fc2d36-84dc-406b-b11f-5ebf7eb...</td>\n",
       "      <td>Carting</td>\n",
       "      <td>trip-153678197033223393</td>\n",
       "      <td>IND262001AAA</td>\n",
       "      <td>Pilibhit_ViksClny_D (Uttar Pradesh)</td>\n",
       "      <td>IND262122AAB</td>\n",
       "      <td>Puranpur_MdothdRD_D (Uttar Pradesh)</td>\n",
       "      <td>2018-09-13 04:05:03.179947</td>\n",
       "      <td>...</td>\n",
       "      <td>2018-09-13 05:00:08</td>\n",
       "      <td>11.219466</td>\n",
       "      <td>11.0</td>\n",
       "      <td>12.0</td>\n",
       "      <td>11.2178</td>\n",
       "      <td>0.916667</td>\n",
       "      <td>11.0</td>\n",
       "      <td>12.0</td>\n",
       "      <td>11.2178</td>\n",
       "      <td>0.916667</td>\n",
       "    </tr>\n",
       "    <tr>\n",
       "      <th>103033</th>\n",
       "      <td>training</td>\n",
       "      <td>2018-09-12 19:33:12.560599</td>\n",
       "      <td>thanos::sroute:b692be92-80ce-4280-989f-5d98eca...</td>\n",
       "      <td>Carting</td>\n",
       "      <td>trip-153678079256033748</td>\n",
       "      <td>IND742401AAA</td>\n",
       "      <td>Ghanashyampur_NditaDPP_D (West Bengal)</td>\n",
       "      <td>IND742101AAC</td>\n",
       "      <td>Baharampur_Chuanpur_I (West Bengal)</td>\n",
       "      <td>2018-09-13 03:44:54.873874</td>\n",
       "      <td>...</td>\n",
       "      <td>2018-09-13 06:35:56</td>\n",
       "      <td>10.109174</td>\n",
       "      <td>24.0</td>\n",
       "      <td>9.0</td>\n",
       "      <td>9.8790</td>\n",
       "      <td>2.666667</td>\n",
       "      <td>24.0</td>\n",
       "      <td>9.0</td>\n",
       "      <td>9.8790</td>\n",
       "      <td>2.666667</td>\n",
       "    </tr>\n",
       "  </tbody>\n",
       "</table>\n",
       "<p>2 rows × 24 columns</p>\n",
       "</div>"
      ],
      "text/plain": [
       "            data          trip_creation_time  \\\n",
       "77666   training  2018-09-12 19:52:50.332484   \n",
       "103033  training  2018-09-12 19:33:12.560599   \n",
       "\n",
       "                                      route_schedule_uuid route_type  \\\n",
       "77666   thanos::sroute:c0fc2d36-84dc-406b-b11f-5ebf7eb...    Carting   \n",
       "103033  thanos::sroute:b692be92-80ce-4280-989f-5d98eca...    Carting   \n",
       "\n",
       "                      trip_uuid source_center  \\\n",
       "77666   trip-153678197033223393  IND262001AAA   \n",
       "103033  trip-153678079256033748  IND742401AAA   \n",
       "\n",
       "                                   source_name destination_center  \\\n",
       "77666      Pilibhit_ViksClny_D (Uttar Pradesh)       IND262122AAB   \n",
       "103033  Ghanashyampur_NditaDPP_D (West Bengal)       IND742101AAC   \n",
       "\n",
       "                           destination_name               od_start_time  ...  \\\n",
       "77666   Puranpur_MdothdRD_D (Uttar Pradesh)  2018-09-13 04:05:03.179947  ...   \n",
       "103033  Baharampur_Chuanpur_I (West Bengal)  2018-09-13 03:44:54.873874  ...   \n",
       "\n",
       "           cutoff_timestamp  actual_distance_to_destination  actual_time  \\\n",
       "77666   2018-09-13 05:00:08                       11.219466         11.0   \n",
       "103033  2018-09-13 06:35:56                       10.109174         24.0   \n",
       "\n",
       "        osrm_time osrm_distance    factor  segment_actual_time  \\\n",
       "77666        12.0       11.2178  0.916667                 11.0   \n",
       "103033        9.0        9.8790  2.666667                 24.0   \n",
       "\n",
       "        segment_osrm_time  segment_osrm_distance  segment_factor  \n",
       "77666                12.0                11.2178        0.916667  \n",
       "103033                9.0                 9.8790        2.666667  \n",
       "\n",
       "[2 rows x 24 columns]"
      ]
     },
     "execution_count": 223,
     "metadata": {},
     "output_type": "execute_result"
    }
   ],
   "source": [
    "data[data['osrm_distance'] < data['actual_distance_to_destination']].head()"
   ]
  },
  {
   "cell_type": "code",
   "execution_count": 64,
   "id": "daa4d62c",
   "metadata": {},
   "outputs": [],
   "source": [
    "col_names = ['actual_distance_to_destination', 'actual_time', 'osrm_time', 'osrm_distance', 'segment_actual_time', 'segment_osrm_time', 'segment_osrm_distance']\n",
    "df[col_names] = data[col_names]"
   ]
  },
  {
   "cell_type": "markdown",
   "id": "add9cc29",
   "metadata": {},
   "source": [
    "## factor and segment_factor"
   ]
  },
  {
   "cell_type": "code",
   "execution_count": 73,
   "id": "1a0d3d38",
   "metadata": {},
   "outputs": [
    {
     "data": {
      "text/html": [
       "<div>\n",
       "<style scoped>\n",
       "    .dataframe tbody tr th:only-of-type {\n",
       "        vertical-align: middle;\n",
       "    }\n",
       "\n",
       "    .dataframe tbody tr th {\n",
       "        vertical-align: top;\n",
       "    }\n",
       "\n",
       "    .dataframe thead th {\n",
       "        text-align: right;\n",
       "    }\n",
       "</style>\n",
       "<table border=\"1\" class=\"dataframe\">\n",
       "  <thead>\n",
       "    <tr style=\"text-align: right;\">\n",
       "      <th></th>\n",
       "      <th>actual/osrm</th>\n",
       "      <th>factor</th>\n",
       "      <th>segmentactual/segmentosrm</th>\n",
       "      <th>segment_factor</th>\n",
       "    </tr>\n",
       "  </thead>\n",
       "  <tbody>\n",
       "    <tr>\n",
       "      <th>0</th>\n",
       "      <td>1.272727</td>\n",
       "      <td>1.272727</td>\n",
       "      <td>1.272727</td>\n",
       "      <td>1.272727</td>\n",
       "    </tr>\n",
       "    <tr>\n",
       "      <th>1</th>\n",
       "      <td>1.200000</td>\n",
       "      <td>1.200000</td>\n",
       "      <td>1.111111</td>\n",
       "      <td>1.111111</td>\n",
       "    </tr>\n",
       "    <tr>\n",
       "      <th>2</th>\n",
       "      <td>1.428571</td>\n",
       "      <td>1.428571</td>\n",
       "      <td>2.285714</td>\n",
       "      <td>2.285714</td>\n",
       "    </tr>\n",
       "    <tr>\n",
       "      <th>3</th>\n",
       "      <td>1.550000</td>\n",
       "      <td>1.550000</td>\n",
       "      <td>1.750000</td>\n",
       "      <td>1.750000</td>\n",
       "    </tr>\n",
       "    <tr>\n",
       "      <th>4</th>\n",
       "      <td>1.545455</td>\n",
       "      <td>1.545455</td>\n",
       "      <td>1.200000</td>\n",
       "      <td>1.200000</td>\n",
       "    </tr>\n",
       "  </tbody>\n",
       "</table>\n",
       "</div>"
      ],
      "text/plain": [
       "   actual/osrm    factor  segmentactual/segmentosrm  segment_factor\n",
       "0     1.272727  1.272727                   1.272727        1.272727\n",
       "1     1.200000  1.200000                   1.111111        1.111111\n",
       "2     1.428571  1.428571                   2.285714        2.285714\n",
       "3     1.550000  1.550000                   1.750000        1.750000\n",
       "4     1.545455  1.545455                   1.200000        1.200000"
      ]
     },
     "execution_count": 73,
     "metadata": {},
     "output_type": "execute_result"
    }
   ],
   "source": [
    "temp = pd.DataFrame()\n",
    "temp['actual/osrm'] = data['actual_time']/ data['osrm_time']\n",
    "temp['factor'] = data['factor']\n",
    "temp['segmentactual/segmentosrm'] = data['segment_actual_time']/ data['segment_osrm_time']\n",
    "temp['segment_factor'] = data['segment_factor']\n",
    "temp.head()"
   ]
  },
  {
   "cell_type": "markdown",
   "id": "810d7da9",
   "metadata": {},
   "source": [
    "- `From the analysis it is infered that,`\n",
    "    - **`factor = actual time / osrm Time`**\n",
    "    - **`segment_Factor = segment_actual_time / segment_osrm_time`**\n",
    "- `Hence factor and segment factor are ignored as it a redundant data`"
   ]
  },
  {
   "cell_type": "code",
   "execution_count": 74,
   "id": "7586d271",
   "metadata": {},
   "outputs": [
    {
     "data": {
      "text/html": [
       "<div>\n",
       "<style scoped>\n",
       "    .dataframe tbody tr th:only-of-type {\n",
       "        vertical-align: middle;\n",
       "    }\n",
       "\n",
       "    .dataframe tbody tr th {\n",
       "        vertical-align: top;\n",
       "    }\n",
       "\n",
       "    .dataframe thead th {\n",
       "        text-align: right;\n",
       "    }\n",
       "</style>\n",
       "<table border=\"1\" class=\"dataframe\">\n",
       "  <thead>\n",
       "    <tr style=\"text-align: right;\">\n",
       "      <th></th>\n",
       "      <th>data</th>\n",
       "      <th>trip_creation_date</th>\n",
       "      <th>trip_creation_hour</th>\n",
       "      <th>Cart</th>\n",
       "      <th>FTL</th>\n",
       "      <th>trip_uuid</th>\n",
       "      <th>source_city</th>\n",
       "      <th>source_state</th>\n",
       "      <th>dest_city</th>\n",
       "      <th>dest_state</th>\n",
       "      <th>...</th>\n",
       "      <th>cutoff_factor</th>\n",
       "      <th>cufoff_date</th>\n",
       "      <th>cutoff_time</th>\n",
       "      <th>actual_distance_to_destination</th>\n",
       "      <th>actual_time</th>\n",
       "      <th>osrm_time</th>\n",
       "      <th>osrm_distance</th>\n",
       "      <th>segment_actual_time</th>\n",
       "      <th>segment_osrm_time</th>\n",
       "      <th>segment_osrm_distance</th>\n",
       "    </tr>\n",
       "  </thead>\n",
       "  <tbody>\n",
       "    <tr>\n",
       "      <th>0</th>\n",
       "      <td>training</td>\n",
       "      <td>2018-09-20</td>\n",
       "      <td>2</td>\n",
       "      <td>1</td>\n",
       "      <td>0</td>\n",
       "      <td>trip-153741093647649320</td>\n",
       "      <td>Anand</td>\n",
       "      <td>Gujarat</td>\n",
       "      <td>Khambhat</td>\n",
       "      <td>Gujarat</td>\n",
       "      <td>...</td>\n",
       "      <td>9</td>\n",
       "      <td>2018-09-20</td>\n",
       "      <td>4</td>\n",
       "      <td>10.435660</td>\n",
       "      <td>14.0</td>\n",
       "      <td>11.0</td>\n",
       "      <td>11.9653</td>\n",
       "      <td>14.0</td>\n",
       "      <td>11.0</td>\n",
       "      <td>11.9653</td>\n",
       "    </tr>\n",
       "    <tr>\n",
       "      <th>1</th>\n",
       "      <td>training</td>\n",
       "      <td>2018-09-20</td>\n",
       "      <td>2</td>\n",
       "      <td>1</td>\n",
       "      <td>0</td>\n",
       "      <td>trip-153741093647649320</td>\n",
       "      <td>Anand</td>\n",
       "      <td>Gujarat</td>\n",
       "      <td>Khambhat</td>\n",
       "      <td>Gujarat</td>\n",
       "      <td>...</td>\n",
       "      <td>18</td>\n",
       "      <td>2018-09-20</td>\n",
       "      <td>4</td>\n",
       "      <td>18.936842</td>\n",
       "      <td>24.0</td>\n",
       "      <td>20.0</td>\n",
       "      <td>21.7243</td>\n",
       "      <td>10.0</td>\n",
       "      <td>9.0</td>\n",
       "      <td>9.7590</td>\n",
       "    </tr>\n",
       "    <tr>\n",
       "      <th>2</th>\n",
       "      <td>training</td>\n",
       "      <td>2018-09-20</td>\n",
       "      <td>2</td>\n",
       "      <td>1</td>\n",
       "      <td>0</td>\n",
       "      <td>trip-153741093647649320</td>\n",
       "      <td>Anand</td>\n",
       "      <td>Gujarat</td>\n",
       "      <td>Khambhat</td>\n",
       "      <td>Gujarat</td>\n",
       "      <td>...</td>\n",
       "      <td>27</td>\n",
       "      <td>2018-09-20</td>\n",
       "      <td>4</td>\n",
       "      <td>27.637279</td>\n",
       "      <td>40.0</td>\n",
       "      <td>28.0</td>\n",
       "      <td>32.5395</td>\n",
       "      <td>16.0</td>\n",
       "      <td>7.0</td>\n",
       "      <td>10.8152</td>\n",
       "    </tr>\n",
       "    <tr>\n",
       "      <th>3</th>\n",
       "      <td>training</td>\n",
       "      <td>2018-09-20</td>\n",
       "      <td>2</td>\n",
       "      <td>1</td>\n",
       "      <td>0</td>\n",
       "      <td>trip-153741093647649320</td>\n",
       "      <td>Anand</td>\n",
       "      <td>Gujarat</td>\n",
       "      <td>Khambhat</td>\n",
       "      <td>Gujarat</td>\n",
       "      <td>...</td>\n",
       "      <td>36</td>\n",
       "      <td>2018-09-20</td>\n",
       "      <td>3</td>\n",
       "      <td>36.118028</td>\n",
       "      <td>62.0</td>\n",
       "      <td>40.0</td>\n",
       "      <td>45.5620</td>\n",
       "      <td>21.0</td>\n",
       "      <td>12.0</td>\n",
       "      <td>13.0224</td>\n",
       "    </tr>\n",
       "    <tr>\n",
       "      <th>4</th>\n",
       "      <td>training</td>\n",
       "      <td>2018-09-20</td>\n",
       "      <td>2</td>\n",
       "      <td>1</td>\n",
       "      <td>0</td>\n",
       "      <td>trip-153741093647649320</td>\n",
       "      <td>Anand</td>\n",
       "      <td>Gujarat</td>\n",
       "      <td>Khambhat</td>\n",
       "      <td>Gujarat</td>\n",
       "      <td>...</td>\n",
       "      <td>39</td>\n",
       "      <td>2018-09-20</td>\n",
       "      <td>3</td>\n",
       "      <td>39.386040</td>\n",
       "      <td>68.0</td>\n",
       "      <td>44.0</td>\n",
       "      <td>54.2181</td>\n",
       "      <td>6.0</td>\n",
       "      <td>5.0</td>\n",
       "      <td>3.9153</td>\n",
       "    </tr>\n",
       "  </tbody>\n",
       "</table>\n",
       "<p>5 rows × 23 columns</p>\n",
       "</div>"
      ],
      "text/plain": [
       "       data trip_creation_date  trip_creation_hour  Cart  FTL  \\\n",
       "0  training         2018-09-20                   2     1    0   \n",
       "1  training         2018-09-20                   2     1    0   \n",
       "2  training         2018-09-20                   2     1    0   \n",
       "3  training         2018-09-20                   2     1    0   \n",
       "4  training         2018-09-20                   2     1    0   \n",
       "\n",
       "                 trip_uuid source_city source_state dest_city dest_state  ...  \\\n",
       "0  trip-153741093647649320       Anand      Gujarat  Khambhat    Gujarat  ...   \n",
       "1  trip-153741093647649320       Anand      Gujarat  Khambhat    Gujarat  ...   \n",
       "2  trip-153741093647649320       Anand      Gujarat  Khambhat    Gujarat  ...   \n",
       "3  trip-153741093647649320       Anand      Gujarat  Khambhat    Gujarat  ...   \n",
       "4  trip-153741093647649320       Anand      Gujarat  Khambhat    Gujarat  ...   \n",
       "\n",
       "   cutoff_factor  cufoff_date  cutoff_time  actual_distance_to_destination  \\\n",
       "0              9   2018-09-20            4                       10.435660   \n",
       "1             18   2018-09-20            4                       18.936842   \n",
       "2             27   2018-09-20            4                       27.637279   \n",
       "3             36   2018-09-20            3                       36.118028   \n",
       "4             39   2018-09-20            3                       39.386040   \n",
       "\n",
       "  actual_time  osrm_time  osrm_distance  segment_actual_time  \\\n",
       "0        14.0       11.0        11.9653                 14.0   \n",
       "1        24.0       20.0        21.7243                 10.0   \n",
       "2        40.0       28.0        32.5395                 16.0   \n",
       "3        62.0       40.0        45.5620                 21.0   \n",
       "4        68.0       44.0        54.2181                  6.0   \n",
       "\n",
       "   segment_osrm_time  segment_osrm_distance  \n",
       "0               11.0                11.9653  \n",
       "1                9.0                 9.7590  \n",
       "2                7.0                10.8152  \n",
       "3               12.0                13.0224  \n",
       "4                5.0                 3.9153  \n",
       "\n",
       "[5 rows x 23 columns]"
      ]
     },
     "execution_count": 74,
     "metadata": {},
     "output_type": "execute_result"
    }
   ],
   "source": [
    "df.head()"
   ]
  },
  {
   "cell_type": "code",
   "execution_count": 75,
   "id": "e5dabcc8",
   "metadata": {},
   "outputs": [
    {
     "data": {
      "text/plain": [
       "data                              0\n",
       "trip_creation_date                0\n",
       "trip_creation_hour                0\n",
       "Cart                              0\n",
       "FTL                               0\n",
       "trip_uuid                         0\n",
       "source_city                       0\n",
       "source_state                      0\n",
       "dest_city                         0\n",
       "dest_state                        0\n",
       "trip_time                         0\n",
       "delivery_time                     0\n",
       "is_cutoff                         0\n",
       "cutoff_factor                     0\n",
       "cufoff_date                       0\n",
       "cutoff_time                       0\n",
       "actual_distance_to_destination    0\n",
       "actual_time                       0\n",
       "osrm_time                         0\n",
       "osrm_distance                     0\n",
       "segment_actual_time               0\n",
       "segment_osrm_time                 0\n",
       "segment_osrm_distance             0\n",
       "dtype: int64"
      ]
     },
     "execution_count": 75,
     "metadata": {},
     "output_type": "execute_result"
    }
   ],
   "source": [
    "df.isnull().sum()"
   ]
  },
  {
   "cell_type": "markdown",
   "id": "b1c4ebfd",
   "metadata": {},
   "source": [
    "- `All the null values are addressed`"
   ]
  },
  {
   "cell_type": "markdown",
   "id": "afc5b159",
   "metadata": {},
   "source": [
    "**Summary:**\n",
    "- `data => data`\n",
    "- `trip_creation_time => trip_creation_date, trip_creation_hour`\n",
    "- `route_schedule_uuid => Dropped`\n",
    "- `route_type => Cart, FTL`\n",
    "- `trip_uuid => trip_uuid`\n",
    "- `source_center => Dropped`\n",
    "- `source_name => source_city, source_state`\n",
    "- `destination_center => Dropped`\n",
    "- `destination_name => dest_city, dest_state`\n",
    "- `od_start_time, od_end_time => Dropped`\n",
    "- `start_scan_to_end_scan => start_scan_to_end_scan`\n",
    "- `is_cutoff => is_cutoff`\n",
    "- `cutoff_factor => cutoff_factor`\n",
    "- `cutoff_timestamp => cufoff_date, cufoff_time`\n",
    "- `actual_distance_to_destination => actual_distance_to_destination`\n",
    "- `actual_time => actual_time`\n",
    "- `osrm_time => osrm_time`\n",
    "- `osrm_distance => osrm_distance`\n",
    "- `factor => Dropped`\n",
    "- `segment_actual_time => segment_actual_time`\n",
    "- `segment_osrm_time => segment_osrm_time`\n",
    "- `segment_osrm_distance => segment_osrm_distance`\n",
    "- `segment_factor => Dropped`"
   ]
  },
  {
   "cell_type": "markdown",
   "id": "e6b3c3b7",
   "metadata": {},
   "source": [
    "# Trip Level"
   ]
  },
  {
   "cell_type": "code",
   "execution_count": 135,
   "id": "283244d7",
   "metadata": {},
   "outputs": [],
   "source": [
    "dic = {'trip_creation_date':'max', \n",
    "       'trip_creation_hour':'max', \n",
    "       'Cart':'max', 'FTL':'max',\n",
    "       'start_scan_to_end_scan': 'max',\n",
    "       'cutoff_factor': 'max',\n",
    "       'actual_distance_to_destination':'max', \n",
    "       'actual_time': 'max', \n",
    "       'osrm_time': 'max', \n",
    "       'osrm_distance':'max',\n",
    "       'segment_actual_time':'sum',\n",
    "       'segment_osrm_time':'sum', \n",
    "       'segment_osrm_distance':'sum'}"
   ]
  },
  {
   "cell_type": "code",
   "execution_count": 136,
   "id": "1c26e3bd",
   "metadata": {},
   "outputs": [],
   "source": [
    "#For Group Analysis\n",
    "drop_cols = ['data','is_cutoff', 'cutoff_factor','cufoff_date', 'cutoff_time','segment_actual_time',\n",
    "               'segment_osrm_time', 'segment_osrm_distance']\n",
    "drop_cols = ['data','is_cutoff','cufoff_date', 'cutoff_time']\n",
    "df_trip = df.drop(drop_cols,axis=1).groupby(['trip_uuid', 'source_city', 'source_state', 'dest_city', 'dest_state']).agg(dic).reset_index()"
   ]
  },
  {
   "cell_type": "code",
   "execution_count": 137,
   "id": "d8ca8f64",
   "metadata": {},
   "outputs": [
    {
     "data": {
      "text/html": [
       "<div>\n",
       "<style scoped>\n",
       "    .dataframe tbody tr th:only-of-type {\n",
       "        vertical-align: middle;\n",
       "    }\n",
       "\n",
       "    .dataframe tbody tr th {\n",
       "        vertical-align: top;\n",
       "    }\n",
       "\n",
       "    .dataframe thead th {\n",
       "        text-align: right;\n",
       "    }\n",
       "</style>\n",
       "<table border=\"1\" class=\"dataframe\">\n",
       "  <thead>\n",
       "    <tr style=\"text-align: right;\">\n",
       "      <th></th>\n",
       "      <th>trip_uuid</th>\n",
       "      <th>source_city</th>\n",
       "      <th>source_state</th>\n",
       "      <th>dest_city</th>\n",
       "      <th>dest_state</th>\n",
       "      <th>trip_creation_date</th>\n",
       "      <th>trip_creation_hour</th>\n",
       "      <th>Cart</th>\n",
       "      <th>FTL</th>\n",
       "      <th>start_scan_to_end_scan</th>\n",
       "      <th>cutoff_factor</th>\n",
       "      <th>actual_distance_to_destination</th>\n",
       "      <th>actual_time</th>\n",
       "      <th>osrm_time</th>\n",
       "      <th>osrm_distance</th>\n",
       "      <th>segment_actual_time</th>\n",
       "      <th>segment_osrm_time</th>\n",
       "      <th>segment_osrm_distance</th>\n",
       "    </tr>\n",
       "  </thead>\n",
       "  <tbody>\n",
       "    <tr>\n",
       "      <th>0</th>\n",
       "      <td>trip-153671041653548748</td>\n",
       "      <td>Bhopal</td>\n",
       "      <td>Madhya Pradesh</td>\n",
       "      <td>Kanpur</td>\n",
       "      <td>Uttar Pradesh</td>\n",
       "      <td>2018-09-12</td>\n",
       "      <td>0</td>\n",
       "      <td>0</td>\n",
       "      <td>1</td>\n",
       "      <td>999.0</td>\n",
       "      <td>440</td>\n",
       "      <td>440.973689</td>\n",
       "      <td>830.0</td>\n",
       "      <td>394.0</td>\n",
       "      <td>544.8027</td>\n",
       "      <td>820.0</td>\n",
       "      <td>474.0</td>\n",
       "      <td>649.8528</td>\n",
       "    </tr>\n",
       "    <tr>\n",
       "      <th>1</th>\n",
       "      <td>trip-153671041653548748</td>\n",
       "      <td>Kanpur</td>\n",
       "      <td>Uttar Pradesh</td>\n",
       "      <td>Gurgaon</td>\n",
       "      <td>Haryana</td>\n",
       "      <td>2018-09-12</td>\n",
       "      <td>0</td>\n",
       "      <td>0</td>\n",
       "      <td>1</td>\n",
       "      <td>1260.0</td>\n",
       "      <td>383</td>\n",
       "      <td>383.759164</td>\n",
       "      <td>732.0</td>\n",
       "      <td>349.0</td>\n",
       "      <td>446.5496</td>\n",
       "      <td>728.0</td>\n",
       "      <td>534.0</td>\n",
       "      <td>670.6205</td>\n",
       "    </tr>\n",
       "    <tr>\n",
       "      <th>2</th>\n",
       "      <td>trip-153671042288605164</td>\n",
       "      <td>Doddablpur</td>\n",
       "      <td>Karnataka</td>\n",
       "      <td>Chikblapur</td>\n",
       "      <td>Karnataka</td>\n",
       "      <td>2018-09-12</td>\n",
       "      <td>0</td>\n",
       "      <td>1</td>\n",
       "      <td>0</td>\n",
       "      <td>58.0</td>\n",
       "      <td>24</td>\n",
       "      <td>24.644021</td>\n",
       "      <td>47.0</td>\n",
       "      <td>26.0</td>\n",
       "      <td>28.1994</td>\n",
       "      <td>46.0</td>\n",
       "      <td>26.0</td>\n",
       "      <td>28.1995</td>\n",
       "    </tr>\n",
       "    <tr>\n",
       "      <th>3</th>\n",
       "      <td>trip-153671042288605164</td>\n",
       "      <td>Tumkur</td>\n",
       "      <td>Karnataka</td>\n",
       "      <td>Doddablpur</td>\n",
       "      <td>Karnataka</td>\n",
       "      <td>2018-09-12</td>\n",
       "      <td>0</td>\n",
       "      <td>1</td>\n",
       "      <td>0</td>\n",
       "      <td>122.0</td>\n",
       "      <td>48</td>\n",
       "      <td>48.542890</td>\n",
       "      <td>96.0</td>\n",
       "      <td>42.0</td>\n",
       "      <td>56.9116</td>\n",
       "      <td>95.0</td>\n",
       "      <td>39.0</td>\n",
       "      <td>55.9899</td>\n",
       "    </tr>\n",
       "    <tr>\n",
       "      <th>4</th>\n",
       "      <td>trip-153671043369099517</td>\n",
       "      <td>Bangalore</td>\n",
       "      <td>Karnataka</td>\n",
       "      <td>Gurgaon</td>\n",
       "      <td>Haryana</td>\n",
       "      <td>2018-09-12</td>\n",
       "      <td>0</td>\n",
       "      <td>0</td>\n",
       "      <td>1</td>\n",
       "      <td>3099.0</td>\n",
       "      <td>1689</td>\n",
       "      <td>1689.964663</td>\n",
       "      <td>2736.0</td>\n",
       "      <td>1529.0</td>\n",
       "      <td>2090.8743</td>\n",
       "      <td>2700.0</td>\n",
       "      <td>1710.0</td>\n",
       "      <td>2227.5270</td>\n",
       "    </tr>\n",
       "  </tbody>\n",
       "</table>\n",
       "</div>"
      ],
      "text/plain": [
       "                 trip_uuid source_city    source_state   dest_city  \\\n",
       "0  trip-153671041653548748      Bhopal  Madhya Pradesh      Kanpur   \n",
       "1  trip-153671041653548748      Kanpur   Uttar Pradesh     Gurgaon   \n",
       "2  trip-153671042288605164  Doddablpur       Karnataka  Chikblapur   \n",
       "3  trip-153671042288605164      Tumkur       Karnataka  Doddablpur   \n",
       "4  trip-153671043369099517   Bangalore       Karnataka     Gurgaon   \n",
       "\n",
       "      dest_state trip_creation_date  trip_creation_hour  Cart  FTL  \\\n",
       "0  Uttar Pradesh         2018-09-12                   0     0    1   \n",
       "1        Haryana         2018-09-12                   0     0    1   \n",
       "2      Karnataka         2018-09-12                   0     1    0   \n",
       "3      Karnataka         2018-09-12                   0     1    0   \n",
       "4        Haryana         2018-09-12                   0     0    1   \n",
       "\n",
       "   start_scan_to_end_scan  cutoff_factor  actual_distance_to_destination  \\\n",
       "0                   999.0            440                      440.973689   \n",
       "1                  1260.0            383                      383.759164   \n",
       "2                    58.0             24                       24.644021   \n",
       "3                   122.0             48                       48.542890   \n",
       "4                  3099.0           1689                     1689.964663   \n",
       "\n",
       "   actual_time  osrm_time  osrm_distance  segment_actual_time  \\\n",
       "0        830.0      394.0       544.8027                820.0   \n",
       "1        732.0      349.0       446.5496                728.0   \n",
       "2         47.0       26.0        28.1994                 46.0   \n",
       "3         96.0       42.0        56.9116                 95.0   \n",
       "4       2736.0     1529.0      2090.8743               2700.0   \n",
       "\n",
       "   segment_osrm_time  segment_osrm_distance  \n",
       "0              474.0               649.8528  \n",
       "1              534.0               670.6205  \n",
       "2               26.0                28.1995  \n",
       "3               39.0                55.9899  \n",
       "4             1710.0              2227.5270  "
      ]
     },
     "execution_count": 137,
     "metadata": {},
     "output_type": "execute_result"
    }
   ],
   "source": [
    "df_trip.head()"
   ]
  },
  {
   "cell_type": "code",
   "execution_count": 146,
   "id": "bbce0f4b",
   "metadata": {},
   "outputs": [
    {
     "name": "stdout",
     "output_type": "stream",
     "text": [
      "<class 'pandas.core.frame.DataFrame'>\n",
      "RangeIndex: 26095 entries, 0 to 26094\n",
      "Data columns (total 18 columns):\n",
      " #   Column                          Non-Null Count  Dtype  \n",
      "---  ------                          --------------  -----  \n",
      " 0   trip_uuid                       26095 non-null  object \n",
      " 1   source_city                     26095 non-null  object \n",
      " 2   source_state                    26095 non-null  object \n",
      " 3   dest_city                       26095 non-null  object \n",
      " 4   dest_state                      26095 non-null  object \n",
      " 5   trip_creation_date              26095 non-null  object \n",
      " 6   trip_creation_hour              26095 non-null  int64  \n",
      " 7   Cart                            26095 non-null  uint8  \n",
      " 8   FTL                             26095 non-null  uint8  \n",
      " 9   start_scan_to_end_scan          26095 non-null  float64\n",
      " 10  cutoff_factor                   26095 non-null  int64  \n",
      " 11  actual_distance_to_destination  26095 non-null  float64\n",
      " 12  actual_time                     26095 non-null  float64\n",
      " 13  osrm_time                       26095 non-null  float64\n",
      " 14  osrm_distance                   26095 non-null  float64\n",
      " 15  segment_actual_time             26095 non-null  float64\n",
      " 16  segment_osrm_time               26095 non-null  float64\n",
      " 17  segment_osrm_distance           26095 non-null  float64\n",
      "dtypes: float64(8), int64(2), object(6), uint8(2)\n",
      "memory usage: 3.2+ MB\n"
     ]
    }
   ],
   "source": [
    "df_trip.info()"
   ]
  },
  {
   "cell_type": "markdown",
   "id": "1924e55b",
   "metadata": {},
   "source": [
    "# Exploratory Data Analysis"
   ]
  },
  {
   "cell_type": "markdown",
   "id": "1fc6ac9d",
   "metadata": {},
   "source": [
    "## Univariate Analysis"
   ]
  },
  {
   "cell_type": "markdown",
   "id": "8e7cc8c0",
   "metadata": {},
   "source": [
    "### Cities and States"
   ]
  },
  {
   "cell_type": "code",
   "execution_count": 158,
   "id": "2fb1cb3b",
   "metadata": {},
   "outputs": [
    {
     "data": {
      "text/plain": [
       "Text(0.5, 1.0, 'Top 10 States by trips')"
      ]
     },
     "execution_count": 158,
     "metadata": {},
     "output_type": "execute_result"
    },
    {
     "data": {
      "image/png": "[encoded data removed]",
      "text/plain": [
       "<Figure size 1200x400 with 2 Axes>"
      ]
     },
     "metadata": {},
     "output_type": "display_data"
    }
   ],
   "source": [
    "# Top 10 Cities contributing for revenue the most\n",
    "plt.figure(figsize=(12,4))\n",
    "plt.subplot(1,2,1)\n",
    "sns.barplot(y = df_trip['source_city'].value_counts()[:10], x= df_trip['source_city'].value_counts().index[:10])\n",
    "plt.xticks(rotation=45)\n",
    "plt.xlabel('Cities')\n",
    "plt.title('Top 10 cities by trips')\n",
    "\n",
    "plt.subplot(1,2,2)\n",
    "sns.barplot(y = df_trip['source_state'].value_counts()[:10], x= df_trip['source_state'].value_counts().index[:10])\n",
    "plt.xticks(rotation=45)\n",
    "plt.xlabel('States')\n",
    "plt.title('Top 10 States by trips')\n",
    "plt.show()"
   ]
  },
  {
   "cell_type": "markdown",
   "id": "4937e0f8",
   "metadata": {},
   "source": [
    "- `Majority of the trips are sourced at the metro cities`\n",
    "- `Delhivery business is strong in Maharashtra and Karnataka`"
   ]
  },
  {
   "cell_type": "markdown",
   "id": "38aa2feb",
   "metadata": {},
   "source": [
    "### Route Type"
   ]
  },
  {
   "cell_type": "code",
   "execution_count": 171,
   "id": "55c02037",
   "metadata": {},
   "outputs": [
    {
     "data": {
      "image/png": "[encoded data removed]",
      "text/plain": [
       "<Figure size 1200x400 with 2 Axes>"
      ]
     },
     "metadata": {},
     "output_type": "display_data"
    }
   ],
   "source": [
    "plt.figure(figsize=(12,4))\n",
    "plt.subplot(1,2,1)\n",
    "sns.barplot(data = df_trip, y = df_trip['Cart'].value_counts(), x = ['FTL', 'Carting'])\n",
    "# plt.xticks(rotation=45)\n",
    "plt.ylabel('Route Type')\n",
    "plt.title('No. of trips by Route')\n",
    "\n",
    "plt.subplot(1,2,2)\n",
    "plt.pie(df_trip['Cart'].value_counts(), labels = ['FTL', 'Carting'], autopct='%1.1f%%')\n",
    "plt.title('Distribution of trips by Route')\n",
    "plt.show()"
   ]
  },
  {
   "cell_type": "markdown",
   "id": "ec3c5e35",
   "metadata": {},
   "source": [
    "- `Slightly more number of trips are carried out in FTL`"
   ]
  },
  {
   "cell_type": "markdown",
   "id": "bdff446f",
   "metadata": {},
   "source": [
    "### Trip Creation"
   ]
  },
  {
   "cell_type": "code",
   "execution_count": 174,
   "id": "96044ee1",
   "metadata": {},
   "outputs": [
    {
     "name": "stdout",
     "output_type": "stream",
     "text": [
      "No. of days in dataset:  22\n"
     ]
    }
   ],
   "source": [
    "print('No. of days in dataset: ', df_trip['trip_creation_date'].nunique())"
   ]
  },
  {
   "cell_type": "code",
   "execution_count": 178,
   "id": "e4ed8b18",
   "metadata": {},
   "outputs": [
    {
     "data": {
      "text/plain": [
       "Text(0.5, 1.0, 'No. of trips by Route')"
      ]
     },
     "execution_count": 178,
     "metadata": {},
     "output_type": "execute_result"
    },
    {
     "data": {
      "image/png": "[encoded data removed]",
      "text/plain": [
       "<Figure size 1200x500 with 1 Axes>"
      ]
     },
     "metadata": {},
     "output_type": "display_data"
    }
   ],
   "source": [
    "plt.figure(figsize=(12,5))\n",
    "sns.barplot(data = df_trip, y = df_trip['trip_creation_hour'].value_counts(), x = df_trip['trip_creation_hour'].value_counts().index)\n",
    "# plt.xticks(rotation=45)\n",
    "plt.xlabel('Hour (0-23)')\n",
    "plt.title('Hourly No. of trips')"
   ]
  },
  {
   "cell_type": "markdown",
   "id": "89eac561",
   "metadata": {},
   "source": [
    "- `Dataset contains trip details for 22 days only, hence day wise analysis will not provide any significant insights`"
   ]
  },
  {
   "cell_type": "markdown",
   "id": "f6f87331",
   "metadata": {},
   "source": [
    "### Time"
   ]
  },
  {
   "cell_type": "code",
   "execution_count": 197,
   "id": "803095b2",
   "metadata": {},
   "outputs": [],
   "source": [
    "def remove_outliers_iqr(df_col):\n",
    "    q1 = df_col.quantile(0.25)\n",
    "    q3 = df_col.quantile(0.75)\n",
    "    iqr = q3 - q1\n",
    "    return df_col[(df_col > (q1 - 1.5 * iqr)) & (df_col < (q3 + 1.5 * iqr))]"
   ]
  },
  {
   "cell_type": "code",
   "execution_count": 199,
   "id": "18cb9603",
   "metadata": {},
   "outputs": [],
   "source": [
    "def plots1X2(df_col, title_str):\n",
    "    plt.figure(figsize=(12,4)).suptitle(title_str)\n",
    "    plt.subplot(1,2,1)\n",
    "    sns.histplot(df_col)\n",
    "    plt.subplot(1,2,2)\n",
    "    sns.boxplot(df_col)"
   ]
  },
  {
   "cell_type": "code",
   "execution_count": 201,
   "id": "3dd71228",
   "metadata": {},
   "outputs": [
    {
     "data": {
      "image/png": "[encoded data removed]",
      "text/plain": [
       "<Figure size 1200x400 with 2 Axes>"
      ]
     },
     "metadata": {},
     "output_type": "display_data"
    },
    {
     "data": {
      "image/png": "[encoded data removed]",
      "text/plain": [
       "<Figure size 1200x400 with 2 Axes>"
      ]
     },
     "metadata": {},
     "output_type": "display_data"
    }
   ],
   "source": [
    "plots1X2(df_trip['start_scan_to_end_scan'], \"Time taken from start scan to end scan\")\n",
    "plots1X2(remove_outliers_iqr(df_trip['start_scan_to_end_scan']).reset_index(drop=True), \"Outliers Removed\")"
   ]
  },
  {
   "cell_type": "markdown",
   "id": "2e83f572",
   "metadata": {},
   "source": [
    "- `Data is Right skewed with median around 150 minutes`"
   ]
  },
  {
   "cell_type": "code",
   "execution_count": 202,
   "id": "eeff7c88",
   "metadata": {},
   "outputs": [
    {
     "data": {
      "image/png": "[encoded data removed]",
      "text/plain": [
       "<Figure size 1200x400 with 2 Axes>"
      ]
     },
     "metadata": {},
     "output_type": "display_data"
    },
    {
     "data": {
      "image/png": "[encoded data removed]",
      "text/plain": [
       "<Figure size 1200x400 with 2 Axes>"
      ]
     },
     "metadata": {},
     "output_type": "display_data"
    }
   ],
   "source": [
    "plots1X2(df_trip['actual_time'], \"actual delivery time\")\n",
    "plots1X2(remove_outliers_iqr(df_trip['actual_time']).reset_index(drop=True), \"Outliers Removed\")"
   ]
  },
  {
   "cell_type": "code",
   "execution_count": 203,
   "id": "db82fcfa",
   "metadata": {},
   "outputs": [
    {
     "data": {
      "image/png": "[encoded data removed]",
      "text/plain": [
       "<Figure size 1200x400 with 2 Axes>"
      ]
     },
     "metadata": {},
     "output_type": "display_data"
    },
    {
     "data": {
      "image/png": "[encoded data removed]",
      "text/plain": [
       "<Figure size 1200x400 with 2 Axes>"
      ]
     },
     "metadata": {},
     "output_type": "display_data"
    }
   ],
   "source": [
    "plots1X2(df_trip['osrm_time'], \"OSRM time\")\n",
    "plots1X2(remove_outliers_iqr(df_trip['osrm_time']).reset_index(drop=True), \"Outliers Removed\")"
   ]
  },
  {
   "cell_type": "code",
   "execution_count": 204,
   "id": "40f06018",
   "metadata": {},
   "outputs": [
    {
     "data": {
      "image/png": "[encoded data removed]",
      "text/plain": [
       "<Figure size 1200x400 with 2 Axes>"
      ]
     },
     "metadata": {},
     "output_type": "display_data"
    },
    {
     "data": {
      "image/png": "[encoded data removed]",
      "text/plain": [
       "<Figure size 1200x400 with 2 Axes>"
      ]
     },
     "metadata": {},
     "output_type": "display_data"
    }
   ],
   "source": [
    "plots1X2(df_trip['segment_actual_time'], \"segment_actual delivery time\")\n",
    "plots1X2(remove_outliers_iqr(df_trip['segment_actual_time']).reset_index(drop=True), \"Outliers Removed\")"
   ]
  },
  {
   "cell_type": "code",
   "execution_count": 205,
   "id": "f1a59093",
   "metadata": {},
   "outputs": [
    {
     "data": {
      "image/png": "[encoded data removed]",
      "text/plain": [
       "<Figure size 1200x400 with 2 Axes>"
      ]
     },
     "metadata": {},
     "output_type": "display_data"
    },
    {
     "data": {
      "image/png": "[encoded data removed]",
      "text/plain": [
       "<Figure size 1200x400 with 2 Axes>"
      ]
     },
     "metadata": {},
     "output_type": "display_data"
    }
   ],
   "source": [
    "plots1X2(df_trip['segment_osrm_time'], \"segment OSRM delivery time\")\n",
    "plots1X2(remove_outliers_iqr(df_trip['segment_osrm_time']).reset_index(drop=True), \"Outliers Removed\")"
   ]
  },
  {
   "cell_type": "markdown",
   "id": "702cb425",
   "metadata": {},
   "source": [
    "### Distance"
   ]
  },
  {
   "cell_type": "code",
   "execution_count": 206,
   "id": "15283671",
   "metadata": {},
   "outputs": [
    {
     "data": {
      "image/png": "[encoded data removed]",
      "text/plain": [
       "<Figure size 1200x400 with 2 Axes>"
      ]
     },
     "metadata": {},
     "output_type": "display_data"
    },
    {
     "data": {
      "image/png": "[encoded data removed]",
      "text/plain": [
       "<Figure size 1200x400 with 2 Axes>"
      ]
     },
     "metadata": {},
     "output_type": "display_data"
    }
   ],
   "source": [
    "plots1X2(df_trip['actual_distance_to_destination'], \"actual delivery distance\")\n",
    "plots1X2(remove_outliers_iqr(df_trip['actual_distance_to_destination']).reset_index(drop=True), \"Outliers Removed\")"
   ]
  },
  {
   "cell_type": "code",
   "execution_count": 207,
   "id": "a61fec27",
   "metadata": {},
   "outputs": [
    {
     "data": {
      "image/png": "[encoded data removed]",
      "text/plain": [
       "<Figure size 1200x400 with 2 Axes>"
      ]
     },
     "metadata": {},
     "output_type": "display_data"
    },
    {
     "data": {
      "image/png": "[encoded data removed]",
      "text/plain": [
       "<Figure size 1200x400 with 2 Axes>"
      ]
     },
     "metadata": {},
     "output_type": "display_data"
    }
   ],
   "source": [
    "plots1X2(df_trip['osrm_distance'], \"OSRM delivery distance\")\n",
    "plots1X2(remove_outliers_iqr(df_trip['osrm_distance']).reset_index(drop=True), \"Outliers Removed\")"
   ]
  },
  {
   "cell_type": "code",
   "execution_count": 214,
   "id": "8221daab",
   "metadata": {},
   "outputs": [
    {
     "data": {
      "text/plain": [
       "<Axes: xlabel='osrm_distance', ylabel='Count'>"
      ]
     },
     "execution_count": 214,
     "metadata": {},
     "output_type": "execute_result"
    },
    {
     "data": {
      "image/png": "[encoded data removed]",
      "text/plain": [
       "<Figure size 640x480 with 1 Axes>"
      ]
     },
     "metadata": {},
     "output_type": "display_data"
    }
   ],
   "source": [
    "outliers_rem = remove_outliers_iqr(df_trip['osrm_distance']).reset_index(drop=True)\n",
    "sns.histplot(outliers_rem.transform(lambda x: (x - x.min()) / (x.max()-x.min())), bins=100)"
   ]
  },
  {
   "cell_type": "code",
   "execution_count": 215,
   "id": "f8ec7182",
   "metadata": {},
   "outputs": [
    {
     "data": {
      "text/plain": [
       "<Axes: xlabel='osrm_distance', ylabel='Count'>"
      ]
     },
     "execution_count": 215,
     "metadata": {},
     "output_type": "execute_result"
    },
    {
     "data": {
      "image/png": "[encoded data removed]",
      "text/plain": [
       "<Figure size 640x480 with 1 Axes>"
      ]
     },
     "metadata": {},
     "output_type": "display_data"
    }
   ],
   "source": [
    "sns.histplot(outliers_rem.transform(lambda x: (x - x.mean()) / (x.std())))"
   ]
  },
  {
   "cell_type": "code",
   "execution_count": 216,
   "id": "930f9da5",
   "metadata": {},
   "outputs": [
    {
     "data": {
      "text/plain": [
       "1.4253061289650477"
      ]
     },
     "execution_count": 216,
     "metadata": {},
     "output_type": "execute_result"
    }
   ],
   "source": [
    "outliers_rem.skew()"
   ]
  },
  {
   "cell_type": "code",
   "execution_count": 217,
   "id": "d5a963e8",
   "metadata": {},
   "outputs": [
    {
     "data": {
      "text/plain": [
       "1.6082176864282403"
      ]
     },
     "execution_count": 217,
     "metadata": {},
     "output_type": "execute_result"
    }
   ],
   "source": [
    "outliers_rem.kurtosis()"
   ]
  },
  {
   "cell_type": "code",
   "execution_count": 218,
   "id": "ab011a25",
   "metadata": {},
   "outputs": [
    {
     "data": {
      "text/plain": [
       "23046"
      ]
     },
     "execution_count": 218,
     "metadata": {},
     "output_type": "execute_result"
    }
   ],
   "source": [
    "len(outliers_rem)"
   ]
  },
  {
   "cell_type": "code",
   "execution_count": 219,
   "id": "9e85c844",
   "metadata": {},
   "outputs": [
    {
     "data": {
      "text/plain": [
       "26095"
      ]
     },
     "execution_count": 219,
     "metadata": {},
     "output_type": "execute_result"
    }
   ],
   "source": [
    "len(df_trip)"
   ]
  },
  {
   "cell_type": "markdown",
   "id": "1ffe0727",
   "metadata": {},
   "source": [
    "## Bivariate Analysis"
   ]
  },
  {
   "cell_type": "code",
   "execution_count": 220,
   "id": "2f6acf34",
   "metadata": {},
   "outputs": [
    {
     "name": "stdout",
     "output_type": "stream",
     "text": [
      "<class 'pandas.core.frame.DataFrame'>\n",
      "RangeIndex: 26095 entries, 0 to 26094\n",
      "Data columns (total 18 columns):\n",
      " #   Column                          Non-Null Count  Dtype  \n",
      "---  ------                          --------------  -----  \n",
      " 0   trip_uuid                       26095 non-null  object \n",
      " 1   source_city                     26095 non-null  object \n",
      " 2   source_state                    26095 non-null  object \n",
      " 3   dest_city                       26095 non-null  object \n",
      " 4   dest_state                      26095 non-null  object \n",
      " 5   trip_creation_date              26095 non-null  object \n",
      " 6   trip_creation_hour              26095 non-null  int64  \n",
      " 7   Cart                            26095 non-null  uint8  \n",
      " 8   FTL                             26095 non-null  uint8  \n",
      " 9   start_scan_to_end_scan          26095 non-null  float64\n",
      " 10  cutoff_factor                   26095 non-null  int64  \n",
      " 11  actual_distance_to_destination  26095 non-null  float64\n",
      " 12  actual_time                     26095 non-null  float64\n",
      " 13  osrm_time                       26095 non-null  float64\n",
      " 14  osrm_distance                   26095 non-null  float64\n",
      " 15  segment_actual_time             26095 non-null  float64\n",
      " 16  segment_osrm_time               26095 non-null  float64\n",
      " 17  segment_osrm_distance           26095 non-null  float64\n",
      "dtypes: float64(8), int64(2), object(6), uint8(2)\n",
      "memory usage: 3.2+ MB\n"
     ]
    }
   ],
   "source": [
    "df_trip.info()"
   ]
  },
  {
   "cell_type": "code",
   "execution_count": 230,
   "id": "4e05db04",
   "metadata": {},
   "outputs": [],
   "source": [
    "corridor = df_trip.groupby(['source_city', 'dest_city'])['trip_uuid'].count().sort_values(ascending=False).reset_index()"
   ]
  },
  {
   "cell_type": "code",
   "execution_count": 234,
   "id": "a2d43942",
   "metadata": {},
   "outputs": [
    {
     "data": {
      "text/html": [
       "<div>\n",
       "<style scoped>\n",
       "    .dataframe tbody tr th:only-of-type {\n",
       "        vertical-align: middle;\n",
       "    }\n",
       "\n",
       "    .dataframe tbody tr th {\n",
       "        vertical-align: top;\n",
       "    }\n",
       "\n",
       "    .dataframe thead th {\n",
       "        text-align: right;\n",
       "    }\n",
       "</style>\n",
       "<table border=\"1\" class=\"dataframe\">\n",
       "  <thead>\n",
       "    <tr style=\"text-align: right;\">\n",
       "      <th></th>\n",
       "      <th>source_city</th>\n",
       "      <th>dest_city</th>\n",
       "      <th>trip_uuid</th>\n",
       "    </tr>\n",
       "  </thead>\n",
       "  <tbody>\n",
       "    <tr>\n",
       "      <th>0</th>\n",
       "      <td>Bengaluru</td>\n",
       "      <td>Bengaluru</td>\n",
       "      <td>528</td>\n",
       "    </tr>\n",
       "    <tr>\n",
       "      <th>4</th>\n",
       "      <td>Hyderabad</td>\n",
       "      <td>Hyderabad</td>\n",
       "      <td>308</td>\n",
       "    </tr>\n",
       "    <tr>\n",
       "      <th>6</th>\n",
       "      <td>Mumbai</td>\n",
       "      <td>Mumbai</td>\n",
       "      <td>252</td>\n",
       "    </tr>\n",
       "    <tr>\n",
       "      <th>10</th>\n",
       "      <td>Chandigarh</td>\n",
       "      <td>Chandigarh</td>\n",
       "      <td>223</td>\n",
       "    </tr>\n",
       "    <tr>\n",
       "      <th>11</th>\n",
       "      <td>Chennai</td>\n",
       "      <td>Chennai</td>\n",
       "      <td>205</td>\n",
       "    </tr>\n",
       "  </tbody>\n",
       "</table>\n",
       "</div>"
      ],
      "text/plain": [
       "   source_city   dest_city  trip_uuid\n",
       "0    Bengaluru   Bengaluru        528\n",
       "4    Hyderabad   Hyderabad        308\n",
       "6       Mumbai      Mumbai        252\n",
       "10  Chandigarh  Chandigarh        223\n",
       "11     Chennai     Chennai        205"
      ]
     },
     "execution_count": 234,
     "metadata": {},
     "output_type": "execute_result"
    }
   ],
   "source": [
    "corridor[corridor['source_city'] == corridor['dest_city']].iloc[:5]"
   ]
  },
  {
   "cell_type": "code",
   "execution_count": 236,
   "id": "cf4f4cdb",
   "metadata": {},
   "outputs": [
    {
     "data": {
      "text/html": [
       "<div>\n",
       "<style scoped>\n",
       "    .dataframe tbody tr th:only-of-type {\n",
       "        vertical-align: middle;\n",
       "    }\n",
       "\n",
       "    .dataframe tbody tr th {\n",
       "        vertical-align: top;\n",
       "    }\n",
       "\n",
       "    .dataframe thead th {\n",
       "        text-align: right;\n",
       "    }\n",
       "</style>\n",
       "<table border=\"1\" class=\"dataframe\">\n",
       "  <thead>\n",
       "    <tr style=\"text-align: right;\">\n",
       "      <th></th>\n",
       "      <th>source_city</th>\n",
       "      <th>dest_city</th>\n",
       "      <th>trip_uuid</th>\n",
       "    </tr>\n",
       "  </thead>\n",
       "  <tbody>\n",
       "    <tr>\n",
       "      <th>1</th>\n",
       "      <td>Bangalore</td>\n",
       "      <td>Bengaluru</td>\n",
       "      <td>492</td>\n",
       "    </tr>\n",
       "    <tr>\n",
       "      <th>2</th>\n",
       "      <td>Bhiwandi</td>\n",
       "      <td>Mumbai</td>\n",
       "      <td>407</td>\n",
       "    </tr>\n",
       "    <tr>\n",
       "      <th>3</th>\n",
       "      <td>Bengaluru</td>\n",
       "      <td>Bangalore</td>\n",
       "      <td>356</td>\n",
       "    </tr>\n",
       "    <tr>\n",
       "      <th>5</th>\n",
       "      <td>Mumbai</td>\n",
       "      <td>Bhiwandi</td>\n",
       "      <td>282</td>\n",
       "    </tr>\n",
       "    <tr>\n",
       "      <th>7</th>\n",
       "      <td>Delhi</td>\n",
       "      <td>Gurgaon</td>\n",
       "      <td>248</td>\n",
       "    </tr>\n",
       "    <tr>\n",
       "      <th>8</th>\n",
       "      <td>Gurgaon</td>\n",
       "      <td>Delhi</td>\n",
       "      <td>237</td>\n",
       "    </tr>\n",
       "    <tr>\n",
       "      <th>9</th>\n",
       "      <td>Mumbai Hub</td>\n",
       "      <td>Mumbai</td>\n",
       "      <td>227</td>\n",
       "    </tr>\n",
       "    <tr>\n",
       "      <th>12</th>\n",
       "      <td>MAA</td>\n",
       "      <td>Chennai</td>\n",
       "      <td>204</td>\n",
       "    </tr>\n",
       "    <tr>\n",
       "      <th>13</th>\n",
       "      <td>Chennai</td>\n",
       "      <td>MAA</td>\n",
       "      <td>141</td>\n",
       "    </tr>\n",
       "    <tr>\n",
       "      <th>14</th>\n",
       "      <td>Bengaluru</td>\n",
       "      <td>HBR Layout PC</td>\n",
       "      <td>111</td>\n",
       "    </tr>\n",
       "    <tr>\n",
       "      <th>17</th>\n",
       "      <td>Pune</td>\n",
       "      <td>Bhiwandi</td>\n",
       "      <td>107</td>\n",
       "    </tr>\n",
       "    <tr>\n",
       "      <th>18</th>\n",
       "      <td>Bhiwandi</td>\n",
       "      <td>Mumbai Hub</td>\n",
       "      <td>105</td>\n",
       "    </tr>\n",
       "    <tr>\n",
       "      <th>20</th>\n",
       "      <td>Kolkata</td>\n",
       "      <td>CCU</td>\n",
       "      <td>96</td>\n",
       "    </tr>\n",
       "    <tr>\n",
       "      <th>21</th>\n",
       "      <td>Mumbai</td>\n",
       "      <td>Mumbai Hub</td>\n",
       "      <td>93</td>\n",
       "    </tr>\n",
       "    <tr>\n",
       "      <th>22</th>\n",
       "      <td>Gurgaon</td>\n",
       "      <td>Sonipat</td>\n",
       "      <td>92</td>\n",
       "    </tr>\n",
       "  </tbody>\n",
       "</table>\n",
       "</div>"
      ],
      "text/plain": [
       "   source_city      dest_city  trip_uuid\n",
       "1    Bangalore      Bengaluru        492\n",
       "2     Bhiwandi         Mumbai        407\n",
       "3    Bengaluru      Bangalore        356\n",
       "5       Mumbai       Bhiwandi        282\n",
       "7        Delhi        Gurgaon        248\n",
       "8      Gurgaon          Delhi        237\n",
       "9   Mumbai Hub         Mumbai        227\n",
       "12         MAA        Chennai        204\n",
       "13     Chennai            MAA        141\n",
       "14   Bengaluru  HBR Layout PC        111\n",
       "17        Pune       Bhiwandi        107\n",
       "18    Bhiwandi     Mumbai Hub        105\n",
       "20     Kolkata            CCU         96\n",
       "21      Mumbai     Mumbai Hub         93\n",
       "22     Gurgaon        Sonipat         92"
      ]
     },
     "execution_count": 236,
     "metadata": {},
     "output_type": "execute_result"
    }
   ],
   "source": [
    "corridor[corridor['source_city'] != corridor['dest_city']].iloc[:15]"
   ]
  },
  {
   "cell_type": "markdown",
   "id": "f7555b6c",
   "metadata": {},
   "source": [
    "- `Bengaluru, Hyderabad and Mumbai account for majority of intra city deliveries`\n",
    "- `For intercity deliveries, Bhiwandi <-> Mumbai, Gurgaon <-> Delhi corridors are the busiest`"
   ]
  },
  {
   "cell_type": "code",
   "execution_count": 237,
   "id": "7266c3b9",
   "metadata": {},
   "outputs": [],
   "source": [
    "corridor_state = df_trip.groupby(['source_state', 'dest_state'])['trip_uuid'].count().sort_values(ascending=False).reset_index()"
   ]
  },
  {
   "cell_type": "code",
   "execution_count": 240,
   "id": "1bdee1a5",
   "metadata": {},
   "outputs": [
    {
     "data": {
      "text/html": [
       "<div>\n",
       "<style scoped>\n",
       "    .dataframe tbody tr th:only-of-type {\n",
       "        vertical-align: middle;\n",
       "    }\n",
       "\n",
       "    .dataframe tbody tr th {\n",
       "        vertical-align: top;\n",
       "    }\n",
       "\n",
       "    .dataframe thead th {\n",
       "        text-align: right;\n",
       "    }\n",
       "</style>\n",
       "<table border=\"1\" class=\"dataframe\">\n",
       "  <thead>\n",
       "    <tr style=\"text-align: right;\">\n",
       "      <th></th>\n",
       "      <th>source_state</th>\n",
       "      <th>dest_state</th>\n",
       "      <th>trip_uuid</th>\n",
       "    </tr>\n",
       "  </thead>\n",
       "  <tbody>\n",
       "    <tr>\n",
       "      <th>0</th>\n",
       "      <td>Maharashtra</td>\n",
       "      <td>Maharashtra</td>\n",
       "      <td>3203</td>\n",
       "    </tr>\n",
       "    <tr>\n",
       "      <th>1</th>\n",
       "      <td>Karnataka</td>\n",
       "      <td>Karnataka</td>\n",
       "      <td>3121</td>\n",
       "    </tr>\n",
       "    <tr>\n",
       "      <th>2</th>\n",
       "      <td>Tamil Nadu</td>\n",
       "      <td>Tamil Nadu</td>\n",
       "      <td>1977</td>\n",
       "    </tr>\n",
       "    <tr>\n",
       "      <th>3</th>\n",
       "      <td>Uttar Pradesh</td>\n",
       "      <td>Uttar Pradesh</td>\n",
       "      <td>1485</td>\n",
       "    </tr>\n",
       "    <tr>\n",
       "      <th>4</th>\n",
       "      <td>Telangana</td>\n",
       "      <td>Telangana</td>\n",
       "      <td>1307</td>\n",
       "    </tr>\n",
       "  </tbody>\n",
       "</table>\n",
       "</div>"
      ],
      "text/plain": [
       "    source_state     dest_state  trip_uuid\n",
       "0    Maharashtra    Maharashtra       3203\n",
       "1      Karnataka      Karnataka       3121\n",
       "2     Tamil Nadu     Tamil Nadu       1977\n",
       "3  Uttar Pradesh  Uttar Pradesh       1485\n",
       "4      Telangana      Telangana       1307"
      ]
     },
     "execution_count": 240,
     "metadata": {},
     "output_type": "execute_result"
    }
   ],
   "source": [
    "corridor_state[corridor_state['source_state'] == corridor_state['dest_state']].iloc[:5]"
   ]
  },
  {
   "cell_type": "code",
   "execution_count": 241,
   "id": "d8e8122a",
   "metadata": {},
   "outputs": [
    {
     "data": {
      "text/html": [
       "<div>\n",
       "<style scoped>\n",
       "    .dataframe tbody tr th:only-of-type {\n",
       "        vertical-align: middle;\n",
       "    }\n",
       "\n",
       "    .dataframe tbody tr th {\n",
       "        vertical-align: top;\n",
       "    }\n",
       "\n",
       "    .dataframe thead th {\n",
       "        text-align: right;\n",
       "    }\n",
       "</style>\n",
       "<table border=\"1\" class=\"dataframe\">\n",
       "  <thead>\n",
       "    <tr style=\"text-align: right;\">\n",
       "      <th></th>\n",
       "      <th>source_state</th>\n",
       "      <th>dest_state</th>\n",
       "      <th>trip_uuid</th>\n",
       "    </tr>\n",
       "  </thead>\n",
       "  <tbody>\n",
       "    <tr>\n",
       "      <th>14</th>\n",
       "      <td>Delhi</td>\n",
       "      <td>Haryana</td>\n",
       "      <td>451</td>\n",
       "    </tr>\n",
       "    <tr>\n",
       "      <th>16</th>\n",
       "      <td>Haryana</td>\n",
       "      <td>Delhi</td>\n",
       "      <td>315</td>\n",
       "    </tr>\n",
       "    <tr>\n",
       "      <th>22</th>\n",
       "      <td>Haryana</td>\n",
       "      <td>Uttar Pradesh</td>\n",
       "      <td>140</td>\n",
       "    </tr>\n",
       "    <tr>\n",
       "      <th>23</th>\n",
       "      <td>Uttar Pradesh</td>\n",
       "      <td>Haryana</td>\n",
       "      <td>130</td>\n",
       "    </tr>\n",
       "    <tr>\n",
       "      <th>24</th>\n",
       "      <td>Chandigarh</td>\n",
       "      <td>Punjab</td>\n",
       "      <td>121</td>\n",
       "    </tr>\n",
       "    <tr>\n",
       "      <th>25</th>\n",
       "      <td>Delhi</td>\n",
       "      <td>Uttar Pradesh</td>\n",
       "      <td>110</td>\n",
       "    </tr>\n",
       "    <tr>\n",
       "      <th>26</th>\n",
       "      <td>Haryana</td>\n",
       "      <td>Punjab</td>\n",
       "      <td>103</td>\n",
       "    </tr>\n",
       "    <tr>\n",
       "      <th>27</th>\n",
       "      <td>Uttar Pradesh</td>\n",
       "      <td>Delhi</td>\n",
       "      <td>93</td>\n",
       "    </tr>\n",
       "    <tr>\n",
       "      <th>28</th>\n",
       "      <td>Andhra Pradesh</td>\n",
       "      <td>Telangana</td>\n",
       "      <td>92</td>\n",
       "    </tr>\n",
       "    <tr>\n",
       "      <th>29</th>\n",
       "      <td>Haryana</td>\n",
       "      <td>Rajasthan</td>\n",
       "      <td>85</td>\n",
       "    </tr>\n",
       "    <tr>\n",
       "      <th>30</th>\n",
       "      <td>Punjab</td>\n",
       "      <td>Chandigarh</td>\n",
       "      <td>84</td>\n",
       "    </tr>\n",
       "    <tr>\n",
       "      <th>31</th>\n",
       "      <td>Punjab</td>\n",
       "      <td>Haryana</td>\n",
       "      <td>80</td>\n",
       "    </tr>\n",
       "    <tr>\n",
       "      <th>32</th>\n",
       "      <td>Telangana</td>\n",
       "      <td>Andhra Pradesh</td>\n",
       "      <td>69</td>\n",
       "    </tr>\n",
       "    <tr>\n",
       "      <th>33</th>\n",
       "      <td>Himachal Pradesh</td>\n",
       "      <td>Punjab</td>\n",
       "      <td>66</td>\n",
       "    </tr>\n",
       "    <tr>\n",
       "      <th>34</th>\n",
       "      <td>Haryana</td>\n",
       "      <td>Karnataka</td>\n",
       "      <td>66</td>\n",
       "    </tr>\n",
       "  </tbody>\n",
       "</table>\n",
       "</div>"
      ],
      "text/plain": [
       "        source_state      dest_state  trip_uuid\n",
       "14             Delhi         Haryana        451\n",
       "16           Haryana           Delhi        315\n",
       "22           Haryana   Uttar Pradesh        140\n",
       "23     Uttar Pradesh         Haryana        130\n",
       "24        Chandigarh          Punjab        121\n",
       "25             Delhi   Uttar Pradesh        110\n",
       "26           Haryana          Punjab        103\n",
       "27     Uttar Pradesh           Delhi         93\n",
       "28    Andhra Pradesh       Telangana         92\n",
       "29           Haryana       Rajasthan         85\n",
       "30            Punjab      Chandigarh         84\n",
       "31            Punjab         Haryana         80\n",
       "32         Telangana  Andhra Pradesh         69\n",
       "33  Himachal Pradesh          Punjab         66\n",
       "34           Haryana       Karnataka         66"
      ]
     },
     "execution_count": 241,
     "metadata": {},
     "output_type": "execute_result"
    }
   ],
   "source": [
    "corridor_state[corridor_state['source_state'] != corridor_state['dest_state']].iloc[:15]"
   ]
  },
  {
   "cell_type": "markdown",
   "id": "43189852",
   "metadata": {},
   "source": [
    "- `Maharashtra, Karnataka and Tamilnadu account for majority of intra state deliveries`\n",
    "- `For inter state deliveries, Delhi <-> Haryana, Haryana <-> UP corridors are the busiest`"
   ]
  },
  {
   "cell_type": "code",
   "execution_count": null,
   "id": "fd91bf25",
   "metadata": {},
   "outputs": [],
   "source": []
  }
 ],
 "metadata": {
  "kernelspec": {
   "display_name": "Python 3 (ipykernel)",
   "language": "python",
   "name": "python3"
  },
  "language_info": {
   "codemirror_mode": {
    "name": "ipython",
    "version": 3
   },
   "file_extension": ".py",
   "mimetype": "text/x-python",
   "name": "python",
   "nbconvert_exporter": "python",
   "pygments_lexer": "ipython3",
   "version": "3.11.5"
  }
 },
 "nbformat": 4,
 "nbformat_minor": 5
}
